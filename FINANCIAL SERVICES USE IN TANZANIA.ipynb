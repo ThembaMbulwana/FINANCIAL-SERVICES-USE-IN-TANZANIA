{
 "cells": [
  {
   "cell_type": "markdown",
   "metadata": {},
   "source": [
    "# &emsp;&emsp;&emsp;&emsp;&emsp;&emsp;&emsp;&emsp;&emsp;&emsp;&emsp;&emsp;&emsp;&emsp;Background\n",
    "\n",
    "The training dataset contains demographic information and what financial services are used by approximately 10,000 individuals across Tanzania. This data was extracted from the FSDT Finscope 2017 survey and prepared specifically for this challenge.\n",
    "\n",
    "Each individual is classified into four mutually exclusive categories:\n",
    "\n",
    "No_financial_services: Individuals who do not use mobile money, do not save, do not have credit, and do not have insurance\n",
    "Other_only: Individuals who do not use mobile money, but do use at least one of the other financial services (savings, credit, insurance)\n",
    "Mm_only: Individuals who use mobile money only\n",
    "Mm_plus: Individuals who use mobile money and also use at least one of the other financial services (savings, credit, insurance)\n",
    "\n",
    "This dataset is the geospatial mapping of all cash outlets in Tanzania in 2012. Cash outlets in this case included commercial banks, community banks, ATMs, microfinance institutions, mobile money agents, bus stations and post offices. This data was collected by FSDT."
   ]
  },
  {
   "cell_type": "markdown",
   "metadata": {
    "hideCode": false,
    "hidePrompt": false
   },
   "source": [
    "# &emsp;&emsp;&emsp;&emsp;&emsp;&emsp;&emsp;&emsp;&emsp;&emsp;&emsp;&emsp;&emsp;&emsp;Instructions"
   ]
  },
  {
   "cell_type": "markdown",
   "metadata": {},
   "source": [
    "**1. Examine the dataset. Are there any missing observations or columns where the data do not seem valid?**"
   ]
  },
  {
   "cell_type": "code",
   "execution_count": 1,
   "metadata": {
    "hideCode": true
   },
   "outputs": [
    {
     "data": {
      "text/html": [
       "        <script type=\"text/javascript\">\n",
       "        window.PlotlyConfig = {MathJaxConfig: 'local'};\n",
       "        if (window.MathJax) {MathJax.Hub.Config({SVG: {font: \"STIX-Web\"}});}\n",
       "        if (typeof require !== 'undefined') {\n",
       "        require.undef(\"plotly\");\n",
       "        requirejs.config({\n",
       "            paths: {\n",
       "                'plotly': ['https://cdn.plot.ly/plotly-latest.min']\n",
       "            }\n",
       "        });\n",
       "        require(['plotly'], function(Plotly) {\n",
       "            window._Plotly = Plotly;\n",
       "        });\n",
       "        }\n",
       "        </script>\n",
       "        "
      ]
     },
     "metadata": {},
     "output_type": "display_data"
    },
    {
     "data": {
      "text/html": [
       "        <script type=\"text/javascript\">\n",
       "        window.PlotlyConfig = {MathJaxConfig: 'local'};\n",
       "        if (window.MathJax) {MathJax.Hub.Config({SVG: {font: \"STIX-Web\"}});}\n",
       "        if (typeof require !== 'undefined') {\n",
       "        require.undef(\"plotly\");\n",
       "        requirejs.config({\n",
       "            paths: {\n",
       "                'plotly': ['https://cdn.plot.ly/plotly-latest.min']\n",
       "            }\n",
       "        });\n",
       "        require(['plotly'], function(Plotly) {\n",
       "            window._Plotly = Plotly;\n",
       "        });\n",
       "        }\n",
       "        </script>\n",
       "        "
      ]
     },
     "metadata": {},
     "output_type": "display_data"
    }
   ],
   "source": [
    "# Importing Libraries\n",
    "import pandas as pd\n",
    "import seaborn as sns\n",
    "import matplotlib.pyplot as plt\n",
    "import numpy as np\n",
    "from plotly import __version__\n",
    "import cufflinks as cf\n",
    "from plotly.offline import download_plotlyjs,init_notebook_mode,plot,iplot\n",
    "import plotly.express as px\n",
    "import plotly.graph_objects as go\n",
    "\n",
    "\n",
    "init_notebook_mode(connected=True)\n",
    "cf.go_offline()"
   ]
  },
  {
   "cell_type": "markdown",
   "metadata": {},
   "source": [
    "#### &emsp;&emsp;&emsp;&emsp;&emsp;&emsp;&emsp;&emsp;&emsp;&emsp;&emsp;&emsp;&emsp;&emsp;&emsp;&emsp;&emsp;&emsp;&emsp;&emsp;&emsp;Shape of the dataset and first two rows."
   ]
  },
  {
   "cell_type": "code",
   "execution_count": 2,
   "metadata": {
    "hideCode": true
   },
   "outputs": [
    {
     "name": "stdout",
     "output_type": "stream",
     "text": [
      "Total columns:\t37\n",
      "Total rows:\t7094\n"
     ]
    },
    {
     "data": {
      "text/html": [
       "<div>\n",
       "<style scoped>\n",
       "    .dataframe tbody tr th:only-of-type {\n",
       "        vertical-align: middle;\n",
       "    }\n",
       "\n",
       "    .dataframe tbody tr th {\n",
       "        vertical-align: top;\n",
       "    }\n",
       "\n",
       "    .dataframe thead th {\n",
       "        text-align: right;\n",
       "    }\n",
       "</style>\n",
       "<table border=\"1\" class=\"dataframe\">\n",
       "  <thead>\n",
       "    <tr style=\"text-align: right;\">\n",
       "      <th></th>\n",
       "      <th>ID</th>\n",
       "      <th>Q1</th>\n",
       "      <th>Q2</th>\n",
       "      <th>Q3</th>\n",
       "      <th>Q4</th>\n",
       "      <th>Q5</th>\n",
       "      <th>Q6</th>\n",
       "      <th>Q7</th>\n",
       "      <th>Q8_1</th>\n",
       "      <th>Q8_2</th>\n",
       "      <th>...</th>\n",
       "      <th>Q17</th>\n",
       "      <th>Q18</th>\n",
       "      <th>Q19</th>\n",
       "      <th>Latitude</th>\n",
       "      <th>Longitude</th>\n",
       "      <th>mobile_money</th>\n",
       "      <th>savings</th>\n",
       "      <th>borrowing</th>\n",
       "      <th>insurance</th>\n",
       "      <th>mobile_money_classification</th>\n",
       "    </tr>\n",
       "  </thead>\n",
       "  <tbody>\n",
       "    <tr>\n",
       "      <th>0</th>\n",
       "      <td>5086</td>\n",
       "      <td>98</td>\n",
       "      <td>2</td>\n",
       "      <td>3</td>\n",
       "      <td>1</td>\n",
       "      <td>1</td>\n",
       "      <td>2</td>\n",
       "      <td>2</td>\n",
       "      <td>0</td>\n",
       "      <td>0</td>\n",
       "      <td>...</td>\n",
       "      <td>-1</td>\n",
       "      <td>4</td>\n",
       "      <td>4</td>\n",
       "      <td>-4.460442</td>\n",
       "      <td>29.811396</td>\n",
       "      <td>0</td>\n",
       "      <td>0</td>\n",
       "      <td>0</td>\n",
       "      <td>0</td>\n",
       "      <td>0</td>\n",
       "    </tr>\n",
       "    <tr>\n",
       "      <th>1</th>\n",
       "      <td>1258</td>\n",
       "      <td>40</td>\n",
       "      <td>1</td>\n",
       "      <td>1</td>\n",
       "      <td>3</td>\n",
       "      <td>5</td>\n",
       "      <td>1</td>\n",
       "      <td>1</td>\n",
       "      <td>1</td>\n",
       "      <td>0</td>\n",
       "      <td>...</td>\n",
       "      <td>4</td>\n",
       "      <td>1</td>\n",
       "      <td>4</td>\n",
       "      <td>-6.176438</td>\n",
       "      <td>39.244871</td>\n",
       "      <td>1</td>\n",
       "      <td>1</td>\n",
       "      <td>1</td>\n",
       "      <td>0</td>\n",
       "      <td>3</td>\n",
       "    </tr>\n",
       "  </tbody>\n",
       "</table>\n",
       "<p>2 rows × 37 columns</p>\n",
       "</div>"
      ],
      "text/plain": [
       "     ID  Q1  Q2  Q3  Q4  Q5  Q6  Q7  Q8_1  Q8_2  ...  Q17  Q18  Q19  Latitude  \\\n",
       "0  5086  98   2   3   1   1   2   2     0     0  ...   -1    4    4 -4.460442   \n",
       "1  1258  40   1   1   3   5   1   1     1     0  ...    4    1    4 -6.176438   \n",
       "\n",
       "   Longitude  mobile_money  savings  borrowing  insurance  \\\n",
       "0  29.811396             0        0          0          0   \n",
       "1  39.244871             1        1          1          0   \n",
       "\n",
       "   mobile_money_classification  \n",
       "0                            0  \n",
       "1                            3  \n",
       "\n",
       "[2 rows x 37 columns]"
      ]
     },
     "execution_count": 2,
     "metadata": {},
     "output_type": "execute_result"
    }
   ],
   "source": [
    "# Getting the data\n",
    "data = pd.read_csv(\"Data/training.csv\")\n",
    "\n",
    "# Minimum info about the data\n",
    "rows, columns = data.shape\n",
    "print(\"Total columns:\\t{}\\nTotal rows:\\t{}\".format(columns, rows))\n",
    "\n",
    "# A view of the first two rows\n",
    "data.head(2)"
   ]
  },
  {
   "cell_type": "markdown",
   "metadata": {},
   "source": [
    "#### &emsp;&emsp;&emsp;&emsp;&emsp;&emsp;&emsp;&emsp;&emsp;&emsp;&emsp;&emsp;&emsp;&emsp;&emsp;&emsp;&emsp;&emsp;&emsp;&emsp;&emsp;&emsp;&emsp;A look at missing values"
   ]
  },
  {
   "cell_type": "code",
   "execution_count": 3,
   "metadata": {
    "hideCode": true
   },
   "outputs": [
    {
     "name": "stdout",
     "output_type": "stream",
     "text": [
      "Number of columns with missing values: 0\n"
     ]
    }
   ],
   "source": [
    "# Missing data\n",
    "print(\"Number of columns with missing values: {}\".format(len(data.columns[data.isnull().any()])))"
   ]
  },
  {
   "cell_type": "markdown",
   "metadata": {},
   "source": [
    "**2. Get basic descriptive statistics for the dataset.**"
   ]
  },
  {
   "cell_type": "markdown",
   "metadata": {},
   "source": [
    "First things first: A bit of data cleaning"
   ]
  },
  {
   "cell_type": "code",
   "execution_count": 4,
   "metadata": {
    "hideCode": true
   },
   "outputs": [],
   "source": [
    "# Renaming Columns \n",
    "columns_names = {\"Q1\":\"age\", \"Q2\": \"gender\", \"Q3\":\"marital_status\",\n",
    "                 \"Q4\":\"education\", \"Q5\":\"residents\", \"Q6\": \"land_ownership\",\n",
    "                 \"Q7\": \"mobile_phone_ownership\", \"Q8_1\": \"salaries_or_Wages\",\n",
    "                 \"Q8_2\": \"trading\", \"Q8_3\": \"services\", \"Q8_4\": \"piece_work\",\n",
    "                 \"Q8_5\": \"rental_income\", \"Q8_6\": \"interest\", \"Q8_7\": \"pension\",\n",
    "                 \"Q8_8\": \"welfare\", \"Q8_9\": \"rely_on_someone\", \"Q8_10\": \"dependent\",\n",
    "                 \"Q8_11\": \"other\", \"Q9\": \"employeer\", \"Q10\": \"trading_goods\", \n",
    "                 \"Q11\": \"type_of_Service\", \"Q12\":\"sent_money\", \"Q13\": \"transfer_money\",\n",
    "                 \"Q14\": \"received_money\", \"Q15\": \"received_money_days\", \"Q16\":\"mobile_money_usage\",\n",
    "                 \"Q17\":\"mobile_money_paying_services\" ,\"Q18\": \"literacy_in_kiswhahili\", \"Q19\": \"literacy_in_english\"}\n",
    "\n",
    "data = data.rename(columns_names, axis=1)\n",
    "\n",
    "# Adding categorical variables\n",
    "gender_name = {1: \"Male\", 2: \"Female\"}\n",
    "data[\"Gender\"] = data[\"gender\"].map(gender_name)\n",
    "\n",
    "marital_name ={1: \"Married\", 2: \"Divorced\", 3: \"Widowed\", 4: \"Single/Never Married\"}\n",
    "data[\"Marital Status\"] = data[\"marital_status\"].map(marital_name)\n",
    "\n",
    "education_name = {1: \"No Formal Education\", 2: \"Some Primary\", 3: \"Primary Completed\", 4: \"Post Primary\", 5: \"Some Secondary\", 6: \"University\", 7: \"Don't Know\"}\n",
    "data[\"Education\"] = data[\"education\"].map(education_name)\n",
    "\n",
    "land_ownership_name = {1: \"Yes\", 2: \"No\"}\n",
    "data[\"Land Ownership\"] = data[\"land_ownership\"].map(land_ownership_name)\n",
    "\n",
    "\n",
    "# mobile_money_classification rows\n",
    "rows_names = {0: \"No financial services\", 1: \"Other only\", 2: \"Mobile money only\", 3: \"Mobile money plus\"}\n",
    "data[\"Mobile Money Classification\"] = data[\"mobile_money_classification\"].map(rows_names)\n",
    "\n",
    "# Renaming the Marital status rows\n",
    "#rows_names = {1: \"Married\", 2: \"Divorced\", 3: \"Widowed\", 4: \"Single/never married\"}\n",
    "\n",
    "#data[\"Marital status\"] = data[\"Marital status\"].map(rows_names)"
   ]
  },
  {
   "cell_type": "markdown",
   "metadata": {},
   "source": [
    "##### Basic descriptive statistics of numerical variables"
   ]
  },
  {
   "cell_type": "code",
   "execution_count": 5,
   "metadata": {
    "hideCode": false,
    "scrolled": true
   },
   "outputs": [
    {
     "data": {
      "text/html": [
       "<div>\n",
       "<style scoped>\n",
       "    .dataframe tbody tr th:only-of-type {\n",
       "        vertical-align: middle;\n",
       "    }\n",
       "\n",
       "    .dataframe tbody tr th {\n",
       "        vertical-align: top;\n",
       "    }\n",
       "\n",
       "    .dataframe thead th {\n",
       "        text-align: right;\n",
       "    }\n",
       "</style>\n",
       "<table border=\"1\" class=\"dataframe\">\n",
       "  <thead>\n",
       "    <tr style=\"text-align: right;\">\n",
       "      <th></th>\n",
       "      <th>ID</th>\n",
       "      <th>age</th>\n",
       "      <th>gender</th>\n",
       "      <th>marital_status</th>\n",
       "      <th>education</th>\n",
       "      <th>residents</th>\n",
       "      <th>land_ownership</th>\n",
       "      <th>mobile_phone_ownership</th>\n",
       "      <th>salaries_or_Wages</th>\n",
       "      <th>trading</th>\n",
       "      <th>...</th>\n",
       "      <th>mobile_money_paying_services</th>\n",
       "      <th>literacy_in_kiswhahili</th>\n",
       "      <th>literacy_in_english</th>\n",
       "      <th>Latitude</th>\n",
       "      <th>Longitude</th>\n",
       "      <th>mobile_money</th>\n",
       "      <th>savings</th>\n",
       "      <th>borrowing</th>\n",
       "      <th>insurance</th>\n",
       "      <th>mobile_money_classification</th>\n",
       "    </tr>\n",
       "  </thead>\n",
       "  <tbody>\n",
       "    <tr>\n",
       "      <th>count</th>\n",
       "      <td>7094.000000</td>\n",
       "      <td>7094.000000</td>\n",
       "      <td>7094.000000</td>\n",
       "      <td>7094.000000</td>\n",
       "      <td>7094.000000</td>\n",
       "      <td>7094.000000</td>\n",
       "      <td>7094.000000</td>\n",
       "      <td>7094.000000</td>\n",
       "      <td>7094.000000</td>\n",
       "      <td>7094.000000</td>\n",
       "      <td>...</td>\n",
       "      <td>7094.000000</td>\n",
       "      <td>7094.000000</td>\n",
       "      <td>7094.000000</td>\n",
       "      <td>7094.000000</td>\n",
       "      <td>7094.000000</td>\n",
       "      <td>7094.000000</td>\n",
       "      <td>7094.000000</td>\n",
       "      <td>7094.000000</td>\n",
       "      <td>7094.000000</td>\n",
       "      <td>7094.000000</td>\n",
       "    </tr>\n",
       "    <tr>\n",
       "      <th>mean</th>\n",
       "      <td>4742.627291</td>\n",
       "      <td>38.239498</td>\n",
       "      <td>1.559910</td>\n",
       "      <td>1.787426</td>\n",
       "      <td>3.060051</td>\n",
       "      <td>2.548915</td>\n",
       "      <td>1.840569</td>\n",
       "      <td>1.397942</td>\n",
       "      <td>0.062165</td>\n",
       "      <td>0.630110</td>\n",
       "      <td>...</td>\n",
       "      <td>-0.431914</td>\n",
       "      <td>1.860164</td>\n",
       "      <td>3.163378</td>\n",
       "      <td>-6.034378</td>\n",
       "      <td>35.354029</td>\n",
       "      <td>0.553989</td>\n",
       "      <td>0.461517</td>\n",
       "      <td>0.432901</td>\n",
       "      <td>0.151255</td>\n",
       "      <td>1.799267</td>\n",
       "    </tr>\n",
       "    <tr>\n",
       "      <th>std</th>\n",
       "      <td>2731.120086</td>\n",
       "      <td>16.332148</td>\n",
       "      <td>0.496433</td>\n",
       "      <td>1.165160</td>\n",
       "      <td>1.557779</td>\n",
       "      <td>1.534257</td>\n",
       "      <td>0.366103</td>\n",
       "      <td>0.489508</td>\n",
       "      <td>0.241472</td>\n",
       "      <td>0.482809</td>\n",
       "      <td>...</td>\n",
       "      <td>1.489879</td>\n",
       "      <td>1.351372</td>\n",
       "      <td>1.317691</td>\n",
       "      <td>2.720888</td>\n",
       "      <td>2.899511</td>\n",
       "      <td>0.497112</td>\n",
       "      <td>0.498552</td>\n",
       "      <td>0.495512</td>\n",
       "      <td>0.358322</td>\n",
       "      <td>1.196955</td>\n",
       "    </tr>\n",
       "    <tr>\n",
       "      <th>min</th>\n",
       "      <td>1.000000</td>\n",
       "      <td>16.000000</td>\n",
       "      <td>1.000000</td>\n",
       "      <td>1.000000</td>\n",
       "      <td>1.000000</td>\n",
       "      <td>1.000000</td>\n",
       "      <td>1.000000</td>\n",
       "      <td>1.000000</td>\n",
       "      <td>0.000000</td>\n",
       "      <td>0.000000</td>\n",
       "      <td>...</td>\n",
       "      <td>-1.000000</td>\n",
       "      <td>1.000000</td>\n",
       "      <td>1.000000</td>\n",
       "      <td>-11.467463</td>\n",
       "      <td>29.639578</td>\n",
       "      <td>0.000000</td>\n",
       "      <td>0.000000</td>\n",
       "      <td>0.000000</td>\n",
       "      <td>0.000000</td>\n",
       "      <td>0.000000</td>\n",
       "    </tr>\n",
       "    <tr>\n",
       "      <th>25%</th>\n",
       "      <td>2397.250000</td>\n",
       "      <td>25.000000</td>\n",
       "      <td>1.000000</td>\n",
       "      <td>1.000000</td>\n",
       "      <td>2.000000</td>\n",
       "      <td>1.000000</td>\n",
       "      <td>2.000000</td>\n",
       "      <td>1.000000</td>\n",
       "      <td>0.000000</td>\n",
       "      <td>0.000000</td>\n",
       "      <td>...</td>\n",
       "      <td>-1.000000</td>\n",
       "      <td>1.000000</td>\n",
       "      <td>2.000000</td>\n",
       "      <td>-8.275387</td>\n",
       "      <td>32.935429</td>\n",
       "      <td>0.000000</td>\n",
       "      <td>0.000000</td>\n",
       "      <td>0.000000</td>\n",
       "      <td>0.000000</td>\n",
       "      <td>1.000000</td>\n",
       "    </tr>\n",
       "    <tr>\n",
       "      <th>50%</th>\n",
       "      <td>4744.500000</td>\n",
       "      <td>35.000000</td>\n",
       "      <td>2.000000</td>\n",
       "      <td>1.000000</td>\n",
       "      <td>3.000000</td>\n",
       "      <td>3.000000</td>\n",
       "      <td>2.000000</td>\n",
       "      <td>1.000000</td>\n",
       "      <td>0.000000</td>\n",
       "      <td>1.000000</td>\n",
       "      <td>...</td>\n",
       "      <td>-1.000000</td>\n",
       "      <td>1.000000</td>\n",
       "      <td>4.000000</td>\n",
       "      <td>-6.087854</td>\n",
       "      <td>35.073326</td>\n",
       "      <td>1.000000</td>\n",
       "      <td>0.000000</td>\n",
       "      <td>0.000000</td>\n",
       "      <td>0.000000</td>\n",
       "      <td>2.000000</td>\n",
       "    </tr>\n",
       "    <tr>\n",
       "      <th>75%</th>\n",
       "      <td>7105.000000</td>\n",
       "      <td>48.000000</td>\n",
       "      <td>2.000000</td>\n",
       "      <td>3.000000</td>\n",
       "      <td>3.000000</td>\n",
       "      <td>4.000000</td>\n",
       "      <td>2.000000</td>\n",
       "      <td>2.000000</td>\n",
       "      <td>0.000000</td>\n",
       "      <td>1.000000</td>\n",
       "      <td>...</td>\n",
       "      <td>-1.000000</td>\n",
       "      <td>4.000000</td>\n",
       "      <td>4.000000</td>\n",
       "      <td>-3.517053</td>\n",
       "      <td>38.351815</td>\n",
       "      <td>1.000000</td>\n",
       "      <td>1.000000</td>\n",
       "      <td>1.000000</td>\n",
       "      <td>0.000000</td>\n",
       "      <td>3.000000</td>\n",
       "    </tr>\n",
       "    <tr>\n",
       "      <th>max</th>\n",
       "      <td>9459.000000</td>\n",
       "      <td>100.000000</td>\n",
       "      <td>2.000000</td>\n",
       "      <td>4.000000</td>\n",
       "      <td>8.000000</td>\n",
       "      <td>6.000000</td>\n",
       "      <td>2.000000</td>\n",
       "      <td>2.000000</td>\n",
       "      <td>1.000000</td>\n",
       "      <td>1.000000</td>\n",
       "      <td>...</td>\n",
       "      <td>5.000000</td>\n",
       "      <td>5.000000</td>\n",
       "      <td>5.000000</td>\n",
       "      <td>-1.084000</td>\n",
       "      <td>40.258744</td>\n",
       "      <td>1.000000</td>\n",
       "      <td>1.000000</td>\n",
       "      <td>1.000000</td>\n",
       "      <td>1.000000</td>\n",
       "      <td>3.000000</td>\n",
       "    </tr>\n",
       "  </tbody>\n",
       "</table>\n",
       "<p>8 rows × 37 columns</p>\n",
       "</div>"
      ],
      "text/plain": [
       "                ID          age       gender  marital_status    education  \\\n",
       "count  7094.000000  7094.000000  7094.000000     7094.000000  7094.000000   \n",
       "mean   4742.627291    38.239498     1.559910        1.787426     3.060051   \n",
       "std    2731.120086    16.332148     0.496433        1.165160     1.557779   \n",
       "min       1.000000    16.000000     1.000000        1.000000     1.000000   \n",
       "25%    2397.250000    25.000000     1.000000        1.000000     2.000000   \n",
       "50%    4744.500000    35.000000     2.000000        1.000000     3.000000   \n",
       "75%    7105.000000    48.000000     2.000000        3.000000     3.000000   \n",
       "max    9459.000000   100.000000     2.000000        4.000000     8.000000   \n",
       "\n",
       "         residents  land_ownership  mobile_phone_ownership  salaries_or_Wages  \\\n",
       "count  7094.000000     7094.000000             7094.000000        7094.000000   \n",
       "mean      2.548915        1.840569                1.397942           0.062165   \n",
       "std       1.534257        0.366103                0.489508           0.241472   \n",
       "min       1.000000        1.000000                1.000000           0.000000   \n",
       "25%       1.000000        2.000000                1.000000           0.000000   \n",
       "50%       3.000000        2.000000                1.000000           0.000000   \n",
       "75%       4.000000        2.000000                2.000000           0.000000   \n",
       "max       6.000000        2.000000                2.000000           1.000000   \n",
       "\n",
       "           trading  ...  mobile_money_paying_services  literacy_in_kiswhahili  \\\n",
       "count  7094.000000  ...                   7094.000000             7094.000000   \n",
       "mean      0.630110  ...                     -0.431914                1.860164   \n",
       "std       0.482809  ...                      1.489879                1.351372   \n",
       "min       0.000000  ...                     -1.000000                1.000000   \n",
       "25%       0.000000  ...                     -1.000000                1.000000   \n",
       "50%       1.000000  ...                     -1.000000                1.000000   \n",
       "75%       1.000000  ...                     -1.000000                4.000000   \n",
       "max       1.000000  ...                      5.000000                5.000000   \n",
       "\n",
       "       literacy_in_english     Latitude    Longitude  mobile_money  \\\n",
       "count          7094.000000  7094.000000  7094.000000   7094.000000   \n",
       "mean              3.163378    -6.034378    35.354029      0.553989   \n",
       "std               1.317691     2.720888     2.899511      0.497112   \n",
       "min               1.000000   -11.467463    29.639578      0.000000   \n",
       "25%               2.000000    -8.275387    32.935429      0.000000   \n",
       "50%               4.000000    -6.087854    35.073326      1.000000   \n",
       "75%               4.000000    -3.517053    38.351815      1.000000   \n",
       "max               5.000000    -1.084000    40.258744      1.000000   \n",
       "\n",
       "           savings    borrowing    insurance  mobile_money_classification  \n",
       "count  7094.000000  7094.000000  7094.000000                  7094.000000  \n",
       "mean      0.461517     0.432901     0.151255                     1.799267  \n",
       "std       0.498552     0.495512     0.358322                     1.196955  \n",
       "min       0.000000     0.000000     0.000000                     0.000000  \n",
       "25%       0.000000     0.000000     0.000000                     1.000000  \n",
       "50%       0.000000     0.000000     0.000000                     2.000000  \n",
       "75%       1.000000     1.000000     0.000000                     3.000000  \n",
       "max       1.000000     1.000000     1.000000                     3.000000  \n",
       "\n",
       "[8 rows x 37 columns]"
      ]
     },
     "execution_count": 5,
     "metadata": {},
     "output_type": "execute_result"
    }
   ],
   "source": [
    "data.describe()"
   ]
  },
  {
   "cell_type": "markdown",
   "metadata": {},
   "source": [
    "**3. Create appropriate graphs to visually represent the relationship between financial services accessed (non-mobile, mobile, both) and age, gender, marital status, land ownership and type of income.**"
   ]
  },
  {
   "cell_type": "markdown",
   "metadata": {},
   "source": [
    "### &emsp;&emsp;&emsp;&emsp;&emsp;&emsp;&emsp;&emsp;&emsp;&emsp;&emsp;&emsp;&emsp;&emsp;&emsp;&emsp;An overview of the Mobile Money Market"
   ]
  },
  {
   "cell_type": "code",
   "execution_count": 6,
   "metadata": {
    "hideCode": true
   },
   "outputs": [
    {
     "data": {
      "application/vnd.plotly.v1+json": {
       "config": {
        "linkText": "Export to plot.ly",
        "plotlyServerURL": "https://plot.ly",
        "showLink": true
       },
       "data": [
        {
         "marker": {
          "color": "rgba(255, 153, 51, 0.6)",
          "line": {
           "color": "rgba(255, 153, 51, 1.0)",
           "width": 1
          }
         },
         "name": "Mobile Money Classification",
         "orientation": "v",
         "text": "",
         "type": "bar",
         "x": [
          "Mobile money plus",
          "Other only",
          "No financial services",
          "Mobile money only"
         ],
         "y": [
          3126,
          1778,
          1386,
          804
         ]
        }
       ],
       "layout": {
        "legend": {
         "bgcolor": "#F5F6F9",
         "font": {
          "color": "#4D5663"
         }
        },
        "paper_bgcolor": "#F5F6F9",
        "plot_bgcolor": "#F5F6F9",
        "template": {
         "data": {
          "bar": [
           {
            "error_x": {
             "color": "#2a3f5f"
            },
            "error_y": {
             "color": "#2a3f5f"
            },
            "marker": {
             "line": {
              "color": "#E5ECF6",
              "width": 0.5
             }
            },
            "type": "bar"
           }
          ],
          "barpolar": [
           {
            "marker": {
             "line": {
              "color": "#E5ECF6",
              "width": 0.5
             }
            },
            "type": "barpolar"
           }
          ],
          "carpet": [
           {
            "aaxis": {
             "endlinecolor": "#2a3f5f",
             "gridcolor": "white",
             "linecolor": "white",
             "minorgridcolor": "white",
             "startlinecolor": "#2a3f5f"
            },
            "baxis": {
             "endlinecolor": "#2a3f5f",
             "gridcolor": "white",
             "linecolor": "white",
             "minorgridcolor": "white",
             "startlinecolor": "#2a3f5f"
            },
            "type": "carpet"
           }
          ],
          "choropleth": [
           {
            "colorbar": {
             "outlinewidth": 0,
             "ticks": ""
            },
            "type": "choropleth"
           }
          ],
          "contour": [
           {
            "colorbar": {
             "outlinewidth": 0,
             "ticks": ""
            },
            "colorscale": [
             [
              0,
              "#0d0887"
             ],
             [
              0.1111111111111111,
              "#46039f"
             ],
             [
              0.2222222222222222,
              "#7201a8"
             ],
             [
              0.3333333333333333,
              "#9c179e"
             ],
             [
              0.4444444444444444,
              "#bd3786"
             ],
             [
              0.5555555555555556,
              "#d8576b"
             ],
             [
              0.6666666666666666,
              "#ed7953"
             ],
             [
              0.7777777777777778,
              "#fb9f3a"
             ],
             [
              0.8888888888888888,
              "#fdca26"
             ],
             [
              1,
              "#f0f921"
             ]
            ],
            "type": "contour"
           }
          ],
          "contourcarpet": [
           {
            "colorbar": {
             "outlinewidth": 0,
             "ticks": ""
            },
            "type": "contourcarpet"
           }
          ],
          "heatmap": [
           {
            "colorbar": {
             "outlinewidth": 0,
             "ticks": ""
            },
            "colorscale": [
             [
              0,
              "#0d0887"
             ],
             [
              0.1111111111111111,
              "#46039f"
             ],
             [
              0.2222222222222222,
              "#7201a8"
             ],
             [
              0.3333333333333333,
              "#9c179e"
             ],
             [
              0.4444444444444444,
              "#bd3786"
             ],
             [
              0.5555555555555556,
              "#d8576b"
             ],
             [
              0.6666666666666666,
              "#ed7953"
             ],
             [
              0.7777777777777778,
              "#fb9f3a"
             ],
             [
              0.8888888888888888,
              "#fdca26"
             ],
             [
              1,
              "#f0f921"
             ]
            ],
            "type": "heatmap"
           }
          ],
          "heatmapgl": [
           {
            "colorbar": {
             "outlinewidth": 0,
             "ticks": ""
            },
            "colorscale": [
             [
              0,
              "#0d0887"
             ],
             [
              0.1111111111111111,
              "#46039f"
             ],
             [
              0.2222222222222222,
              "#7201a8"
             ],
             [
              0.3333333333333333,
              "#9c179e"
             ],
             [
              0.4444444444444444,
              "#bd3786"
             ],
             [
              0.5555555555555556,
              "#d8576b"
             ],
             [
              0.6666666666666666,
              "#ed7953"
             ],
             [
              0.7777777777777778,
              "#fb9f3a"
             ],
             [
              0.8888888888888888,
              "#fdca26"
             ],
             [
              1,
              "#f0f921"
             ]
            ],
            "type": "heatmapgl"
           }
          ],
          "histogram": [
           {
            "marker": {
             "colorbar": {
              "outlinewidth": 0,
              "ticks": ""
             }
            },
            "type": "histogram"
           }
          ],
          "histogram2d": [
           {
            "colorbar": {
             "outlinewidth": 0,
             "ticks": ""
            },
            "colorscale": [
             [
              0,
              "#0d0887"
             ],
             [
              0.1111111111111111,
              "#46039f"
             ],
             [
              0.2222222222222222,
              "#7201a8"
             ],
             [
              0.3333333333333333,
              "#9c179e"
             ],
             [
              0.4444444444444444,
              "#bd3786"
             ],
             [
              0.5555555555555556,
              "#d8576b"
             ],
             [
              0.6666666666666666,
              "#ed7953"
             ],
             [
              0.7777777777777778,
              "#fb9f3a"
             ],
             [
              0.8888888888888888,
              "#fdca26"
             ],
             [
              1,
              "#f0f921"
             ]
            ],
            "type": "histogram2d"
           }
          ],
          "histogram2dcontour": [
           {
            "colorbar": {
             "outlinewidth": 0,
             "ticks": ""
            },
            "colorscale": [
             [
              0,
              "#0d0887"
             ],
             [
              0.1111111111111111,
              "#46039f"
             ],
             [
              0.2222222222222222,
              "#7201a8"
             ],
             [
              0.3333333333333333,
              "#9c179e"
             ],
             [
              0.4444444444444444,
              "#bd3786"
             ],
             [
              0.5555555555555556,
              "#d8576b"
             ],
             [
              0.6666666666666666,
              "#ed7953"
             ],
             [
              0.7777777777777778,
              "#fb9f3a"
             ],
             [
              0.8888888888888888,
              "#fdca26"
             ],
             [
              1,
              "#f0f921"
             ]
            ],
            "type": "histogram2dcontour"
           }
          ],
          "mesh3d": [
           {
            "colorbar": {
             "outlinewidth": 0,
             "ticks": ""
            },
            "type": "mesh3d"
           }
          ],
          "parcoords": [
           {
            "line": {
             "colorbar": {
              "outlinewidth": 0,
              "ticks": ""
             }
            },
            "type": "parcoords"
           }
          ],
          "pie": [
           {
            "automargin": true,
            "type": "pie"
           }
          ],
          "scatter": [
           {
            "marker": {
             "colorbar": {
              "outlinewidth": 0,
              "ticks": ""
             }
            },
            "type": "scatter"
           }
          ],
          "scatter3d": [
           {
            "line": {
             "colorbar": {
              "outlinewidth": 0,
              "ticks": ""
             }
            },
            "marker": {
             "colorbar": {
              "outlinewidth": 0,
              "ticks": ""
             }
            },
            "type": "scatter3d"
           }
          ],
          "scattercarpet": [
           {
            "marker": {
             "colorbar": {
              "outlinewidth": 0,
              "ticks": ""
             }
            },
            "type": "scattercarpet"
           }
          ],
          "scattergeo": [
           {
            "marker": {
             "colorbar": {
              "outlinewidth": 0,
              "ticks": ""
             }
            },
            "type": "scattergeo"
           }
          ],
          "scattergl": [
           {
            "marker": {
             "colorbar": {
              "outlinewidth": 0,
              "ticks": ""
             }
            },
            "type": "scattergl"
           }
          ],
          "scattermapbox": [
           {
            "marker": {
             "colorbar": {
              "outlinewidth": 0,
              "ticks": ""
             }
            },
            "type": "scattermapbox"
           }
          ],
          "scatterpolar": [
           {
            "marker": {
             "colorbar": {
              "outlinewidth": 0,
              "ticks": ""
             }
            },
            "type": "scatterpolar"
           }
          ],
          "scatterpolargl": [
           {
            "marker": {
             "colorbar": {
              "outlinewidth": 0,
              "ticks": ""
             }
            },
            "type": "scatterpolargl"
           }
          ],
          "scatterternary": [
           {
            "marker": {
             "colorbar": {
              "outlinewidth": 0,
              "ticks": ""
             }
            },
            "type": "scatterternary"
           }
          ],
          "surface": [
           {
            "colorbar": {
             "outlinewidth": 0,
             "ticks": ""
            },
            "colorscale": [
             [
              0,
              "#0d0887"
             ],
             [
              0.1111111111111111,
              "#46039f"
             ],
             [
              0.2222222222222222,
              "#7201a8"
             ],
             [
              0.3333333333333333,
              "#9c179e"
             ],
             [
              0.4444444444444444,
              "#bd3786"
             ],
             [
              0.5555555555555556,
              "#d8576b"
             ],
             [
              0.6666666666666666,
              "#ed7953"
             ],
             [
              0.7777777777777778,
              "#fb9f3a"
             ],
             [
              0.8888888888888888,
              "#fdca26"
             ],
             [
              1,
              "#f0f921"
             ]
            ],
            "type": "surface"
           }
          ],
          "table": [
           {
            "cells": {
             "fill": {
              "color": "#EBF0F8"
             },
             "line": {
              "color": "white"
             }
            },
            "header": {
             "fill": {
              "color": "#C8D4E3"
             },
             "line": {
              "color": "white"
             }
            },
            "type": "table"
           }
          ]
         },
         "layout": {
          "annotationdefaults": {
           "arrowcolor": "#2a3f5f",
           "arrowhead": 0,
           "arrowwidth": 1
          },
          "coloraxis": {
           "colorbar": {
            "outlinewidth": 0,
            "ticks": ""
           }
          },
          "colorscale": {
           "diverging": [
            [
             0,
             "#8e0152"
            ],
            [
             0.1,
             "#c51b7d"
            ],
            [
             0.2,
             "#de77ae"
            ],
            [
             0.3,
             "#f1b6da"
            ],
            [
             0.4,
             "#fde0ef"
            ],
            [
             0.5,
             "#f7f7f7"
            ],
            [
             0.6,
             "#e6f5d0"
            ],
            [
             0.7,
             "#b8e186"
            ],
            [
             0.8,
             "#7fbc41"
            ],
            [
             0.9,
             "#4d9221"
            ],
            [
             1,
             "#276419"
            ]
           ],
           "sequential": [
            [
             0,
             "#0d0887"
            ],
            [
             0.1111111111111111,
             "#46039f"
            ],
            [
             0.2222222222222222,
             "#7201a8"
            ],
            [
             0.3333333333333333,
             "#9c179e"
            ],
            [
             0.4444444444444444,
             "#bd3786"
            ],
            [
             0.5555555555555556,
             "#d8576b"
            ],
            [
             0.6666666666666666,
             "#ed7953"
            ],
            [
             0.7777777777777778,
             "#fb9f3a"
            ],
            [
             0.8888888888888888,
             "#fdca26"
            ],
            [
             1,
             "#f0f921"
            ]
           ],
           "sequentialminus": [
            [
             0,
             "#0d0887"
            ],
            [
             0.1111111111111111,
             "#46039f"
            ],
            [
             0.2222222222222222,
             "#7201a8"
            ],
            [
             0.3333333333333333,
             "#9c179e"
            ],
            [
             0.4444444444444444,
             "#bd3786"
            ],
            [
             0.5555555555555556,
             "#d8576b"
            ],
            [
             0.6666666666666666,
             "#ed7953"
            ],
            [
             0.7777777777777778,
             "#fb9f3a"
            ],
            [
             0.8888888888888888,
             "#fdca26"
            ],
            [
             1,
             "#f0f921"
            ]
           ]
          },
          "colorway": [
           "#636efa",
           "#EF553B",
           "#00cc96",
           "#ab63fa",
           "#FFA15A",
           "#19d3f3",
           "#FF6692",
           "#B6E880",
           "#FF97FF",
           "#FECB52"
          ],
          "font": {
           "color": "#2a3f5f"
          },
          "geo": {
           "bgcolor": "white",
           "lakecolor": "white",
           "landcolor": "#E5ECF6",
           "showlakes": true,
           "showland": true,
           "subunitcolor": "white"
          },
          "hoverlabel": {
           "align": "left"
          },
          "hovermode": "closest",
          "mapbox": {
           "style": "light"
          },
          "paper_bgcolor": "white",
          "plot_bgcolor": "#E5ECF6",
          "polar": {
           "angularaxis": {
            "gridcolor": "white",
            "linecolor": "white",
            "ticks": ""
           },
           "bgcolor": "#E5ECF6",
           "radialaxis": {
            "gridcolor": "white",
            "linecolor": "white",
            "ticks": ""
           }
          },
          "scene": {
           "xaxis": {
            "backgroundcolor": "#E5ECF6",
            "gridcolor": "white",
            "gridwidth": 2,
            "linecolor": "white",
            "showbackground": true,
            "ticks": "",
            "zerolinecolor": "white"
           },
           "yaxis": {
            "backgroundcolor": "#E5ECF6",
            "gridcolor": "white",
            "gridwidth": 2,
            "linecolor": "white",
            "showbackground": true,
            "ticks": "",
            "zerolinecolor": "white"
           },
           "zaxis": {
            "backgroundcolor": "#E5ECF6",
            "gridcolor": "white",
            "gridwidth": 2,
            "linecolor": "white",
            "showbackground": true,
            "ticks": "",
            "zerolinecolor": "white"
           }
          },
          "shapedefaults": {
           "line": {
            "color": "#2a3f5f"
           }
          },
          "ternary": {
           "aaxis": {
            "gridcolor": "white",
            "linecolor": "white",
            "ticks": ""
           },
           "baxis": {
            "gridcolor": "white",
            "linecolor": "white",
            "ticks": ""
           },
           "bgcolor": "#E5ECF6",
           "caxis": {
            "gridcolor": "white",
            "linecolor": "white",
            "ticks": ""
           }
          },
          "title": {
           "x": 0.05
          },
          "xaxis": {
           "automargin": true,
           "gridcolor": "white",
           "linecolor": "white",
           "ticks": "",
           "title": {
            "standoff": 15
           },
           "zerolinecolor": "white",
           "zerolinewidth": 2
          },
          "yaxis": {
           "automargin": true,
           "gridcolor": "white",
           "linecolor": "white",
           "ticks": "",
           "title": {
            "standoff": 15
           },
           "zerolinecolor": "white",
           "zerolinewidth": 2
          }
         }
        },
        "title": {
         "font": {
          "color": "#4D5663"
         },
         "text": "Mobile Money Market"
        },
        "xaxis": {
         "gridcolor": "#E1E5ED",
         "showgrid": true,
         "tickfont": {
          "color": "#4D5663"
         },
         "title": {
          "font": {
           "color": "#4D5663"
          },
          "text": ""
         },
         "zerolinecolor": "#E1E5ED"
        },
        "yaxis": {
         "gridcolor": "#E1E5ED",
         "showgrid": true,
         "tickfont": {
          "color": "#4D5663"
         },
         "title": {
          "font": {
           "color": "#4D5663"
          },
          "text": ""
         },
         "zerolinecolor": "#E1E5ED"
        }
       }
      },
      "text/html": [
       "<div>\n",
       "        \n",
       "        \n",
       "            <div id=\"a46fb8da-3248-4bd7-bea0-769bc57009b3\" class=\"plotly-graph-div\" style=\"height:525px; width:100%;\"></div>\n",
       "            <script type=\"text/javascript\">\n",
       "                require([\"plotly\"], function(Plotly) {\n",
       "                    window.PLOTLYENV=window.PLOTLYENV || {};\n",
       "                    window.PLOTLYENV.BASE_URL='https://plot.ly';\n",
       "                    \n",
       "                if (document.getElementById(\"a46fb8da-3248-4bd7-bea0-769bc57009b3\")) {\n",
       "                    Plotly.newPlot(\n",
       "                        'a46fb8da-3248-4bd7-bea0-769bc57009b3',\n",
       "                        [{\"marker\": {\"color\": \"rgba(255, 153, 51, 0.6)\", \"line\": {\"color\": \"rgba(255, 153, 51, 1.0)\", \"width\": 1}}, \"name\": \"Mobile Money Classification\", \"orientation\": \"v\", \"text\": \"\", \"type\": \"bar\", \"x\": [\"Mobile money plus\", \"Other only\", \"No financial services\", \"Mobile money only\"], \"y\": [3126, 1778, 1386, 804]}],\n",
       "                        {\"legend\": {\"bgcolor\": \"#F5F6F9\", \"font\": {\"color\": \"#4D5663\"}}, \"paper_bgcolor\": \"#F5F6F9\", \"plot_bgcolor\": \"#F5F6F9\", \"template\": {\"data\": {\"bar\": [{\"error_x\": {\"color\": \"#2a3f5f\"}, \"error_y\": {\"color\": \"#2a3f5f\"}, \"marker\": {\"line\": {\"color\": \"#E5ECF6\", \"width\": 0.5}}, \"type\": \"bar\"}], \"barpolar\": [{\"marker\": {\"line\": {\"color\": \"#E5ECF6\", \"width\": 0.5}}, \"type\": \"barpolar\"}], \"carpet\": [{\"aaxis\": {\"endlinecolor\": \"#2a3f5f\", \"gridcolor\": \"white\", \"linecolor\": \"white\", \"minorgridcolor\": \"white\", \"startlinecolor\": \"#2a3f5f\"}, \"baxis\": {\"endlinecolor\": \"#2a3f5f\", \"gridcolor\": \"white\", \"linecolor\": \"white\", \"minorgridcolor\": \"white\", \"startlinecolor\": \"#2a3f5f\"}, \"type\": \"carpet\"}], \"choropleth\": [{\"colorbar\": {\"outlinewidth\": 0, \"ticks\": \"\"}, \"type\": \"choropleth\"}], \"contour\": [{\"colorbar\": {\"outlinewidth\": 0, \"ticks\": \"\"}, \"colorscale\": [[0.0, \"#0d0887\"], [0.1111111111111111, \"#46039f\"], [0.2222222222222222, \"#7201a8\"], [0.3333333333333333, \"#9c179e\"], [0.4444444444444444, \"#bd3786\"], [0.5555555555555556, \"#d8576b\"], [0.6666666666666666, \"#ed7953\"], [0.7777777777777778, \"#fb9f3a\"], [0.8888888888888888, \"#fdca26\"], [1.0, \"#f0f921\"]], \"type\": \"contour\"}], \"contourcarpet\": [{\"colorbar\": {\"outlinewidth\": 0, \"ticks\": \"\"}, \"type\": \"contourcarpet\"}], \"heatmap\": [{\"colorbar\": {\"outlinewidth\": 0, \"ticks\": \"\"}, \"colorscale\": [[0.0, \"#0d0887\"], [0.1111111111111111, \"#46039f\"], [0.2222222222222222, \"#7201a8\"], [0.3333333333333333, \"#9c179e\"], [0.4444444444444444, \"#bd3786\"], [0.5555555555555556, \"#d8576b\"], [0.6666666666666666, \"#ed7953\"], [0.7777777777777778, \"#fb9f3a\"], [0.8888888888888888, \"#fdca26\"], [1.0, \"#f0f921\"]], \"type\": \"heatmap\"}], \"heatmapgl\": [{\"colorbar\": {\"outlinewidth\": 0, \"ticks\": \"\"}, \"colorscale\": [[0.0, \"#0d0887\"], [0.1111111111111111, \"#46039f\"], [0.2222222222222222, \"#7201a8\"], [0.3333333333333333, \"#9c179e\"], [0.4444444444444444, \"#bd3786\"], [0.5555555555555556, \"#d8576b\"], [0.6666666666666666, \"#ed7953\"], [0.7777777777777778, \"#fb9f3a\"], [0.8888888888888888, \"#fdca26\"], [1.0, \"#f0f921\"]], \"type\": \"heatmapgl\"}], \"histogram\": [{\"marker\": {\"colorbar\": {\"outlinewidth\": 0, \"ticks\": \"\"}}, \"type\": \"histogram\"}], \"histogram2d\": [{\"colorbar\": {\"outlinewidth\": 0, \"ticks\": \"\"}, \"colorscale\": [[0.0, \"#0d0887\"], [0.1111111111111111, \"#46039f\"], [0.2222222222222222, \"#7201a8\"], [0.3333333333333333, \"#9c179e\"], [0.4444444444444444, \"#bd3786\"], [0.5555555555555556, \"#d8576b\"], [0.6666666666666666, \"#ed7953\"], [0.7777777777777778, \"#fb9f3a\"], [0.8888888888888888, \"#fdca26\"], [1.0, \"#f0f921\"]], \"type\": \"histogram2d\"}], \"histogram2dcontour\": [{\"colorbar\": {\"outlinewidth\": 0, \"ticks\": \"\"}, \"colorscale\": [[0.0, \"#0d0887\"], [0.1111111111111111, \"#46039f\"], [0.2222222222222222, \"#7201a8\"], [0.3333333333333333, \"#9c179e\"], [0.4444444444444444, \"#bd3786\"], [0.5555555555555556, \"#d8576b\"], [0.6666666666666666, \"#ed7953\"], [0.7777777777777778, \"#fb9f3a\"], [0.8888888888888888, \"#fdca26\"], [1.0, \"#f0f921\"]], \"type\": \"histogram2dcontour\"}], \"mesh3d\": [{\"colorbar\": {\"outlinewidth\": 0, \"ticks\": \"\"}, \"type\": \"mesh3d\"}], \"parcoords\": [{\"line\": {\"colorbar\": {\"outlinewidth\": 0, \"ticks\": \"\"}}, \"type\": \"parcoords\"}], \"pie\": [{\"automargin\": true, \"type\": \"pie\"}], \"scatter\": [{\"marker\": {\"colorbar\": {\"outlinewidth\": 0, \"ticks\": \"\"}}, \"type\": \"scatter\"}], \"scatter3d\": [{\"line\": {\"colorbar\": {\"outlinewidth\": 0, \"ticks\": \"\"}}, \"marker\": {\"colorbar\": {\"outlinewidth\": 0, \"ticks\": \"\"}}, \"type\": \"scatter3d\"}], \"scattercarpet\": [{\"marker\": {\"colorbar\": {\"outlinewidth\": 0, \"ticks\": \"\"}}, \"type\": \"scattercarpet\"}], \"scattergeo\": [{\"marker\": {\"colorbar\": {\"outlinewidth\": 0, \"ticks\": \"\"}}, \"type\": \"scattergeo\"}], \"scattergl\": [{\"marker\": {\"colorbar\": {\"outlinewidth\": 0, \"ticks\": \"\"}}, \"type\": \"scattergl\"}], \"scattermapbox\": [{\"marker\": {\"colorbar\": {\"outlinewidth\": 0, \"ticks\": \"\"}}, \"type\": \"scattermapbox\"}], \"scatterpolar\": [{\"marker\": {\"colorbar\": {\"outlinewidth\": 0, \"ticks\": \"\"}}, \"type\": \"scatterpolar\"}], \"scatterpolargl\": [{\"marker\": {\"colorbar\": {\"outlinewidth\": 0, \"ticks\": \"\"}}, \"type\": \"scatterpolargl\"}], \"scatterternary\": [{\"marker\": {\"colorbar\": {\"outlinewidth\": 0, \"ticks\": \"\"}}, \"type\": \"scatterternary\"}], \"surface\": [{\"colorbar\": {\"outlinewidth\": 0, \"ticks\": \"\"}, \"colorscale\": [[0.0, \"#0d0887\"], [0.1111111111111111, \"#46039f\"], [0.2222222222222222, \"#7201a8\"], [0.3333333333333333, \"#9c179e\"], [0.4444444444444444, \"#bd3786\"], [0.5555555555555556, \"#d8576b\"], [0.6666666666666666, \"#ed7953\"], [0.7777777777777778, \"#fb9f3a\"], [0.8888888888888888, \"#fdca26\"], [1.0, \"#f0f921\"]], \"type\": \"surface\"}], \"table\": [{\"cells\": {\"fill\": {\"color\": \"#EBF0F8\"}, \"line\": {\"color\": \"white\"}}, \"header\": {\"fill\": {\"color\": \"#C8D4E3\"}, \"line\": {\"color\": \"white\"}}, \"type\": \"table\"}]}, \"layout\": {\"annotationdefaults\": {\"arrowcolor\": \"#2a3f5f\", \"arrowhead\": 0, \"arrowwidth\": 1}, \"coloraxis\": {\"colorbar\": {\"outlinewidth\": 0, \"ticks\": \"\"}}, \"colorscale\": {\"diverging\": [[0, \"#8e0152\"], [0.1, \"#c51b7d\"], [0.2, \"#de77ae\"], [0.3, \"#f1b6da\"], [0.4, \"#fde0ef\"], [0.5, \"#f7f7f7\"], [0.6, \"#e6f5d0\"], [0.7, \"#b8e186\"], [0.8, \"#7fbc41\"], [0.9, \"#4d9221\"], [1, \"#276419\"]], \"sequential\": [[0.0, \"#0d0887\"], [0.1111111111111111, \"#46039f\"], [0.2222222222222222, \"#7201a8\"], [0.3333333333333333, \"#9c179e\"], [0.4444444444444444, \"#bd3786\"], [0.5555555555555556, \"#d8576b\"], [0.6666666666666666, \"#ed7953\"], [0.7777777777777778, \"#fb9f3a\"], [0.8888888888888888, \"#fdca26\"], [1.0, \"#f0f921\"]], \"sequentialminus\": [[0.0, \"#0d0887\"], [0.1111111111111111, \"#46039f\"], [0.2222222222222222, \"#7201a8\"], [0.3333333333333333, \"#9c179e\"], [0.4444444444444444, \"#bd3786\"], [0.5555555555555556, \"#d8576b\"], [0.6666666666666666, \"#ed7953\"], [0.7777777777777778, \"#fb9f3a\"], [0.8888888888888888, \"#fdca26\"], [1.0, \"#f0f921\"]]}, \"colorway\": [\"#636efa\", \"#EF553B\", \"#00cc96\", \"#ab63fa\", \"#FFA15A\", \"#19d3f3\", \"#FF6692\", \"#B6E880\", \"#FF97FF\", \"#FECB52\"], \"font\": {\"color\": \"#2a3f5f\"}, \"geo\": {\"bgcolor\": \"white\", \"lakecolor\": \"white\", \"landcolor\": \"#E5ECF6\", \"showlakes\": true, \"showland\": true, \"subunitcolor\": \"white\"}, \"hoverlabel\": {\"align\": \"left\"}, \"hovermode\": \"closest\", \"mapbox\": {\"style\": \"light\"}, \"paper_bgcolor\": \"white\", \"plot_bgcolor\": \"#E5ECF6\", \"polar\": {\"angularaxis\": {\"gridcolor\": \"white\", \"linecolor\": \"white\", \"ticks\": \"\"}, \"bgcolor\": \"#E5ECF6\", \"radialaxis\": {\"gridcolor\": \"white\", \"linecolor\": \"white\", \"ticks\": \"\"}}, \"scene\": {\"xaxis\": {\"backgroundcolor\": \"#E5ECF6\", \"gridcolor\": \"white\", \"gridwidth\": 2, \"linecolor\": \"white\", \"showbackground\": true, \"ticks\": \"\", \"zerolinecolor\": \"white\"}, \"yaxis\": {\"backgroundcolor\": \"#E5ECF6\", \"gridcolor\": \"white\", \"gridwidth\": 2, \"linecolor\": \"white\", \"showbackground\": true, \"ticks\": \"\", \"zerolinecolor\": \"white\"}, \"zaxis\": {\"backgroundcolor\": \"#E5ECF6\", \"gridcolor\": \"white\", \"gridwidth\": 2, \"linecolor\": \"white\", \"showbackground\": true, \"ticks\": \"\", \"zerolinecolor\": \"white\"}}, \"shapedefaults\": {\"line\": {\"color\": \"#2a3f5f\"}}, \"ternary\": {\"aaxis\": {\"gridcolor\": \"white\", \"linecolor\": \"white\", \"ticks\": \"\"}, \"baxis\": {\"gridcolor\": \"white\", \"linecolor\": \"white\", \"ticks\": \"\"}, \"bgcolor\": \"#E5ECF6\", \"caxis\": {\"gridcolor\": \"white\", \"linecolor\": \"white\", \"ticks\": \"\"}}, \"title\": {\"x\": 0.05}, \"xaxis\": {\"automargin\": true, \"gridcolor\": \"white\", \"linecolor\": \"white\", \"ticks\": \"\", \"title\": {\"standoff\": 15}, \"zerolinecolor\": \"white\", \"zerolinewidth\": 2}, \"yaxis\": {\"automargin\": true, \"gridcolor\": \"white\", \"linecolor\": \"white\", \"ticks\": \"\", \"title\": {\"standoff\": 15}, \"zerolinecolor\": \"white\", \"zerolinewidth\": 2}}}, \"title\": {\"font\": {\"color\": \"#4D5663\"}, \"text\": \"Mobile Money Market\"}, \"xaxis\": {\"gridcolor\": \"#E1E5ED\", \"showgrid\": true, \"tickfont\": {\"color\": \"#4D5663\"}, \"title\": {\"font\": {\"color\": \"#4D5663\"}, \"text\": \"\"}, \"zerolinecolor\": \"#E1E5ED\"}, \"yaxis\": {\"gridcolor\": \"#E1E5ED\", \"showgrid\": true, \"tickfont\": {\"color\": \"#4D5663\"}, \"title\": {\"font\": {\"color\": \"#4D5663\"}, \"text\": \"\"}, \"zerolinecolor\": \"#E1E5ED\"}},\n",
       "                        {\"showLink\": true, \"linkText\": \"Export to plot.ly\", \"plotlyServerURL\": \"https://plot.ly\", \"responsive\": true}\n",
       "                    ).then(function(){\n",
       "                            \n",
       "var gd = document.getElementById('a46fb8da-3248-4bd7-bea0-769bc57009b3');\n",
       "var x = new MutationObserver(function (mutations, observer) {{\n",
       "        var display = window.getComputedStyle(gd).display;\n",
       "        if (!display || display === 'none') {{\n",
       "            console.log([gd, 'removed!']);\n",
       "            Plotly.purge(gd);\n",
       "            observer.disconnect();\n",
       "        }}\n",
       "}});\n",
       "\n",
       "// Listen for the removal of the full notebook cells\n",
       "var notebookContainer = gd.closest('#notebook-container');\n",
       "if (notebookContainer) {{\n",
       "    x.observe(notebookContainer, {childList: true});\n",
       "}}\n",
       "\n",
       "// Listen for the clearing of the current output cell\n",
       "var outputEl = gd.closest('.output');\n",
       "if (outputEl) {{\n",
       "    x.observe(outputEl, {childList: true});\n",
       "}}\n",
       "\n",
       "                        })\n",
       "                };\n",
       "                });\n",
       "            </script>\n",
       "        </div>"
      ]
     },
     "metadata": {},
     "output_type": "display_data"
    }
   ],
   "source": [
    "# Financial serivces market\n",
    "(pd.DataFrame(data[\"Mobile Money Classification\"].value_counts()).reset_index()).iplot(kind=\"bar\", x=\"index\", y=\"Mobile Money Classification\", title='Mobile Money Market')"
   ]
  },
  {
   "cell_type": "markdown",
   "metadata": {},
   "source": [
    "### &emsp;&emsp;&emsp;&emsp;&emsp;&emsp;&emsp;&emsp;&emsp;&emsp;&emsp;&emsp;&emsp;&emsp;&emsp;&emsp;Total Age Distribution By Gender"
   ]
  },
  {
   "cell_type": "code",
   "execution_count": 7,
   "metadata": {
    "hideCode": true
   },
   "outputs": [
    {
     "data": {
      "application/vnd.plotly.v1+json": {
       "config": {
        "plotlyServerURL": "https://plot.ly"
       },
       "data": [
        {
         "alignmentgroup": "True",
         "bingroup": "x",
         "hoverlabel": {
          "namelength": 0
         },
         "hovertemplate": "Gender=Female<br>age=%{x}<br>count=%{y}",
         "legendgroup": "Gender=Female",
         "marker": {
          "color": "#636efa",
          "opacity": 0.6
         },
         "name": "Gender=Female",
         "nbinsx": 20,
         "offsetgroup": "Gender=Female",
         "orientation": "v",
         "showlegend": true,
         "type": "histogram",
         "x": [
          98,
          18,
          31,
          23,
          56,
          37,
          18,
          29,
          17,
          22,
          53,
          21,
          24,
          30,
          27,
          42,
          76,
          29,
          20,
          26,
          44,
          32,
          53,
          35,
          20,
          31,
          17,
          30,
          37,
          38,
          20,
          29,
          46,
          31,
          21,
          39,
          65,
          54,
          24,
          46,
          31,
          45,
          31,
          38,
          32,
          35,
          50,
          30,
          23,
          27,
          33,
          29,
          25,
          29,
          44,
          21,
          26,
          21,
          29,
          58,
          36,
          51,
          53,
          52,
          60,
          50,
          20,
          48,
          30,
          30,
          17,
          30,
          21,
          30,
          74,
          21,
          50,
          42,
          66,
          42,
          25,
          21,
          44,
          32,
          45,
          27,
          71,
          53,
          41,
          18,
          30,
          18,
          28,
          40,
          16,
          44,
          49,
          21,
          23,
          35,
          47,
          47,
          22,
          20,
          30,
          30,
          26,
          45,
          21,
          64,
          48,
          25,
          42,
          50,
          43,
          45,
          38,
          25,
          30,
          25,
          36,
          37,
          70,
          78,
          59,
          64,
          16,
          41,
          30,
          50,
          53,
          22,
          27,
          33,
          27,
          42,
          45,
          80,
          50,
          51,
          23,
          16,
          53,
          35,
          27,
          26,
          29,
          65,
          40,
          31,
          38,
          22,
          55,
          31,
          18,
          41,
          42,
          61,
          43,
          49,
          18,
          22,
          32,
          32,
          45,
          17,
          42,
          48,
          42,
          80,
          36,
          24,
          61,
          35,
          42,
          23,
          85,
          30,
          26,
          20,
          25,
          33,
          20,
          61,
          80,
          85,
          77,
          24,
          34,
          26,
          26,
          62,
          36,
          25,
          45,
          72,
          18,
          48,
          71,
          19,
          18,
          25,
          24,
          48,
          24,
          35,
          22,
          33,
          35,
          32,
          33,
          23,
          45,
          62,
          21,
          60,
          20,
          30,
          32,
          40,
          32,
          20,
          45,
          26,
          40,
          37,
          16,
          27,
          38,
          29,
          16,
          62,
          55,
          51,
          46,
          57,
          31,
          39,
          31,
          19,
          26,
          70,
          20,
          42,
          34,
          50,
          17,
          33,
          65,
          30,
          42,
          50,
          70,
          21,
          65,
          32,
          60,
          28,
          70,
          26,
          65,
          35,
          27,
          49,
          32,
          41,
          40,
          27,
          16,
          68,
          33,
          25,
          30,
          22,
          39,
          70,
          35,
          48,
          48,
          48,
          66,
          70,
          26,
          25,
          18,
          18,
          35,
          33,
          35,
          60,
          51,
          30,
          17,
          23,
          25,
          40,
          30,
          48,
          40,
          60,
          61,
          30,
          34,
          30,
          34,
          44,
          40,
          37,
          23,
          26,
          30,
          21,
          46,
          22,
          48,
          30,
          19,
          47,
          55,
          24,
          35,
          20,
          82,
          23,
          29,
          81,
          50,
          45,
          51,
          46,
          45,
          43,
          29,
          19,
          29,
          35,
          31,
          43,
          28,
          45,
          32,
          49,
          20,
          47,
          60,
          30,
          28,
          26,
          28,
          35,
          25,
          31,
          17,
          30,
          70,
          32,
          35,
          35,
          55,
          36,
          77,
          40,
          29,
          42,
          20,
          46,
          32,
          62,
          41,
          22,
          16,
          35,
          28,
          17,
          65,
          27,
          38,
          27,
          47,
          39,
          45,
          70,
          19,
          41,
          36,
          36,
          42,
          58,
          34,
          32,
          79,
          22,
          32,
          43,
          25,
          21,
          41,
          29,
          43,
          45,
          36,
          68,
          24,
          33,
          33,
          25,
          62,
          40,
          39,
          28,
          38,
          52,
          49,
          37,
          19,
          26,
          16,
          21,
          42,
          30,
          24,
          50,
          38,
          16,
          27,
          27,
          55,
          42,
          40,
          40,
          30,
          65,
          40,
          70,
          36,
          39,
          27,
          26,
          42,
          20,
          23,
          30,
          21,
          65,
          24,
          24,
          26,
          24,
          47,
          50,
          37,
          50,
          40,
          35,
          23,
          47,
          31,
          34,
          40,
          25,
          42,
          56,
          52,
          32,
          35,
          80,
          34,
          38,
          48,
          30,
          22,
          22,
          18,
          50,
          82,
          62,
          20,
          21,
          18,
          60,
          23,
          33,
          39,
          43,
          30,
          38,
          69,
          35,
          26,
          25,
          33,
          27,
          24,
          57,
          17,
          82,
          19,
          26,
          51,
          28,
          16,
          17,
          39,
          29,
          42,
          40,
          28,
          38,
          20,
          16,
          17,
          33,
          41,
          20,
          26,
          32,
          24,
          29,
          26,
          50,
          27,
          21,
          23,
          19,
          40,
          21,
          32,
          30,
          20,
          85,
          18,
          22,
          25,
          40,
          24,
          37,
          25,
          35,
          27,
          27,
          30,
          46,
          72,
          59,
          73,
          27,
          80,
          16,
          36,
          49,
          17,
          75,
          24,
          31,
          16,
          35,
          30,
          49,
          70,
          53,
          65,
          34,
          48,
          24,
          60,
          31,
          19,
          45,
          36,
          34,
          41,
          22,
          44,
          38,
          20,
          20,
          23,
          41,
          32,
          40,
          28,
          65,
          36,
          18,
          68,
          40,
          63,
          54,
          24,
          19,
          23,
          57,
          70,
          30,
          46,
          36,
          63,
          39,
          27,
          61,
          39,
          80,
          81,
          64,
          70,
          35,
          20,
          44,
          56,
          58,
          42,
          16,
          47,
          75,
          27,
          43,
          27,
          58,
          47,
          35,
          25,
          33,
          41,
          50,
          68,
          30,
          58,
          70,
          30,
          40,
          50,
          40,
          58,
          22,
          22,
          42,
          34,
          23,
          62,
          46,
          18,
          17,
          65,
          70,
          31,
          23,
          35,
          35,
          44,
          23,
          21,
          37,
          28,
          26,
          26,
          27,
          39,
          40,
          19,
          21,
          20,
          63,
          25,
          18,
          37,
          41,
          22,
          96,
          46,
          30,
          20,
          25,
          28,
          42,
          32,
          27,
          60,
          42,
          26,
          59,
          24,
          55,
          40,
          26,
          36,
          20,
          22,
          40,
          27,
          35,
          62,
          26,
          25,
          70,
          44,
          32,
          29,
          58,
          41,
          32,
          40,
          31,
          34,
          25,
          36,
          20,
          27,
          25,
          29,
          49,
          54,
          16,
          34,
          45,
          17,
          38,
          23,
          73,
          54,
          53,
          29,
          49,
          33,
          50,
          43,
          32,
          19,
          28,
          38,
          76,
          27,
          28,
          46,
          51,
          29,
          38,
          68,
          43,
          45,
          64,
          20,
          28,
          21,
          28,
          32,
          30,
          17,
          65,
          22,
          27,
          20,
          35,
          75,
          61,
          24,
          36,
          24,
          33,
          50,
          21,
          30,
          26,
          40,
          59,
          88,
          49,
          30,
          19,
          22,
          56,
          24,
          26,
          24,
          60,
          26,
          22,
          29,
          71,
          65,
          40,
          45,
          32,
          33,
          31,
          40,
          19,
          43,
          28,
          42,
          18,
          30,
          45,
          70,
          26,
          56,
          22,
          34,
          42,
          43,
          71,
          19,
          38,
          60,
          31,
          43,
          19,
          30,
          16,
          16,
          60,
          35,
          30,
          34,
          38,
          38,
          29,
          28,
          30,
          50,
          35,
          33,
          55,
          62,
          38,
          37,
          47,
          36,
          31,
          36,
          35,
          50,
          22,
          23,
          33,
          70,
          48,
          23,
          52,
          23,
          25,
          44,
          28,
          53,
          49,
          32,
          35,
          70,
          35,
          20,
          44,
          40,
          52,
          63,
          75,
          23,
          22,
          46,
          42,
          24,
          59,
          34,
          39,
          35,
          23,
          30,
          26,
          39,
          63,
          71,
          32,
          38,
          45,
          42,
          47,
          65,
          22,
          47,
          42,
          47,
          75,
          34,
          22,
          35,
          18,
          20,
          60,
          35,
          24,
          19,
          32,
          37,
          53,
          19,
          28,
          25,
          32,
          45,
          32,
          31,
          18,
          17,
          38,
          30,
          30,
          32,
          45,
          38,
          21,
          35,
          23,
          29,
          25,
          26,
          29,
          25,
          32,
          26,
          16,
          26,
          25,
          23,
          27,
          73,
          20,
          26,
          65,
          20,
          40,
          31,
          65,
          30,
          23,
          29,
          39,
          18,
          45,
          42,
          28,
          80,
          57,
          40,
          40,
          30,
          80,
          70,
          30,
          45,
          40,
          32,
          36,
          21,
          42,
          40,
          42,
          17,
          60,
          38,
          51,
          42,
          45,
          43,
          17,
          73,
          39,
          43,
          35,
          47,
          22,
          22,
          46,
          38,
          17,
          28,
          19,
          60,
          52,
          37,
          47,
          20,
          26,
          25,
          69,
          17,
          80,
          23,
          28,
          47,
          20,
          21,
          28,
          25,
          20,
          18,
          40,
          25,
          20,
          45,
          27,
          48,
          47,
          20,
          45,
          52,
          75,
          25,
          66,
          38,
          40,
          22,
          35,
          38,
          77,
          35,
          18,
          19,
          28,
          59,
          40,
          60,
          70,
          24,
          35,
          50,
          29,
          32,
          45,
          68,
          28,
          26,
          18,
          22,
          19,
          58,
          34,
          22,
          35,
          24,
          18,
          37,
          38,
          45,
          60,
          80,
          28,
          38,
          60,
          20,
          18,
          29,
          38,
          20,
          40,
          52,
          34,
          36,
          43,
          36,
          19,
          23,
          66,
          92,
          25,
          43,
          29,
          37,
          24,
          22,
          58,
          59,
          20,
          19,
          32,
          19,
          59,
          65,
          46,
          28,
          65,
          41,
          20,
          22,
          24,
          35,
          57,
          38,
          36,
          45,
          28,
          45,
          78,
          44,
          28,
          32,
          28,
          45,
          25,
          74,
          36,
          25,
          23,
          55,
          24,
          28,
          24,
          19,
          30,
          32,
          35,
          19,
          33,
          57,
          20,
          41,
          29,
          16,
          34,
          24,
          57,
          66,
          28,
          30,
          52,
          35,
          16,
          35,
          25,
          28,
          43,
          27,
          36,
          37,
          23,
          40,
          31,
          48,
          26,
          22,
          22,
          35,
          47,
          16,
          38,
          28,
          25,
          27,
          51,
          21,
          19,
          23,
          73,
          45,
          75,
          32,
          20,
          19,
          73,
          34,
          20,
          65,
          37,
          31,
          30,
          65,
          42,
          17,
          20,
          21,
          27,
          24,
          19,
          40,
          24,
          32,
          36,
          47,
          65,
          88,
          54,
          18,
          20,
          36,
          45,
          28,
          16,
          38,
          31,
          43,
          22,
          70,
          23,
          30,
          50,
          21,
          20,
          22,
          23,
          20,
          34,
          38,
          40,
          50,
          26,
          20,
          64,
          28,
          35,
          27,
          26,
          62,
          28,
          25,
          58,
          41,
          20,
          32,
          52,
          34,
          52,
          19,
          28,
          35,
          35,
          48,
          42,
          56,
          59,
          66,
          25,
          35,
          34,
          25,
          35,
          18,
          16,
          46,
          35,
          24,
          16,
          20,
          22,
          57,
          16,
          76,
          40,
          50,
          44,
          50,
          75,
          45,
          60,
          27,
          25,
          19,
          28,
          39,
          42,
          18,
          23,
          42,
          48,
          26,
          30,
          60,
          60,
          33,
          30,
          34,
          43,
          46,
          82,
          31,
          32,
          23,
          16,
          60,
          16,
          47,
          24,
          21,
          62,
          47,
          40,
          19,
          65,
          43,
          57,
          23,
          19,
          18,
          33,
          45,
          25,
          58,
          61,
          31,
          22,
          39,
          24,
          21,
          36,
          26,
          25,
          45,
          56,
          69,
          26,
          31,
          58,
          52,
          50,
          21,
          34,
          40,
          46,
          22,
          35,
          40,
          19,
          65,
          48,
          25,
          70,
          34,
          26,
          41,
          33,
          23,
          22,
          27,
          62,
          39,
          23,
          48,
          25,
          25,
          40,
          29,
          22,
          55,
          52,
          76,
          24,
          50,
          16,
          51,
          33,
          26,
          54,
          30,
          90,
          24,
          38,
          67,
          51,
          32,
          41,
          35,
          28,
          59,
          19,
          30,
          31,
          30,
          66,
          35,
          45,
          30,
          76,
          30,
          23,
          42,
          23,
          26,
          76,
          28,
          66,
          36,
          45,
          25,
          26,
          64,
          39,
          22,
          32,
          35,
          33,
          23,
          58,
          62,
          27,
          34,
          28,
          32,
          30,
          35,
          65,
          58,
          39,
          99,
          28,
          49,
          29,
          62,
          20,
          40,
          35,
          61,
          29,
          21,
          28,
          48,
          45,
          55,
          34,
          31,
          30,
          40,
          46,
          64,
          55,
          47,
          16,
          29,
          51,
          19,
          32,
          20,
          23,
          75,
          56,
          40,
          18,
          45,
          31,
          43,
          48,
          23,
          52,
          65,
          33,
          22,
          80,
          35,
          52,
          27,
          52,
          55,
          25,
          27,
          23,
          27,
          20,
          35,
          50,
          55,
          46,
          34,
          29,
          28,
          22,
          75,
          30,
          50,
          22,
          37,
          24,
          50,
          34,
          48,
          40,
          43,
          36,
          45,
          41,
          41,
          18,
          34,
          25,
          20,
          28,
          37,
          60,
          30,
          16,
          19,
          52,
          30,
          25,
          30,
          68,
          39,
          43,
          58,
          24,
          20,
          80,
          70,
          19,
          20,
          42,
          25,
          30,
          19,
          50,
          46,
          35,
          23,
          43,
          50,
          18,
          72,
          21,
          28,
          85,
          41,
          27,
          34,
          77,
          34,
          19,
          18,
          82,
          18,
          35,
          37,
          44,
          49,
          79,
          18,
          30,
          42,
          27,
          47,
          29,
          65,
          21,
          62,
          23,
          23,
          60,
          33,
          55,
          28,
          21,
          18,
          64,
          26,
          43,
          30,
          25,
          23,
          60,
          70,
          40,
          55,
          26,
          23,
          40,
          26,
          22,
          43,
          34,
          30,
          39,
          23,
          25,
          27,
          25,
          45,
          60,
          54,
          36,
          25,
          61,
          23,
          32,
          40,
          23,
          21,
          60,
          50,
          28,
          45,
          75,
          51,
          57,
          17,
          68,
          42,
          43,
          20,
          17,
          44,
          66,
          68,
          25,
          34,
          26,
          30,
          65,
          20,
          73,
          38,
          22,
          90,
          35,
          25,
          30,
          38,
          45,
          22,
          37,
          24,
          30,
          47,
          30,
          51,
          22,
          33,
          25,
          59,
          65,
          60,
          72,
          34,
          28,
          32,
          17,
          21,
          32,
          17,
          34,
          20,
          42,
          90,
          17,
          27,
          32,
          31,
          26,
          18,
          34,
          30,
          65,
          33,
          44,
          21,
          62,
          42,
          27,
          46,
          31,
          21,
          16,
          62,
          23,
          40,
          28,
          25,
          37,
          46,
          36,
          31,
          55,
          33,
          16,
          39,
          80,
          65,
          30,
          44,
          32,
          24,
          25,
          30,
          19,
          50,
          46,
          29,
          30,
          21,
          30,
          60,
          19,
          44,
          26,
          17,
          56,
          24,
          25,
          23,
          25,
          23,
          32,
          23,
          19,
          16,
          69,
          21,
          24,
          37,
          46,
          40,
          66,
          20,
          19,
          25,
          22,
          40,
          32,
          75,
          55,
          40,
          32,
          19,
          40,
          19,
          63,
          30,
          20,
          22,
          25,
          24,
          38,
          25,
          50,
          35,
          21,
          29,
          20,
          31,
          35,
          25,
          46,
          56,
          59,
          22,
          24,
          59,
          37,
          33,
          52,
          30,
          28,
          32,
          32,
          35,
          35,
          30,
          58,
          17,
          23,
          45,
          38,
          55,
          19,
          23,
          45,
          28,
          22,
          35,
          40,
          34,
          16,
          36,
          28,
          28,
          47,
          48,
          22,
          27,
          27,
          27,
          55,
          59,
          26,
          28,
          36,
          72,
          37,
          42,
          16,
          30,
          28,
          19,
          32,
          23,
          28,
          30,
          23,
          27,
          38,
          25,
          24,
          29,
          32,
          45,
          20,
          85,
          27,
          25,
          60,
          29,
          47,
          56,
          56,
          36,
          37,
          35,
          26,
          22,
          50,
          18,
          42,
          46,
          17,
          38,
          39,
          35,
          32,
          30,
          43,
          19,
          49,
          35,
          48,
          21,
          31,
          20,
          40,
          60,
          75,
          17,
          20,
          46,
          25,
          35,
          30,
          57,
          21,
          35,
          18,
          64,
          38,
          35,
          62,
          48,
          30,
          59,
          30,
          40,
          19,
          24,
          22,
          25,
          83,
          23,
          39,
          24,
          37,
          30,
          29,
          41,
          17,
          74,
          26,
          26,
          63,
          17,
          40,
          72,
          23,
          23,
          23,
          51,
          57,
          47,
          18,
          40,
          30,
          75,
          32,
          34,
          18,
          23,
          40,
          34,
          38,
          67,
          28,
          17,
          23,
          30,
          60,
          16,
          32,
          27,
          37,
          24,
          18,
          16,
          34,
          29,
          32,
          20,
          29,
          60,
          23,
          20,
          24,
          38,
          72,
          34,
          30,
          52,
          38,
          24,
          45,
          28,
          20,
          65,
          29,
          24,
          44,
          38,
          34,
          19,
          36,
          39,
          76,
          40,
          44,
          75,
          62,
          57,
          67,
          20,
          43,
          33,
          31,
          32,
          21,
          43,
          16,
          29,
          79,
          75,
          22,
          34,
          35,
          26,
          17,
          51,
          21,
          28,
          37,
          20,
          50,
          39,
          20,
          40,
          56,
          27,
          31,
          30,
          63,
          36,
          28,
          38,
          64,
          18,
          47,
          18,
          56,
          40,
          35,
          30,
          45,
          40,
          25,
          38,
          33,
          44,
          26,
          56,
          63,
          45,
          20,
          39,
          32,
          33,
          24,
          24,
          22,
          30,
          23,
          20,
          50,
          35,
          40,
          25,
          22,
          67,
          34,
          33,
          57,
          28,
          25,
          39,
          23,
          32,
          63,
          90,
          22,
          42,
          47,
          23,
          23,
          29,
          40,
          75,
          65,
          45,
          25,
          22,
          46,
          31,
          30,
          49,
          46,
          22,
          40,
          62,
          27,
          41,
          36,
          19,
          32,
          50,
          28,
          27,
          45,
          40,
          28,
          57,
          35,
          67,
          28,
          48,
          28,
          34,
          29,
          72,
          30,
          65,
          24,
          46,
          49,
          28,
          41,
          28,
          29,
          28,
          23,
          30,
          45,
          32,
          80,
          42,
          63,
          24,
          42,
          16,
          19,
          34,
          32,
          21,
          21,
          32,
          30,
          40,
          32,
          48,
          62,
          24,
          25,
          74,
          33,
          60,
          63,
          23,
          22,
          17,
          78,
          25,
          21,
          40,
          60,
          24,
          36,
          45,
          61,
          23,
          18,
          25,
          35,
          22,
          87,
          32,
          34,
          27,
          29,
          29,
          27,
          27,
          58,
          27,
          30,
          42,
          43,
          65,
          48,
          53,
          47,
          43,
          32,
          32,
          40,
          59,
          71,
          56,
          43,
          40,
          30,
          48,
          20,
          21,
          18,
          24,
          19,
          29,
          42,
          40,
          43,
          28,
          18,
          77,
          38,
          35,
          18,
          31,
          25,
          23,
          41,
          60,
          32,
          31,
          26,
          18,
          20,
          30,
          22,
          20,
          31,
          17,
          30,
          26,
          23,
          16,
          32,
          45,
          32,
          31,
          30,
          35,
          54,
          54,
          53,
          31,
          35,
          60,
          28,
          33,
          31,
          28,
          36,
          21,
          45,
          46,
          19,
          67,
          28,
          35,
          18,
          18,
          24,
          26,
          50,
          41,
          39,
          22,
          40,
          40,
          27,
          24,
          30,
          36,
          21,
          31,
          34,
          46,
          53,
          40,
          29,
          42,
          23,
          47,
          17,
          22,
          35,
          45,
          56,
          28,
          61,
          19,
          32,
          22,
          27,
          48,
          33,
          30,
          32,
          20,
          44,
          48,
          32,
          34,
          26,
          25,
          58,
          50,
          25,
          25,
          29,
          50,
          21,
          38,
          19,
          42,
          25,
          68,
          49,
          23,
          58,
          37,
          71,
          21,
          50,
          20,
          20,
          75,
          38,
          60,
          27,
          40,
          70,
          31,
          56,
          22,
          44,
          27,
          68,
          48,
          50,
          74,
          27,
          25,
          60,
          59,
          22,
          41,
          48,
          65,
          25,
          42,
          25,
          30,
          40,
          27,
          39,
          27,
          29,
          26,
          23,
          22,
          41,
          22,
          18,
          23,
          23,
          18,
          44,
          51,
          45,
          30,
          51,
          45,
          43,
          22,
          40,
          56,
          50,
          85,
          27,
          55,
          100,
          28,
          60,
          26,
          68,
          32,
          35,
          30,
          49,
          50,
          36,
          27,
          32,
          51,
          29,
          17,
          47,
          20,
          26,
          70,
          35,
          47,
          60,
          100,
          62,
          41,
          30,
          18,
          21,
          42,
          36,
          70,
          72,
          36,
          36,
          24,
          41,
          65,
          65,
          43,
          42,
          25,
          25,
          26,
          47,
          22,
          31,
          67,
          30,
          35,
          57,
          23,
          20,
          25,
          26,
          25,
          37,
          25,
          40,
          60,
          30,
          63,
          29,
          43,
          29,
          80,
          22,
          28,
          27,
          38,
          30,
          40,
          26,
          21,
          23,
          30,
          21,
          20,
          44,
          33,
          55,
          17,
          40,
          27,
          27,
          60,
          42,
          65,
          29,
          27,
          27,
          27,
          22,
          25,
          31,
          44,
          29,
          26,
          18,
          60,
          65,
          36,
          53,
          17,
          82,
          17,
          42,
          19,
          46,
          27,
          28,
          26,
          72,
          28,
          63,
          42,
          25,
          26,
          20,
          32,
          32,
          23,
          23,
          19,
          50,
          28,
          70,
          17,
          17,
          52,
          16,
          36,
          26,
          21,
          39,
          16,
          40,
          34,
          40,
          30,
          38,
          27,
          32,
          48,
          38,
          49,
          20,
          49,
          19,
          22,
          30,
          57,
          36,
          17,
          16,
          37,
          71,
          47,
          32,
          60,
          27,
          47,
          36,
          25,
          42,
          35,
          24,
          37,
          34,
          57,
          25,
          40,
          90,
          21,
          50,
          80,
          30,
          36,
          59,
          20,
          20,
          80,
          25,
          58,
          38,
          27,
          70,
          40,
          45,
          47,
          40,
          71,
          30,
          48,
          24,
          40,
          27,
          29,
          23,
          26,
          40,
          32,
          22,
          45,
          21,
          24,
          31,
          21,
          49,
          73,
          40,
          23,
          23,
          25,
          63,
          46,
          82,
          36,
          31,
          41,
          40,
          37,
          44,
          41,
          36,
          22,
          55,
          33,
          56,
          21,
          30,
          25,
          46,
          36,
          38,
          39,
          66,
          18,
          35,
          27,
          17,
          60,
          46,
          32,
          40,
          42,
          27,
          40,
          31,
          40,
          30,
          40,
          65,
          57,
          39,
          30,
          23,
          20,
          29,
          41,
          31,
          98,
          28,
          19,
          35,
          55,
          45,
          18,
          31,
          23,
          36,
          80,
          27,
          25,
          25,
          40,
          21,
          61,
          26,
          56,
          21,
          50,
          32,
          18,
          29,
          22,
          28,
          18,
          42,
          45,
          27,
          35,
          24,
          23,
          24,
          45,
          25,
          70,
          16,
          35,
          51,
          28,
          23,
          90,
          22,
          28,
          20,
          21,
          69,
          57,
          39,
          30,
          43,
          30,
          70,
          56,
          39,
          33,
          53,
          31,
          49,
          32,
          57,
          20,
          23,
          54,
          29,
          38,
          20,
          24,
          20,
          27,
          27,
          19,
          41,
          30,
          23,
          22,
          45,
          26,
          52,
          49,
          62,
          24,
          30,
          70,
          48,
          33,
          32,
          55,
          38,
          23,
          51,
          62,
          30,
          35,
          23,
          50,
          46,
          23,
          32,
          26,
          45,
          51,
          78,
          20,
          27,
          28,
          28,
          48,
          38,
          32,
          40,
          30,
          47,
          22,
          37,
          19,
          27,
          58,
          30,
          65,
          36,
          28,
          19,
          40,
          29,
          32,
          66,
          38,
          31,
          25,
          56,
          43,
          30,
          50,
          70,
          43,
          46,
          24,
          28,
          66,
          27,
          22,
          25,
          50,
          25,
          65,
          25,
          24,
          30,
          28,
          30,
          72,
          34,
          24,
          38,
          27,
          27,
          26,
          17,
          46,
          90,
          32,
          70,
          63,
          32,
          23,
          68,
          24,
          30,
          53,
          35,
          47,
          33,
          28,
          23,
          29,
          70,
          36,
          75,
          23,
          37,
          39,
          36,
          22,
          42,
          39,
          19,
          28,
          21,
          29,
          44,
          35,
          32,
          63,
          47,
          17,
          31,
          17,
          43,
          57,
          33,
          33,
          24,
          28,
          29,
          58,
          24,
          30,
          35,
          18,
          31,
          49,
          50,
          33,
          36,
          26,
          48,
          33,
          45,
          58,
          22,
          28,
          19,
          74,
          52,
          30,
          34,
          38,
          26,
          29,
          59,
          45,
          22,
          39,
          25,
          23,
          36,
          56,
          72,
          23,
          52,
          16,
          57,
          66,
          17,
          30,
          49,
          17,
          26,
          20,
          18,
          32,
          68,
          28,
          70,
          38,
          52,
          43,
          29,
          17,
          31,
          32,
          20,
          49,
          35,
          43,
          40,
          20,
          28,
          26,
          36,
          37,
          30,
          22,
          65,
          29,
          23,
          24,
          33,
          40,
          36,
          22,
          30,
          41,
          35,
          35,
          51,
          45,
          38,
          53,
          23,
          44,
          40,
          27,
          70,
          58,
          40,
          40,
          30,
          41,
          28,
          46,
          19,
          45,
          36,
          28,
          35,
          45,
          52,
          20,
          30,
          20,
          18,
          30,
          37,
          37,
          63,
          38,
          54,
          28,
          58,
          61,
          22,
          25,
          26,
          46,
          29,
          30,
          61,
          34,
          52,
          29,
          17,
          81,
          26,
          43,
          21,
          23,
          22,
          18,
          21,
          37,
          18,
          50,
          44,
          27,
          29,
          54,
          19,
          19,
          40,
          85,
          32,
          30,
          37,
          40,
          37,
          21,
          25,
          20,
          24,
          29,
          31,
          59,
          88,
          20,
          65,
          25,
          37,
          39,
          64,
          70,
          70,
          33,
          34,
          18,
          68,
          35,
          22,
          22,
          39,
          23,
          51,
          32,
          70,
          43,
          78,
          41,
          32,
          29,
          62,
          32,
          25,
          52,
          16,
          35,
          22,
          29,
          30,
          17,
          48,
          20,
          60,
          22,
          34,
          26,
          40,
          32,
          32,
          18,
          20,
          16,
          25,
          40,
          31,
          47,
          19,
          45,
          49,
          26,
          20,
          35,
          22,
          60,
          30,
          17,
          70,
          24,
          25,
          18,
          59,
          58,
          72,
          23,
          25,
          26,
          36,
          22,
          54,
          23,
          25,
          52,
          70,
          22,
          32,
          33,
          82,
          90,
          51,
          35,
          34,
          23,
          42,
          37,
          32,
          24,
          21,
          40,
          40,
          17,
          77,
          35,
          70,
          20,
          35,
          45,
          23,
          24,
          54,
          38,
          16,
          66,
          50,
          26,
          28,
          27,
          35,
          39,
          44,
          34,
          31,
          56,
          36,
          16,
          65,
          43,
          20,
          33,
          17,
          49,
          33,
          50,
          22,
          28,
          61,
          39,
          34,
          28,
          23,
          25,
          47,
          50,
          56,
          63,
          31,
          63,
          76,
          27,
          31,
          47,
          62,
          70,
          30,
          47,
          27,
          30,
          34,
          45,
          50,
          25,
          69,
          73,
          31,
          35,
          26,
          35,
          40,
          30,
          34,
          80,
          30,
          25,
          30,
          24,
          55,
          39,
          25,
          58,
          37,
          21,
          22,
          24,
          48,
          17,
          31,
          31,
          27,
          24,
          36,
          30,
          36,
          57,
          29,
          24,
          35,
          28,
          44,
          49,
          25,
          19,
          32,
          50,
          37,
          32,
          29,
          22,
          29,
          58,
          55,
          35,
          57,
          26,
          50,
          25,
          20,
          36,
          30,
          48,
          25,
          16,
          32,
          21,
          17,
          50,
          81,
          28,
          35,
          19,
          17,
          22,
          60,
          42,
          45,
          24,
          70,
          28,
          51,
          55,
          30,
          56,
          31,
          65,
          24,
          40,
          22,
          46,
          18,
          35,
          30,
          18,
          41,
          80,
          16,
          60,
          42,
          36,
          23,
          32,
          35,
          30,
          30,
          35,
          30,
          33,
          28,
          48,
          75,
          23,
          40,
          30,
          64,
          36,
          36,
          41,
          72,
          28,
          19,
          57,
          17,
          59,
          24,
          30,
          17,
          55,
          32,
          26,
          23,
          29,
          30,
          30,
          29,
          16,
          37,
          23,
          30,
          57,
          70,
          16,
          24,
          48,
          24,
          24,
          18,
          18,
          41,
          33,
          29,
          57,
          37,
          24,
          36,
          82,
          20,
          33,
          50,
          18,
          18,
          22,
          24,
          25,
          84,
          16,
          38,
          22,
          32,
          28,
          33,
          26,
          58,
          60,
          32,
          45,
          28,
          66,
          25,
          33,
          28,
          30,
          63,
          22,
          58,
          24,
          82,
          45,
          23,
          60,
          26,
          37,
          47,
          16,
          52,
          40,
          26,
          39,
          22,
          19,
          38,
          25,
          26,
          38,
          47,
          40,
          27,
          23,
          52,
          45,
          18,
          50,
          59,
          42,
          20,
          53,
          42,
          27,
          20,
          30,
          48,
          24,
          24,
          65,
          30,
          52,
          32,
          40,
          46,
          25,
          64,
          18,
          34,
          40,
          72,
          38,
          43,
          28,
          49,
          18,
          23,
          33,
          25,
          25,
          29,
          44,
          36,
          26,
          25,
          32,
          35,
          40,
          29,
          76,
          63,
          95,
          24,
          27,
          39,
          45,
          21,
          50,
          27,
          65,
          60,
          25,
          49,
          21,
          60,
          32,
          40,
          61,
          80,
          25,
          17,
          27,
          34,
          23,
          54,
          30,
          22,
          43,
          17,
          49,
          38,
          21,
          33,
          62,
          54,
          32,
          26,
          34,
          37,
          27,
          61,
          28,
          60,
          18,
          23,
          23,
          33,
          20,
          44,
          31,
          52,
          60,
          80,
          45,
          61,
          48,
          75,
          38,
          40,
          23,
          18,
          18,
          18,
          24,
          49,
          16,
          20,
          32,
          20,
          25,
          56,
          35,
          48,
          22,
          50,
          30,
          57,
          20,
          35,
          17,
          81,
          30,
          26,
          22,
          46,
          26,
          28,
          76,
          26,
          25,
          47,
          18,
          40,
          29,
          75,
          28,
          33,
          47,
          30,
          25,
          32,
          20,
          40,
          20,
          30,
          32,
          46,
          37,
          29,
          45,
          21,
          18,
          21,
          54,
          53,
          20,
          38,
          23,
          40,
          27,
          22,
          33,
          19,
          32,
          33,
          36,
          53,
          35,
          70,
          32,
          17,
          24,
          24,
          29,
          56,
          54,
          47,
          73,
          42,
          80,
          20,
          53,
          57,
          47,
          35,
          34,
          29,
          77,
          20,
          42,
          24,
          29,
          68,
          29,
          54,
          26,
          22,
          39,
          49,
          22,
          43,
          18,
          44,
          31,
          38,
          48,
          43,
          21,
          46,
          23,
          70,
          28,
          97,
          21,
          22,
          30,
          66,
          31,
          29,
          37,
          31,
          60,
          37,
          20,
          22,
          50,
          29,
          47,
          25,
          47,
          17,
          75,
          25,
          33,
          25,
          30,
          23,
          70,
          68,
          41,
          56,
          67,
          20,
          35,
          37,
          27,
          17,
          24,
          16,
          40,
          35,
          36,
          17,
          34,
          33,
          37,
          44,
          19,
          37,
          30,
          28,
          41,
          37,
          34,
          18,
          19,
          32,
          73,
          18,
          19,
          18,
          32,
          23,
          19,
          62,
          40,
          58,
          34,
          48,
          25,
          75,
          47,
          30,
          51,
          20,
          53,
          40,
          70,
          65,
          28,
          30,
          35,
          27,
          53,
          53,
          39,
          22,
          28,
          71,
          47,
          22,
          59,
          28,
          20,
          40,
          37,
          53,
          70,
          23,
          17,
          78,
          25,
          54,
          33,
          60,
          38,
          85,
          59,
          45,
          61,
          65,
          23,
          62,
          23,
          22,
          33,
          34,
          60,
          34,
          21,
          17,
          22,
          27,
          35,
          29,
          28,
          27,
          41,
          45,
          23,
          30,
          40,
          30,
          19,
          80,
          30,
          45,
          43,
          30,
          23,
          20,
          31,
          26,
          33,
          24,
          48,
          29,
          23,
          69,
          70,
          60,
          16,
          46,
          32,
          32,
          43,
          25,
          28,
          68,
          30,
          32,
          20,
          40,
          73,
          22,
          50,
          25,
          27,
          34,
          68,
          21,
          45,
          36,
          57,
          34,
          27,
          67,
          49,
          25,
          28,
          70,
          54,
          37,
          24,
          21,
          79,
          34,
          39,
          35,
          20,
          32,
          21,
          28,
          26,
          57,
          35,
          17,
          60,
          34,
          16,
          23,
          71,
          26,
          27,
          27,
          17,
          65,
          25,
          28,
          25,
          42,
          48,
          25,
          50,
          48,
          36,
          25,
          30,
          22,
          22,
          55,
          71,
          80,
          88,
          62,
          45,
          33,
          25,
          48,
          23,
          59,
          25,
          24,
          37,
          36,
          34,
          69,
          47,
          55,
          72,
          28,
          22,
          32,
          27,
          20,
          35,
          34,
          23,
          30,
          54,
          17,
          44,
          35,
          37,
          19,
          20,
          16,
          35,
          19,
          33,
          30,
          63,
          27,
          38,
          24,
          28,
          37,
          29,
          46,
          45,
          45,
          30,
          44,
          27,
          18,
          49,
          20,
          28,
          41,
          26,
          51,
          53,
          42,
          37,
          43,
          59,
          21,
          24,
          27,
          26,
          16,
          22,
          17,
          36,
          51,
          34,
          47,
          43,
          18,
          29,
          37,
          37,
          16,
          34,
          26,
          30,
          38,
          46,
          49,
          18,
          20,
          65,
          34,
          20,
          51,
          70,
          35,
          41,
          59,
          35,
          23,
          22,
          41,
          37,
          30,
          44,
          61,
          20,
          27,
          63,
          40,
          66,
          32,
          42,
          55,
          42,
          27,
          23,
          86,
          30,
          21,
          78,
          34,
          45,
          24,
          25,
          36,
          50,
          42,
          27,
          50,
          50,
          40,
          26,
          28,
          30,
          42,
          91,
          52,
          19,
          23,
          36,
          37,
          21,
          40,
          42,
          48,
          59,
          24,
          45,
          35,
          35,
          30,
          53,
          35,
          60,
          35,
          34,
          21,
          27,
          40,
          59,
          58,
          51,
          40,
          45,
          43,
          80,
          52,
          57,
          51,
          25,
          17,
          16,
          35,
          56,
          30,
          56,
          32,
          65,
          54,
          34,
          49,
          29,
          26,
          27,
          20,
          30,
          34,
          28,
          24,
          44,
          48,
          49,
          30,
          16,
          61,
          54,
          40,
          20,
          29,
          51,
          46,
          42,
          44,
          34,
          53,
          24,
          23,
          18,
          53,
          24,
          50,
          24,
          39,
          83,
          16,
          35,
          35,
          40,
          21,
          38,
          31,
          42,
          34,
          45,
          45,
          28,
          29,
          34,
          41,
          36,
          57,
          22,
          28
         ],
         "xaxis": "x",
         "yaxis": "y"
        },
        {
         "alignmentgroup": "True",
         "bingroup": "x",
         "hoverlabel": {
          "namelength": 0
         },
         "hovertemplate": "Gender=Male<br>age=%{x}<br>count=%{y}",
         "legendgroup": "Gender=Male",
         "marker": {
          "color": "#EF553B",
          "opacity": 0.6
         },
         "name": "Gender=Male",
         "nbinsx": 20,
         "offsetgroup": "Gender=Male",
         "orientation": "v",
         "showlegend": true,
         "type": "histogram",
         "x": [
          40,
          50,
          34,
          35,
          28,
          38,
          44,
          19,
          46,
          47,
          86,
          18,
          19,
          30,
          35,
          35,
          25,
          23,
          21,
          25,
          72,
          32,
          24,
          34,
          26,
          31,
          23,
          45,
          27,
          25,
          26,
          30,
          18,
          28,
          48,
          33,
          57,
          42,
          30,
          30,
          48,
          40,
          47,
          39,
          51,
          48,
          69,
          19,
          65,
          34,
          79,
          19,
          17,
          33,
          22,
          20,
          57,
          36,
          70,
          51,
          25,
          32,
          43,
          22,
          30,
          43,
          21,
          34,
          43,
          27,
          42,
          23,
          36,
          26,
          26,
          40,
          45,
          17,
          56,
          30,
          82,
          50,
          45,
          34,
          39,
          24,
          19,
          47,
          28,
          25,
          57,
          66,
          23,
          55,
          47,
          22,
          37,
          18,
          25,
          34,
          34,
          51,
          26,
          28,
          30,
          45,
          65,
          27,
          47,
          19,
          26,
          55,
          36,
          42,
          33,
          51,
          18,
          94,
          24,
          25,
          22,
          30,
          20,
          25,
          35,
          20,
          17,
          24,
          48,
          48,
          30,
          40,
          29,
          32,
          72,
          32,
          27,
          23,
          30,
          53,
          23,
          45,
          32,
          35,
          43,
          49,
          18,
          60,
          43,
          16,
          30,
          27,
          21,
          39,
          57,
          35,
          36,
          30,
          33,
          43,
          20,
          26,
          90,
          61,
          28,
          35,
          52,
          50,
          46,
          31,
          30,
          62,
          17,
          22,
          29,
          52,
          32,
          31,
          87,
          45,
          58,
          50,
          72,
          20,
          48,
          21,
          43,
          28,
          26,
          45,
          41,
          23,
          19,
          50,
          36,
          29,
          26,
          43,
          36,
          47,
          50,
          19,
          31,
          34,
          17,
          42,
          50,
          16,
          35,
          19,
          22,
          76,
          26,
          23,
          72,
          25,
          26,
          16,
          34,
          23,
          39,
          32,
          57,
          30,
          53,
          68,
          31,
          22,
          35,
          43,
          21,
          25,
          34,
          54,
          30,
          25,
          17,
          18,
          39,
          32,
          40,
          20,
          79,
          25,
          42,
          25,
          53,
          70,
          49,
          40,
          45,
          40,
          47,
          58,
          20,
          27,
          80,
          72,
          57,
          77,
          57,
          25,
          29,
          75,
          32,
          70,
          37,
          27,
          54,
          60,
          63,
          49,
          37,
          30,
          38,
          30,
          35,
          24,
          17,
          49,
          33,
          70,
          23,
          39,
          32,
          35,
          32,
          53,
          33,
          16,
          75,
          33,
          25,
          61,
          77,
          16,
          32,
          38,
          55,
          33,
          38,
          47,
          40,
          41,
          52,
          50,
          70,
          27,
          20,
          68,
          53,
          40,
          30,
          58,
          24,
          25,
          67,
          25,
          44,
          47,
          39,
          48,
          35,
          55,
          31,
          35,
          43,
          36,
          28,
          29,
          22,
          20,
          26,
          36,
          18,
          45,
          19,
          50,
          35,
          16,
          20,
          17,
          42,
          75,
          50,
          70,
          28,
          51,
          45,
          43,
          48,
          48,
          43,
          28,
          21,
          18,
          39,
          45,
          34,
          21,
          16,
          27,
          25,
          25,
          32,
          47,
          27,
          72,
          34,
          65,
          40,
          20,
          30,
          44,
          40,
          46,
          49,
          70,
          27,
          22,
          26,
          32,
          40,
          47,
          66,
          54,
          50,
          60,
          68,
          78,
          28,
          54,
          25,
          58,
          63,
          45,
          76,
          19,
          43,
          23,
          22,
          51,
          58,
          45,
          50,
          20,
          78,
          38,
          29,
          39,
          18,
          43,
          27,
          50,
          16,
          39,
          35,
          21,
          24,
          63,
          26,
          40,
          19,
          34,
          37,
          66,
          59,
          20,
          35,
          19,
          28,
          45,
          26,
          30,
          24,
          29,
          60,
          36,
          32,
          25,
          33,
          42,
          30,
          58,
          51,
          29,
          50,
          24,
          30,
          59,
          49,
          69,
          50,
          28,
          30,
          40,
          29,
          36,
          35,
          16,
          33,
          34,
          29,
          32,
          27,
          17,
          39,
          30,
          26,
          28,
          23,
          37,
          21,
          16,
          24,
          23,
          26,
          31,
          52,
          35,
          34,
          24,
          17,
          50,
          30,
          45,
          50,
          17,
          36,
          46,
          36,
          75,
          24,
          63,
          78,
          37,
          24,
          63,
          38,
          50,
          37,
          33,
          42,
          17,
          20,
          45,
          45,
          27,
          16,
          45,
          40,
          42,
          40,
          38,
          56,
          44,
          57,
          17,
          34,
          31,
          31,
          24,
          52,
          38,
          17,
          28,
          72,
          51,
          19,
          45,
          27,
          74,
          25,
          56,
          25,
          16,
          50,
          31,
          54,
          29,
          23,
          46,
          26,
          38,
          34,
          50,
          17,
          82,
          51,
          17,
          27,
          38,
          23,
          70,
          29,
          55,
          30,
          31,
          63,
          25,
          33,
          26,
          28,
          20,
          21,
          49,
          48,
          60,
          17,
          38,
          18,
          19,
          49,
          30,
          24,
          36,
          45,
          28,
          28,
          26,
          56,
          34,
          63,
          37,
          67,
          26,
          52,
          53,
          41,
          56,
          65,
          18,
          24,
          45,
          36,
          22,
          33,
          36,
          38,
          28,
          22,
          17,
          29,
          83,
          30,
          16,
          46,
          48,
          45,
          27,
          28,
          42,
          45,
          70,
          51,
          52,
          25,
          19,
          58,
          60,
          49,
          50,
          58,
          40,
          36,
          63,
          29,
          25,
          65,
          64,
          44,
          36,
          63,
          40,
          43,
          40,
          55,
          23,
          63,
          58,
          20,
          45,
          20,
          52,
          72,
          45,
          43,
          23,
          48,
          27,
          58,
          17,
          42,
          23,
          51,
          30,
          29,
          64,
          21,
          41,
          83,
          55,
          48,
          69,
          25,
          22,
          52,
          47,
          26,
          36,
          35,
          35,
          39,
          40,
          76,
          60,
          23,
          22,
          26,
          34,
          32,
          31,
          24,
          16,
          26,
          70,
          25,
          48,
          21,
          16,
          17,
          36,
          52,
          25,
          26,
          35,
          50,
          52,
          19,
          23,
          39,
          45,
          27,
          34,
          41,
          38,
          32,
          60,
          38,
          28,
          28,
          23,
          26,
          39,
          19,
          37,
          17,
          42,
          42,
          86,
          35,
          26,
          28,
          25,
          40,
          70,
          41,
          62,
          33,
          52,
          26,
          38,
          25,
          39,
          40,
          47,
          25,
          37,
          19,
          59,
          18,
          24,
          45,
          53,
          26,
          21,
          34,
          36,
          41,
          34,
          40,
          32,
          44,
          74,
          70,
          40,
          39,
          58,
          24,
          68,
          50,
          44,
          76,
          24,
          78,
          45,
          47,
          18,
          49,
          21,
          90,
          43,
          27,
          16,
          32,
          65,
          43,
          31,
          78,
          17,
          34,
          30,
          46,
          28,
          55,
          58,
          57,
          29,
          45,
          67,
          77,
          18,
          52,
          34,
          22,
          21,
          75,
          48,
          43,
          37,
          25,
          32,
          17,
          27,
          38,
          39,
          50,
          34,
          80,
          35,
          50,
          37,
          35,
          50,
          50,
          55,
          26,
          60,
          71,
          43,
          50,
          50,
          25,
          38,
          22,
          38,
          50,
          46,
          32,
          52,
          36,
          80,
          40,
          58,
          30,
          35,
          32,
          32,
          25,
          28,
          26,
          25,
          28,
          70,
          40,
          31,
          55,
          29,
          78,
          26,
          35,
          60,
          21,
          42,
          25,
          24,
          21,
          21,
          74,
          17,
          35,
          70,
          24,
          38,
          19,
          47,
          32,
          52,
          31,
          70,
          25,
          45,
          58,
          30,
          35,
          18,
          35,
          30,
          25,
          31,
          49,
          26,
          43,
          41,
          46,
          34,
          36,
          20,
          39,
          35,
          24,
          26,
          60,
          22,
          29,
          30,
          33,
          70,
          35,
          63,
          56,
          18,
          55,
          39,
          62,
          59,
          29,
          24,
          20,
          47,
          38,
          32,
          67,
          35,
          57,
          24,
          60,
          54,
          40,
          66,
          64,
          17,
          31,
          56,
          19,
          84,
          25,
          46,
          38,
          36,
          27,
          48,
          35,
          50,
          59,
          44,
          53,
          26,
          23,
          49,
          60,
          37,
          20,
          51,
          55,
          32,
          28,
          27,
          25,
          21,
          64,
          28,
          47,
          58,
          25,
          21,
          25,
          59,
          35,
          21,
          33,
          60,
          94,
          38,
          28,
          29,
          56,
          46,
          34,
          22,
          32,
          48,
          40,
          54,
          20,
          54,
          46,
          33,
          29,
          39,
          35,
          35,
          26,
          20,
          40,
          35,
          24,
          39,
          21,
          40,
          38,
          63,
          18,
          31,
          28,
          76,
          29,
          53,
          80,
          22,
          50,
          37,
          30,
          29,
          74,
          44,
          81,
          24,
          21,
          38,
          76,
          29,
          39,
          30,
          34,
          41,
          75,
          17,
          36,
          22,
          20,
          18,
          42,
          19,
          38,
          30,
          100,
          40,
          25,
          31,
          38,
          36,
          55,
          74,
          27,
          47,
          45,
          62,
          36,
          64,
          34,
          42,
          26,
          29,
          38,
          36,
          34,
          68,
          29,
          18,
          37,
          27,
          53,
          63,
          60,
          30,
          37,
          45,
          58,
          48,
          29,
          29,
          23,
          60,
          65,
          18,
          21,
          16,
          44,
          36,
          19,
          34,
          29,
          23,
          17,
          30,
          39,
          56,
          17,
          45,
          45,
          30,
          25,
          58,
          37,
          21,
          33,
          38,
          41,
          16,
          23,
          78,
          29,
          33,
          34,
          64,
          63,
          39,
          22,
          57,
          71,
          32,
          21,
          28,
          52,
          85,
          57,
          29,
          25,
          75,
          31,
          22,
          35,
          74,
          46,
          53,
          41,
          43,
          56,
          16,
          32,
          48,
          45,
          21,
          45,
          39,
          40,
          16,
          36,
          65,
          35,
          24,
          25,
          55,
          48,
          36,
          77,
          21,
          17,
          53,
          23,
          20,
          16,
          45,
          40,
          17,
          33,
          65,
          43,
          45,
          41,
          39,
          35,
          26,
          34,
          33,
          17,
          40,
          36,
          22,
          64,
          25,
          29,
          24,
          17,
          48,
          73,
          17,
          20,
          16,
          45,
          70,
          44,
          31,
          23,
          29,
          30,
          68,
          40,
          35,
          37,
          55,
          51,
          30,
          34,
          71,
          63,
          21,
          24,
          61,
          42,
          43,
          35,
          36,
          26,
          26,
          57,
          58,
          24,
          29,
          22,
          62,
          46,
          27,
          27,
          85,
          22,
          30,
          53,
          22,
          35,
          34,
          21,
          37,
          63,
          47,
          39,
          26,
          32,
          27,
          30,
          30,
          18,
          46,
          50,
          19,
          25,
          21,
          32,
          30,
          24,
          16,
          52,
          19,
          77,
          50,
          27,
          35,
          28,
          68,
          68,
          41,
          26,
          47,
          21,
          39,
          23,
          42,
          60,
          25,
          18,
          50,
          18,
          33,
          54,
          51,
          64,
          24,
          33,
          62,
          18,
          37,
          41,
          38,
          37,
          59,
          30,
          45,
          53,
          58,
          49,
          22,
          38,
          66,
          24,
          73,
          40,
          28,
          16,
          38,
          38,
          32,
          40,
          48,
          49,
          18,
          51,
          63,
          67,
          62,
          28,
          28,
          35,
          28,
          29,
          42,
          28,
          65,
          17,
          53,
          19,
          32,
          49,
          34,
          21,
          17,
          27,
          79,
          75,
          28,
          70,
          35,
          20,
          34,
          25,
          29,
          30,
          42,
          18,
          45,
          53,
          40,
          75,
          23,
          78,
          23,
          37,
          31,
          82,
          25,
          40,
          22,
          45,
          38,
          23,
          40,
          25,
          22,
          29,
          35,
          74,
          60,
          18,
          34,
          55,
          18,
          30,
          48,
          77,
          27,
          39,
          37,
          20,
          21,
          43,
          35,
          18,
          82,
          43,
          30,
          45,
          35,
          40,
          23,
          31,
          40,
          16,
          34,
          32,
          88,
          45,
          20,
          23,
          53,
          32,
          32,
          25,
          62,
          65,
          30,
          26,
          27,
          51,
          45,
          47,
          22,
          33,
          53,
          47,
          28,
          48,
          29,
          66,
          37,
          35,
          23,
          23,
          47,
          70,
          31,
          58,
          75,
          30,
          41,
          33,
          17,
          50,
          33,
          32,
          28,
          22,
          31,
          22,
          40,
          50,
          22,
          22,
          19,
          35,
          30,
          56,
          45,
          45,
          42,
          59,
          54,
          35,
          32,
          100,
          49,
          31,
          18,
          27,
          48,
          21,
          33,
          29,
          33,
          73,
          33,
          55,
          43,
          52,
          59,
          30,
          32,
          27,
          35,
          40,
          31,
          42,
          30,
          65,
          33,
          39,
          30,
          21,
          57,
          90,
          40,
          60,
          62,
          36,
          60,
          25,
          85,
          32,
          32,
          42,
          30,
          36,
          41,
          38,
          41,
          50,
          25,
          30,
          50,
          40,
          83,
          40,
          78,
          22,
          51,
          27,
          31,
          48,
          38,
          38,
          20,
          24,
          21,
          40,
          56,
          40,
          70,
          49,
          18,
          25,
          40,
          43,
          44,
          27,
          63,
          41,
          43,
          25,
          70,
          40,
          35,
          30,
          57,
          52,
          41,
          86,
          27,
          60,
          40,
          49,
          28,
          32,
          21,
          30,
          60,
          35,
          25,
          40,
          35,
          43,
          64,
          65,
          32,
          28,
          25,
          69,
          16,
          54,
          22,
          35,
          23,
          31,
          45,
          18,
          38,
          16,
          41,
          28,
          60,
          40,
          32,
          42,
          34,
          56,
          30,
          88,
          43,
          45,
          26,
          16,
          57,
          25,
          52,
          41,
          49,
          20,
          50,
          32,
          34,
          42,
          47,
          70,
          28,
          65,
          22,
          52,
          39,
          22,
          24,
          27,
          50,
          27,
          27,
          28,
          37,
          19,
          31,
          80,
          17,
          22,
          80,
          70,
          51,
          28,
          23,
          46,
          93,
          30,
          30,
          28,
          45,
          22,
          75,
          33,
          55,
          20,
          50,
          74,
          22,
          60,
          23,
          33,
          42,
          27,
          25,
          20,
          49,
          16,
          53,
          31,
          19,
          64,
          45,
          38,
          28,
          57,
          16,
          50,
          25,
          42,
          35,
          28,
          28,
          36,
          25,
          28,
          47,
          79,
          36,
          29,
          56,
          30,
          30,
          43,
          27,
          47,
          27,
          42,
          44,
          74,
          55,
          54,
          28,
          30,
          18,
          48,
          20,
          16,
          38,
          30,
          53,
          29,
          67,
          65,
          31,
          19,
          42,
          52,
          25,
          26,
          36,
          58,
          36,
          38,
          20,
          26,
          61,
          24,
          18,
          30,
          26,
          20,
          55,
          65,
          44,
          29,
          22,
          78,
          27,
          37,
          30,
          37,
          36,
          19,
          45,
          30,
          37,
          37,
          60,
          65,
          17,
          32,
          57,
          43,
          53,
          25,
          22,
          17,
          68,
          21,
          24,
          25,
          63,
          17,
          75,
          51,
          42,
          72,
          22,
          43,
          46,
          45,
          31,
          51,
          55,
          91,
          26,
          80,
          31,
          22,
          45,
          56,
          16,
          54,
          30,
          33,
          45,
          70,
          44,
          24,
          27,
          22,
          47,
          30,
          34,
          98,
          27,
          31,
          25,
          29,
          35,
          32,
          23,
          79,
          35,
          35,
          21,
          31,
          24,
          30,
          78,
          29,
          52,
          58,
          61,
          42,
          49,
          51,
          20,
          55,
          17,
          32,
          34,
          73,
          29,
          38,
          67,
          43,
          20,
          29,
          19,
          30,
          23,
          35,
          22,
          47,
          20,
          43,
          25,
          18,
          55,
          56,
          45,
          60,
          17,
          70,
          24,
          29,
          28,
          38,
          80,
          26,
          26,
          32,
          45,
          18,
          30,
          52,
          31,
          35,
          31,
          21,
          58,
          34,
          35,
          26,
          68,
          42,
          43,
          32,
          40,
          78,
          51,
          49,
          68,
          44,
          65,
          40,
          49,
          72,
          31,
          52,
          71,
          70,
          42,
          29,
          67,
          29,
          32,
          41,
          29,
          30,
          25,
          45,
          18,
          39,
          18,
          17,
          67,
          40,
          73,
          55,
          19,
          22,
          22,
          19,
          54,
          23,
          38,
          50,
          20,
          58,
          39,
          33,
          25,
          57,
          19,
          49,
          24,
          25,
          16,
          29,
          38,
          55,
          19,
          39,
          22,
          25,
          31,
          26,
          26,
          34,
          56,
          22,
          22,
          45,
          30,
          60,
          43,
          17,
          28,
          29,
          45,
          42,
          28,
          68,
          30,
          16,
          18,
          43,
          28,
          16,
          32,
          43,
          48,
          22,
          40,
          54,
          62,
          18,
          36,
          20,
          51,
          54,
          64,
          24,
          35,
          36,
          24,
          24,
          66,
          23,
          81,
          32,
          32,
          29,
          60,
          42,
          70,
          45,
          26,
          32,
          56,
          35,
          42,
          47,
          19,
          22,
          25,
          21,
          49,
          35,
          48,
          70,
          26,
          44,
          29,
          47,
          35,
          67,
          37,
          37,
          56,
          25,
          42,
          22,
          34,
          27,
          22,
          30,
          60,
          34,
          47,
          69,
          65,
          42,
          16,
          19,
          42,
          38,
          33,
          16,
          30,
          77,
          50,
          22,
          22,
          57,
          34,
          25,
          27,
          66,
          48,
          85,
          20,
          60,
          52,
          53,
          25,
          35,
          82,
          23,
          64,
          35,
          70,
          22,
          50,
          65,
          28,
          19,
          17,
          30,
          22,
          58,
          31,
          67,
          36,
          24,
          67,
          30,
          36,
          30,
          20,
          32,
          88,
          35,
          41,
          70,
          32,
          25,
          19,
          24,
          60,
          35,
          43,
          69,
          40,
          56,
          34,
          75,
          18,
          29,
          54,
          20,
          30,
          61,
          25,
          59,
          30,
          44,
          28,
          23,
          30,
          63,
          75,
          29,
          22,
          74,
          29,
          58,
          39,
          30,
          25,
          40,
          27,
          45,
          20,
          54,
          57,
          20,
          42,
          65,
          19,
          26,
          32,
          24,
          30,
          38,
          68,
          32,
          37,
          35,
          22,
          27,
          32,
          58,
          30,
          16,
          22,
          49,
          49,
          17,
          23,
          18,
          18,
          31,
          25,
          32,
          78,
          17,
          67,
          37,
          35,
          36,
          28,
          32,
          43,
          23,
          44,
          27,
          80,
          58,
          40,
          70,
          32,
          53,
          35,
          32,
          60,
          38,
          38,
          58,
          16,
          32,
          66,
          41,
          31,
          32,
          20,
          64,
          72,
          21,
          50,
          54,
          45,
          24,
          63,
          59,
          41,
          32,
          82,
          18,
          65,
          45,
          35,
          40,
          39,
          30,
          62,
          28,
          20,
          33,
          28,
          40,
          25,
          27,
          34,
          40,
          52,
          36,
          49,
          44,
          27,
          45,
          24,
          42,
          22,
          28,
          40,
          68,
          38,
          31,
          31,
          60,
          18,
          45,
          53,
          17,
          39,
          57,
          63,
          100,
          54,
          43,
          26,
          81,
          69,
          56,
          42,
          35,
          23,
          60,
          24,
          47,
          31,
          47,
          31,
          27,
          21,
          32,
          30,
          22,
          70,
          16,
          32,
          68,
          58,
          44,
          35,
          49,
          70,
          30,
          76,
          30,
          23,
          28,
          20,
          32,
          53,
          45,
          39,
          45,
          34,
          67,
          34,
          27,
          47,
          40,
          70,
          22,
          34,
          50,
          30,
          53,
          70,
          18,
          47,
          57,
          55,
          59,
          25,
          32,
          30,
          22,
          41,
          20,
          17,
          18,
          53,
          28,
          39,
          33,
          30,
          25,
          72,
          47,
          23,
          22,
          59,
          37,
          55,
          18,
          32,
          38,
          49,
          53,
          25,
          38,
          41,
          17,
          18,
          41,
          22,
          32,
          28,
          24,
          65,
          22,
          65,
          25,
          18,
          57,
          58,
          37,
          27,
          47,
          26,
          19,
          62,
          56,
          29,
          77,
          21,
          21,
          33,
          37,
          75,
          28,
          60,
          33,
          37,
          29,
          42,
          45,
          25,
          23,
          45,
          44,
          78,
          60,
          25,
          42,
          28,
          24,
          40,
          19,
          63,
          40,
          38,
          40,
          23,
          75,
          24,
          70,
          28,
          26,
          53,
          49,
          45,
          34,
          42,
          22,
          28,
          32,
          29,
          50,
          25,
          16,
          22,
          80,
          21,
          34,
          58,
          21,
          79,
          27,
          18,
          35,
          31,
          40,
          61,
          42,
          20,
          35,
          82,
          45,
          26,
          23,
          26,
          27,
          36,
          69,
          55,
          21,
          83,
          40,
          52,
          20,
          39,
          16,
          53,
          90,
          23,
          32,
          30,
          66,
          39,
          18,
          37,
          23,
          22,
          45,
          34,
          24,
          26,
          32,
          24,
          27,
          33,
          26,
          51,
          44,
          40,
          29,
          53,
          40,
          27,
          47,
          34,
          37,
          55,
          25,
          46,
          19,
          33,
          37,
          20,
          50,
          33,
          43,
          59,
          30,
          48,
          35,
          48,
          57,
          30,
          16,
          23,
          28,
          35,
          21,
          72,
          54,
          49,
          45,
          60,
          32,
          43,
          56,
          20,
          63,
          22,
          30,
          22,
          21,
          66,
          26,
          75,
          30,
          53,
          26,
          33,
          40,
          52,
          31,
          45,
          45,
          17,
          49,
          36,
          23,
          27,
          26,
          52,
          32,
          32,
          36,
          38,
          65,
          65,
          75,
          80,
          31,
          18,
          30,
          29,
          47,
          30,
          37,
          22,
          46,
          31,
          22,
          32,
          55,
          56,
          45,
          44,
          34,
          37,
          34,
          54,
          67,
          33,
          25,
          36,
          24,
          41,
          18,
          21,
          28,
          52,
          44,
          33,
          52,
          75,
          33,
          50,
          60,
          23,
          53,
          52,
          55,
          24,
          27,
          46,
          69,
          27,
          50,
          18,
          20,
          63,
          22,
          18,
          34,
          16,
          40,
          48,
          33,
          55,
          53,
          75,
          26,
          50,
          64,
          43,
          45,
          71,
          24,
          23,
          76,
          28,
          34,
          49,
          61,
          42,
          18,
          25,
          42,
          33,
          17,
          65,
          27,
          62,
          50,
          35,
          41,
          27,
          26,
          18,
          60,
          29,
          57,
          39,
          41,
          80,
          35,
          36,
          45,
          20,
          55,
          17,
          57,
          29,
          22,
          40,
          48,
          17,
          68,
          17,
          43,
          22,
          46,
          26,
          28,
          70,
          85,
          72,
          68,
          17,
          17,
          22,
          54,
          41,
          52,
          42,
          59,
          50,
          20,
          41,
          21,
          48,
          60,
          43,
          32,
          25,
          19,
          28,
          25,
          16,
          51,
          40,
          28,
          85,
          53,
          40,
          70,
          66,
          67,
          42,
          56,
          60,
          87,
          32,
          30,
          38,
          19,
          60,
          61,
          20,
          51,
          40,
          27,
          41,
          55,
          56,
          21,
          51,
          37,
          30,
          35,
          35,
          35,
          22,
          26,
          22,
          29,
          43,
          56,
          40,
          37,
          64,
          42,
          45,
          40,
          48,
          22,
          32,
          32,
          28,
          55,
          72,
          45,
          51,
          36,
          50,
          18,
          22,
          63,
          36,
          25,
          35,
          37,
          67,
          74,
          26,
          49,
          69,
          32,
          69,
          57,
          40,
          55,
          43,
          35,
          69,
          64,
          53,
          50,
          35,
          24,
          43,
          19,
          19,
          33,
          76,
          32,
          29,
          38,
          84,
          23,
          47,
          23,
          42,
          43,
          23,
          22,
          20,
          40,
          48,
          80,
          27,
          16,
          34,
          35,
          56,
          22,
          52,
          35,
          41,
          49,
          21,
          60,
          24,
          50,
          27,
          28,
          19,
          35,
          65,
          19,
          49,
          47,
          23,
          25,
          22,
          68,
          70,
          34,
          35,
          43,
          33,
          45,
          50,
          26,
          35,
          24,
          69,
          28,
          31,
          41,
          23,
          23,
          30,
          19,
          38,
          45,
          20,
          18,
          16,
          40,
          54,
          30,
          35,
          32,
          69,
          43,
          22,
          44,
          34,
          30,
          73,
          82,
          25,
          46,
          33,
          16,
          43,
          46,
          40,
          19,
          44,
          29,
          70,
          28,
          45,
          61,
          50,
          59,
          30,
          26,
          22,
          35,
          23,
          24,
          36,
          22,
          29,
          60,
          70,
          32,
          27,
          28,
          61,
          47,
          64,
          20,
          21,
          78,
          46,
          40,
          47,
          60,
          25,
          32,
          65,
          64,
          55,
          35,
          50,
          19,
          23,
          29,
          60,
          54,
          48,
          53,
          20,
          25,
          17,
          33,
          43,
          57,
          75,
          33,
          28,
          28,
          40,
          19,
          34,
          23,
          42,
          47,
          35,
          25,
          75,
          30,
          65,
          55,
          28,
          76,
          26,
          25,
          43,
          16,
          28,
          23,
          37,
          49,
          29,
          61,
          35,
          22,
          25,
          52,
          24,
          16,
          32,
          36,
          21,
          20,
          56,
          38,
          41,
          35,
          66,
          40,
          49,
          45,
          47,
          49,
          28,
          38,
          25,
          36,
          38,
          25,
          37,
          59,
          44,
          55,
          32,
          35,
          47,
          61,
          59,
          62,
          35,
          43,
          32,
          45,
          79,
          18,
          20,
          22,
          80,
          48,
          23,
          23,
          45,
          18,
          40,
          31,
          34,
          20,
          38,
          52,
          33,
          37,
          18,
          36,
          58,
          25,
          36,
          65,
          21,
          25,
          24,
          68,
          30,
          49,
          75,
          86,
          63,
          35,
          43,
          18,
          32,
          27,
          20,
          28,
          50,
          79,
          23,
          38,
          40,
          20,
          19,
          38,
          60,
          35,
          37,
          28,
          80,
          60,
          50,
          75,
          37,
          28,
          33,
          49,
          32,
          27,
          39,
          28,
          50,
          29,
          35,
          24,
          24,
          18,
          34,
          28,
          50,
          50,
          45,
          28,
          43,
          50,
          49,
          28,
          38,
          36,
          37,
          28,
          29,
          25,
          28,
          76,
          29,
          30,
          19,
          56,
          57,
          52,
          45,
          46,
          42,
          34,
          30,
          20,
          21,
          27,
          34,
          21,
          63,
          17,
          40,
          24,
          35,
          63,
          27,
          26,
          27,
          63,
          39,
          19,
          34,
          17,
          46,
          60,
          16,
          49,
          65,
          26,
          47,
          24,
          27,
          33,
          36,
          36,
          42,
          55,
          22,
          26,
          54,
          22,
          26,
          31,
          44,
          23,
          29,
          30,
          52,
          30,
          89,
          27,
          22,
          25,
          30,
          24,
          26,
          29,
          25,
          22,
          60,
          39,
          27,
          43,
          37,
          24,
          22,
          37,
          41,
          45,
          46,
          21,
          30,
          95,
          18,
          60,
          40,
          32,
          37,
          34,
          27,
          37,
          42,
          39,
          29,
          21,
          45,
          73,
          23,
          42,
          30,
          30,
          30,
          44,
          44,
          17,
          32,
          37,
          16,
          36,
          30,
          46,
          38,
          46,
          37,
          29,
          53,
          23,
          37,
          48,
          16,
          34,
          17,
          24,
          36,
          42,
          18,
          25,
          23,
          63,
          45,
          20,
          18,
          31,
          59,
          16,
          49,
          29,
          45,
          32,
          22,
          35,
          23,
          21,
          60,
          29,
          26,
          17,
          38,
          26,
          33,
          47,
          24,
          25,
          65,
          32,
          78
         ],
         "xaxis": "x",
         "yaxis": "y"
        }
       ],
       "layout": {
        "barmode": "relative",
        "height": 600,
        "legend": {
         "tracegroupgap": 0
        },
        "margin": {
         "t": 60
        },
        "template": {
         "data": {
          "bar": [
           {
            "error_x": {
             "color": "#2a3f5f"
            },
            "error_y": {
             "color": "#2a3f5f"
            },
            "marker": {
             "line": {
              "color": "#E5ECF6",
              "width": 0.5
             }
            },
            "type": "bar"
           }
          ],
          "barpolar": [
           {
            "marker": {
             "line": {
              "color": "#E5ECF6",
              "width": 0.5
             }
            },
            "type": "barpolar"
           }
          ],
          "carpet": [
           {
            "aaxis": {
             "endlinecolor": "#2a3f5f",
             "gridcolor": "white",
             "linecolor": "white",
             "minorgridcolor": "white",
             "startlinecolor": "#2a3f5f"
            },
            "baxis": {
             "endlinecolor": "#2a3f5f",
             "gridcolor": "white",
             "linecolor": "white",
             "minorgridcolor": "white",
             "startlinecolor": "#2a3f5f"
            },
            "type": "carpet"
           }
          ],
          "choropleth": [
           {
            "colorbar": {
             "outlinewidth": 0,
             "ticks": ""
            },
            "type": "choropleth"
           }
          ],
          "contour": [
           {
            "colorbar": {
             "outlinewidth": 0,
             "ticks": ""
            },
            "colorscale": [
             [
              0,
              "#0d0887"
             ],
             [
              0.1111111111111111,
              "#46039f"
             ],
             [
              0.2222222222222222,
              "#7201a8"
             ],
             [
              0.3333333333333333,
              "#9c179e"
             ],
             [
              0.4444444444444444,
              "#bd3786"
             ],
             [
              0.5555555555555556,
              "#d8576b"
             ],
             [
              0.6666666666666666,
              "#ed7953"
             ],
             [
              0.7777777777777778,
              "#fb9f3a"
             ],
             [
              0.8888888888888888,
              "#fdca26"
             ],
             [
              1,
              "#f0f921"
             ]
            ],
            "type": "contour"
           }
          ],
          "contourcarpet": [
           {
            "colorbar": {
             "outlinewidth": 0,
             "ticks": ""
            },
            "type": "contourcarpet"
           }
          ],
          "heatmap": [
           {
            "colorbar": {
             "outlinewidth": 0,
             "ticks": ""
            },
            "colorscale": [
             [
              0,
              "#0d0887"
             ],
             [
              0.1111111111111111,
              "#46039f"
             ],
             [
              0.2222222222222222,
              "#7201a8"
             ],
             [
              0.3333333333333333,
              "#9c179e"
             ],
             [
              0.4444444444444444,
              "#bd3786"
             ],
             [
              0.5555555555555556,
              "#d8576b"
             ],
             [
              0.6666666666666666,
              "#ed7953"
             ],
             [
              0.7777777777777778,
              "#fb9f3a"
             ],
             [
              0.8888888888888888,
              "#fdca26"
             ],
             [
              1,
              "#f0f921"
             ]
            ],
            "type": "heatmap"
           }
          ],
          "heatmapgl": [
           {
            "colorbar": {
             "outlinewidth": 0,
             "ticks": ""
            },
            "colorscale": [
             [
              0,
              "#0d0887"
             ],
             [
              0.1111111111111111,
              "#46039f"
             ],
             [
              0.2222222222222222,
              "#7201a8"
             ],
             [
              0.3333333333333333,
              "#9c179e"
             ],
             [
              0.4444444444444444,
              "#bd3786"
             ],
             [
              0.5555555555555556,
              "#d8576b"
             ],
             [
              0.6666666666666666,
              "#ed7953"
             ],
             [
              0.7777777777777778,
              "#fb9f3a"
             ],
             [
              0.8888888888888888,
              "#fdca26"
             ],
             [
              1,
              "#f0f921"
             ]
            ],
            "type": "heatmapgl"
           }
          ],
          "histogram": [
           {
            "marker": {
             "colorbar": {
              "outlinewidth": 0,
              "ticks": ""
             }
            },
            "type": "histogram"
           }
          ],
          "histogram2d": [
           {
            "colorbar": {
             "outlinewidth": 0,
             "ticks": ""
            },
            "colorscale": [
             [
              0,
              "#0d0887"
             ],
             [
              0.1111111111111111,
              "#46039f"
             ],
             [
              0.2222222222222222,
              "#7201a8"
             ],
             [
              0.3333333333333333,
              "#9c179e"
             ],
             [
              0.4444444444444444,
              "#bd3786"
             ],
             [
              0.5555555555555556,
              "#d8576b"
             ],
             [
              0.6666666666666666,
              "#ed7953"
             ],
             [
              0.7777777777777778,
              "#fb9f3a"
             ],
             [
              0.8888888888888888,
              "#fdca26"
             ],
             [
              1,
              "#f0f921"
             ]
            ],
            "type": "histogram2d"
           }
          ],
          "histogram2dcontour": [
           {
            "colorbar": {
             "outlinewidth": 0,
             "ticks": ""
            },
            "colorscale": [
             [
              0,
              "#0d0887"
             ],
             [
              0.1111111111111111,
              "#46039f"
             ],
             [
              0.2222222222222222,
              "#7201a8"
             ],
             [
              0.3333333333333333,
              "#9c179e"
             ],
             [
              0.4444444444444444,
              "#bd3786"
             ],
             [
              0.5555555555555556,
              "#d8576b"
             ],
             [
              0.6666666666666666,
              "#ed7953"
             ],
             [
              0.7777777777777778,
              "#fb9f3a"
             ],
             [
              0.8888888888888888,
              "#fdca26"
             ],
             [
              1,
              "#f0f921"
             ]
            ],
            "type": "histogram2dcontour"
           }
          ],
          "mesh3d": [
           {
            "colorbar": {
             "outlinewidth": 0,
             "ticks": ""
            },
            "type": "mesh3d"
           }
          ],
          "parcoords": [
           {
            "line": {
             "colorbar": {
              "outlinewidth": 0,
              "ticks": ""
             }
            },
            "type": "parcoords"
           }
          ],
          "pie": [
           {
            "automargin": true,
            "type": "pie"
           }
          ],
          "scatter": [
           {
            "marker": {
             "colorbar": {
              "outlinewidth": 0,
              "ticks": ""
             }
            },
            "type": "scatter"
           }
          ],
          "scatter3d": [
           {
            "line": {
             "colorbar": {
              "outlinewidth": 0,
              "ticks": ""
             }
            },
            "marker": {
             "colorbar": {
              "outlinewidth": 0,
              "ticks": ""
             }
            },
            "type": "scatter3d"
           }
          ],
          "scattercarpet": [
           {
            "marker": {
             "colorbar": {
              "outlinewidth": 0,
              "ticks": ""
             }
            },
            "type": "scattercarpet"
           }
          ],
          "scattergeo": [
           {
            "marker": {
             "colorbar": {
              "outlinewidth": 0,
              "ticks": ""
             }
            },
            "type": "scattergeo"
           }
          ],
          "scattergl": [
           {
            "marker": {
             "colorbar": {
              "outlinewidth": 0,
              "ticks": ""
             }
            },
            "type": "scattergl"
           }
          ],
          "scattermapbox": [
           {
            "marker": {
             "colorbar": {
              "outlinewidth": 0,
              "ticks": ""
             }
            },
            "type": "scattermapbox"
           }
          ],
          "scatterpolar": [
           {
            "marker": {
             "colorbar": {
              "outlinewidth": 0,
              "ticks": ""
             }
            },
            "type": "scatterpolar"
           }
          ],
          "scatterpolargl": [
           {
            "marker": {
             "colorbar": {
              "outlinewidth": 0,
              "ticks": ""
             }
            },
            "type": "scatterpolargl"
           }
          ],
          "scatterternary": [
           {
            "marker": {
             "colorbar": {
              "outlinewidth": 0,
              "ticks": ""
             }
            },
            "type": "scatterternary"
           }
          ],
          "surface": [
           {
            "colorbar": {
             "outlinewidth": 0,
             "ticks": ""
            },
            "colorscale": [
             [
              0,
              "#0d0887"
             ],
             [
              0.1111111111111111,
              "#46039f"
             ],
             [
              0.2222222222222222,
              "#7201a8"
             ],
             [
              0.3333333333333333,
              "#9c179e"
             ],
             [
              0.4444444444444444,
              "#bd3786"
             ],
             [
              0.5555555555555556,
              "#d8576b"
             ],
             [
              0.6666666666666666,
              "#ed7953"
             ],
             [
              0.7777777777777778,
              "#fb9f3a"
             ],
             [
              0.8888888888888888,
              "#fdca26"
             ],
             [
              1,
              "#f0f921"
             ]
            ],
            "type": "surface"
           }
          ],
          "table": [
           {
            "cells": {
             "fill": {
              "color": "#EBF0F8"
             },
             "line": {
              "color": "white"
             }
            },
            "header": {
             "fill": {
              "color": "#C8D4E3"
             },
             "line": {
              "color": "white"
             }
            },
            "type": "table"
           }
          ]
         },
         "layout": {
          "annotationdefaults": {
           "arrowcolor": "#2a3f5f",
           "arrowhead": 0,
           "arrowwidth": 1
          },
          "coloraxis": {
           "colorbar": {
            "outlinewidth": 0,
            "ticks": ""
           }
          },
          "colorscale": {
           "diverging": [
            [
             0,
             "#8e0152"
            ],
            [
             0.1,
             "#c51b7d"
            ],
            [
             0.2,
             "#de77ae"
            ],
            [
             0.3,
             "#f1b6da"
            ],
            [
             0.4,
             "#fde0ef"
            ],
            [
             0.5,
             "#f7f7f7"
            ],
            [
             0.6,
             "#e6f5d0"
            ],
            [
             0.7,
             "#b8e186"
            ],
            [
             0.8,
             "#7fbc41"
            ],
            [
             0.9,
             "#4d9221"
            ],
            [
             1,
             "#276419"
            ]
           ],
           "sequential": [
            [
             0,
             "#0d0887"
            ],
            [
             0.1111111111111111,
             "#46039f"
            ],
            [
             0.2222222222222222,
             "#7201a8"
            ],
            [
             0.3333333333333333,
             "#9c179e"
            ],
            [
             0.4444444444444444,
             "#bd3786"
            ],
            [
             0.5555555555555556,
             "#d8576b"
            ],
            [
             0.6666666666666666,
             "#ed7953"
            ],
            [
             0.7777777777777778,
             "#fb9f3a"
            ],
            [
             0.8888888888888888,
             "#fdca26"
            ],
            [
             1,
             "#f0f921"
            ]
           ],
           "sequentialminus": [
            [
             0,
             "#0d0887"
            ],
            [
             0.1111111111111111,
             "#46039f"
            ],
            [
             0.2222222222222222,
             "#7201a8"
            ],
            [
             0.3333333333333333,
             "#9c179e"
            ],
            [
             0.4444444444444444,
             "#bd3786"
            ],
            [
             0.5555555555555556,
             "#d8576b"
            ],
            [
             0.6666666666666666,
             "#ed7953"
            ],
            [
             0.7777777777777778,
             "#fb9f3a"
            ],
            [
             0.8888888888888888,
             "#fdca26"
            ],
            [
             1,
             "#f0f921"
            ]
           ]
          },
          "colorway": [
           "#636efa",
           "#EF553B",
           "#00cc96",
           "#ab63fa",
           "#FFA15A",
           "#19d3f3",
           "#FF6692",
           "#B6E880",
           "#FF97FF",
           "#FECB52"
          ],
          "font": {
           "color": "#2a3f5f"
          },
          "geo": {
           "bgcolor": "white",
           "lakecolor": "white",
           "landcolor": "#E5ECF6",
           "showlakes": true,
           "showland": true,
           "subunitcolor": "white"
          },
          "hoverlabel": {
           "align": "left"
          },
          "hovermode": "closest",
          "mapbox": {
           "style": "light"
          },
          "paper_bgcolor": "white",
          "plot_bgcolor": "#E5ECF6",
          "polar": {
           "angularaxis": {
            "gridcolor": "white",
            "linecolor": "white",
            "ticks": ""
           },
           "bgcolor": "#E5ECF6",
           "radialaxis": {
            "gridcolor": "white",
            "linecolor": "white",
            "ticks": ""
           }
          },
          "scene": {
           "xaxis": {
            "backgroundcolor": "#E5ECF6",
            "gridcolor": "white",
            "gridwidth": 2,
            "linecolor": "white",
            "showbackground": true,
            "ticks": "",
            "zerolinecolor": "white"
           },
           "yaxis": {
            "backgroundcolor": "#E5ECF6",
            "gridcolor": "white",
            "gridwidth": 2,
            "linecolor": "white",
            "showbackground": true,
            "ticks": "",
            "zerolinecolor": "white"
           },
           "zaxis": {
            "backgroundcolor": "#E5ECF6",
            "gridcolor": "white",
            "gridwidth": 2,
            "linecolor": "white",
            "showbackground": true,
            "ticks": "",
            "zerolinecolor": "white"
           }
          },
          "shapedefaults": {
           "line": {
            "color": "#2a3f5f"
           }
          },
          "ternary": {
           "aaxis": {
            "gridcolor": "white",
            "linecolor": "white",
            "ticks": ""
           },
           "baxis": {
            "gridcolor": "white",
            "linecolor": "white",
            "ticks": ""
           },
           "bgcolor": "#E5ECF6",
           "caxis": {
            "gridcolor": "white",
            "linecolor": "white",
            "ticks": ""
           }
          },
          "title": {
           "x": 0.05
          },
          "xaxis": {
           "automargin": true,
           "gridcolor": "white",
           "linecolor": "white",
           "ticks": "",
           "title": {
            "standoff": 15
           },
           "zerolinecolor": "white",
           "zerolinewidth": 2
          },
          "yaxis": {
           "automargin": true,
           "gridcolor": "white",
           "linecolor": "white",
           "ticks": "",
           "title": {
            "standoff": 15
           },
           "zerolinecolor": "white",
           "zerolinewidth": 2
          }
         }
        },
        "xaxis": {
         "anchor": "y",
         "domain": [
          0,
          1
         ],
         "title": {
          "text": "age"
         }
        },
        "yaxis": {
         "anchor": "x",
         "domain": [
          0,
          1
         ],
         "title": {
          "text": "count"
         }
        }
       }
      },
      "text/html": [
       "<div>\n",
       "        \n",
       "        \n",
       "            <div id=\"ddfe6a25-cf2a-4c23-8fa7-ac68ff48ab6d\" class=\"plotly-graph-div\" style=\"height:600px; width:100%;\"></div>\n",
       "            <script type=\"text/javascript\">\n",
       "                require([\"plotly\"], function(Plotly) {\n",
       "                    window.PLOTLYENV=window.PLOTLYENV || {};\n",
       "                    \n",
       "                if (document.getElementById(\"ddfe6a25-cf2a-4c23-8fa7-ac68ff48ab6d\")) {\n",
       "                    Plotly.newPlot(\n",
       "                        'ddfe6a25-cf2a-4c23-8fa7-ac68ff48ab6d',\n",
       "                        [{\"alignmentgroup\": \"True\", \"bingroup\": \"x\", \"hoverlabel\": {\"namelength\": 0}, \"hovertemplate\": \"Gender=Female<br>age=%{x}<br>count=%{y}\", \"legendgroup\": \"Gender=Female\", \"marker\": {\"color\": \"#636efa\", \"opacity\": 0.6}, \"name\": \"Gender=Female\", \"nbinsx\": 20, \"offsetgroup\": \"Gender=Female\", \"orientation\": \"v\", \"showlegend\": true, \"type\": \"histogram\", \"x\": [98, 18, 31, 23, 56, 37, 18, 29, 17, 22, 53, 21, 24, 30, 27, 42, 76, 29, 20, 26, 44, 32, 53, 35, 20, 31, 17, 30, 37, 38, 20, 29, 46, 31, 21, 39, 65, 54, 24, 46, 31, 45, 31, 38, 32, 35, 50, 30, 23, 27, 33, 29, 25, 29, 44, 21, 26, 21, 29, 58, 36, 51, 53, 52, 60, 50, 20, 48, 30, 30, 17, 30, 21, 30, 74, 21, 50, 42, 66, 42, 25, 21, 44, 32, 45, 27, 71, 53, 41, 18, 30, 18, 28, 40, 16, 44, 49, 21, 23, 35, 47, 47, 22, 20, 30, 30, 26, 45, 21, 64, 48, 25, 42, 50, 43, 45, 38, 25, 30, 25, 36, 37, 70, 78, 59, 64, 16, 41, 30, 50, 53, 22, 27, 33, 27, 42, 45, 80, 50, 51, 23, 16, 53, 35, 27, 26, 29, 65, 40, 31, 38, 22, 55, 31, 18, 41, 42, 61, 43, 49, 18, 22, 32, 32, 45, 17, 42, 48, 42, 80, 36, 24, 61, 35, 42, 23, 85, 30, 26, 20, 25, 33, 20, 61, 80, 85, 77, 24, 34, 26, 26, 62, 36, 25, 45, 72, 18, 48, 71, 19, 18, 25, 24, 48, 24, 35, 22, 33, 35, 32, 33, 23, 45, 62, 21, 60, 20, 30, 32, 40, 32, 20, 45, 26, 40, 37, 16, 27, 38, 29, 16, 62, 55, 51, 46, 57, 31, 39, 31, 19, 26, 70, 20, 42, 34, 50, 17, 33, 65, 30, 42, 50, 70, 21, 65, 32, 60, 28, 70, 26, 65, 35, 27, 49, 32, 41, 40, 27, 16, 68, 33, 25, 30, 22, 39, 70, 35, 48, 48, 48, 66, 70, 26, 25, 18, 18, 35, 33, 35, 60, 51, 30, 17, 23, 25, 40, 30, 48, 40, 60, 61, 30, 34, 30, 34, 44, 40, 37, 23, 26, 30, 21, 46, 22, 48, 30, 19, 47, 55, 24, 35, 20, 82, 23, 29, 81, 50, 45, 51, 46, 45, 43, 29, 19, 29, 35, 31, 43, 28, 45, 32, 49, 20, 47, 60, 30, 28, 26, 28, 35, 25, 31, 17, 30, 70, 32, 35, 35, 55, 36, 77, 40, 29, 42, 20, 46, 32, 62, 41, 22, 16, 35, 28, 17, 65, 27, 38, 27, 47, 39, 45, 70, 19, 41, 36, 36, 42, 58, 34, 32, 79, 22, 32, 43, 25, 21, 41, 29, 43, 45, 36, 68, 24, 33, 33, 25, 62, 40, 39, 28, 38, 52, 49, 37, 19, 26, 16, 21, 42, 30, 24, 50, 38, 16, 27, 27, 55, 42, 40, 40, 30, 65, 40, 70, 36, 39, 27, 26, 42, 20, 23, 30, 21, 65, 24, 24, 26, 24, 47, 50, 37, 50, 40, 35, 23, 47, 31, 34, 40, 25, 42, 56, 52, 32, 35, 80, 34, 38, 48, 30, 22, 22, 18, 50, 82, 62, 20, 21, 18, 60, 23, 33, 39, 43, 30, 38, 69, 35, 26, 25, 33, 27, 24, 57, 17, 82, 19, 26, 51, 28, 16, 17, 39, 29, 42, 40, 28, 38, 20, 16, 17, 33, 41, 20, 26, 32, 24, 29, 26, 50, 27, 21, 23, 19, 40, 21, 32, 30, 20, 85, 18, 22, 25, 40, 24, 37, 25, 35, 27, 27, 30, 46, 72, 59, 73, 27, 80, 16, 36, 49, 17, 75, 24, 31, 16, 35, 30, 49, 70, 53, 65, 34, 48, 24, 60, 31, 19, 45, 36, 34, 41, 22, 44, 38, 20, 20, 23, 41, 32, 40, 28, 65, 36, 18, 68, 40, 63, 54, 24, 19, 23, 57, 70, 30, 46, 36, 63, 39, 27, 61, 39, 80, 81, 64, 70, 35, 20, 44, 56, 58, 42, 16, 47, 75, 27, 43, 27, 58, 47, 35, 25, 33, 41, 50, 68, 30, 58, 70, 30, 40, 50, 40, 58, 22, 22, 42, 34, 23, 62, 46, 18, 17, 65, 70, 31, 23, 35, 35, 44, 23, 21, 37, 28, 26, 26, 27, 39, 40, 19, 21, 20, 63, 25, 18, 37, 41, 22, 96, 46, 30, 20, 25, 28, 42, 32, 27, 60, 42, 26, 59, 24, 55, 40, 26, 36, 20, 22, 40, 27, 35, 62, 26, 25, 70, 44, 32, 29, 58, 41, 32, 40, 31, 34, 25, 36, 20, 27, 25, 29, 49, 54, 16, 34, 45, 17, 38, 23, 73, 54, 53, 29, 49, 33, 50, 43, 32, 19, 28, 38, 76, 27, 28, 46, 51, 29, 38, 68, 43, 45, 64, 20, 28, 21, 28, 32, 30, 17, 65, 22, 27, 20, 35, 75, 61, 24, 36, 24, 33, 50, 21, 30, 26, 40, 59, 88, 49, 30, 19, 22, 56, 24, 26, 24, 60, 26, 22, 29, 71, 65, 40, 45, 32, 33, 31, 40, 19, 43, 28, 42, 18, 30, 45, 70, 26, 56, 22, 34, 42, 43, 71, 19, 38, 60, 31, 43, 19, 30, 16, 16, 60, 35, 30, 34, 38, 38, 29, 28, 30, 50, 35, 33, 55, 62, 38, 37, 47, 36, 31, 36, 35, 50, 22, 23, 33, 70, 48, 23, 52, 23, 25, 44, 28, 53, 49, 32, 35, 70, 35, 20, 44, 40, 52, 63, 75, 23, 22, 46, 42, 24, 59, 34, 39, 35, 23, 30, 26, 39, 63, 71, 32, 38, 45, 42, 47, 65, 22, 47, 42, 47, 75, 34, 22, 35, 18, 20, 60, 35, 24, 19, 32, 37, 53, 19, 28, 25, 32, 45, 32, 31, 18, 17, 38, 30, 30, 32, 45, 38, 21, 35, 23, 29, 25, 26, 29, 25, 32, 26, 16, 26, 25, 23, 27, 73, 20, 26, 65, 20, 40, 31, 65, 30, 23, 29, 39, 18, 45, 42, 28, 80, 57, 40, 40, 30, 80, 70, 30, 45, 40, 32, 36, 21, 42, 40, 42, 17, 60, 38, 51, 42, 45, 43, 17, 73, 39, 43, 35, 47, 22, 22, 46, 38, 17, 28, 19, 60, 52, 37, 47, 20, 26, 25, 69, 17, 80, 23, 28, 47, 20, 21, 28, 25, 20, 18, 40, 25, 20, 45, 27, 48, 47, 20, 45, 52, 75, 25, 66, 38, 40, 22, 35, 38, 77, 35, 18, 19, 28, 59, 40, 60, 70, 24, 35, 50, 29, 32, 45, 68, 28, 26, 18, 22, 19, 58, 34, 22, 35, 24, 18, 37, 38, 45, 60, 80, 28, 38, 60, 20, 18, 29, 38, 20, 40, 52, 34, 36, 43, 36, 19, 23, 66, 92, 25, 43, 29, 37, 24, 22, 58, 59, 20, 19, 32, 19, 59, 65, 46, 28, 65, 41, 20, 22, 24, 35, 57, 38, 36, 45, 28, 45, 78, 44, 28, 32, 28, 45, 25, 74, 36, 25, 23, 55, 24, 28, 24, 19, 30, 32, 35, 19, 33, 57, 20, 41, 29, 16, 34, 24, 57, 66, 28, 30, 52, 35, 16, 35, 25, 28, 43, 27, 36, 37, 23, 40, 31, 48, 26, 22, 22, 35, 47, 16, 38, 28, 25, 27, 51, 21, 19, 23, 73, 45, 75, 32, 20, 19, 73, 34, 20, 65, 37, 31, 30, 65, 42, 17, 20, 21, 27, 24, 19, 40, 24, 32, 36, 47, 65, 88, 54, 18, 20, 36, 45, 28, 16, 38, 31, 43, 22, 70, 23, 30, 50, 21, 20, 22, 23, 20, 34, 38, 40, 50, 26, 20, 64, 28, 35, 27, 26, 62, 28, 25, 58, 41, 20, 32, 52, 34, 52, 19, 28, 35, 35, 48, 42, 56, 59, 66, 25, 35, 34, 25, 35, 18, 16, 46, 35, 24, 16, 20, 22, 57, 16, 76, 40, 50, 44, 50, 75, 45, 60, 27, 25, 19, 28, 39, 42, 18, 23, 42, 48, 26, 30, 60, 60, 33, 30, 34, 43, 46, 82, 31, 32, 23, 16, 60, 16, 47, 24, 21, 62, 47, 40, 19, 65, 43, 57, 23, 19, 18, 33, 45, 25, 58, 61, 31, 22, 39, 24, 21, 36, 26, 25, 45, 56, 69, 26, 31, 58, 52, 50, 21, 34, 40, 46, 22, 35, 40, 19, 65, 48, 25, 70, 34, 26, 41, 33, 23, 22, 27, 62, 39, 23, 48, 25, 25, 40, 29, 22, 55, 52, 76, 24, 50, 16, 51, 33, 26, 54, 30, 90, 24, 38, 67, 51, 32, 41, 35, 28, 59, 19, 30, 31, 30, 66, 35, 45, 30, 76, 30, 23, 42, 23, 26, 76, 28, 66, 36, 45, 25, 26, 64, 39, 22, 32, 35, 33, 23, 58, 62, 27, 34, 28, 32, 30, 35, 65, 58, 39, 99, 28, 49, 29, 62, 20, 40, 35, 61, 29, 21, 28, 48, 45, 55, 34, 31, 30, 40, 46, 64, 55, 47, 16, 29, 51, 19, 32, 20, 23, 75, 56, 40, 18, 45, 31, 43, 48, 23, 52, 65, 33, 22, 80, 35, 52, 27, 52, 55, 25, 27, 23, 27, 20, 35, 50, 55, 46, 34, 29, 28, 22, 75, 30, 50, 22, 37, 24, 50, 34, 48, 40, 43, 36, 45, 41, 41, 18, 34, 25, 20, 28, 37, 60, 30, 16, 19, 52, 30, 25, 30, 68, 39, 43, 58, 24, 20, 80, 70, 19, 20, 42, 25, 30, 19, 50, 46, 35, 23, 43, 50, 18, 72, 21, 28, 85, 41, 27, 34, 77, 34, 19, 18, 82, 18, 35, 37, 44, 49, 79, 18, 30, 42, 27, 47, 29, 65, 21, 62, 23, 23, 60, 33, 55, 28, 21, 18, 64, 26, 43, 30, 25, 23, 60, 70, 40, 55, 26, 23, 40, 26, 22, 43, 34, 30, 39, 23, 25, 27, 25, 45, 60, 54, 36, 25, 61, 23, 32, 40, 23, 21, 60, 50, 28, 45, 75, 51, 57, 17, 68, 42, 43, 20, 17, 44, 66, 68, 25, 34, 26, 30, 65, 20, 73, 38, 22, 90, 35, 25, 30, 38, 45, 22, 37, 24, 30, 47, 30, 51, 22, 33, 25, 59, 65, 60, 72, 34, 28, 32, 17, 21, 32, 17, 34, 20, 42, 90, 17, 27, 32, 31, 26, 18, 34, 30, 65, 33, 44, 21, 62, 42, 27, 46, 31, 21, 16, 62, 23, 40, 28, 25, 37, 46, 36, 31, 55, 33, 16, 39, 80, 65, 30, 44, 32, 24, 25, 30, 19, 50, 46, 29, 30, 21, 30, 60, 19, 44, 26, 17, 56, 24, 25, 23, 25, 23, 32, 23, 19, 16, 69, 21, 24, 37, 46, 40, 66, 20, 19, 25, 22, 40, 32, 75, 55, 40, 32, 19, 40, 19, 63, 30, 20, 22, 25, 24, 38, 25, 50, 35, 21, 29, 20, 31, 35, 25, 46, 56, 59, 22, 24, 59, 37, 33, 52, 30, 28, 32, 32, 35, 35, 30, 58, 17, 23, 45, 38, 55, 19, 23, 45, 28, 22, 35, 40, 34, 16, 36, 28, 28, 47, 48, 22, 27, 27, 27, 55, 59, 26, 28, 36, 72, 37, 42, 16, 30, 28, 19, 32, 23, 28, 30, 23, 27, 38, 25, 24, 29, 32, 45, 20, 85, 27, 25, 60, 29, 47, 56, 56, 36, 37, 35, 26, 22, 50, 18, 42, 46, 17, 38, 39, 35, 32, 30, 43, 19, 49, 35, 48, 21, 31, 20, 40, 60, 75, 17, 20, 46, 25, 35, 30, 57, 21, 35, 18, 64, 38, 35, 62, 48, 30, 59, 30, 40, 19, 24, 22, 25, 83, 23, 39, 24, 37, 30, 29, 41, 17, 74, 26, 26, 63, 17, 40, 72, 23, 23, 23, 51, 57, 47, 18, 40, 30, 75, 32, 34, 18, 23, 40, 34, 38, 67, 28, 17, 23, 30, 60, 16, 32, 27, 37, 24, 18, 16, 34, 29, 32, 20, 29, 60, 23, 20, 24, 38, 72, 34, 30, 52, 38, 24, 45, 28, 20, 65, 29, 24, 44, 38, 34, 19, 36, 39, 76, 40, 44, 75, 62, 57, 67, 20, 43, 33, 31, 32, 21, 43, 16, 29, 79, 75, 22, 34, 35, 26, 17, 51, 21, 28, 37, 20, 50, 39, 20, 40, 56, 27, 31, 30, 63, 36, 28, 38, 64, 18, 47, 18, 56, 40, 35, 30, 45, 40, 25, 38, 33, 44, 26, 56, 63, 45, 20, 39, 32, 33, 24, 24, 22, 30, 23, 20, 50, 35, 40, 25, 22, 67, 34, 33, 57, 28, 25, 39, 23, 32, 63, 90, 22, 42, 47, 23, 23, 29, 40, 75, 65, 45, 25, 22, 46, 31, 30, 49, 46, 22, 40, 62, 27, 41, 36, 19, 32, 50, 28, 27, 45, 40, 28, 57, 35, 67, 28, 48, 28, 34, 29, 72, 30, 65, 24, 46, 49, 28, 41, 28, 29, 28, 23, 30, 45, 32, 80, 42, 63, 24, 42, 16, 19, 34, 32, 21, 21, 32, 30, 40, 32, 48, 62, 24, 25, 74, 33, 60, 63, 23, 22, 17, 78, 25, 21, 40, 60, 24, 36, 45, 61, 23, 18, 25, 35, 22, 87, 32, 34, 27, 29, 29, 27, 27, 58, 27, 30, 42, 43, 65, 48, 53, 47, 43, 32, 32, 40, 59, 71, 56, 43, 40, 30, 48, 20, 21, 18, 24, 19, 29, 42, 40, 43, 28, 18, 77, 38, 35, 18, 31, 25, 23, 41, 60, 32, 31, 26, 18, 20, 30, 22, 20, 31, 17, 30, 26, 23, 16, 32, 45, 32, 31, 30, 35, 54, 54, 53, 31, 35, 60, 28, 33, 31, 28, 36, 21, 45, 46, 19, 67, 28, 35, 18, 18, 24, 26, 50, 41, 39, 22, 40, 40, 27, 24, 30, 36, 21, 31, 34, 46, 53, 40, 29, 42, 23, 47, 17, 22, 35, 45, 56, 28, 61, 19, 32, 22, 27, 48, 33, 30, 32, 20, 44, 48, 32, 34, 26, 25, 58, 50, 25, 25, 29, 50, 21, 38, 19, 42, 25, 68, 49, 23, 58, 37, 71, 21, 50, 20, 20, 75, 38, 60, 27, 40, 70, 31, 56, 22, 44, 27, 68, 48, 50, 74, 27, 25, 60, 59, 22, 41, 48, 65, 25, 42, 25, 30, 40, 27, 39, 27, 29, 26, 23, 22, 41, 22, 18, 23, 23, 18, 44, 51, 45, 30, 51, 45, 43, 22, 40, 56, 50, 85, 27, 55, 100, 28, 60, 26, 68, 32, 35, 30, 49, 50, 36, 27, 32, 51, 29, 17, 47, 20, 26, 70, 35, 47, 60, 100, 62, 41, 30, 18, 21, 42, 36, 70, 72, 36, 36, 24, 41, 65, 65, 43, 42, 25, 25, 26, 47, 22, 31, 67, 30, 35, 57, 23, 20, 25, 26, 25, 37, 25, 40, 60, 30, 63, 29, 43, 29, 80, 22, 28, 27, 38, 30, 40, 26, 21, 23, 30, 21, 20, 44, 33, 55, 17, 40, 27, 27, 60, 42, 65, 29, 27, 27, 27, 22, 25, 31, 44, 29, 26, 18, 60, 65, 36, 53, 17, 82, 17, 42, 19, 46, 27, 28, 26, 72, 28, 63, 42, 25, 26, 20, 32, 32, 23, 23, 19, 50, 28, 70, 17, 17, 52, 16, 36, 26, 21, 39, 16, 40, 34, 40, 30, 38, 27, 32, 48, 38, 49, 20, 49, 19, 22, 30, 57, 36, 17, 16, 37, 71, 47, 32, 60, 27, 47, 36, 25, 42, 35, 24, 37, 34, 57, 25, 40, 90, 21, 50, 80, 30, 36, 59, 20, 20, 80, 25, 58, 38, 27, 70, 40, 45, 47, 40, 71, 30, 48, 24, 40, 27, 29, 23, 26, 40, 32, 22, 45, 21, 24, 31, 21, 49, 73, 40, 23, 23, 25, 63, 46, 82, 36, 31, 41, 40, 37, 44, 41, 36, 22, 55, 33, 56, 21, 30, 25, 46, 36, 38, 39, 66, 18, 35, 27, 17, 60, 46, 32, 40, 42, 27, 40, 31, 40, 30, 40, 65, 57, 39, 30, 23, 20, 29, 41, 31, 98, 28, 19, 35, 55, 45, 18, 31, 23, 36, 80, 27, 25, 25, 40, 21, 61, 26, 56, 21, 50, 32, 18, 29, 22, 28, 18, 42, 45, 27, 35, 24, 23, 24, 45, 25, 70, 16, 35, 51, 28, 23, 90, 22, 28, 20, 21, 69, 57, 39, 30, 43, 30, 70, 56, 39, 33, 53, 31, 49, 32, 57, 20, 23, 54, 29, 38, 20, 24, 20, 27, 27, 19, 41, 30, 23, 22, 45, 26, 52, 49, 62, 24, 30, 70, 48, 33, 32, 55, 38, 23, 51, 62, 30, 35, 23, 50, 46, 23, 32, 26, 45, 51, 78, 20, 27, 28, 28, 48, 38, 32, 40, 30, 47, 22, 37, 19, 27, 58, 30, 65, 36, 28, 19, 40, 29, 32, 66, 38, 31, 25, 56, 43, 30, 50, 70, 43, 46, 24, 28, 66, 27, 22, 25, 50, 25, 65, 25, 24, 30, 28, 30, 72, 34, 24, 38, 27, 27, 26, 17, 46, 90, 32, 70, 63, 32, 23, 68, 24, 30, 53, 35, 47, 33, 28, 23, 29, 70, 36, 75, 23, 37, 39, 36, 22, 42, 39, 19, 28, 21, 29, 44, 35, 32, 63, 47, 17, 31, 17, 43, 57, 33, 33, 24, 28, 29, 58, 24, 30, 35, 18, 31, 49, 50, 33, 36, 26, 48, 33, 45, 58, 22, 28, 19, 74, 52, 30, 34, 38, 26, 29, 59, 45, 22, 39, 25, 23, 36, 56, 72, 23, 52, 16, 57, 66, 17, 30, 49, 17, 26, 20, 18, 32, 68, 28, 70, 38, 52, 43, 29, 17, 31, 32, 20, 49, 35, 43, 40, 20, 28, 26, 36, 37, 30, 22, 65, 29, 23, 24, 33, 40, 36, 22, 30, 41, 35, 35, 51, 45, 38, 53, 23, 44, 40, 27, 70, 58, 40, 40, 30, 41, 28, 46, 19, 45, 36, 28, 35, 45, 52, 20, 30, 20, 18, 30, 37, 37, 63, 38, 54, 28, 58, 61, 22, 25, 26, 46, 29, 30, 61, 34, 52, 29, 17, 81, 26, 43, 21, 23, 22, 18, 21, 37, 18, 50, 44, 27, 29, 54, 19, 19, 40, 85, 32, 30, 37, 40, 37, 21, 25, 20, 24, 29, 31, 59, 88, 20, 65, 25, 37, 39, 64, 70, 70, 33, 34, 18, 68, 35, 22, 22, 39, 23, 51, 32, 70, 43, 78, 41, 32, 29, 62, 32, 25, 52, 16, 35, 22, 29, 30, 17, 48, 20, 60, 22, 34, 26, 40, 32, 32, 18, 20, 16, 25, 40, 31, 47, 19, 45, 49, 26, 20, 35, 22, 60, 30, 17, 70, 24, 25, 18, 59, 58, 72, 23, 25, 26, 36, 22, 54, 23, 25, 52, 70, 22, 32, 33, 82, 90, 51, 35, 34, 23, 42, 37, 32, 24, 21, 40, 40, 17, 77, 35, 70, 20, 35, 45, 23, 24, 54, 38, 16, 66, 50, 26, 28, 27, 35, 39, 44, 34, 31, 56, 36, 16, 65, 43, 20, 33, 17, 49, 33, 50, 22, 28, 61, 39, 34, 28, 23, 25, 47, 50, 56, 63, 31, 63, 76, 27, 31, 47, 62, 70, 30, 47, 27, 30, 34, 45, 50, 25, 69, 73, 31, 35, 26, 35, 40, 30, 34, 80, 30, 25, 30, 24, 55, 39, 25, 58, 37, 21, 22, 24, 48, 17, 31, 31, 27, 24, 36, 30, 36, 57, 29, 24, 35, 28, 44, 49, 25, 19, 32, 50, 37, 32, 29, 22, 29, 58, 55, 35, 57, 26, 50, 25, 20, 36, 30, 48, 25, 16, 32, 21, 17, 50, 81, 28, 35, 19, 17, 22, 60, 42, 45, 24, 70, 28, 51, 55, 30, 56, 31, 65, 24, 40, 22, 46, 18, 35, 30, 18, 41, 80, 16, 60, 42, 36, 23, 32, 35, 30, 30, 35, 30, 33, 28, 48, 75, 23, 40, 30, 64, 36, 36, 41, 72, 28, 19, 57, 17, 59, 24, 30, 17, 55, 32, 26, 23, 29, 30, 30, 29, 16, 37, 23, 30, 57, 70, 16, 24, 48, 24, 24, 18, 18, 41, 33, 29, 57, 37, 24, 36, 82, 20, 33, 50, 18, 18, 22, 24, 25, 84, 16, 38, 22, 32, 28, 33, 26, 58, 60, 32, 45, 28, 66, 25, 33, 28, 30, 63, 22, 58, 24, 82, 45, 23, 60, 26, 37, 47, 16, 52, 40, 26, 39, 22, 19, 38, 25, 26, 38, 47, 40, 27, 23, 52, 45, 18, 50, 59, 42, 20, 53, 42, 27, 20, 30, 48, 24, 24, 65, 30, 52, 32, 40, 46, 25, 64, 18, 34, 40, 72, 38, 43, 28, 49, 18, 23, 33, 25, 25, 29, 44, 36, 26, 25, 32, 35, 40, 29, 76, 63, 95, 24, 27, 39, 45, 21, 50, 27, 65, 60, 25, 49, 21, 60, 32, 40, 61, 80, 25, 17, 27, 34, 23, 54, 30, 22, 43, 17, 49, 38, 21, 33, 62, 54, 32, 26, 34, 37, 27, 61, 28, 60, 18, 23, 23, 33, 20, 44, 31, 52, 60, 80, 45, 61, 48, 75, 38, 40, 23, 18, 18, 18, 24, 49, 16, 20, 32, 20, 25, 56, 35, 48, 22, 50, 30, 57, 20, 35, 17, 81, 30, 26, 22, 46, 26, 28, 76, 26, 25, 47, 18, 40, 29, 75, 28, 33, 47, 30, 25, 32, 20, 40, 20, 30, 32, 46, 37, 29, 45, 21, 18, 21, 54, 53, 20, 38, 23, 40, 27, 22, 33, 19, 32, 33, 36, 53, 35, 70, 32, 17, 24, 24, 29, 56, 54, 47, 73, 42, 80, 20, 53, 57, 47, 35, 34, 29, 77, 20, 42, 24, 29, 68, 29, 54, 26, 22, 39, 49, 22, 43, 18, 44, 31, 38, 48, 43, 21, 46, 23, 70, 28, 97, 21, 22, 30, 66, 31, 29, 37, 31, 60, 37, 20, 22, 50, 29, 47, 25, 47, 17, 75, 25, 33, 25, 30, 23, 70, 68, 41, 56, 67, 20, 35, 37, 27, 17, 24, 16, 40, 35, 36, 17, 34, 33, 37, 44, 19, 37, 30, 28, 41, 37, 34, 18, 19, 32, 73, 18, 19, 18, 32, 23, 19, 62, 40, 58, 34, 48, 25, 75, 47, 30, 51, 20, 53, 40, 70, 65, 28, 30, 35, 27, 53, 53, 39, 22, 28, 71, 47, 22, 59, 28, 20, 40, 37, 53, 70, 23, 17, 78, 25, 54, 33, 60, 38, 85, 59, 45, 61, 65, 23, 62, 23, 22, 33, 34, 60, 34, 21, 17, 22, 27, 35, 29, 28, 27, 41, 45, 23, 30, 40, 30, 19, 80, 30, 45, 43, 30, 23, 20, 31, 26, 33, 24, 48, 29, 23, 69, 70, 60, 16, 46, 32, 32, 43, 25, 28, 68, 30, 32, 20, 40, 73, 22, 50, 25, 27, 34, 68, 21, 45, 36, 57, 34, 27, 67, 49, 25, 28, 70, 54, 37, 24, 21, 79, 34, 39, 35, 20, 32, 21, 28, 26, 57, 35, 17, 60, 34, 16, 23, 71, 26, 27, 27, 17, 65, 25, 28, 25, 42, 48, 25, 50, 48, 36, 25, 30, 22, 22, 55, 71, 80, 88, 62, 45, 33, 25, 48, 23, 59, 25, 24, 37, 36, 34, 69, 47, 55, 72, 28, 22, 32, 27, 20, 35, 34, 23, 30, 54, 17, 44, 35, 37, 19, 20, 16, 35, 19, 33, 30, 63, 27, 38, 24, 28, 37, 29, 46, 45, 45, 30, 44, 27, 18, 49, 20, 28, 41, 26, 51, 53, 42, 37, 43, 59, 21, 24, 27, 26, 16, 22, 17, 36, 51, 34, 47, 43, 18, 29, 37, 37, 16, 34, 26, 30, 38, 46, 49, 18, 20, 65, 34, 20, 51, 70, 35, 41, 59, 35, 23, 22, 41, 37, 30, 44, 61, 20, 27, 63, 40, 66, 32, 42, 55, 42, 27, 23, 86, 30, 21, 78, 34, 45, 24, 25, 36, 50, 42, 27, 50, 50, 40, 26, 28, 30, 42, 91, 52, 19, 23, 36, 37, 21, 40, 42, 48, 59, 24, 45, 35, 35, 30, 53, 35, 60, 35, 34, 21, 27, 40, 59, 58, 51, 40, 45, 43, 80, 52, 57, 51, 25, 17, 16, 35, 56, 30, 56, 32, 65, 54, 34, 49, 29, 26, 27, 20, 30, 34, 28, 24, 44, 48, 49, 30, 16, 61, 54, 40, 20, 29, 51, 46, 42, 44, 34, 53, 24, 23, 18, 53, 24, 50, 24, 39, 83, 16, 35, 35, 40, 21, 38, 31, 42, 34, 45, 45, 28, 29, 34, 41, 36, 57, 22, 28], \"xaxis\": \"x\", \"yaxis\": \"y\"}, {\"alignmentgroup\": \"True\", \"bingroup\": \"x\", \"hoverlabel\": {\"namelength\": 0}, \"hovertemplate\": \"Gender=Male<br>age=%{x}<br>count=%{y}\", \"legendgroup\": \"Gender=Male\", \"marker\": {\"color\": \"#EF553B\", \"opacity\": 0.6}, \"name\": \"Gender=Male\", \"nbinsx\": 20, \"offsetgroup\": \"Gender=Male\", \"orientation\": \"v\", \"showlegend\": true, \"type\": \"histogram\", \"x\": [40, 50, 34, 35, 28, 38, 44, 19, 46, 47, 86, 18, 19, 30, 35, 35, 25, 23, 21, 25, 72, 32, 24, 34, 26, 31, 23, 45, 27, 25, 26, 30, 18, 28, 48, 33, 57, 42, 30, 30, 48, 40, 47, 39, 51, 48, 69, 19, 65, 34, 79, 19, 17, 33, 22, 20, 57, 36, 70, 51, 25, 32, 43, 22, 30, 43, 21, 34, 43, 27, 42, 23, 36, 26, 26, 40, 45, 17, 56, 30, 82, 50, 45, 34, 39, 24, 19, 47, 28, 25, 57, 66, 23, 55, 47, 22, 37, 18, 25, 34, 34, 51, 26, 28, 30, 45, 65, 27, 47, 19, 26, 55, 36, 42, 33, 51, 18, 94, 24, 25, 22, 30, 20, 25, 35, 20, 17, 24, 48, 48, 30, 40, 29, 32, 72, 32, 27, 23, 30, 53, 23, 45, 32, 35, 43, 49, 18, 60, 43, 16, 30, 27, 21, 39, 57, 35, 36, 30, 33, 43, 20, 26, 90, 61, 28, 35, 52, 50, 46, 31, 30, 62, 17, 22, 29, 52, 32, 31, 87, 45, 58, 50, 72, 20, 48, 21, 43, 28, 26, 45, 41, 23, 19, 50, 36, 29, 26, 43, 36, 47, 50, 19, 31, 34, 17, 42, 50, 16, 35, 19, 22, 76, 26, 23, 72, 25, 26, 16, 34, 23, 39, 32, 57, 30, 53, 68, 31, 22, 35, 43, 21, 25, 34, 54, 30, 25, 17, 18, 39, 32, 40, 20, 79, 25, 42, 25, 53, 70, 49, 40, 45, 40, 47, 58, 20, 27, 80, 72, 57, 77, 57, 25, 29, 75, 32, 70, 37, 27, 54, 60, 63, 49, 37, 30, 38, 30, 35, 24, 17, 49, 33, 70, 23, 39, 32, 35, 32, 53, 33, 16, 75, 33, 25, 61, 77, 16, 32, 38, 55, 33, 38, 47, 40, 41, 52, 50, 70, 27, 20, 68, 53, 40, 30, 58, 24, 25, 67, 25, 44, 47, 39, 48, 35, 55, 31, 35, 43, 36, 28, 29, 22, 20, 26, 36, 18, 45, 19, 50, 35, 16, 20, 17, 42, 75, 50, 70, 28, 51, 45, 43, 48, 48, 43, 28, 21, 18, 39, 45, 34, 21, 16, 27, 25, 25, 32, 47, 27, 72, 34, 65, 40, 20, 30, 44, 40, 46, 49, 70, 27, 22, 26, 32, 40, 47, 66, 54, 50, 60, 68, 78, 28, 54, 25, 58, 63, 45, 76, 19, 43, 23, 22, 51, 58, 45, 50, 20, 78, 38, 29, 39, 18, 43, 27, 50, 16, 39, 35, 21, 24, 63, 26, 40, 19, 34, 37, 66, 59, 20, 35, 19, 28, 45, 26, 30, 24, 29, 60, 36, 32, 25, 33, 42, 30, 58, 51, 29, 50, 24, 30, 59, 49, 69, 50, 28, 30, 40, 29, 36, 35, 16, 33, 34, 29, 32, 27, 17, 39, 30, 26, 28, 23, 37, 21, 16, 24, 23, 26, 31, 52, 35, 34, 24, 17, 50, 30, 45, 50, 17, 36, 46, 36, 75, 24, 63, 78, 37, 24, 63, 38, 50, 37, 33, 42, 17, 20, 45, 45, 27, 16, 45, 40, 42, 40, 38, 56, 44, 57, 17, 34, 31, 31, 24, 52, 38, 17, 28, 72, 51, 19, 45, 27, 74, 25, 56, 25, 16, 50, 31, 54, 29, 23, 46, 26, 38, 34, 50, 17, 82, 51, 17, 27, 38, 23, 70, 29, 55, 30, 31, 63, 25, 33, 26, 28, 20, 21, 49, 48, 60, 17, 38, 18, 19, 49, 30, 24, 36, 45, 28, 28, 26, 56, 34, 63, 37, 67, 26, 52, 53, 41, 56, 65, 18, 24, 45, 36, 22, 33, 36, 38, 28, 22, 17, 29, 83, 30, 16, 46, 48, 45, 27, 28, 42, 45, 70, 51, 52, 25, 19, 58, 60, 49, 50, 58, 40, 36, 63, 29, 25, 65, 64, 44, 36, 63, 40, 43, 40, 55, 23, 63, 58, 20, 45, 20, 52, 72, 45, 43, 23, 48, 27, 58, 17, 42, 23, 51, 30, 29, 64, 21, 41, 83, 55, 48, 69, 25, 22, 52, 47, 26, 36, 35, 35, 39, 40, 76, 60, 23, 22, 26, 34, 32, 31, 24, 16, 26, 70, 25, 48, 21, 16, 17, 36, 52, 25, 26, 35, 50, 52, 19, 23, 39, 45, 27, 34, 41, 38, 32, 60, 38, 28, 28, 23, 26, 39, 19, 37, 17, 42, 42, 86, 35, 26, 28, 25, 40, 70, 41, 62, 33, 52, 26, 38, 25, 39, 40, 47, 25, 37, 19, 59, 18, 24, 45, 53, 26, 21, 34, 36, 41, 34, 40, 32, 44, 74, 70, 40, 39, 58, 24, 68, 50, 44, 76, 24, 78, 45, 47, 18, 49, 21, 90, 43, 27, 16, 32, 65, 43, 31, 78, 17, 34, 30, 46, 28, 55, 58, 57, 29, 45, 67, 77, 18, 52, 34, 22, 21, 75, 48, 43, 37, 25, 32, 17, 27, 38, 39, 50, 34, 80, 35, 50, 37, 35, 50, 50, 55, 26, 60, 71, 43, 50, 50, 25, 38, 22, 38, 50, 46, 32, 52, 36, 80, 40, 58, 30, 35, 32, 32, 25, 28, 26, 25, 28, 70, 40, 31, 55, 29, 78, 26, 35, 60, 21, 42, 25, 24, 21, 21, 74, 17, 35, 70, 24, 38, 19, 47, 32, 52, 31, 70, 25, 45, 58, 30, 35, 18, 35, 30, 25, 31, 49, 26, 43, 41, 46, 34, 36, 20, 39, 35, 24, 26, 60, 22, 29, 30, 33, 70, 35, 63, 56, 18, 55, 39, 62, 59, 29, 24, 20, 47, 38, 32, 67, 35, 57, 24, 60, 54, 40, 66, 64, 17, 31, 56, 19, 84, 25, 46, 38, 36, 27, 48, 35, 50, 59, 44, 53, 26, 23, 49, 60, 37, 20, 51, 55, 32, 28, 27, 25, 21, 64, 28, 47, 58, 25, 21, 25, 59, 35, 21, 33, 60, 94, 38, 28, 29, 56, 46, 34, 22, 32, 48, 40, 54, 20, 54, 46, 33, 29, 39, 35, 35, 26, 20, 40, 35, 24, 39, 21, 40, 38, 63, 18, 31, 28, 76, 29, 53, 80, 22, 50, 37, 30, 29, 74, 44, 81, 24, 21, 38, 76, 29, 39, 30, 34, 41, 75, 17, 36, 22, 20, 18, 42, 19, 38, 30, 100, 40, 25, 31, 38, 36, 55, 74, 27, 47, 45, 62, 36, 64, 34, 42, 26, 29, 38, 36, 34, 68, 29, 18, 37, 27, 53, 63, 60, 30, 37, 45, 58, 48, 29, 29, 23, 60, 65, 18, 21, 16, 44, 36, 19, 34, 29, 23, 17, 30, 39, 56, 17, 45, 45, 30, 25, 58, 37, 21, 33, 38, 41, 16, 23, 78, 29, 33, 34, 64, 63, 39, 22, 57, 71, 32, 21, 28, 52, 85, 57, 29, 25, 75, 31, 22, 35, 74, 46, 53, 41, 43, 56, 16, 32, 48, 45, 21, 45, 39, 40, 16, 36, 65, 35, 24, 25, 55, 48, 36, 77, 21, 17, 53, 23, 20, 16, 45, 40, 17, 33, 65, 43, 45, 41, 39, 35, 26, 34, 33, 17, 40, 36, 22, 64, 25, 29, 24, 17, 48, 73, 17, 20, 16, 45, 70, 44, 31, 23, 29, 30, 68, 40, 35, 37, 55, 51, 30, 34, 71, 63, 21, 24, 61, 42, 43, 35, 36, 26, 26, 57, 58, 24, 29, 22, 62, 46, 27, 27, 85, 22, 30, 53, 22, 35, 34, 21, 37, 63, 47, 39, 26, 32, 27, 30, 30, 18, 46, 50, 19, 25, 21, 32, 30, 24, 16, 52, 19, 77, 50, 27, 35, 28, 68, 68, 41, 26, 47, 21, 39, 23, 42, 60, 25, 18, 50, 18, 33, 54, 51, 64, 24, 33, 62, 18, 37, 41, 38, 37, 59, 30, 45, 53, 58, 49, 22, 38, 66, 24, 73, 40, 28, 16, 38, 38, 32, 40, 48, 49, 18, 51, 63, 67, 62, 28, 28, 35, 28, 29, 42, 28, 65, 17, 53, 19, 32, 49, 34, 21, 17, 27, 79, 75, 28, 70, 35, 20, 34, 25, 29, 30, 42, 18, 45, 53, 40, 75, 23, 78, 23, 37, 31, 82, 25, 40, 22, 45, 38, 23, 40, 25, 22, 29, 35, 74, 60, 18, 34, 55, 18, 30, 48, 77, 27, 39, 37, 20, 21, 43, 35, 18, 82, 43, 30, 45, 35, 40, 23, 31, 40, 16, 34, 32, 88, 45, 20, 23, 53, 32, 32, 25, 62, 65, 30, 26, 27, 51, 45, 47, 22, 33, 53, 47, 28, 48, 29, 66, 37, 35, 23, 23, 47, 70, 31, 58, 75, 30, 41, 33, 17, 50, 33, 32, 28, 22, 31, 22, 40, 50, 22, 22, 19, 35, 30, 56, 45, 45, 42, 59, 54, 35, 32, 100, 49, 31, 18, 27, 48, 21, 33, 29, 33, 73, 33, 55, 43, 52, 59, 30, 32, 27, 35, 40, 31, 42, 30, 65, 33, 39, 30, 21, 57, 90, 40, 60, 62, 36, 60, 25, 85, 32, 32, 42, 30, 36, 41, 38, 41, 50, 25, 30, 50, 40, 83, 40, 78, 22, 51, 27, 31, 48, 38, 38, 20, 24, 21, 40, 56, 40, 70, 49, 18, 25, 40, 43, 44, 27, 63, 41, 43, 25, 70, 40, 35, 30, 57, 52, 41, 86, 27, 60, 40, 49, 28, 32, 21, 30, 60, 35, 25, 40, 35, 43, 64, 65, 32, 28, 25, 69, 16, 54, 22, 35, 23, 31, 45, 18, 38, 16, 41, 28, 60, 40, 32, 42, 34, 56, 30, 88, 43, 45, 26, 16, 57, 25, 52, 41, 49, 20, 50, 32, 34, 42, 47, 70, 28, 65, 22, 52, 39, 22, 24, 27, 50, 27, 27, 28, 37, 19, 31, 80, 17, 22, 80, 70, 51, 28, 23, 46, 93, 30, 30, 28, 45, 22, 75, 33, 55, 20, 50, 74, 22, 60, 23, 33, 42, 27, 25, 20, 49, 16, 53, 31, 19, 64, 45, 38, 28, 57, 16, 50, 25, 42, 35, 28, 28, 36, 25, 28, 47, 79, 36, 29, 56, 30, 30, 43, 27, 47, 27, 42, 44, 74, 55, 54, 28, 30, 18, 48, 20, 16, 38, 30, 53, 29, 67, 65, 31, 19, 42, 52, 25, 26, 36, 58, 36, 38, 20, 26, 61, 24, 18, 30, 26, 20, 55, 65, 44, 29, 22, 78, 27, 37, 30, 37, 36, 19, 45, 30, 37, 37, 60, 65, 17, 32, 57, 43, 53, 25, 22, 17, 68, 21, 24, 25, 63, 17, 75, 51, 42, 72, 22, 43, 46, 45, 31, 51, 55, 91, 26, 80, 31, 22, 45, 56, 16, 54, 30, 33, 45, 70, 44, 24, 27, 22, 47, 30, 34, 98, 27, 31, 25, 29, 35, 32, 23, 79, 35, 35, 21, 31, 24, 30, 78, 29, 52, 58, 61, 42, 49, 51, 20, 55, 17, 32, 34, 73, 29, 38, 67, 43, 20, 29, 19, 30, 23, 35, 22, 47, 20, 43, 25, 18, 55, 56, 45, 60, 17, 70, 24, 29, 28, 38, 80, 26, 26, 32, 45, 18, 30, 52, 31, 35, 31, 21, 58, 34, 35, 26, 68, 42, 43, 32, 40, 78, 51, 49, 68, 44, 65, 40, 49, 72, 31, 52, 71, 70, 42, 29, 67, 29, 32, 41, 29, 30, 25, 45, 18, 39, 18, 17, 67, 40, 73, 55, 19, 22, 22, 19, 54, 23, 38, 50, 20, 58, 39, 33, 25, 57, 19, 49, 24, 25, 16, 29, 38, 55, 19, 39, 22, 25, 31, 26, 26, 34, 56, 22, 22, 45, 30, 60, 43, 17, 28, 29, 45, 42, 28, 68, 30, 16, 18, 43, 28, 16, 32, 43, 48, 22, 40, 54, 62, 18, 36, 20, 51, 54, 64, 24, 35, 36, 24, 24, 66, 23, 81, 32, 32, 29, 60, 42, 70, 45, 26, 32, 56, 35, 42, 47, 19, 22, 25, 21, 49, 35, 48, 70, 26, 44, 29, 47, 35, 67, 37, 37, 56, 25, 42, 22, 34, 27, 22, 30, 60, 34, 47, 69, 65, 42, 16, 19, 42, 38, 33, 16, 30, 77, 50, 22, 22, 57, 34, 25, 27, 66, 48, 85, 20, 60, 52, 53, 25, 35, 82, 23, 64, 35, 70, 22, 50, 65, 28, 19, 17, 30, 22, 58, 31, 67, 36, 24, 67, 30, 36, 30, 20, 32, 88, 35, 41, 70, 32, 25, 19, 24, 60, 35, 43, 69, 40, 56, 34, 75, 18, 29, 54, 20, 30, 61, 25, 59, 30, 44, 28, 23, 30, 63, 75, 29, 22, 74, 29, 58, 39, 30, 25, 40, 27, 45, 20, 54, 57, 20, 42, 65, 19, 26, 32, 24, 30, 38, 68, 32, 37, 35, 22, 27, 32, 58, 30, 16, 22, 49, 49, 17, 23, 18, 18, 31, 25, 32, 78, 17, 67, 37, 35, 36, 28, 32, 43, 23, 44, 27, 80, 58, 40, 70, 32, 53, 35, 32, 60, 38, 38, 58, 16, 32, 66, 41, 31, 32, 20, 64, 72, 21, 50, 54, 45, 24, 63, 59, 41, 32, 82, 18, 65, 45, 35, 40, 39, 30, 62, 28, 20, 33, 28, 40, 25, 27, 34, 40, 52, 36, 49, 44, 27, 45, 24, 42, 22, 28, 40, 68, 38, 31, 31, 60, 18, 45, 53, 17, 39, 57, 63, 100, 54, 43, 26, 81, 69, 56, 42, 35, 23, 60, 24, 47, 31, 47, 31, 27, 21, 32, 30, 22, 70, 16, 32, 68, 58, 44, 35, 49, 70, 30, 76, 30, 23, 28, 20, 32, 53, 45, 39, 45, 34, 67, 34, 27, 47, 40, 70, 22, 34, 50, 30, 53, 70, 18, 47, 57, 55, 59, 25, 32, 30, 22, 41, 20, 17, 18, 53, 28, 39, 33, 30, 25, 72, 47, 23, 22, 59, 37, 55, 18, 32, 38, 49, 53, 25, 38, 41, 17, 18, 41, 22, 32, 28, 24, 65, 22, 65, 25, 18, 57, 58, 37, 27, 47, 26, 19, 62, 56, 29, 77, 21, 21, 33, 37, 75, 28, 60, 33, 37, 29, 42, 45, 25, 23, 45, 44, 78, 60, 25, 42, 28, 24, 40, 19, 63, 40, 38, 40, 23, 75, 24, 70, 28, 26, 53, 49, 45, 34, 42, 22, 28, 32, 29, 50, 25, 16, 22, 80, 21, 34, 58, 21, 79, 27, 18, 35, 31, 40, 61, 42, 20, 35, 82, 45, 26, 23, 26, 27, 36, 69, 55, 21, 83, 40, 52, 20, 39, 16, 53, 90, 23, 32, 30, 66, 39, 18, 37, 23, 22, 45, 34, 24, 26, 32, 24, 27, 33, 26, 51, 44, 40, 29, 53, 40, 27, 47, 34, 37, 55, 25, 46, 19, 33, 37, 20, 50, 33, 43, 59, 30, 48, 35, 48, 57, 30, 16, 23, 28, 35, 21, 72, 54, 49, 45, 60, 32, 43, 56, 20, 63, 22, 30, 22, 21, 66, 26, 75, 30, 53, 26, 33, 40, 52, 31, 45, 45, 17, 49, 36, 23, 27, 26, 52, 32, 32, 36, 38, 65, 65, 75, 80, 31, 18, 30, 29, 47, 30, 37, 22, 46, 31, 22, 32, 55, 56, 45, 44, 34, 37, 34, 54, 67, 33, 25, 36, 24, 41, 18, 21, 28, 52, 44, 33, 52, 75, 33, 50, 60, 23, 53, 52, 55, 24, 27, 46, 69, 27, 50, 18, 20, 63, 22, 18, 34, 16, 40, 48, 33, 55, 53, 75, 26, 50, 64, 43, 45, 71, 24, 23, 76, 28, 34, 49, 61, 42, 18, 25, 42, 33, 17, 65, 27, 62, 50, 35, 41, 27, 26, 18, 60, 29, 57, 39, 41, 80, 35, 36, 45, 20, 55, 17, 57, 29, 22, 40, 48, 17, 68, 17, 43, 22, 46, 26, 28, 70, 85, 72, 68, 17, 17, 22, 54, 41, 52, 42, 59, 50, 20, 41, 21, 48, 60, 43, 32, 25, 19, 28, 25, 16, 51, 40, 28, 85, 53, 40, 70, 66, 67, 42, 56, 60, 87, 32, 30, 38, 19, 60, 61, 20, 51, 40, 27, 41, 55, 56, 21, 51, 37, 30, 35, 35, 35, 22, 26, 22, 29, 43, 56, 40, 37, 64, 42, 45, 40, 48, 22, 32, 32, 28, 55, 72, 45, 51, 36, 50, 18, 22, 63, 36, 25, 35, 37, 67, 74, 26, 49, 69, 32, 69, 57, 40, 55, 43, 35, 69, 64, 53, 50, 35, 24, 43, 19, 19, 33, 76, 32, 29, 38, 84, 23, 47, 23, 42, 43, 23, 22, 20, 40, 48, 80, 27, 16, 34, 35, 56, 22, 52, 35, 41, 49, 21, 60, 24, 50, 27, 28, 19, 35, 65, 19, 49, 47, 23, 25, 22, 68, 70, 34, 35, 43, 33, 45, 50, 26, 35, 24, 69, 28, 31, 41, 23, 23, 30, 19, 38, 45, 20, 18, 16, 40, 54, 30, 35, 32, 69, 43, 22, 44, 34, 30, 73, 82, 25, 46, 33, 16, 43, 46, 40, 19, 44, 29, 70, 28, 45, 61, 50, 59, 30, 26, 22, 35, 23, 24, 36, 22, 29, 60, 70, 32, 27, 28, 61, 47, 64, 20, 21, 78, 46, 40, 47, 60, 25, 32, 65, 64, 55, 35, 50, 19, 23, 29, 60, 54, 48, 53, 20, 25, 17, 33, 43, 57, 75, 33, 28, 28, 40, 19, 34, 23, 42, 47, 35, 25, 75, 30, 65, 55, 28, 76, 26, 25, 43, 16, 28, 23, 37, 49, 29, 61, 35, 22, 25, 52, 24, 16, 32, 36, 21, 20, 56, 38, 41, 35, 66, 40, 49, 45, 47, 49, 28, 38, 25, 36, 38, 25, 37, 59, 44, 55, 32, 35, 47, 61, 59, 62, 35, 43, 32, 45, 79, 18, 20, 22, 80, 48, 23, 23, 45, 18, 40, 31, 34, 20, 38, 52, 33, 37, 18, 36, 58, 25, 36, 65, 21, 25, 24, 68, 30, 49, 75, 86, 63, 35, 43, 18, 32, 27, 20, 28, 50, 79, 23, 38, 40, 20, 19, 38, 60, 35, 37, 28, 80, 60, 50, 75, 37, 28, 33, 49, 32, 27, 39, 28, 50, 29, 35, 24, 24, 18, 34, 28, 50, 50, 45, 28, 43, 50, 49, 28, 38, 36, 37, 28, 29, 25, 28, 76, 29, 30, 19, 56, 57, 52, 45, 46, 42, 34, 30, 20, 21, 27, 34, 21, 63, 17, 40, 24, 35, 63, 27, 26, 27, 63, 39, 19, 34, 17, 46, 60, 16, 49, 65, 26, 47, 24, 27, 33, 36, 36, 42, 55, 22, 26, 54, 22, 26, 31, 44, 23, 29, 30, 52, 30, 89, 27, 22, 25, 30, 24, 26, 29, 25, 22, 60, 39, 27, 43, 37, 24, 22, 37, 41, 45, 46, 21, 30, 95, 18, 60, 40, 32, 37, 34, 27, 37, 42, 39, 29, 21, 45, 73, 23, 42, 30, 30, 30, 44, 44, 17, 32, 37, 16, 36, 30, 46, 38, 46, 37, 29, 53, 23, 37, 48, 16, 34, 17, 24, 36, 42, 18, 25, 23, 63, 45, 20, 18, 31, 59, 16, 49, 29, 45, 32, 22, 35, 23, 21, 60, 29, 26, 17, 38, 26, 33, 47, 24, 25, 65, 32, 78], \"xaxis\": \"x\", \"yaxis\": \"y\"}],\n",
       "                        {\"barmode\": \"relative\", \"height\": 600, \"legend\": {\"tracegroupgap\": 0}, \"margin\": {\"t\": 60}, \"template\": {\"data\": {\"bar\": [{\"error_x\": {\"color\": \"#2a3f5f\"}, \"error_y\": {\"color\": \"#2a3f5f\"}, \"marker\": {\"line\": {\"color\": \"#E5ECF6\", \"width\": 0.5}}, \"type\": \"bar\"}], \"barpolar\": [{\"marker\": {\"line\": {\"color\": \"#E5ECF6\", \"width\": 0.5}}, \"type\": \"barpolar\"}], \"carpet\": [{\"aaxis\": {\"endlinecolor\": \"#2a3f5f\", \"gridcolor\": \"white\", \"linecolor\": \"white\", \"minorgridcolor\": \"white\", \"startlinecolor\": \"#2a3f5f\"}, \"baxis\": {\"endlinecolor\": \"#2a3f5f\", \"gridcolor\": \"white\", \"linecolor\": \"white\", \"minorgridcolor\": \"white\", \"startlinecolor\": \"#2a3f5f\"}, \"type\": \"carpet\"}], \"choropleth\": [{\"colorbar\": {\"outlinewidth\": 0, \"ticks\": \"\"}, \"type\": \"choropleth\"}], \"contour\": [{\"colorbar\": {\"outlinewidth\": 0, \"ticks\": \"\"}, \"colorscale\": [[0.0, \"#0d0887\"], [0.1111111111111111, \"#46039f\"], [0.2222222222222222, \"#7201a8\"], [0.3333333333333333, \"#9c179e\"], [0.4444444444444444, \"#bd3786\"], [0.5555555555555556, \"#d8576b\"], [0.6666666666666666, \"#ed7953\"], [0.7777777777777778, \"#fb9f3a\"], [0.8888888888888888, \"#fdca26\"], [1.0, \"#f0f921\"]], \"type\": \"contour\"}], \"contourcarpet\": [{\"colorbar\": {\"outlinewidth\": 0, \"ticks\": \"\"}, \"type\": \"contourcarpet\"}], \"heatmap\": [{\"colorbar\": {\"outlinewidth\": 0, \"ticks\": \"\"}, \"colorscale\": [[0.0, \"#0d0887\"], [0.1111111111111111, \"#46039f\"], [0.2222222222222222, \"#7201a8\"], [0.3333333333333333, \"#9c179e\"], [0.4444444444444444, \"#bd3786\"], [0.5555555555555556, \"#d8576b\"], [0.6666666666666666, \"#ed7953\"], [0.7777777777777778, \"#fb9f3a\"], [0.8888888888888888, \"#fdca26\"], [1.0, \"#f0f921\"]], \"type\": \"heatmap\"}], \"heatmapgl\": [{\"colorbar\": {\"outlinewidth\": 0, \"ticks\": \"\"}, \"colorscale\": [[0.0, \"#0d0887\"], [0.1111111111111111, \"#46039f\"], [0.2222222222222222, \"#7201a8\"], [0.3333333333333333, \"#9c179e\"], [0.4444444444444444, \"#bd3786\"], [0.5555555555555556, \"#d8576b\"], [0.6666666666666666, \"#ed7953\"], [0.7777777777777778, \"#fb9f3a\"], [0.8888888888888888, \"#fdca26\"], [1.0, \"#f0f921\"]], \"type\": \"heatmapgl\"}], \"histogram\": [{\"marker\": {\"colorbar\": {\"outlinewidth\": 0, \"ticks\": \"\"}}, \"type\": \"histogram\"}], \"histogram2d\": [{\"colorbar\": {\"outlinewidth\": 0, \"ticks\": \"\"}, \"colorscale\": [[0.0, \"#0d0887\"], [0.1111111111111111, \"#46039f\"], [0.2222222222222222, \"#7201a8\"], [0.3333333333333333, \"#9c179e\"], [0.4444444444444444, \"#bd3786\"], [0.5555555555555556, \"#d8576b\"], [0.6666666666666666, \"#ed7953\"], [0.7777777777777778, \"#fb9f3a\"], [0.8888888888888888, \"#fdca26\"], [1.0, \"#f0f921\"]], \"type\": \"histogram2d\"}], \"histogram2dcontour\": [{\"colorbar\": {\"outlinewidth\": 0, \"ticks\": \"\"}, \"colorscale\": [[0.0, \"#0d0887\"], [0.1111111111111111, \"#46039f\"], [0.2222222222222222, \"#7201a8\"], [0.3333333333333333, \"#9c179e\"], [0.4444444444444444, \"#bd3786\"], [0.5555555555555556, \"#d8576b\"], [0.6666666666666666, \"#ed7953\"], [0.7777777777777778, \"#fb9f3a\"], [0.8888888888888888, \"#fdca26\"], [1.0, \"#f0f921\"]], \"type\": \"histogram2dcontour\"}], \"mesh3d\": [{\"colorbar\": {\"outlinewidth\": 0, \"ticks\": \"\"}, \"type\": \"mesh3d\"}], \"parcoords\": [{\"line\": {\"colorbar\": {\"outlinewidth\": 0, \"ticks\": \"\"}}, \"type\": \"parcoords\"}], \"pie\": [{\"automargin\": true, \"type\": \"pie\"}], \"scatter\": [{\"marker\": {\"colorbar\": {\"outlinewidth\": 0, \"ticks\": \"\"}}, \"type\": \"scatter\"}], \"scatter3d\": [{\"line\": {\"colorbar\": {\"outlinewidth\": 0, \"ticks\": \"\"}}, \"marker\": {\"colorbar\": {\"outlinewidth\": 0, \"ticks\": \"\"}}, \"type\": \"scatter3d\"}], \"scattercarpet\": [{\"marker\": {\"colorbar\": {\"outlinewidth\": 0, \"ticks\": \"\"}}, \"type\": \"scattercarpet\"}], \"scattergeo\": [{\"marker\": {\"colorbar\": {\"outlinewidth\": 0, \"ticks\": \"\"}}, \"type\": \"scattergeo\"}], \"scattergl\": [{\"marker\": {\"colorbar\": {\"outlinewidth\": 0, \"ticks\": \"\"}}, \"type\": \"scattergl\"}], \"scattermapbox\": [{\"marker\": {\"colorbar\": {\"outlinewidth\": 0, \"ticks\": \"\"}}, \"type\": \"scattermapbox\"}], \"scatterpolar\": [{\"marker\": {\"colorbar\": {\"outlinewidth\": 0, \"ticks\": \"\"}}, \"type\": \"scatterpolar\"}], \"scatterpolargl\": [{\"marker\": {\"colorbar\": {\"outlinewidth\": 0, \"ticks\": \"\"}}, \"type\": \"scatterpolargl\"}], \"scatterternary\": [{\"marker\": {\"colorbar\": {\"outlinewidth\": 0, \"ticks\": \"\"}}, \"type\": \"scatterternary\"}], \"surface\": [{\"colorbar\": {\"outlinewidth\": 0, \"ticks\": \"\"}, \"colorscale\": [[0.0, \"#0d0887\"], [0.1111111111111111, \"#46039f\"], [0.2222222222222222, \"#7201a8\"], [0.3333333333333333, \"#9c179e\"], [0.4444444444444444, \"#bd3786\"], [0.5555555555555556, \"#d8576b\"], [0.6666666666666666, \"#ed7953\"], [0.7777777777777778, \"#fb9f3a\"], [0.8888888888888888, \"#fdca26\"], [1.0, \"#f0f921\"]], \"type\": \"surface\"}], \"table\": [{\"cells\": {\"fill\": {\"color\": \"#EBF0F8\"}, \"line\": {\"color\": \"white\"}}, \"header\": {\"fill\": {\"color\": \"#C8D4E3\"}, \"line\": {\"color\": \"white\"}}, \"type\": \"table\"}]}, \"layout\": {\"annotationdefaults\": {\"arrowcolor\": \"#2a3f5f\", \"arrowhead\": 0, \"arrowwidth\": 1}, \"coloraxis\": {\"colorbar\": {\"outlinewidth\": 0, \"ticks\": \"\"}}, \"colorscale\": {\"diverging\": [[0, \"#8e0152\"], [0.1, \"#c51b7d\"], [0.2, \"#de77ae\"], [0.3, \"#f1b6da\"], [0.4, \"#fde0ef\"], [0.5, \"#f7f7f7\"], [0.6, \"#e6f5d0\"], [0.7, \"#b8e186\"], [0.8, \"#7fbc41\"], [0.9, \"#4d9221\"], [1, \"#276419\"]], \"sequential\": [[0.0, \"#0d0887\"], [0.1111111111111111, \"#46039f\"], [0.2222222222222222, \"#7201a8\"], [0.3333333333333333, \"#9c179e\"], [0.4444444444444444, \"#bd3786\"], [0.5555555555555556, \"#d8576b\"], [0.6666666666666666, \"#ed7953\"], [0.7777777777777778, \"#fb9f3a\"], [0.8888888888888888, \"#fdca26\"], [1.0, \"#f0f921\"]], \"sequentialminus\": [[0.0, \"#0d0887\"], [0.1111111111111111, \"#46039f\"], [0.2222222222222222, \"#7201a8\"], [0.3333333333333333, \"#9c179e\"], [0.4444444444444444, \"#bd3786\"], [0.5555555555555556, \"#d8576b\"], [0.6666666666666666, \"#ed7953\"], [0.7777777777777778, \"#fb9f3a\"], [0.8888888888888888, \"#fdca26\"], [1.0, \"#f0f921\"]]}, \"colorway\": [\"#636efa\", \"#EF553B\", \"#00cc96\", \"#ab63fa\", \"#FFA15A\", \"#19d3f3\", \"#FF6692\", \"#B6E880\", \"#FF97FF\", \"#FECB52\"], \"font\": {\"color\": \"#2a3f5f\"}, \"geo\": {\"bgcolor\": \"white\", \"lakecolor\": \"white\", \"landcolor\": \"#E5ECF6\", \"showlakes\": true, \"showland\": true, \"subunitcolor\": \"white\"}, \"hoverlabel\": {\"align\": \"left\"}, \"hovermode\": \"closest\", \"mapbox\": {\"style\": \"light\"}, \"paper_bgcolor\": \"white\", \"plot_bgcolor\": \"#E5ECF6\", \"polar\": {\"angularaxis\": {\"gridcolor\": \"white\", \"linecolor\": \"white\", \"ticks\": \"\"}, \"bgcolor\": \"#E5ECF6\", \"radialaxis\": {\"gridcolor\": \"white\", \"linecolor\": \"white\", \"ticks\": \"\"}}, \"scene\": {\"xaxis\": {\"backgroundcolor\": \"#E5ECF6\", \"gridcolor\": \"white\", \"gridwidth\": 2, \"linecolor\": \"white\", \"showbackground\": true, \"ticks\": \"\", \"zerolinecolor\": \"white\"}, \"yaxis\": {\"backgroundcolor\": \"#E5ECF6\", \"gridcolor\": \"white\", \"gridwidth\": 2, \"linecolor\": \"white\", \"showbackground\": true, \"ticks\": \"\", \"zerolinecolor\": \"white\"}, \"zaxis\": {\"backgroundcolor\": \"#E5ECF6\", \"gridcolor\": \"white\", \"gridwidth\": 2, \"linecolor\": \"white\", \"showbackground\": true, \"ticks\": \"\", \"zerolinecolor\": \"white\"}}, \"shapedefaults\": {\"line\": {\"color\": \"#2a3f5f\"}}, \"ternary\": {\"aaxis\": {\"gridcolor\": \"white\", \"linecolor\": \"white\", \"ticks\": \"\"}, \"baxis\": {\"gridcolor\": \"white\", \"linecolor\": \"white\", \"ticks\": \"\"}, \"bgcolor\": \"#E5ECF6\", \"caxis\": {\"gridcolor\": \"white\", \"linecolor\": \"white\", \"ticks\": \"\"}}, \"title\": {\"x\": 0.05}, \"xaxis\": {\"automargin\": true, \"gridcolor\": \"white\", \"linecolor\": \"white\", \"ticks\": \"\", \"title\": {\"standoff\": 15}, \"zerolinecolor\": \"white\", \"zerolinewidth\": 2}, \"yaxis\": {\"automargin\": true, \"gridcolor\": \"white\", \"linecolor\": \"white\", \"ticks\": \"\", \"title\": {\"standoff\": 15}, \"zerolinecolor\": \"white\", \"zerolinewidth\": 2}}}, \"xaxis\": {\"anchor\": \"y\", \"domain\": [0.0, 1.0], \"title\": {\"text\": \"age\"}}, \"yaxis\": {\"anchor\": \"x\", \"domain\": [0.0, 1.0], \"title\": {\"text\": \"count\"}}},\n",
       "                        {\"responsive\": true}\n",
       "                    ).then(function(){\n",
       "                            \n",
       "var gd = document.getElementById('ddfe6a25-cf2a-4c23-8fa7-ac68ff48ab6d');\n",
       "var x = new MutationObserver(function (mutations, observer) {{\n",
       "        var display = window.getComputedStyle(gd).display;\n",
       "        if (!display || display === 'none') {{\n",
       "            console.log([gd, 'removed!']);\n",
       "            Plotly.purge(gd);\n",
       "            observer.disconnect();\n",
       "        }}\n",
       "}});\n",
       "\n",
       "// Listen for the removal of the full notebook cells\n",
       "var notebookContainer = gd.closest('#notebook-container');\n",
       "if (notebookContainer) {{\n",
       "    x.observe(notebookContainer, {childList: true});\n",
       "}}\n",
       "\n",
       "// Listen for the clearing of the current output cell\n",
       "var outputEl = gd.closest('.output');\n",
       "if (outputEl) {{\n",
       "    x.observe(outputEl, {childList: true});\n",
       "}}\n",
       "\n",
       "                        })\n",
       "                };\n",
       "                });\n",
       "            </script>\n",
       "        </div>"
      ]
     },
     "metadata": {},
     "output_type": "display_data"
    }
   ],
   "source": [
    "fig = px.histogram(data, data.age, color=\"Gender\",nbins=20, opacity=0.60)\n",
    "#fig.update_traces(opacity=0.75)\n",
    "fig.show()"
   ]
  },
  {
   "cell_type": "markdown",
   "metadata": {},
   "source": [
    "### &emsp;&emsp;&emsp;&emsp;&emsp;&emsp;&emsp;&emsp;&emsp;&emsp;&emsp;&emsp;&emsp;&emsp;Total Age Distribution Of People Using Mobile Money"
   ]
  },
  {
   "cell_type": "code",
   "execution_count": 8,
   "metadata": {
    "hideCode": true
   },
   "outputs": [
    {
     "data": {
      "application/vnd.plotly.v1+json": {
       "config": {
        "plotlyServerURL": "https://plot.ly"
       },
       "data": [
        {
         "alignmentgroup": "True",
         "bingroup": "x",
         "hoverlabel": {
          "namelength": 0
         },
         "hovertemplate": "Gender=Male<br>age=%{x}<br>count=%{y}",
         "legendgroup": "Gender=Male",
         "marker": {
          "color": "#636efa",
          "opacity": 0.6
         },
         "name": "Gender=Male",
         "nbinsx": 20,
         "offsetgroup": "Gender=Male",
         "orientation": "v",
         "showlegend": true,
         "type": "histogram",
         "x": [
          40,
          50,
          34,
          38,
          44,
          19,
          46,
          19,
          30,
          35,
          35,
          25,
          23,
          21,
          32,
          24,
          34,
          26,
          31,
          23,
          45,
          25,
          26,
          28,
          57,
          42,
          30,
          47,
          39,
          51,
          48,
          69,
          19,
          65,
          17,
          33,
          20,
          36,
          51,
          25,
          43,
          22,
          30,
          43,
          21,
          34,
          43,
          27,
          42,
          23,
          36,
          26,
          45,
          17,
          56,
          39,
          24,
          47,
          28,
          25,
          57,
          66,
          55,
          22,
          18,
          25,
          51,
          26,
          28,
          65,
          47,
          19,
          55,
          36,
          33,
          51,
          24,
          25,
          22,
          30,
          20,
          17,
          24,
          48,
          30,
          40,
          29,
          32,
          32,
          27,
          23,
          30,
          23,
          45,
          32,
          35,
          49,
          18,
          60,
          27,
          57,
          35,
          36,
          30,
          33,
          43,
          61,
          28,
          35,
          46,
          31,
          30,
          52,
          32,
          45,
          58,
          50,
          48,
          21,
          43,
          28,
          26,
          45,
          41,
          23,
          50,
          36,
          29,
          36,
          19,
          31,
          34,
          17,
          42,
          35,
          22,
          76,
          26,
          23,
          25,
          26,
          34,
          23,
          39,
          32,
          57,
          30,
          53,
          68,
          31,
          22,
          35,
          43,
          25,
          34,
          54,
          30,
          25,
          17,
          18,
          40,
          20,
          25,
          42,
          25,
          53,
          70,
          20,
          27,
          80,
          57,
          57,
          25,
          29,
          32,
          37,
          27,
          54,
          60,
          63,
          30,
          38,
          30,
          35,
          24,
          17,
          49,
          33,
          23,
          39,
          32,
          32,
          53,
          33,
          16,
          33,
          25,
          61,
          77,
          32,
          38,
          55,
          38,
          41,
          52,
          50,
          20,
          68,
          40,
          24,
          25,
          25,
          44,
          47,
          39,
          48,
          55,
          35,
          43,
          36,
          22,
          20,
          36,
          18,
          45,
          35,
          16,
          20,
          17,
          42,
          45,
          43,
          43,
          18,
          39,
          45,
          34,
          21,
          27,
          32,
          47,
          34,
          65,
          40,
          20,
          30,
          40,
          49,
          70,
          22,
          26,
          32,
          47,
          66,
          60,
          68,
          54,
          25,
          58,
          63,
          19,
          43,
          23,
          22,
          58,
          20,
          38,
          29,
          18,
          27,
          39,
          35,
          21,
          24,
          63,
          26,
          59,
          28,
          45,
          26,
          30,
          24,
          60,
          25,
          42,
          29,
          24,
          30,
          49,
          69,
          28,
          30,
          36,
          35,
          16,
          33,
          29,
          17,
          39,
          30,
          28,
          23,
          37,
          24,
          23,
          31,
          35,
          34,
          24,
          30,
          36,
          24,
          63,
          78,
          37,
          24,
          38,
          50,
          37,
          20,
          45,
          45,
          40,
          40,
          56,
          44,
          34,
          31,
          31,
          24,
          52,
          38,
          51,
          45,
          25,
          56,
          50,
          31,
          29,
          23,
          46,
          26,
          38,
          34,
          51,
          27,
          38,
          29,
          55,
          30,
          31,
          25,
          33,
          28,
          20,
          49,
          48,
          18,
          19,
          24,
          36,
          56,
          34,
          63,
          37,
          26,
          53,
          65,
          24,
          45,
          36,
          36,
          38,
          28,
          22,
          17,
          29,
          83,
          30,
          46,
          48,
          45,
          27,
          28,
          42,
          45,
          52,
          25,
          58,
          49,
          40,
          25,
          64,
          36,
          63,
          40,
          43,
          40,
          23,
          63,
          58,
          20,
          20,
          52,
          43,
          23,
          27,
          42,
          51,
          30,
          29,
          41,
          48,
          69,
          22,
          47,
          36,
          35,
          35,
          40,
          60,
          23,
          22,
          26,
          32,
          31,
          24,
          25,
          21,
          16,
          17,
          36,
          35,
          23,
          45,
          27,
          41,
          38,
          32,
          60,
          38,
          28,
          28,
          23,
          26,
          39,
          37,
          42,
          86,
          26,
          28,
          25,
          40,
          41,
          62,
          33,
          26,
          38,
          25,
          47,
          25,
          37,
          59,
          18,
          24,
          45,
          26,
          21,
          34,
          36,
          41,
          40,
          44,
          74,
          40,
          39,
          50,
          76,
          24,
          78,
          45,
          18,
          21,
          43,
          27,
          32,
          65,
          43,
          78,
          34,
          30,
          46,
          57,
          29,
          67,
          77,
          52,
          34,
          21,
          75,
          43,
          37,
          17,
          27,
          38,
          39,
          50,
          34,
          35,
          37,
          35,
          50,
          50,
          26,
          60,
          71,
          43,
          50,
          50,
          25,
          22,
          38,
          32,
          52,
          36,
          40,
          58,
          30,
          35,
          32,
          32,
          28,
          26,
          25,
          28,
          29,
          78,
          26,
          35,
          42,
          25,
          21,
          74,
          35,
          24,
          38,
          47,
          32,
          25,
          30,
          18,
          35,
          30,
          43,
          41,
          34,
          36,
          35,
          60,
          29,
          30,
          33,
          35,
          63,
          56,
          18,
          55,
          39,
          29,
          24,
          47,
          38,
          32,
          35,
          57,
          40,
          66,
          64,
          31,
          56,
          84,
          25,
          46,
          38,
          36,
          27,
          35,
          59,
          44,
          26,
          23,
          51,
          55,
          32,
          28,
          27,
          25,
          21,
          64,
          28,
          58,
          25,
          21,
          35,
          21,
          60,
          94,
          28,
          29,
          46,
          34,
          32,
          54,
          54,
          29,
          39,
          40,
          35,
          24,
          39,
          40,
          31,
          28,
          29,
          22,
          50,
          37,
          74,
          44,
          24,
          38,
          29,
          39,
          41,
          17,
          36,
          22,
          20,
          42,
          19,
          38,
          31,
          38,
          36,
          55,
          27,
          36,
          34,
          42,
          26,
          29,
          38,
          36,
          34,
          29,
          18,
          37,
          27,
          53,
          30,
          37,
          45,
          23,
          60,
          21,
          44,
          36,
          19,
          29,
          39,
          56,
          25,
          58,
          37,
          21,
          38,
          41,
          23,
          34,
          63,
          71,
          32,
          21,
          28,
          52,
          57,
          29,
          31,
          22,
          35,
          46,
          41,
          56,
          32,
          48,
          45,
          21,
          40,
          36,
          65,
          24,
          25,
          55,
          48,
          36,
          21,
          53,
          16,
          45,
          40,
          17,
          33,
          41,
          39,
          35,
          26,
          40,
          36,
          22,
          25,
          29,
          24,
          20,
          70,
          31,
          29,
          30,
          40,
          35,
          37,
          55,
          30,
          34,
          71,
          63,
          21,
          43,
          35,
          36,
          26,
          26,
          57,
          58,
          29,
          22,
          62,
          46,
          27,
          27,
          22,
          22,
          34,
          21,
          37,
          26,
          32,
          27,
          30,
          30,
          18,
          46,
          50,
          19,
          25,
          21,
          30,
          24,
          50,
          35,
          28,
          68,
          26,
          47,
          21,
          39,
          23,
          42,
          25,
          50,
          18,
          54,
          51,
          64,
          24,
          62,
          18,
          37,
          41,
          38,
          30,
          45,
          53,
          58,
          49,
          66,
          24,
          73,
          28,
          40,
          48,
          67,
          28,
          28,
          35,
          28,
          29,
          65,
          53,
          32,
          21,
          17,
          28,
          35,
          20,
          25,
          42,
          53,
          40,
          23,
          37,
          31,
          40,
          22,
          45,
          23,
          25,
          22,
          29,
          35,
          60,
          18,
          34,
          30,
          48,
          27,
          39,
          43,
          35,
          43,
          35,
          23,
          31,
          34,
          45,
          23,
          53,
          32,
          32,
          25,
          62,
          65,
          30,
          26,
          45,
          47,
          33,
          28,
          48,
          29,
          66,
          37,
          35,
          23,
          23,
          47,
          30,
          41,
          33,
          17,
          50,
          33,
          32,
          28,
          22,
          31,
          40,
          50,
          22,
          30,
          56,
          45,
          54,
          35,
          32,
          49,
          31,
          18,
          48,
          33,
          29,
          33,
          73,
          33,
          55,
          43,
          59,
          30,
          27,
          40,
          42,
          30,
          65,
          33,
          30,
          21,
          57,
          40,
          60,
          62,
          85,
          32,
          32,
          42,
          36,
          41,
          25,
          30,
          50,
          40,
          40,
          78,
          22,
          51,
          27,
          31,
          48,
          38,
          20,
          24,
          21,
          56,
          40,
          70,
          49,
          40,
          43,
          44,
          41,
          43,
          25,
          70,
          40,
          35,
          57,
          52,
          41,
          27,
          32,
          30,
          35,
          25,
          40,
          43,
          64,
          65,
          32,
          28,
          25,
          54,
          22,
          35,
          23,
          31,
          45,
          18,
          38,
          41,
          28,
          40,
          32,
          34,
          56,
          30,
          88,
          43,
          45,
          26,
          57,
          25,
          52,
          20,
          34,
          47,
          70,
          28,
          65,
          22,
          52,
          39,
          24,
          27,
          50,
          27,
          27,
          28,
          19,
          51,
          28,
          23,
          46,
          93,
          30,
          30,
          28,
          45,
          22,
          33,
          55,
          20,
          50,
          74,
          22,
          60,
          33,
          42,
          25,
          49,
          53,
          31,
          64,
          38,
          28,
          57,
          50,
          25,
          42,
          35,
          28,
          28,
          36,
          25,
          47,
          36,
          29,
          30,
          43,
          27,
          27,
          42,
          44,
          55,
          28,
          30,
          18,
          20,
          38,
          29,
          67,
          42,
          25,
          26,
          36,
          58,
          36,
          38,
          20,
          26,
          61,
          24,
          30,
          26,
          44,
          29,
          27,
          37,
          30,
          37,
          19,
          30,
          37,
          37,
          60,
          17,
          32,
          43,
          53,
          22,
          17,
          21,
          24,
          25,
          63,
          17,
          51,
          42,
          22,
          46,
          45,
          51,
          26,
          80,
          31,
          22,
          45,
          56,
          54,
          30,
          45,
          44,
          30,
          34,
          27,
          31,
          25,
          29,
          35,
          23,
          79,
          35,
          21,
          31,
          24,
          30,
          29,
          52,
          61,
          42,
          49,
          51,
          55,
          17,
          32,
          34,
          29,
          38,
          43,
          20,
          29,
          19,
          23,
          47,
          20,
          43,
          25,
          18,
          55,
          45,
          29,
          28,
          38,
          26,
          26,
          32,
          45,
          18,
          31,
          58,
          35,
          43,
          32,
          51,
          49,
          68,
          44,
          49,
          31,
          52,
          29,
          67,
          29,
          41,
          29,
          30,
          25,
          45,
          18,
          39,
          17,
          40,
          19,
          19,
          54,
          23,
          38,
          50,
          58,
          39,
          25,
          57,
          24,
          16,
          38,
          19,
          22,
          25,
          31,
          26,
          22,
          45,
          17,
          28,
          29,
          28,
          68,
          16,
          18,
          43,
          28,
          16,
          54,
          36,
          20,
          51,
          54,
          64,
          35,
          36,
          24,
          24,
          23,
          32,
          32,
          29,
          70,
          45,
          32,
          42,
          19,
          22,
          49,
          48,
          70,
          26,
          44,
          29,
          47,
          35,
          56,
          25,
          42,
          22,
          34,
          22,
          30,
          60,
          34,
          47,
          65,
          42,
          19,
          42,
          33,
          50,
          22,
          22,
          34,
          25,
          27,
          66,
          48,
          20,
          53,
          35,
          23,
          22,
          28,
          58,
          31,
          36,
          24,
          67,
          30,
          32,
          35,
          41,
          32,
          25,
          19,
          24,
          60,
          69,
          75,
          18,
          29,
          59,
          44,
          28,
          23,
          30,
          63,
          29,
          22,
          39,
          30,
          25,
          40,
          20,
          54,
          20,
          42,
          24,
          30,
          38,
          37,
          35,
          58,
          30,
          22,
          49,
          18,
          18,
          32,
          37,
          35,
          28,
          32,
          43,
          23,
          27,
          58,
          40,
          32,
          35,
          32,
          60,
          38,
          58,
          32,
          41,
          31,
          32,
          20,
          72,
          21,
          54,
          45,
          24,
          63,
          59,
          41,
          18,
          65,
          40,
          39,
          30,
          28,
          20,
          33,
          28,
          40,
          25,
          27,
          36,
          44,
          27,
          45,
          24,
          22,
          28,
          40,
          38,
          31,
          31,
          45,
          39,
          57,
          63,
          54,
          43,
          26,
          81,
          35,
          23,
          47,
          31,
          31,
          27,
          21,
          32,
          30,
          22,
          16,
          32,
          68,
          58,
          44,
          35,
          49,
          70,
          30,
          76,
          30,
          23,
          20,
          32,
          45,
          39,
          67,
          27,
          70,
          34,
          50,
          30,
          53,
          57,
          55,
          32,
          30,
          22,
          41,
          17,
          18,
          53,
          28,
          39,
          33,
          25,
          47,
          23,
          37,
          55,
          38,
          38,
          41,
          17,
          18,
          41,
          22,
          32,
          28,
          24,
          65,
          25,
          57,
          58,
          37,
          27,
          47,
          26,
          19,
          29,
          77,
          21,
          21,
          33,
          28,
          33,
          37,
          29,
          42,
          45,
          25,
          60,
          25,
          42,
          24,
          63,
          40,
          38,
          40,
          23,
          75,
          24,
          28,
          26,
          53,
          49,
          42,
          22,
          28,
          29,
          50,
          22,
          34,
          21,
          27,
          35,
          31,
          42,
          35,
          26,
          26,
          55,
          21,
          83,
          40,
          52,
          16,
          53,
          23,
          32,
          30,
          66,
          39,
          18,
          37,
          22,
          45,
          34,
          26,
          24,
          27,
          33,
          26,
          51,
          44,
          40,
          29,
          53,
          40,
          27,
          47,
          34,
          37,
          25,
          46,
          33,
          20,
          33,
          43,
          59,
          30,
          48,
          35,
          57,
          30,
          23,
          28,
          49,
          60,
          32,
          43,
          56,
          20,
          63,
          22,
          21,
          66,
          26,
          30,
          26,
          33,
          40,
          45,
          45,
          17,
          49,
          36,
          23,
          26,
          32,
          36,
          38,
          65,
          75,
          31,
          29,
          47,
          30,
          22,
          22,
          56,
          34,
          54,
          67,
          33,
          25,
          36,
          41,
          18,
          44,
          33,
          52,
          33,
          50,
          53,
          55,
          24,
          27,
          46,
          27,
          20,
          63,
          22,
          33,
          55,
          26,
          50,
          45,
          24,
          28,
          34,
          61,
          42,
          18,
          25,
          42,
          17,
          27,
          62,
          41,
          26,
          18,
          60,
          29,
          57,
          39,
          35,
          45,
          57,
          22,
          48,
          17,
          68,
          43,
          22,
          46,
          26,
          28,
          22,
          54,
          41,
          59,
          20,
          21,
          48,
          43,
          25,
          19,
          28,
          51,
          53,
          70,
          66,
          67,
          60,
          32,
          38,
          19,
          60,
          61,
          20,
          51,
          40,
          27,
          41,
          55,
          56,
          21,
          37,
          30,
          35,
          35,
          26,
          29,
          43,
          56,
          37,
          64,
          42,
          45,
          48,
          32,
          32,
          28,
          45,
          51,
          50,
          22,
          63,
          36,
          25,
          35,
          37,
          74,
          26,
          69,
          57,
          40,
          55,
          35,
          64,
          53,
          50,
          43,
          19,
          19,
          33,
          32,
          29,
          23,
          47,
          23,
          42,
          43,
          23,
          20,
          40,
          48,
          27,
          34,
          35,
          56,
          52,
          35,
          41,
          49,
          21,
          60,
          50,
          28,
          19,
          35,
          19,
          49,
          23,
          25,
          22,
          34,
          35,
          33,
          45,
          26,
          24,
          69,
          28,
          41,
          23,
          38,
          45,
          18,
          30,
          35,
          32,
          69,
          43,
          46,
          43,
          46,
          40,
          29,
          28,
          50,
          30,
          22,
          35,
          24,
          22,
          29,
          60,
          70,
          32,
          27,
          28,
          61,
          46,
          40,
          47,
          25,
          35,
          19,
          23,
          29,
          60,
          54,
          48,
          53,
          20,
          25,
          57,
          33,
          28,
          34,
          23,
          47,
          35,
          55,
          28,
          26,
          25,
          43,
          28,
          23,
          37,
          29,
          61,
          35,
          22,
          24,
          32,
          36,
          21,
          20,
          35,
          66,
          49,
          47,
          49,
          28,
          38,
          25,
          36,
          37,
          55,
          32,
          35,
          47,
          59,
          43,
          32,
          45,
          18,
          20,
          22,
          23,
          23,
          18,
          31,
          34,
          20,
          38,
          33,
          37,
          18,
          36,
          58,
          25,
          25,
          24,
          30,
          35,
          32,
          27,
          28,
          50,
          23,
          38,
          35,
          80,
          60,
          33,
          49,
          32,
          27,
          39,
          28,
          50,
          29,
          35,
          24,
          24,
          18,
          28,
          45,
          43,
          49,
          28,
          38,
          36,
          37,
          28,
          25,
          56,
          52,
          45,
          46,
          42,
          34,
          20,
          21,
          27,
          34,
          21,
          17,
          40,
          24,
          35,
          27,
          26,
          27,
          63,
          39,
          19,
          34,
          46,
          60,
          47,
          24,
          27,
          33,
          36,
          22,
          26,
          54,
          31,
          44,
          23,
          29,
          30,
          30,
          25,
          24,
          26,
          29,
          22,
          39,
          27,
          43,
          37,
          24,
          22,
          37,
          41,
          45,
          46,
          21,
          30,
          18,
          32,
          37,
          34,
          27,
          37,
          42,
          21,
          45,
          23,
          42,
          30,
          30,
          44,
          17,
          32,
          16,
          36,
          30,
          46,
          29,
          53,
          23,
          48,
          34,
          24,
          36,
          42,
          23,
          63,
          20,
          31,
          59,
          49,
          29,
          45,
          32,
          22,
          35,
          23,
          21,
          60,
          29,
          26,
          17,
          38,
          26,
          33,
          47,
          24,
          25,
          32
         ],
         "xaxis": "x",
         "yaxis": "y"
        },
        {
         "alignmentgroup": "True",
         "bingroup": "x",
         "hoverlabel": {
          "namelength": 0
         },
         "hovertemplate": "Gender=Female<br>age=%{x}<br>count=%{y}",
         "legendgroup": "Gender=Female",
         "marker": {
          "color": "#EF553B",
          "opacity": 0.6
         },
         "name": "Gender=Female",
         "nbinsx": 20,
         "offsetgroup": "Gender=Female",
         "orientation": "v",
         "showlegend": true,
         "type": "histogram",
         "x": [
          18,
          31,
          23,
          37,
          18,
          29,
          22,
          21,
          24,
          30,
          27,
          42,
          29,
          20,
          26,
          44,
          32,
          53,
          35,
          20,
          37,
          38,
          20,
          46,
          65,
          24,
          45,
          31,
          32,
          50,
          30,
          29,
          25,
          44,
          26,
          21,
          36,
          51,
          50,
          20,
          30,
          21,
          30,
          21,
          50,
          66,
          42,
          44,
          45,
          53,
          18,
          18,
          49,
          21,
          35,
          47,
          22,
          20,
          26,
          48,
          42,
          43,
          30,
          25,
          37,
          53,
          27,
          33,
          27,
          45,
          51,
          53,
          29,
          40,
          31,
          41,
          61,
          22,
          32,
          32,
          48,
          80,
          24,
          42,
          23,
          26,
          33,
          61,
          24,
          26,
          26,
          36,
          45,
          48,
          19,
          48,
          35,
          32,
          33,
          21,
          60,
          20,
          30,
          32,
          20,
          45,
          40,
          37,
          16,
          29,
          62,
          55,
          51,
          46,
          57,
          31,
          39,
          31,
          19,
          50,
          17,
          33,
          30,
          70,
          65,
          32,
          28,
          26,
          35,
          27,
          49,
          32,
          33,
          48,
          66,
          26,
          25,
          35,
          51,
          30,
          25,
          30,
          48,
          40,
          30,
          34,
          30,
          40,
          37,
          23,
          26,
          30,
          46,
          22,
          48,
          47,
          24,
          35,
          20,
          23,
          43,
          29,
          35,
          28,
          45,
          20,
          26,
          28,
          35,
          25,
          31,
          35,
          55,
          36,
          77,
          20,
          46,
          35,
          28,
          27,
          39,
          45,
          41,
          36,
          34,
          32,
          22,
          32,
          41,
          68,
          24,
          33,
          25,
          62,
          40,
          28,
          52,
          49,
          21,
          42,
          30,
          38,
          27,
          40,
          40,
          30,
          40,
          36,
          39,
          24,
          24,
          24,
          47,
          50,
          37,
          50,
          35,
          25,
          56,
          52,
          32,
          35,
          80,
          34,
          38,
          48,
          22,
          18,
          20,
          21,
          18,
          33,
          43,
          30,
          25,
          33,
          57,
          51,
          29,
          42,
          40,
          28,
          20,
          33,
          20,
          26,
          32,
          24,
          50,
          27,
          21,
          23,
          19,
          21,
          20,
          18,
          25,
          37,
          25,
          27,
          30,
          46,
          72,
          73,
          27,
          16,
          49,
          24,
          16,
          30,
          48,
          31,
          19,
          45,
          36,
          34,
          44,
          23,
          40,
          65,
          63,
          19,
          30,
          39,
          70,
          35,
          20,
          44,
          56,
          58,
          42,
          47,
          27,
          43,
          27,
          47,
          25,
          33,
          41,
          50,
          42,
          23,
          62,
          46,
          18,
          31,
          35,
          23,
          21,
          37,
          28,
          27,
          39,
          21,
          63,
          25,
          46,
          28,
          42,
          60,
          42,
          26,
          24,
          40,
          27,
          35,
          62,
          25,
          44,
          32,
          58,
          25,
          36,
          27,
          29,
          49,
          54,
          17,
          38,
          73,
          54,
          43,
          32,
          28,
          38,
          27,
          51,
          29,
          38,
          43,
          28,
          28,
          20,
          35,
          36,
          24,
          33,
          21,
          30,
          26,
          40,
          49,
          22,
          26,
          24,
          60,
          26,
          22,
          29,
          33,
          40,
          19,
          43,
          28,
          18,
          30,
          19,
          38,
          43,
          60,
          35,
          34,
          38,
          30,
          35,
          55,
          47,
          31,
          22,
          23,
          33,
          23,
          52,
          23,
          25,
          53,
          49,
          35,
          20,
          44,
          40,
          52,
          63,
          75,
          23,
          46,
          24,
          39,
          23,
          26,
          71,
          38,
          47,
          34,
          35,
          60,
          24,
          37,
          53,
          28,
          25,
          32,
          45,
          32,
          30,
          38,
          35,
          23,
          26,
          25,
          32,
          26,
          23,
          27,
          20,
          26,
          20,
          31,
          65,
          30,
          23,
          29,
          39,
          42,
          28,
          57,
          40,
          30,
          45,
          32,
          42,
          60,
          38,
          51,
          42,
          45,
          43,
          39,
          43,
          35,
          47,
          22,
          22,
          38,
          17,
          28,
          52,
          26,
          25,
          28,
          20,
          21,
          28,
          25,
          25,
          27,
          48,
          45,
          75,
          25,
          66,
          40,
          35,
          19,
          28,
          70,
          24,
          29,
          32,
          28,
          19,
          34,
          22,
          35,
          18,
          38,
          60,
          28,
          38,
          60,
          20,
          40,
          52,
          34,
          36,
          36,
          19,
          23,
          25,
          29,
          24,
          22,
          59,
          20,
          19,
          19,
          59,
          65,
          46,
          65,
          41,
          24,
          36,
          45,
          28,
          32,
          25,
          36,
          25,
          23,
          24,
          24,
          19,
          32,
          35,
          19,
          33,
          41,
          24,
          57,
          28,
          30,
          52,
          35,
          16,
          35,
          28,
          43,
          27,
          37,
          23,
          40,
          31,
          22,
          47,
          38,
          28,
          27,
          21,
          23,
          73,
          45,
          32,
          20,
          19,
          34,
          20,
          37,
          30,
          65,
          42,
          17,
          40,
          32,
          65,
          88,
          36,
          45,
          28,
          38,
          22,
          23,
          22,
          23,
          20,
          34,
          38,
          40,
          50,
          26,
          64,
          28,
          26,
          28,
          25,
          41,
          34,
          52,
          19,
          28,
          35,
          42,
          59,
          25,
          46,
          24,
          16,
          20,
          22,
          57,
          40,
          50,
          75,
          27,
          42,
          23,
          42,
          48,
          33,
          30,
          34,
          46,
          23,
          16,
          47,
          24,
          47,
          40,
          19,
          65,
          43,
          23,
          33,
          58,
          61,
          22,
          21,
          26,
          45,
          56,
          31,
          21,
          22,
          35,
          26,
          41,
          33,
          23,
          22,
          27,
          62,
          23,
          48,
          25,
          25,
          40,
          29,
          22,
          52,
          76,
          24,
          50,
          26,
          30,
          24,
          38,
          67,
          51,
          35,
          59,
          31,
          66,
          45,
          30,
          76,
          23,
          23,
          66,
          36,
          45,
          25,
          26,
          39,
          23,
          58,
          27,
          34,
          28,
          32,
          39,
          49,
          62,
          40,
          61,
          29,
          48,
          55,
          34,
          31,
          30,
          40,
          64,
          55,
          16,
          29,
          23,
          40,
          18,
          45,
          43,
          48,
          23,
          52,
          65,
          33,
          80,
          52,
          55,
          23,
          20,
          46,
          34,
          28,
          22,
          30,
          37,
          24,
          34,
          40,
          45,
          41,
          41,
          18,
          34,
          25,
          28,
          37,
          30,
          19,
          25,
          68,
          39,
          58,
          70,
          42,
          25,
          30,
          23,
          50,
          28,
          85,
          19,
          18,
          18,
          49,
          18,
          42,
          47,
          65,
          23,
          55,
          21,
          18,
          26,
          43,
          25,
          23,
          60,
          70,
          40,
          26,
          43,
          30,
          23,
          25,
          27,
          25,
          45,
          36,
          25,
          61,
          23,
          23,
          21,
          45,
          26,
          30,
          20,
          38,
          22,
          35,
          25,
          38,
          45,
          24,
          30,
          47,
          51,
          25,
          59,
          60,
          28,
          32,
          21,
          32,
          27,
          31,
          26,
          34,
          21,
          42,
          27,
          31,
          16,
          62,
          28,
          31,
          55,
          33,
          16,
          39,
          30,
          32,
          25,
          19,
          50,
          46,
          29,
          21,
          19,
          17,
          24,
          25,
          32,
          23,
          19,
          16,
          21,
          24,
          46,
          66,
          19,
          40,
          32,
          55,
          40,
          32,
          19,
          22,
          25,
          25,
          50,
          35,
          29,
          31,
          35,
          25,
          56,
          59,
          22,
          59,
          37,
          52,
          30,
          32,
          35,
          35,
          30,
          58,
          38,
          19,
          23,
          28,
          35,
          34,
          28,
          28,
          47,
          48,
          27,
          59,
          26,
          36,
          72,
          30,
          28,
          32,
          28,
          23,
          38,
          20,
          27,
          56,
          36,
          35,
          26,
          22,
          50,
          18,
          46,
          38,
          35,
          48,
          75,
          20,
          25,
          30,
          21,
          38,
          62,
          30,
          30,
          40,
          19,
          23,
          39,
          24,
          30,
          74,
          26,
          26,
          23,
          23,
          23,
          51,
          57,
          47,
          75,
          34,
          18,
          40,
          34,
          38,
          24,
          18,
          34,
          32,
          20,
          60,
          23,
          20,
          24,
          34,
          30,
          52,
          24,
          28,
          20,
          29,
          24,
          34,
          39,
          44,
          57,
          67,
          32,
          21,
          43,
          16,
          29,
          35,
          51,
          28,
          37,
          50,
          39,
          30,
          36,
          28,
          38,
          18,
          35,
          45,
          33,
          44,
          26,
          56,
          45,
          20,
          39,
          33,
          24,
          20,
          40,
          22,
          34,
          33,
          39,
          23,
          63,
          22,
          42,
          23,
          29,
          25,
          49,
          46,
          22,
          40,
          62,
          27,
          50,
          40,
          48,
          28,
          34,
          29,
          30,
          24,
          46,
          28,
          41,
          28,
          28,
          23,
          30,
          45,
          32,
          42,
          24,
          16,
          21,
          21,
          32,
          32,
          48,
          62,
          24,
          33,
          22,
          25,
          40,
          60,
          24,
          36,
          18,
          25,
          32,
          27,
          29,
          27,
          58,
          27,
          30,
          42,
          40,
          59,
          71,
          56,
          43,
          40,
          21,
          18,
          19,
          29,
          40,
          43,
          28,
          18,
          23,
          41,
          60,
          32,
          31,
          26,
          18,
          20,
          30,
          30,
          26,
          16,
          32,
          31,
          54,
          31,
          35,
          46,
          67,
          35,
          18,
          24,
          26,
          41,
          39,
          22,
          27,
          24,
          23,
          17,
          45,
          56,
          27,
          44,
          48,
          32,
          26,
          25,
          50,
          25,
          21,
          38,
          19,
          42,
          25,
          49,
          20,
          38,
          56,
          22,
          44,
          27,
          48,
          74,
          27,
          25,
          25,
          42,
          25,
          40,
          27,
          39,
          29,
          22,
          41,
          23,
          23,
          44,
          45,
          30,
          45,
          43,
          22,
          50,
          55,
          28,
          26,
          32,
          35,
          36,
          32,
          51,
          29,
          47,
          26,
          70,
          47,
          60,
          21,
          42,
          36,
          36,
          24,
          41,
          43,
          42,
          25,
          25,
          26,
          22,
          30,
          23,
          25,
          26,
          25,
          37,
          25,
          40,
          43,
          22,
          28,
          26,
          21,
          30,
          21,
          20,
          44,
          27,
          27,
          60,
          42,
          29,
          27,
          27,
          25,
          31,
          44,
          53,
          42,
          19,
          72,
          42,
          25,
          32,
          19,
          50,
          28,
          17,
          52,
          16,
          36,
          26,
          21,
          40,
          34,
          40,
          30,
          38,
          32,
          48,
          49,
          19,
          30,
          36,
          16,
          47,
          36,
          25,
          42,
          37,
          57,
          80,
          25,
          58,
          38,
          27,
          40,
          45,
          40,
          24,
          40,
          29,
          23,
          26,
          22,
          45,
          21,
          24,
          21,
          49,
          23,
          25,
          82,
          36,
          37,
          41,
          36,
          33,
          56,
          46,
          36,
          39,
          66,
          18,
          17,
          46,
          32,
          40,
          31,
          40,
          23,
          20,
          41,
          98,
          28,
          19,
          35,
          31,
          23,
          36,
          25,
          21,
          61,
          26,
          56,
          21,
          32,
          18,
          29,
          22,
          45,
          35,
          28,
          28,
          57,
          39,
          30,
          30,
          32,
          57,
          23,
          38,
          20,
          24,
          19,
          41,
          23,
          22,
          45,
          26,
          49,
          70,
          48,
          33,
          32,
          55,
          38,
          46,
          23,
          32,
          26,
          27,
          28,
          28,
          48,
          40,
          47,
          22,
          37,
          36,
          28,
          40,
          25,
          56,
          30,
          43,
          46,
          28,
          66,
          27,
          25,
          65,
          25,
          24,
          30,
          30,
          24,
          38,
          27,
          26,
          17,
          46,
          90,
          32,
          53,
          35,
          47,
          33,
          28,
          36,
          23,
          39,
          36,
          42,
          39,
          19,
          28,
          29,
          44,
          35,
          32,
          47,
          17,
          43,
          33,
          33,
          28,
          29,
          24,
          35,
          18,
          33,
          36,
          26,
          48,
          33,
          58,
          74,
          52,
          30,
          34,
          38,
          26,
          39,
          36,
          52,
          66,
          17,
          30,
          49,
          17,
          26,
          20,
          18,
          52,
          43,
          20,
          43,
          40,
          20,
          28,
          36,
          37,
          30,
          29,
          33,
          40,
          22,
          30,
          41,
          35,
          45,
          53,
          23,
          40,
          70,
          30,
          41,
          28,
          46,
          45,
          35,
          52,
          20,
          37,
          37,
          63,
          22,
          26,
          46,
          29,
          30,
          17,
          26,
          21,
          18,
          21,
          37,
          18,
          27,
          29,
          54,
          19,
          30,
          40,
          37,
          21,
          31,
          20,
          25,
          37,
          39,
          70,
          34,
          18,
          68,
          35,
          23,
          32,
          70,
          32,
          32,
          52,
          35,
          22,
          29,
          17,
          20,
          26,
          40,
          32,
          32,
          18,
          25,
          31,
          47,
          45,
          49,
          59,
          58,
          25,
          36,
          22,
          54,
          33,
          34,
          23,
          42,
          24,
          40,
          40,
          35,
          20,
          45,
          23,
          24,
          38,
          66,
          26,
          28,
          44,
          34,
          56,
          36,
          43,
          20,
          33,
          61,
          39,
          34,
          25,
          31,
          63,
          27,
          31,
          70,
          30,
          47,
          30,
          45,
          69,
          73,
          31,
          26,
          40,
          34,
          30,
          25,
          30,
          55,
          39,
          37,
          21,
          24,
          48,
          27,
          24,
          30,
          36,
          29,
          24,
          25,
          37,
          32,
          29,
          22,
          55,
          57,
          26,
          25,
          36,
          48,
          25,
          32,
          21,
          28,
          19,
          42,
          24,
          70,
          28,
          51,
          31,
          24,
          40,
          35,
          18,
          41,
          42,
          36,
          23,
          32,
          35,
          30,
          35,
          30,
          33,
          48,
          23,
          30,
          64,
          36,
          28,
          30,
          17,
          26,
          23,
          29,
          30,
          29,
          16,
          37,
          24,
          48,
          24,
          33,
          29,
          57,
          37,
          24,
          36,
          20,
          33,
          18,
          32,
          28,
          33,
          58,
          60,
          32,
          25,
          28,
          63,
          22,
          58,
          23,
          37,
          47,
          40,
          26,
          39,
          22,
          19,
          38,
          26,
          38,
          27,
          52,
          45,
          50,
          59,
          20,
          42,
          27,
          20,
          48,
          24,
          30,
          52,
          46,
          25,
          64,
          34,
          38,
          43,
          49,
          25,
          29,
          44,
          36,
          26,
          25,
          32,
          40,
          24,
          27,
          21,
          49,
          21,
          40,
          17,
          27,
          34,
          23,
          30,
          43,
          21,
          33,
          54,
          32,
          26,
          34,
          37,
          27,
          61,
          23,
          33,
          20,
          44,
          31,
          60,
          48,
          23,
          24,
          49,
          32,
          22,
          50,
          57,
          35,
          26,
          46,
          28,
          26,
          47,
          40,
          29,
          33,
          30,
          25,
          32,
          20,
          32,
          37,
          21,
          18,
          54,
          53,
          20,
          38,
          27,
          33,
          19,
          32,
          33,
          53,
          24,
          24,
          54,
          20,
          53,
          57,
          35,
          34,
          29,
          42,
          24,
          29,
          29,
          54,
          26,
          39,
          49,
          22,
          43,
          44,
          31,
          43,
          21,
          21,
          22,
          29,
          37,
          31,
          60,
          37,
          20,
          50,
          29,
          17,
          33,
          25,
          30,
          23,
          68,
          41,
          56,
          20,
          37,
          24,
          36,
          34,
          37,
          19,
          37,
          30,
          41,
          18,
          19,
          32,
          23,
          62,
          34,
          48,
          47,
          30,
          20,
          53,
          40,
          28,
          27,
          53,
          39,
          28,
          71,
          47,
          22,
          59,
          28,
          20,
          40,
          37,
          53,
          70,
          23,
          17,
          54,
          33,
          38,
          85,
          59,
          45,
          61,
          65,
          23,
          34,
          60,
          34,
          21,
          17,
          22,
          27,
          28,
          45,
          30,
          40,
          30,
          23,
          26,
          24,
          23,
          46,
          32,
          43,
          25,
          68,
          32,
          20,
          40,
          73,
          50,
          25,
          27,
          34,
          21,
          57,
          34,
          67,
          49,
          28,
          70,
          37,
          24,
          21,
          34,
          39,
          26,
          57,
          17,
          27,
          27,
          65,
          25,
          25,
          42,
          48,
          50,
          25,
          30,
          22,
          55,
          80,
          45,
          25,
          23,
          25,
          24,
          34,
          47,
          55,
          28,
          20,
          34,
          23,
          30,
          54,
          35,
          19,
          33,
          63,
          38,
          28,
          46,
          49,
          20,
          28,
          26,
          51,
          43,
          27,
          26,
          22,
          17,
          36,
          51,
          34,
          47,
          18,
          16,
          26,
          30,
          49,
          18,
          20,
          34,
          70,
          59,
          41,
          30,
          20,
          27,
          63,
          42,
          55,
          42,
          27,
          23,
          78,
          34,
          45,
          24,
          25,
          36,
          27,
          50,
          26,
          30,
          42,
          52,
          23,
          36,
          37,
          21,
          40,
          24,
          35,
          35,
          53,
          60,
          21,
          51,
          40,
          43,
          52,
          51,
          25,
          56,
          34,
          49,
          26,
          27,
          20,
          30,
          48,
          61,
          29,
          51,
          46,
          44,
          53,
          24,
          83,
          35,
          35,
          40,
          21,
          45,
          28,
          29,
          41,
          36,
          28
         ],
         "xaxis": "x",
         "yaxis": "y"
        }
       ],
       "layout": {
        "barmode": "relative",
        "height": 600,
        "legend": {
         "tracegroupgap": 0
        },
        "margin": {
         "t": 60
        },
        "template": {
         "data": {
          "bar": [
           {
            "error_x": {
             "color": "#2a3f5f"
            },
            "error_y": {
             "color": "#2a3f5f"
            },
            "marker": {
             "line": {
              "color": "#E5ECF6",
              "width": 0.5
             }
            },
            "type": "bar"
           }
          ],
          "barpolar": [
           {
            "marker": {
             "line": {
              "color": "#E5ECF6",
              "width": 0.5
             }
            },
            "type": "barpolar"
           }
          ],
          "carpet": [
           {
            "aaxis": {
             "endlinecolor": "#2a3f5f",
             "gridcolor": "white",
             "linecolor": "white",
             "minorgridcolor": "white",
             "startlinecolor": "#2a3f5f"
            },
            "baxis": {
             "endlinecolor": "#2a3f5f",
             "gridcolor": "white",
             "linecolor": "white",
             "minorgridcolor": "white",
             "startlinecolor": "#2a3f5f"
            },
            "type": "carpet"
           }
          ],
          "choropleth": [
           {
            "colorbar": {
             "outlinewidth": 0,
             "ticks": ""
            },
            "type": "choropleth"
           }
          ],
          "contour": [
           {
            "colorbar": {
             "outlinewidth": 0,
             "ticks": ""
            },
            "colorscale": [
             [
              0,
              "#0d0887"
             ],
             [
              0.1111111111111111,
              "#46039f"
             ],
             [
              0.2222222222222222,
              "#7201a8"
             ],
             [
              0.3333333333333333,
              "#9c179e"
             ],
             [
              0.4444444444444444,
              "#bd3786"
             ],
             [
              0.5555555555555556,
              "#d8576b"
             ],
             [
              0.6666666666666666,
              "#ed7953"
             ],
             [
              0.7777777777777778,
              "#fb9f3a"
             ],
             [
              0.8888888888888888,
              "#fdca26"
             ],
             [
              1,
              "#f0f921"
             ]
            ],
            "type": "contour"
           }
          ],
          "contourcarpet": [
           {
            "colorbar": {
             "outlinewidth": 0,
             "ticks": ""
            },
            "type": "contourcarpet"
           }
          ],
          "heatmap": [
           {
            "colorbar": {
             "outlinewidth": 0,
             "ticks": ""
            },
            "colorscale": [
             [
              0,
              "#0d0887"
             ],
             [
              0.1111111111111111,
              "#46039f"
             ],
             [
              0.2222222222222222,
              "#7201a8"
             ],
             [
              0.3333333333333333,
              "#9c179e"
             ],
             [
              0.4444444444444444,
              "#bd3786"
             ],
             [
              0.5555555555555556,
              "#d8576b"
             ],
             [
              0.6666666666666666,
              "#ed7953"
             ],
             [
              0.7777777777777778,
              "#fb9f3a"
             ],
             [
              0.8888888888888888,
              "#fdca26"
             ],
             [
              1,
              "#f0f921"
             ]
            ],
            "type": "heatmap"
           }
          ],
          "heatmapgl": [
           {
            "colorbar": {
             "outlinewidth": 0,
             "ticks": ""
            },
            "colorscale": [
             [
              0,
              "#0d0887"
             ],
             [
              0.1111111111111111,
              "#46039f"
             ],
             [
              0.2222222222222222,
              "#7201a8"
             ],
             [
              0.3333333333333333,
              "#9c179e"
             ],
             [
              0.4444444444444444,
              "#bd3786"
             ],
             [
              0.5555555555555556,
              "#d8576b"
             ],
             [
              0.6666666666666666,
              "#ed7953"
             ],
             [
              0.7777777777777778,
              "#fb9f3a"
             ],
             [
              0.8888888888888888,
              "#fdca26"
             ],
             [
              1,
              "#f0f921"
             ]
            ],
            "type": "heatmapgl"
           }
          ],
          "histogram": [
           {
            "marker": {
             "colorbar": {
              "outlinewidth": 0,
              "ticks": ""
             }
            },
            "type": "histogram"
           }
          ],
          "histogram2d": [
           {
            "colorbar": {
             "outlinewidth": 0,
             "ticks": ""
            },
            "colorscale": [
             [
              0,
              "#0d0887"
             ],
             [
              0.1111111111111111,
              "#46039f"
             ],
             [
              0.2222222222222222,
              "#7201a8"
             ],
             [
              0.3333333333333333,
              "#9c179e"
             ],
             [
              0.4444444444444444,
              "#bd3786"
             ],
             [
              0.5555555555555556,
              "#d8576b"
             ],
             [
              0.6666666666666666,
              "#ed7953"
             ],
             [
              0.7777777777777778,
              "#fb9f3a"
             ],
             [
              0.8888888888888888,
              "#fdca26"
             ],
             [
              1,
              "#f0f921"
             ]
            ],
            "type": "histogram2d"
           }
          ],
          "histogram2dcontour": [
           {
            "colorbar": {
             "outlinewidth": 0,
             "ticks": ""
            },
            "colorscale": [
             [
              0,
              "#0d0887"
             ],
             [
              0.1111111111111111,
              "#46039f"
             ],
             [
              0.2222222222222222,
              "#7201a8"
             ],
             [
              0.3333333333333333,
              "#9c179e"
             ],
             [
              0.4444444444444444,
              "#bd3786"
             ],
             [
              0.5555555555555556,
              "#d8576b"
             ],
             [
              0.6666666666666666,
              "#ed7953"
             ],
             [
              0.7777777777777778,
              "#fb9f3a"
             ],
             [
              0.8888888888888888,
              "#fdca26"
             ],
             [
              1,
              "#f0f921"
             ]
            ],
            "type": "histogram2dcontour"
           }
          ],
          "mesh3d": [
           {
            "colorbar": {
             "outlinewidth": 0,
             "ticks": ""
            },
            "type": "mesh3d"
           }
          ],
          "parcoords": [
           {
            "line": {
             "colorbar": {
              "outlinewidth": 0,
              "ticks": ""
             }
            },
            "type": "parcoords"
           }
          ],
          "pie": [
           {
            "automargin": true,
            "type": "pie"
           }
          ],
          "scatter": [
           {
            "marker": {
             "colorbar": {
              "outlinewidth": 0,
              "ticks": ""
             }
            },
            "type": "scatter"
           }
          ],
          "scatter3d": [
           {
            "line": {
             "colorbar": {
              "outlinewidth": 0,
              "ticks": ""
             }
            },
            "marker": {
             "colorbar": {
              "outlinewidth": 0,
              "ticks": ""
             }
            },
            "type": "scatter3d"
           }
          ],
          "scattercarpet": [
           {
            "marker": {
             "colorbar": {
              "outlinewidth": 0,
              "ticks": ""
             }
            },
            "type": "scattercarpet"
           }
          ],
          "scattergeo": [
           {
            "marker": {
             "colorbar": {
              "outlinewidth": 0,
              "ticks": ""
             }
            },
            "type": "scattergeo"
           }
          ],
          "scattergl": [
           {
            "marker": {
             "colorbar": {
              "outlinewidth": 0,
              "ticks": ""
             }
            },
            "type": "scattergl"
           }
          ],
          "scattermapbox": [
           {
            "marker": {
             "colorbar": {
              "outlinewidth": 0,
              "ticks": ""
             }
            },
            "type": "scattermapbox"
           }
          ],
          "scatterpolar": [
           {
            "marker": {
             "colorbar": {
              "outlinewidth": 0,
              "ticks": ""
             }
            },
            "type": "scatterpolar"
           }
          ],
          "scatterpolargl": [
           {
            "marker": {
             "colorbar": {
              "outlinewidth": 0,
              "ticks": ""
             }
            },
            "type": "scatterpolargl"
           }
          ],
          "scatterternary": [
           {
            "marker": {
             "colorbar": {
              "outlinewidth": 0,
              "ticks": ""
             }
            },
            "type": "scatterternary"
           }
          ],
          "surface": [
           {
            "colorbar": {
             "outlinewidth": 0,
             "ticks": ""
            },
            "colorscale": [
             [
              0,
              "#0d0887"
             ],
             [
              0.1111111111111111,
              "#46039f"
             ],
             [
              0.2222222222222222,
              "#7201a8"
             ],
             [
              0.3333333333333333,
              "#9c179e"
             ],
             [
              0.4444444444444444,
              "#bd3786"
             ],
             [
              0.5555555555555556,
              "#d8576b"
             ],
             [
              0.6666666666666666,
              "#ed7953"
             ],
             [
              0.7777777777777778,
              "#fb9f3a"
             ],
             [
              0.8888888888888888,
              "#fdca26"
             ],
             [
              1,
              "#f0f921"
             ]
            ],
            "type": "surface"
           }
          ],
          "table": [
           {
            "cells": {
             "fill": {
              "color": "#EBF0F8"
             },
             "line": {
              "color": "white"
             }
            },
            "header": {
             "fill": {
              "color": "#C8D4E3"
             },
             "line": {
              "color": "white"
             }
            },
            "type": "table"
           }
          ]
         },
         "layout": {
          "annotationdefaults": {
           "arrowcolor": "#2a3f5f",
           "arrowhead": 0,
           "arrowwidth": 1
          },
          "coloraxis": {
           "colorbar": {
            "outlinewidth": 0,
            "ticks": ""
           }
          },
          "colorscale": {
           "diverging": [
            [
             0,
             "#8e0152"
            ],
            [
             0.1,
             "#c51b7d"
            ],
            [
             0.2,
             "#de77ae"
            ],
            [
             0.3,
             "#f1b6da"
            ],
            [
             0.4,
             "#fde0ef"
            ],
            [
             0.5,
             "#f7f7f7"
            ],
            [
             0.6,
             "#e6f5d0"
            ],
            [
             0.7,
             "#b8e186"
            ],
            [
             0.8,
             "#7fbc41"
            ],
            [
             0.9,
             "#4d9221"
            ],
            [
             1,
             "#276419"
            ]
           ],
           "sequential": [
            [
             0,
             "#0d0887"
            ],
            [
             0.1111111111111111,
             "#46039f"
            ],
            [
             0.2222222222222222,
             "#7201a8"
            ],
            [
             0.3333333333333333,
             "#9c179e"
            ],
            [
             0.4444444444444444,
             "#bd3786"
            ],
            [
             0.5555555555555556,
             "#d8576b"
            ],
            [
             0.6666666666666666,
             "#ed7953"
            ],
            [
             0.7777777777777778,
             "#fb9f3a"
            ],
            [
             0.8888888888888888,
             "#fdca26"
            ],
            [
             1,
             "#f0f921"
            ]
           ],
           "sequentialminus": [
            [
             0,
             "#0d0887"
            ],
            [
             0.1111111111111111,
             "#46039f"
            ],
            [
             0.2222222222222222,
             "#7201a8"
            ],
            [
             0.3333333333333333,
             "#9c179e"
            ],
            [
             0.4444444444444444,
             "#bd3786"
            ],
            [
             0.5555555555555556,
             "#d8576b"
            ],
            [
             0.6666666666666666,
             "#ed7953"
            ],
            [
             0.7777777777777778,
             "#fb9f3a"
            ],
            [
             0.8888888888888888,
             "#fdca26"
            ],
            [
             1,
             "#f0f921"
            ]
           ]
          },
          "colorway": [
           "#636efa",
           "#EF553B",
           "#00cc96",
           "#ab63fa",
           "#FFA15A",
           "#19d3f3",
           "#FF6692",
           "#B6E880",
           "#FF97FF",
           "#FECB52"
          ],
          "font": {
           "color": "#2a3f5f"
          },
          "geo": {
           "bgcolor": "white",
           "lakecolor": "white",
           "landcolor": "#E5ECF6",
           "showlakes": true,
           "showland": true,
           "subunitcolor": "white"
          },
          "hoverlabel": {
           "align": "left"
          },
          "hovermode": "closest",
          "mapbox": {
           "style": "light"
          },
          "paper_bgcolor": "white",
          "plot_bgcolor": "#E5ECF6",
          "polar": {
           "angularaxis": {
            "gridcolor": "white",
            "linecolor": "white",
            "ticks": ""
           },
           "bgcolor": "#E5ECF6",
           "radialaxis": {
            "gridcolor": "white",
            "linecolor": "white",
            "ticks": ""
           }
          },
          "scene": {
           "xaxis": {
            "backgroundcolor": "#E5ECF6",
            "gridcolor": "white",
            "gridwidth": 2,
            "linecolor": "white",
            "showbackground": true,
            "ticks": "",
            "zerolinecolor": "white"
           },
           "yaxis": {
            "backgroundcolor": "#E5ECF6",
            "gridcolor": "white",
            "gridwidth": 2,
            "linecolor": "white",
            "showbackground": true,
            "ticks": "",
            "zerolinecolor": "white"
           },
           "zaxis": {
            "backgroundcolor": "#E5ECF6",
            "gridcolor": "white",
            "gridwidth": 2,
            "linecolor": "white",
            "showbackground": true,
            "ticks": "",
            "zerolinecolor": "white"
           }
          },
          "shapedefaults": {
           "line": {
            "color": "#2a3f5f"
           }
          },
          "ternary": {
           "aaxis": {
            "gridcolor": "white",
            "linecolor": "white",
            "ticks": ""
           },
           "baxis": {
            "gridcolor": "white",
            "linecolor": "white",
            "ticks": ""
           },
           "bgcolor": "#E5ECF6",
           "caxis": {
            "gridcolor": "white",
            "linecolor": "white",
            "ticks": ""
           }
          },
          "title": {
           "x": 0.05
          },
          "xaxis": {
           "automargin": true,
           "gridcolor": "white",
           "linecolor": "white",
           "ticks": "",
           "title": {
            "standoff": 15
           },
           "zerolinecolor": "white",
           "zerolinewidth": 2
          },
          "yaxis": {
           "automargin": true,
           "gridcolor": "white",
           "linecolor": "white",
           "ticks": "",
           "title": {
            "standoff": 15
           },
           "zerolinecolor": "white",
           "zerolinewidth": 2
          }
         }
        },
        "xaxis": {
         "anchor": "y",
         "domain": [
          0,
          1
         ],
         "title": {
          "text": "age"
         }
        },
        "yaxis": {
         "anchor": "x",
         "domain": [
          0,
          1
         ],
         "title": {
          "text": "count"
         }
        }
       }
      },
      "text/html": [
       "<div>\n",
       "        \n",
       "        \n",
       "            <div id=\"6e5266cf-a256-4696-b780-55c5de2d37c0\" class=\"plotly-graph-div\" style=\"height:600px; width:100%;\"></div>\n",
       "            <script type=\"text/javascript\">\n",
       "                require([\"plotly\"], function(Plotly) {\n",
       "                    window.PLOTLYENV=window.PLOTLYENV || {};\n",
       "                    \n",
       "                if (document.getElementById(\"6e5266cf-a256-4696-b780-55c5de2d37c0\")) {\n",
       "                    Plotly.newPlot(\n",
       "                        '6e5266cf-a256-4696-b780-55c5de2d37c0',\n",
       "                        [{\"alignmentgroup\": \"True\", \"bingroup\": \"x\", \"hoverlabel\": {\"namelength\": 0}, \"hovertemplate\": \"Gender=Male<br>age=%{x}<br>count=%{y}\", \"legendgroup\": \"Gender=Male\", \"marker\": {\"color\": \"#636efa\", \"opacity\": 0.6}, \"name\": \"Gender=Male\", \"nbinsx\": 20, \"offsetgroup\": \"Gender=Male\", \"orientation\": \"v\", \"showlegend\": true, \"type\": \"histogram\", \"x\": [40, 50, 34, 38, 44, 19, 46, 19, 30, 35, 35, 25, 23, 21, 32, 24, 34, 26, 31, 23, 45, 25, 26, 28, 57, 42, 30, 47, 39, 51, 48, 69, 19, 65, 17, 33, 20, 36, 51, 25, 43, 22, 30, 43, 21, 34, 43, 27, 42, 23, 36, 26, 45, 17, 56, 39, 24, 47, 28, 25, 57, 66, 55, 22, 18, 25, 51, 26, 28, 65, 47, 19, 55, 36, 33, 51, 24, 25, 22, 30, 20, 17, 24, 48, 30, 40, 29, 32, 32, 27, 23, 30, 23, 45, 32, 35, 49, 18, 60, 27, 57, 35, 36, 30, 33, 43, 61, 28, 35, 46, 31, 30, 52, 32, 45, 58, 50, 48, 21, 43, 28, 26, 45, 41, 23, 50, 36, 29, 36, 19, 31, 34, 17, 42, 35, 22, 76, 26, 23, 25, 26, 34, 23, 39, 32, 57, 30, 53, 68, 31, 22, 35, 43, 25, 34, 54, 30, 25, 17, 18, 40, 20, 25, 42, 25, 53, 70, 20, 27, 80, 57, 57, 25, 29, 32, 37, 27, 54, 60, 63, 30, 38, 30, 35, 24, 17, 49, 33, 23, 39, 32, 32, 53, 33, 16, 33, 25, 61, 77, 32, 38, 55, 38, 41, 52, 50, 20, 68, 40, 24, 25, 25, 44, 47, 39, 48, 55, 35, 43, 36, 22, 20, 36, 18, 45, 35, 16, 20, 17, 42, 45, 43, 43, 18, 39, 45, 34, 21, 27, 32, 47, 34, 65, 40, 20, 30, 40, 49, 70, 22, 26, 32, 47, 66, 60, 68, 54, 25, 58, 63, 19, 43, 23, 22, 58, 20, 38, 29, 18, 27, 39, 35, 21, 24, 63, 26, 59, 28, 45, 26, 30, 24, 60, 25, 42, 29, 24, 30, 49, 69, 28, 30, 36, 35, 16, 33, 29, 17, 39, 30, 28, 23, 37, 24, 23, 31, 35, 34, 24, 30, 36, 24, 63, 78, 37, 24, 38, 50, 37, 20, 45, 45, 40, 40, 56, 44, 34, 31, 31, 24, 52, 38, 51, 45, 25, 56, 50, 31, 29, 23, 46, 26, 38, 34, 51, 27, 38, 29, 55, 30, 31, 25, 33, 28, 20, 49, 48, 18, 19, 24, 36, 56, 34, 63, 37, 26, 53, 65, 24, 45, 36, 36, 38, 28, 22, 17, 29, 83, 30, 46, 48, 45, 27, 28, 42, 45, 52, 25, 58, 49, 40, 25, 64, 36, 63, 40, 43, 40, 23, 63, 58, 20, 20, 52, 43, 23, 27, 42, 51, 30, 29, 41, 48, 69, 22, 47, 36, 35, 35, 40, 60, 23, 22, 26, 32, 31, 24, 25, 21, 16, 17, 36, 35, 23, 45, 27, 41, 38, 32, 60, 38, 28, 28, 23, 26, 39, 37, 42, 86, 26, 28, 25, 40, 41, 62, 33, 26, 38, 25, 47, 25, 37, 59, 18, 24, 45, 26, 21, 34, 36, 41, 40, 44, 74, 40, 39, 50, 76, 24, 78, 45, 18, 21, 43, 27, 32, 65, 43, 78, 34, 30, 46, 57, 29, 67, 77, 52, 34, 21, 75, 43, 37, 17, 27, 38, 39, 50, 34, 35, 37, 35, 50, 50, 26, 60, 71, 43, 50, 50, 25, 22, 38, 32, 52, 36, 40, 58, 30, 35, 32, 32, 28, 26, 25, 28, 29, 78, 26, 35, 42, 25, 21, 74, 35, 24, 38, 47, 32, 25, 30, 18, 35, 30, 43, 41, 34, 36, 35, 60, 29, 30, 33, 35, 63, 56, 18, 55, 39, 29, 24, 47, 38, 32, 35, 57, 40, 66, 64, 31, 56, 84, 25, 46, 38, 36, 27, 35, 59, 44, 26, 23, 51, 55, 32, 28, 27, 25, 21, 64, 28, 58, 25, 21, 35, 21, 60, 94, 28, 29, 46, 34, 32, 54, 54, 29, 39, 40, 35, 24, 39, 40, 31, 28, 29, 22, 50, 37, 74, 44, 24, 38, 29, 39, 41, 17, 36, 22, 20, 42, 19, 38, 31, 38, 36, 55, 27, 36, 34, 42, 26, 29, 38, 36, 34, 29, 18, 37, 27, 53, 30, 37, 45, 23, 60, 21, 44, 36, 19, 29, 39, 56, 25, 58, 37, 21, 38, 41, 23, 34, 63, 71, 32, 21, 28, 52, 57, 29, 31, 22, 35, 46, 41, 56, 32, 48, 45, 21, 40, 36, 65, 24, 25, 55, 48, 36, 21, 53, 16, 45, 40, 17, 33, 41, 39, 35, 26, 40, 36, 22, 25, 29, 24, 20, 70, 31, 29, 30, 40, 35, 37, 55, 30, 34, 71, 63, 21, 43, 35, 36, 26, 26, 57, 58, 29, 22, 62, 46, 27, 27, 22, 22, 34, 21, 37, 26, 32, 27, 30, 30, 18, 46, 50, 19, 25, 21, 30, 24, 50, 35, 28, 68, 26, 47, 21, 39, 23, 42, 25, 50, 18, 54, 51, 64, 24, 62, 18, 37, 41, 38, 30, 45, 53, 58, 49, 66, 24, 73, 28, 40, 48, 67, 28, 28, 35, 28, 29, 65, 53, 32, 21, 17, 28, 35, 20, 25, 42, 53, 40, 23, 37, 31, 40, 22, 45, 23, 25, 22, 29, 35, 60, 18, 34, 30, 48, 27, 39, 43, 35, 43, 35, 23, 31, 34, 45, 23, 53, 32, 32, 25, 62, 65, 30, 26, 45, 47, 33, 28, 48, 29, 66, 37, 35, 23, 23, 47, 30, 41, 33, 17, 50, 33, 32, 28, 22, 31, 40, 50, 22, 30, 56, 45, 54, 35, 32, 49, 31, 18, 48, 33, 29, 33, 73, 33, 55, 43, 59, 30, 27, 40, 42, 30, 65, 33, 30, 21, 57, 40, 60, 62, 85, 32, 32, 42, 36, 41, 25, 30, 50, 40, 40, 78, 22, 51, 27, 31, 48, 38, 20, 24, 21, 56, 40, 70, 49, 40, 43, 44, 41, 43, 25, 70, 40, 35, 57, 52, 41, 27, 32, 30, 35, 25, 40, 43, 64, 65, 32, 28, 25, 54, 22, 35, 23, 31, 45, 18, 38, 41, 28, 40, 32, 34, 56, 30, 88, 43, 45, 26, 57, 25, 52, 20, 34, 47, 70, 28, 65, 22, 52, 39, 24, 27, 50, 27, 27, 28, 19, 51, 28, 23, 46, 93, 30, 30, 28, 45, 22, 33, 55, 20, 50, 74, 22, 60, 33, 42, 25, 49, 53, 31, 64, 38, 28, 57, 50, 25, 42, 35, 28, 28, 36, 25, 47, 36, 29, 30, 43, 27, 27, 42, 44, 55, 28, 30, 18, 20, 38, 29, 67, 42, 25, 26, 36, 58, 36, 38, 20, 26, 61, 24, 30, 26, 44, 29, 27, 37, 30, 37, 19, 30, 37, 37, 60, 17, 32, 43, 53, 22, 17, 21, 24, 25, 63, 17, 51, 42, 22, 46, 45, 51, 26, 80, 31, 22, 45, 56, 54, 30, 45, 44, 30, 34, 27, 31, 25, 29, 35, 23, 79, 35, 21, 31, 24, 30, 29, 52, 61, 42, 49, 51, 55, 17, 32, 34, 29, 38, 43, 20, 29, 19, 23, 47, 20, 43, 25, 18, 55, 45, 29, 28, 38, 26, 26, 32, 45, 18, 31, 58, 35, 43, 32, 51, 49, 68, 44, 49, 31, 52, 29, 67, 29, 41, 29, 30, 25, 45, 18, 39, 17, 40, 19, 19, 54, 23, 38, 50, 58, 39, 25, 57, 24, 16, 38, 19, 22, 25, 31, 26, 22, 45, 17, 28, 29, 28, 68, 16, 18, 43, 28, 16, 54, 36, 20, 51, 54, 64, 35, 36, 24, 24, 23, 32, 32, 29, 70, 45, 32, 42, 19, 22, 49, 48, 70, 26, 44, 29, 47, 35, 56, 25, 42, 22, 34, 22, 30, 60, 34, 47, 65, 42, 19, 42, 33, 50, 22, 22, 34, 25, 27, 66, 48, 20, 53, 35, 23, 22, 28, 58, 31, 36, 24, 67, 30, 32, 35, 41, 32, 25, 19, 24, 60, 69, 75, 18, 29, 59, 44, 28, 23, 30, 63, 29, 22, 39, 30, 25, 40, 20, 54, 20, 42, 24, 30, 38, 37, 35, 58, 30, 22, 49, 18, 18, 32, 37, 35, 28, 32, 43, 23, 27, 58, 40, 32, 35, 32, 60, 38, 58, 32, 41, 31, 32, 20, 72, 21, 54, 45, 24, 63, 59, 41, 18, 65, 40, 39, 30, 28, 20, 33, 28, 40, 25, 27, 36, 44, 27, 45, 24, 22, 28, 40, 38, 31, 31, 45, 39, 57, 63, 54, 43, 26, 81, 35, 23, 47, 31, 31, 27, 21, 32, 30, 22, 16, 32, 68, 58, 44, 35, 49, 70, 30, 76, 30, 23, 20, 32, 45, 39, 67, 27, 70, 34, 50, 30, 53, 57, 55, 32, 30, 22, 41, 17, 18, 53, 28, 39, 33, 25, 47, 23, 37, 55, 38, 38, 41, 17, 18, 41, 22, 32, 28, 24, 65, 25, 57, 58, 37, 27, 47, 26, 19, 29, 77, 21, 21, 33, 28, 33, 37, 29, 42, 45, 25, 60, 25, 42, 24, 63, 40, 38, 40, 23, 75, 24, 28, 26, 53, 49, 42, 22, 28, 29, 50, 22, 34, 21, 27, 35, 31, 42, 35, 26, 26, 55, 21, 83, 40, 52, 16, 53, 23, 32, 30, 66, 39, 18, 37, 22, 45, 34, 26, 24, 27, 33, 26, 51, 44, 40, 29, 53, 40, 27, 47, 34, 37, 25, 46, 33, 20, 33, 43, 59, 30, 48, 35, 57, 30, 23, 28, 49, 60, 32, 43, 56, 20, 63, 22, 21, 66, 26, 30, 26, 33, 40, 45, 45, 17, 49, 36, 23, 26, 32, 36, 38, 65, 75, 31, 29, 47, 30, 22, 22, 56, 34, 54, 67, 33, 25, 36, 41, 18, 44, 33, 52, 33, 50, 53, 55, 24, 27, 46, 27, 20, 63, 22, 33, 55, 26, 50, 45, 24, 28, 34, 61, 42, 18, 25, 42, 17, 27, 62, 41, 26, 18, 60, 29, 57, 39, 35, 45, 57, 22, 48, 17, 68, 43, 22, 46, 26, 28, 22, 54, 41, 59, 20, 21, 48, 43, 25, 19, 28, 51, 53, 70, 66, 67, 60, 32, 38, 19, 60, 61, 20, 51, 40, 27, 41, 55, 56, 21, 37, 30, 35, 35, 26, 29, 43, 56, 37, 64, 42, 45, 48, 32, 32, 28, 45, 51, 50, 22, 63, 36, 25, 35, 37, 74, 26, 69, 57, 40, 55, 35, 64, 53, 50, 43, 19, 19, 33, 32, 29, 23, 47, 23, 42, 43, 23, 20, 40, 48, 27, 34, 35, 56, 52, 35, 41, 49, 21, 60, 50, 28, 19, 35, 19, 49, 23, 25, 22, 34, 35, 33, 45, 26, 24, 69, 28, 41, 23, 38, 45, 18, 30, 35, 32, 69, 43, 46, 43, 46, 40, 29, 28, 50, 30, 22, 35, 24, 22, 29, 60, 70, 32, 27, 28, 61, 46, 40, 47, 25, 35, 19, 23, 29, 60, 54, 48, 53, 20, 25, 57, 33, 28, 34, 23, 47, 35, 55, 28, 26, 25, 43, 28, 23, 37, 29, 61, 35, 22, 24, 32, 36, 21, 20, 35, 66, 49, 47, 49, 28, 38, 25, 36, 37, 55, 32, 35, 47, 59, 43, 32, 45, 18, 20, 22, 23, 23, 18, 31, 34, 20, 38, 33, 37, 18, 36, 58, 25, 25, 24, 30, 35, 32, 27, 28, 50, 23, 38, 35, 80, 60, 33, 49, 32, 27, 39, 28, 50, 29, 35, 24, 24, 18, 28, 45, 43, 49, 28, 38, 36, 37, 28, 25, 56, 52, 45, 46, 42, 34, 20, 21, 27, 34, 21, 17, 40, 24, 35, 27, 26, 27, 63, 39, 19, 34, 46, 60, 47, 24, 27, 33, 36, 22, 26, 54, 31, 44, 23, 29, 30, 30, 25, 24, 26, 29, 22, 39, 27, 43, 37, 24, 22, 37, 41, 45, 46, 21, 30, 18, 32, 37, 34, 27, 37, 42, 21, 45, 23, 42, 30, 30, 44, 17, 32, 16, 36, 30, 46, 29, 53, 23, 48, 34, 24, 36, 42, 23, 63, 20, 31, 59, 49, 29, 45, 32, 22, 35, 23, 21, 60, 29, 26, 17, 38, 26, 33, 47, 24, 25, 32], \"xaxis\": \"x\", \"yaxis\": \"y\"}, {\"alignmentgroup\": \"True\", \"bingroup\": \"x\", \"hoverlabel\": {\"namelength\": 0}, \"hovertemplate\": \"Gender=Female<br>age=%{x}<br>count=%{y}\", \"legendgroup\": \"Gender=Female\", \"marker\": {\"color\": \"#EF553B\", \"opacity\": 0.6}, \"name\": \"Gender=Female\", \"nbinsx\": 20, \"offsetgroup\": \"Gender=Female\", \"orientation\": \"v\", \"showlegend\": true, \"type\": \"histogram\", \"x\": [18, 31, 23, 37, 18, 29, 22, 21, 24, 30, 27, 42, 29, 20, 26, 44, 32, 53, 35, 20, 37, 38, 20, 46, 65, 24, 45, 31, 32, 50, 30, 29, 25, 44, 26, 21, 36, 51, 50, 20, 30, 21, 30, 21, 50, 66, 42, 44, 45, 53, 18, 18, 49, 21, 35, 47, 22, 20, 26, 48, 42, 43, 30, 25, 37, 53, 27, 33, 27, 45, 51, 53, 29, 40, 31, 41, 61, 22, 32, 32, 48, 80, 24, 42, 23, 26, 33, 61, 24, 26, 26, 36, 45, 48, 19, 48, 35, 32, 33, 21, 60, 20, 30, 32, 20, 45, 40, 37, 16, 29, 62, 55, 51, 46, 57, 31, 39, 31, 19, 50, 17, 33, 30, 70, 65, 32, 28, 26, 35, 27, 49, 32, 33, 48, 66, 26, 25, 35, 51, 30, 25, 30, 48, 40, 30, 34, 30, 40, 37, 23, 26, 30, 46, 22, 48, 47, 24, 35, 20, 23, 43, 29, 35, 28, 45, 20, 26, 28, 35, 25, 31, 35, 55, 36, 77, 20, 46, 35, 28, 27, 39, 45, 41, 36, 34, 32, 22, 32, 41, 68, 24, 33, 25, 62, 40, 28, 52, 49, 21, 42, 30, 38, 27, 40, 40, 30, 40, 36, 39, 24, 24, 24, 47, 50, 37, 50, 35, 25, 56, 52, 32, 35, 80, 34, 38, 48, 22, 18, 20, 21, 18, 33, 43, 30, 25, 33, 57, 51, 29, 42, 40, 28, 20, 33, 20, 26, 32, 24, 50, 27, 21, 23, 19, 21, 20, 18, 25, 37, 25, 27, 30, 46, 72, 73, 27, 16, 49, 24, 16, 30, 48, 31, 19, 45, 36, 34, 44, 23, 40, 65, 63, 19, 30, 39, 70, 35, 20, 44, 56, 58, 42, 47, 27, 43, 27, 47, 25, 33, 41, 50, 42, 23, 62, 46, 18, 31, 35, 23, 21, 37, 28, 27, 39, 21, 63, 25, 46, 28, 42, 60, 42, 26, 24, 40, 27, 35, 62, 25, 44, 32, 58, 25, 36, 27, 29, 49, 54, 17, 38, 73, 54, 43, 32, 28, 38, 27, 51, 29, 38, 43, 28, 28, 20, 35, 36, 24, 33, 21, 30, 26, 40, 49, 22, 26, 24, 60, 26, 22, 29, 33, 40, 19, 43, 28, 18, 30, 19, 38, 43, 60, 35, 34, 38, 30, 35, 55, 47, 31, 22, 23, 33, 23, 52, 23, 25, 53, 49, 35, 20, 44, 40, 52, 63, 75, 23, 46, 24, 39, 23, 26, 71, 38, 47, 34, 35, 60, 24, 37, 53, 28, 25, 32, 45, 32, 30, 38, 35, 23, 26, 25, 32, 26, 23, 27, 20, 26, 20, 31, 65, 30, 23, 29, 39, 42, 28, 57, 40, 30, 45, 32, 42, 60, 38, 51, 42, 45, 43, 39, 43, 35, 47, 22, 22, 38, 17, 28, 52, 26, 25, 28, 20, 21, 28, 25, 25, 27, 48, 45, 75, 25, 66, 40, 35, 19, 28, 70, 24, 29, 32, 28, 19, 34, 22, 35, 18, 38, 60, 28, 38, 60, 20, 40, 52, 34, 36, 36, 19, 23, 25, 29, 24, 22, 59, 20, 19, 19, 59, 65, 46, 65, 41, 24, 36, 45, 28, 32, 25, 36, 25, 23, 24, 24, 19, 32, 35, 19, 33, 41, 24, 57, 28, 30, 52, 35, 16, 35, 28, 43, 27, 37, 23, 40, 31, 22, 47, 38, 28, 27, 21, 23, 73, 45, 32, 20, 19, 34, 20, 37, 30, 65, 42, 17, 40, 32, 65, 88, 36, 45, 28, 38, 22, 23, 22, 23, 20, 34, 38, 40, 50, 26, 64, 28, 26, 28, 25, 41, 34, 52, 19, 28, 35, 42, 59, 25, 46, 24, 16, 20, 22, 57, 40, 50, 75, 27, 42, 23, 42, 48, 33, 30, 34, 46, 23, 16, 47, 24, 47, 40, 19, 65, 43, 23, 33, 58, 61, 22, 21, 26, 45, 56, 31, 21, 22, 35, 26, 41, 33, 23, 22, 27, 62, 23, 48, 25, 25, 40, 29, 22, 52, 76, 24, 50, 26, 30, 24, 38, 67, 51, 35, 59, 31, 66, 45, 30, 76, 23, 23, 66, 36, 45, 25, 26, 39, 23, 58, 27, 34, 28, 32, 39, 49, 62, 40, 61, 29, 48, 55, 34, 31, 30, 40, 64, 55, 16, 29, 23, 40, 18, 45, 43, 48, 23, 52, 65, 33, 80, 52, 55, 23, 20, 46, 34, 28, 22, 30, 37, 24, 34, 40, 45, 41, 41, 18, 34, 25, 28, 37, 30, 19, 25, 68, 39, 58, 70, 42, 25, 30, 23, 50, 28, 85, 19, 18, 18, 49, 18, 42, 47, 65, 23, 55, 21, 18, 26, 43, 25, 23, 60, 70, 40, 26, 43, 30, 23, 25, 27, 25, 45, 36, 25, 61, 23, 23, 21, 45, 26, 30, 20, 38, 22, 35, 25, 38, 45, 24, 30, 47, 51, 25, 59, 60, 28, 32, 21, 32, 27, 31, 26, 34, 21, 42, 27, 31, 16, 62, 28, 31, 55, 33, 16, 39, 30, 32, 25, 19, 50, 46, 29, 21, 19, 17, 24, 25, 32, 23, 19, 16, 21, 24, 46, 66, 19, 40, 32, 55, 40, 32, 19, 22, 25, 25, 50, 35, 29, 31, 35, 25, 56, 59, 22, 59, 37, 52, 30, 32, 35, 35, 30, 58, 38, 19, 23, 28, 35, 34, 28, 28, 47, 48, 27, 59, 26, 36, 72, 30, 28, 32, 28, 23, 38, 20, 27, 56, 36, 35, 26, 22, 50, 18, 46, 38, 35, 48, 75, 20, 25, 30, 21, 38, 62, 30, 30, 40, 19, 23, 39, 24, 30, 74, 26, 26, 23, 23, 23, 51, 57, 47, 75, 34, 18, 40, 34, 38, 24, 18, 34, 32, 20, 60, 23, 20, 24, 34, 30, 52, 24, 28, 20, 29, 24, 34, 39, 44, 57, 67, 32, 21, 43, 16, 29, 35, 51, 28, 37, 50, 39, 30, 36, 28, 38, 18, 35, 45, 33, 44, 26, 56, 45, 20, 39, 33, 24, 20, 40, 22, 34, 33, 39, 23, 63, 22, 42, 23, 29, 25, 49, 46, 22, 40, 62, 27, 50, 40, 48, 28, 34, 29, 30, 24, 46, 28, 41, 28, 28, 23, 30, 45, 32, 42, 24, 16, 21, 21, 32, 32, 48, 62, 24, 33, 22, 25, 40, 60, 24, 36, 18, 25, 32, 27, 29, 27, 58, 27, 30, 42, 40, 59, 71, 56, 43, 40, 21, 18, 19, 29, 40, 43, 28, 18, 23, 41, 60, 32, 31, 26, 18, 20, 30, 30, 26, 16, 32, 31, 54, 31, 35, 46, 67, 35, 18, 24, 26, 41, 39, 22, 27, 24, 23, 17, 45, 56, 27, 44, 48, 32, 26, 25, 50, 25, 21, 38, 19, 42, 25, 49, 20, 38, 56, 22, 44, 27, 48, 74, 27, 25, 25, 42, 25, 40, 27, 39, 29, 22, 41, 23, 23, 44, 45, 30, 45, 43, 22, 50, 55, 28, 26, 32, 35, 36, 32, 51, 29, 47, 26, 70, 47, 60, 21, 42, 36, 36, 24, 41, 43, 42, 25, 25, 26, 22, 30, 23, 25, 26, 25, 37, 25, 40, 43, 22, 28, 26, 21, 30, 21, 20, 44, 27, 27, 60, 42, 29, 27, 27, 25, 31, 44, 53, 42, 19, 72, 42, 25, 32, 19, 50, 28, 17, 52, 16, 36, 26, 21, 40, 34, 40, 30, 38, 32, 48, 49, 19, 30, 36, 16, 47, 36, 25, 42, 37, 57, 80, 25, 58, 38, 27, 40, 45, 40, 24, 40, 29, 23, 26, 22, 45, 21, 24, 21, 49, 23, 25, 82, 36, 37, 41, 36, 33, 56, 46, 36, 39, 66, 18, 17, 46, 32, 40, 31, 40, 23, 20, 41, 98, 28, 19, 35, 31, 23, 36, 25, 21, 61, 26, 56, 21, 32, 18, 29, 22, 45, 35, 28, 28, 57, 39, 30, 30, 32, 57, 23, 38, 20, 24, 19, 41, 23, 22, 45, 26, 49, 70, 48, 33, 32, 55, 38, 46, 23, 32, 26, 27, 28, 28, 48, 40, 47, 22, 37, 36, 28, 40, 25, 56, 30, 43, 46, 28, 66, 27, 25, 65, 25, 24, 30, 30, 24, 38, 27, 26, 17, 46, 90, 32, 53, 35, 47, 33, 28, 36, 23, 39, 36, 42, 39, 19, 28, 29, 44, 35, 32, 47, 17, 43, 33, 33, 28, 29, 24, 35, 18, 33, 36, 26, 48, 33, 58, 74, 52, 30, 34, 38, 26, 39, 36, 52, 66, 17, 30, 49, 17, 26, 20, 18, 52, 43, 20, 43, 40, 20, 28, 36, 37, 30, 29, 33, 40, 22, 30, 41, 35, 45, 53, 23, 40, 70, 30, 41, 28, 46, 45, 35, 52, 20, 37, 37, 63, 22, 26, 46, 29, 30, 17, 26, 21, 18, 21, 37, 18, 27, 29, 54, 19, 30, 40, 37, 21, 31, 20, 25, 37, 39, 70, 34, 18, 68, 35, 23, 32, 70, 32, 32, 52, 35, 22, 29, 17, 20, 26, 40, 32, 32, 18, 25, 31, 47, 45, 49, 59, 58, 25, 36, 22, 54, 33, 34, 23, 42, 24, 40, 40, 35, 20, 45, 23, 24, 38, 66, 26, 28, 44, 34, 56, 36, 43, 20, 33, 61, 39, 34, 25, 31, 63, 27, 31, 70, 30, 47, 30, 45, 69, 73, 31, 26, 40, 34, 30, 25, 30, 55, 39, 37, 21, 24, 48, 27, 24, 30, 36, 29, 24, 25, 37, 32, 29, 22, 55, 57, 26, 25, 36, 48, 25, 32, 21, 28, 19, 42, 24, 70, 28, 51, 31, 24, 40, 35, 18, 41, 42, 36, 23, 32, 35, 30, 35, 30, 33, 48, 23, 30, 64, 36, 28, 30, 17, 26, 23, 29, 30, 29, 16, 37, 24, 48, 24, 33, 29, 57, 37, 24, 36, 20, 33, 18, 32, 28, 33, 58, 60, 32, 25, 28, 63, 22, 58, 23, 37, 47, 40, 26, 39, 22, 19, 38, 26, 38, 27, 52, 45, 50, 59, 20, 42, 27, 20, 48, 24, 30, 52, 46, 25, 64, 34, 38, 43, 49, 25, 29, 44, 36, 26, 25, 32, 40, 24, 27, 21, 49, 21, 40, 17, 27, 34, 23, 30, 43, 21, 33, 54, 32, 26, 34, 37, 27, 61, 23, 33, 20, 44, 31, 60, 48, 23, 24, 49, 32, 22, 50, 57, 35, 26, 46, 28, 26, 47, 40, 29, 33, 30, 25, 32, 20, 32, 37, 21, 18, 54, 53, 20, 38, 27, 33, 19, 32, 33, 53, 24, 24, 54, 20, 53, 57, 35, 34, 29, 42, 24, 29, 29, 54, 26, 39, 49, 22, 43, 44, 31, 43, 21, 21, 22, 29, 37, 31, 60, 37, 20, 50, 29, 17, 33, 25, 30, 23, 68, 41, 56, 20, 37, 24, 36, 34, 37, 19, 37, 30, 41, 18, 19, 32, 23, 62, 34, 48, 47, 30, 20, 53, 40, 28, 27, 53, 39, 28, 71, 47, 22, 59, 28, 20, 40, 37, 53, 70, 23, 17, 54, 33, 38, 85, 59, 45, 61, 65, 23, 34, 60, 34, 21, 17, 22, 27, 28, 45, 30, 40, 30, 23, 26, 24, 23, 46, 32, 43, 25, 68, 32, 20, 40, 73, 50, 25, 27, 34, 21, 57, 34, 67, 49, 28, 70, 37, 24, 21, 34, 39, 26, 57, 17, 27, 27, 65, 25, 25, 42, 48, 50, 25, 30, 22, 55, 80, 45, 25, 23, 25, 24, 34, 47, 55, 28, 20, 34, 23, 30, 54, 35, 19, 33, 63, 38, 28, 46, 49, 20, 28, 26, 51, 43, 27, 26, 22, 17, 36, 51, 34, 47, 18, 16, 26, 30, 49, 18, 20, 34, 70, 59, 41, 30, 20, 27, 63, 42, 55, 42, 27, 23, 78, 34, 45, 24, 25, 36, 27, 50, 26, 30, 42, 52, 23, 36, 37, 21, 40, 24, 35, 35, 53, 60, 21, 51, 40, 43, 52, 51, 25, 56, 34, 49, 26, 27, 20, 30, 48, 61, 29, 51, 46, 44, 53, 24, 83, 35, 35, 40, 21, 45, 28, 29, 41, 36, 28], \"xaxis\": \"x\", \"yaxis\": \"y\"}],\n",
       "                        {\"barmode\": \"relative\", \"height\": 600, \"legend\": {\"tracegroupgap\": 0}, \"margin\": {\"t\": 60}, \"template\": {\"data\": {\"bar\": [{\"error_x\": {\"color\": \"#2a3f5f\"}, \"error_y\": {\"color\": \"#2a3f5f\"}, \"marker\": {\"line\": {\"color\": \"#E5ECF6\", \"width\": 0.5}}, \"type\": \"bar\"}], \"barpolar\": [{\"marker\": {\"line\": {\"color\": \"#E5ECF6\", \"width\": 0.5}}, \"type\": \"barpolar\"}], \"carpet\": [{\"aaxis\": {\"endlinecolor\": \"#2a3f5f\", \"gridcolor\": \"white\", \"linecolor\": \"white\", \"minorgridcolor\": \"white\", \"startlinecolor\": \"#2a3f5f\"}, \"baxis\": {\"endlinecolor\": \"#2a3f5f\", \"gridcolor\": \"white\", \"linecolor\": \"white\", \"minorgridcolor\": \"white\", \"startlinecolor\": \"#2a3f5f\"}, \"type\": \"carpet\"}], \"choropleth\": [{\"colorbar\": {\"outlinewidth\": 0, \"ticks\": \"\"}, \"type\": \"choropleth\"}], \"contour\": [{\"colorbar\": {\"outlinewidth\": 0, \"ticks\": \"\"}, \"colorscale\": [[0.0, \"#0d0887\"], [0.1111111111111111, \"#46039f\"], [0.2222222222222222, \"#7201a8\"], [0.3333333333333333, \"#9c179e\"], [0.4444444444444444, \"#bd3786\"], [0.5555555555555556, \"#d8576b\"], [0.6666666666666666, \"#ed7953\"], [0.7777777777777778, \"#fb9f3a\"], [0.8888888888888888, \"#fdca26\"], [1.0, \"#f0f921\"]], \"type\": \"contour\"}], \"contourcarpet\": [{\"colorbar\": {\"outlinewidth\": 0, \"ticks\": \"\"}, \"type\": \"contourcarpet\"}], \"heatmap\": [{\"colorbar\": {\"outlinewidth\": 0, \"ticks\": \"\"}, \"colorscale\": [[0.0, \"#0d0887\"], [0.1111111111111111, \"#46039f\"], [0.2222222222222222, \"#7201a8\"], [0.3333333333333333, \"#9c179e\"], [0.4444444444444444, \"#bd3786\"], [0.5555555555555556, \"#d8576b\"], [0.6666666666666666, \"#ed7953\"], [0.7777777777777778, \"#fb9f3a\"], [0.8888888888888888, \"#fdca26\"], [1.0, \"#f0f921\"]], \"type\": \"heatmap\"}], \"heatmapgl\": [{\"colorbar\": {\"outlinewidth\": 0, \"ticks\": \"\"}, \"colorscale\": [[0.0, \"#0d0887\"], [0.1111111111111111, \"#46039f\"], [0.2222222222222222, \"#7201a8\"], [0.3333333333333333, \"#9c179e\"], [0.4444444444444444, \"#bd3786\"], [0.5555555555555556, \"#d8576b\"], [0.6666666666666666, \"#ed7953\"], [0.7777777777777778, \"#fb9f3a\"], [0.8888888888888888, \"#fdca26\"], [1.0, \"#f0f921\"]], \"type\": \"heatmapgl\"}], \"histogram\": [{\"marker\": {\"colorbar\": {\"outlinewidth\": 0, \"ticks\": \"\"}}, \"type\": \"histogram\"}], \"histogram2d\": [{\"colorbar\": {\"outlinewidth\": 0, \"ticks\": \"\"}, \"colorscale\": [[0.0, \"#0d0887\"], [0.1111111111111111, \"#46039f\"], [0.2222222222222222, \"#7201a8\"], [0.3333333333333333, \"#9c179e\"], [0.4444444444444444, \"#bd3786\"], [0.5555555555555556, \"#d8576b\"], [0.6666666666666666, \"#ed7953\"], [0.7777777777777778, \"#fb9f3a\"], [0.8888888888888888, \"#fdca26\"], [1.0, \"#f0f921\"]], \"type\": \"histogram2d\"}], \"histogram2dcontour\": [{\"colorbar\": {\"outlinewidth\": 0, \"ticks\": \"\"}, \"colorscale\": [[0.0, \"#0d0887\"], [0.1111111111111111, \"#46039f\"], [0.2222222222222222, \"#7201a8\"], [0.3333333333333333, \"#9c179e\"], [0.4444444444444444, \"#bd3786\"], [0.5555555555555556, \"#d8576b\"], [0.6666666666666666, \"#ed7953\"], [0.7777777777777778, \"#fb9f3a\"], [0.8888888888888888, \"#fdca26\"], [1.0, \"#f0f921\"]], \"type\": \"histogram2dcontour\"}], \"mesh3d\": [{\"colorbar\": {\"outlinewidth\": 0, \"ticks\": \"\"}, \"type\": \"mesh3d\"}], \"parcoords\": [{\"line\": {\"colorbar\": {\"outlinewidth\": 0, \"ticks\": \"\"}}, \"type\": \"parcoords\"}], \"pie\": [{\"automargin\": true, \"type\": \"pie\"}], \"scatter\": [{\"marker\": {\"colorbar\": {\"outlinewidth\": 0, \"ticks\": \"\"}}, \"type\": \"scatter\"}], \"scatter3d\": [{\"line\": {\"colorbar\": {\"outlinewidth\": 0, \"ticks\": \"\"}}, \"marker\": {\"colorbar\": {\"outlinewidth\": 0, \"ticks\": \"\"}}, \"type\": \"scatter3d\"}], \"scattercarpet\": [{\"marker\": {\"colorbar\": {\"outlinewidth\": 0, \"ticks\": \"\"}}, \"type\": \"scattercarpet\"}], \"scattergeo\": [{\"marker\": {\"colorbar\": {\"outlinewidth\": 0, \"ticks\": \"\"}}, \"type\": \"scattergeo\"}], \"scattergl\": [{\"marker\": {\"colorbar\": {\"outlinewidth\": 0, \"ticks\": \"\"}}, \"type\": \"scattergl\"}], \"scattermapbox\": [{\"marker\": {\"colorbar\": {\"outlinewidth\": 0, \"ticks\": \"\"}}, \"type\": \"scattermapbox\"}], \"scatterpolar\": [{\"marker\": {\"colorbar\": {\"outlinewidth\": 0, \"ticks\": \"\"}}, \"type\": \"scatterpolar\"}], \"scatterpolargl\": [{\"marker\": {\"colorbar\": {\"outlinewidth\": 0, \"ticks\": \"\"}}, \"type\": \"scatterpolargl\"}], \"scatterternary\": [{\"marker\": {\"colorbar\": {\"outlinewidth\": 0, \"ticks\": \"\"}}, \"type\": \"scatterternary\"}], \"surface\": [{\"colorbar\": {\"outlinewidth\": 0, \"ticks\": \"\"}, \"colorscale\": [[0.0, \"#0d0887\"], [0.1111111111111111, \"#46039f\"], [0.2222222222222222, \"#7201a8\"], [0.3333333333333333, \"#9c179e\"], [0.4444444444444444, \"#bd3786\"], [0.5555555555555556, \"#d8576b\"], [0.6666666666666666, \"#ed7953\"], [0.7777777777777778, \"#fb9f3a\"], [0.8888888888888888, \"#fdca26\"], [1.0, \"#f0f921\"]], \"type\": \"surface\"}], \"table\": [{\"cells\": {\"fill\": {\"color\": \"#EBF0F8\"}, \"line\": {\"color\": \"white\"}}, \"header\": {\"fill\": {\"color\": \"#C8D4E3\"}, \"line\": {\"color\": \"white\"}}, \"type\": \"table\"}]}, \"layout\": {\"annotationdefaults\": {\"arrowcolor\": \"#2a3f5f\", \"arrowhead\": 0, \"arrowwidth\": 1}, \"coloraxis\": {\"colorbar\": {\"outlinewidth\": 0, \"ticks\": \"\"}}, \"colorscale\": {\"diverging\": [[0, \"#8e0152\"], [0.1, \"#c51b7d\"], [0.2, \"#de77ae\"], [0.3, \"#f1b6da\"], [0.4, \"#fde0ef\"], [0.5, \"#f7f7f7\"], [0.6, \"#e6f5d0\"], [0.7, \"#b8e186\"], [0.8, \"#7fbc41\"], [0.9, \"#4d9221\"], [1, \"#276419\"]], \"sequential\": [[0.0, \"#0d0887\"], [0.1111111111111111, \"#46039f\"], [0.2222222222222222, \"#7201a8\"], [0.3333333333333333, \"#9c179e\"], [0.4444444444444444, \"#bd3786\"], [0.5555555555555556, \"#d8576b\"], [0.6666666666666666, \"#ed7953\"], [0.7777777777777778, \"#fb9f3a\"], [0.8888888888888888, \"#fdca26\"], [1.0, \"#f0f921\"]], \"sequentialminus\": [[0.0, \"#0d0887\"], [0.1111111111111111, \"#46039f\"], [0.2222222222222222, \"#7201a8\"], [0.3333333333333333, \"#9c179e\"], [0.4444444444444444, \"#bd3786\"], [0.5555555555555556, \"#d8576b\"], [0.6666666666666666, \"#ed7953\"], [0.7777777777777778, \"#fb9f3a\"], [0.8888888888888888, \"#fdca26\"], [1.0, \"#f0f921\"]]}, \"colorway\": [\"#636efa\", \"#EF553B\", \"#00cc96\", \"#ab63fa\", \"#FFA15A\", \"#19d3f3\", \"#FF6692\", \"#B6E880\", \"#FF97FF\", \"#FECB52\"], \"font\": {\"color\": \"#2a3f5f\"}, \"geo\": {\"bgcolor\": \"white\", \"lakecolor\": \"white\", \"landcolor\": \"#E5ECF6\", \"showlakes\": true, \"showland\": true, \"subunitcolor\": \"white\"}, \"hoverlabel\": {\"align\": \"left\"}, \"hovermode\": \"closest\", \"mapbox\": {\"style\": \"light\"}, \"paper_bgcolor\": \"white\", \"plot_bgcolor\": \"#E5ECF6\", \"polar\": {\"angularaxis\": {\"gridcolor\": \"white\", \"linecolor\": \"white\", \"ticks\": \"\"}, \"bgcolor\": \"#E5ECF6\", \"radialaxis\": {\"gridcolor\": \"white\", \"linecolor\": \"white\", \"ticks\": \"\"}}, \"scene\": {\"xaxis\": {\"backgroundcolor\": \"#E5ECF6\", \"gridcolor\": \"white\", \"gridwidth\": 2, \"linecolor\": \"white\", \"showbackground\": true, \"ticks\": \"\", \"zerolinecolor\": \"white\"}, \"yaxis\": {\"backgroundcolor\": \"#E5ECF6\", \"gridcolor\": \"white\", \"gridwidth\": 2, \"linecolor\": \"white\", \"showbackground\": true, \"ticks\": \"\", \"zerolinecolor\": \"white\"}, \"zaxis\": {\"backgroundcolor\": \"#E5ECF6\", \"gridcolor\": \"white\", \"gridwidth\": 2, \"linecolor\": \"white\", \"showbackground\": true, \"ticks\": \"\", \"zerolinecolor\": \"white\"}}, \"shapedefaults\": {\"line\": {\"color\": \"#2a3f5f\"}}, \"ternary\": {\"aaxis\": {\"gridcolor\": \"white\", \"linecolor\": \"white\", \"ticks\": \"\"}, \"baxis\": {\"gridcolor\": \"white\", \"linecolor\": \"white\", \"ticks\": \"\"}, \"bgcolor\": \"#E5ECF6\", \"caxis\": {\"gridcolor\": \"white\", \"linecolor\": \"white\", \"ticks\": \"\"}}, \"title\": {\"x\": 0.05}, \"xaxis\": {\"automargin\": true, \"gridcolor\": \"white\", \"linecolor\": \"white\", \"ticks\": \"\", \"title\": {\"standoff\": 15}, \"zerolinecolor\": \"white\", \"zerolinewidth\": 2}, \"yaxis\": {\"automargin\": true, \"gridcolor\": \"white\", \"linecolor\": \"white\", \"ticks\": \"\", \"title\": {\"standoff\": 15}, \"zerolinecolor\": \"white\", \"zerolinewidth\": 2}}}, \"xaxis\": {\"anchor\": \"y\", \"domain\": [0.0, 1.0], \"title\": {\"text\": \"age\"}}, \"yaxis\": {\"anchor\": \"x\", \"domain\": [0.0, 1.0], \"title\": {\"text\": \"count\"}}},\n",
       "                        {\"responsive\": true}\n",
       "                    ).then(function(){\n",
       "                            \n",
       "var gd = document.getElementById('6e5266cf-a256-4696-b780-55c5de2d37c0');\n",
       "var x = new MutationObserver(function (mutations, observer) {{\n",
       "        var display = window.getComputedStyle(gd).display;\n",
       "        if (!display || display === 'none') {{\n",
       "            console.log([gd, 'removed!']);\n",
       "            Plotly.purge(gd);\n",
       "            observer.disconnect();\n",
       "        }}\n",
       "}});\n",
       "\n",
       "// Listen for the removal of the full notebook cells\n",
       "var notebookContainer = gd.closest('#notebook-container');\n",
       "if (notebookContainer) {{\n",
       "    x.observe(notebookContainer, {childList: true});\n",
       "}}\n",
       "\n",
       "// Listen for the clearing of the current output cell\n",
       "var outputEl = gd.closest('.output');\n",
       "if (outputEl) {{\n",
       "    x.observe(outputEl, {childList: true});\n",
       "}}\n",
       "\n",
       "                        })\n",
       "                };\n",
       "                });\n",
       "            </script>\n",
       "        </div>"
      ]
     },
     "metadata": {},
     "output_type": "display_data"
    }
   ],
   "source": [
    "mm_age_dist = data[data[\"mobile_money\"] == 1]\n",
    "\n",
    "fig = px.histogram(mm_age_dist, mm_age_dist.age, color=\"Gender\",nbins=20, opacity=0.60)\n",
    "fig.show()"
   ]
  },
  {
   "cell_type": "markdown",
   "metadata": {},
   "source": [
    "### &emsp;&emsp;&emsp;&emsp;&emsp;&emsp;&emsp;&emsp;&emsp;&emsp;&emsp;&emsp;&emsp;&emsp;Age Distribution Of People Not Using Mobile Money"
   ]
  },
  {
   "cell_type": "code",
   "execution_count": 9,
   "metadata": {
    "hideCode": true
   },
   "outputs": [
    {
     "data": {
      "application/vnd.plotly.v1+json": {
       "config": {
        "plotlyServerURL": "https://plot.ly"
       },
       "data": [
        {
         "alignmentgroup": "True",
         "bingroup": "x",
         "hoverlabel": {
          "namelength": 0
         },
         "hovertemplate": "Gender=Female<br>age=%{x}<br>count=%{y}",
         "legendgroup": "Gender=Female",
         "marker": {
          "color": "#636efa",
          "opacity": 0.6
         },
         "name": "Gender=Female",
         "nbinsx": 20,
         "offsetgroup": "Gender=Female",
         "orientation": "v",
         "showlegend": true,
         "type": "histogram",
         "x": [
          98,
          56,
          17,
          53,
          76,
          31,
          17,
          30,
          29,
          31,
          21,
          39,
          54,
          46,
          31,
          38,
          35,
          23,
          27,
          33,
          29,
          21,
          29,
          58,
          53,
          52,
          60,
          48,
          30,
          17,
          30,
          74,
          42,
          25,
          21,
          32,
          27,
          71,
          41,
          30,
          28,
          40,
          16,
          44,
          23,
          47,
          30,
          30,
          45,
          21,
          64,
          25,
          50,
          45,
          38,
          25,
          36,
          70,
          78,
          59,
          64,
          16,
          41,
          30,
          50,
          22,
          42,
          80,
          50,
          23,
          16,
          35,
          27,
          26,
          65,
          31,
          38,
          22,
          55,
          18,
          42,
          43,
          49,
          18,
          45,
          17,
          42,
          42,
          36,
          61,
          35,
          85,
          30,
          20,
          25,
          20,
          80,
          85,
          77,
          34,
          62,
          25,
          72,
          18,
          71,
          18,
          25,
          24,
          24,
          22,
          33,
          35,
          23,
          45,
          62,
          40,
          32,
          26,
          27,
          38,
          16,
          26,
          70,
          20,
          42,
          34,
          65,
          42,
          50,
          21,
          60,
          70,
          65,
          41,
          40,
          27,
          16,
          68,
          25,
          30,
          22,
          39,
          70,
          35,
          48,
          48,
          70,
          18,
          18,
          35,
          33,
          60,
          17,
          23,
          40,
          60,
          61,
          34,
          44,
          21,
          30,
          19,
          55,
          82,
          29,
          81,
          50,
          45,
          51,
          46,
          45,
          29,
          19,
          31,
          43,
          32,
          49,
          47,
          60,
          30,
          28,
          17,
          30,
          70,
          32,
          35,
          40,
          29,
          42,
          32,
          62,
          41,
          22,
          16,
          17,
          65,
          27,
          38,
          47,
          70,
          19,
          36,
          42,
          58,
          79,
          43,
          25,
          21,
          29,
          43,
          45,
          36,
          33,
          39,
          38,
          37,
          19,
          26,
          16,
          24,
          50,
          16,
          27,
          55,
          42,
          65,
          70,
          27,
          26,
          42,
          20,
          23,
          30,
          21,
          65,
          26,
          40,
          23,
          47,
          31,
          34,
          40,
          42,
          30,
          22,
          50,
          82,
          62,
          60,
          23,
          39,
          38,
          69,
          35,
          26,
          27,
          24,
          17,
          82,
          19,
          26,
          28,
          16,
          17,
          39,
          38,
          16,
          17,
          41,
          29,
          26,
          40,
          32,
          30,
          85,
          22,
          40,
          24,
          35,
          27,
          59,
          80,
          36,
          17,
          75,
          31,
          35,
          49,
          70,
          53,
          65,
          34,
          24,
          60,
          41,
          22,
          38,
          20,
          20,
          41,
          32,
          28,
          36,
          18,
          68,
          40,
          54,
          24,
          23,
          57,
          70,
          46,
          36,
          63,
          39,
          27,
          61,
          80,
          81,
          64,
          16,
          75,
          58,
          35,
          68,
          30,
          58,
          70,
          30,
          40,
          50,
          40,
          58,
          22,
          22,
          34,
          17,
          65,
          70,
          23,
          35,
          44,
          26,
          26,
          40,
          19,
          20,
          18,
          37,
          41,
          22,
          96,
          30,
          20,
          25,
          32,
          27,
          59,
          55,
          40,
          26,
          36,
          20,
          22,
          26,
          70,
          29,
          41,
          32,
          40,
          31,
          34,
          20,
          25,
          16,
          34,
          45,
          23,
          53,
          29,
          49,
          33,
          50,
          19,
          76,
          28,
          46,
          68,
          45,
          64,
          20,
          21,
          32,
          30,
          17,
          65,
          22,
          27,
          75,
          61,
          24,
          50,
          59,
          88,
          30,
          19,
          56,
          24,
          71,
          65,
          40,
          45,
          32,
          31,
          42,
          45,
          70,
          26,
          56,
          22,
          34,
          42,
          43,
          71,
          60,
          31,
          19,
          30,
          16,
          16,
          30,
          38,
          29,
          28,
          50,
          33,
          62,
          38,
          37,
          36,
          36,
          35,
          50,
          70,
          48,
          44,
          28,
          32,
          35,
          70,
          22,
          42,
          59,
          34,
          35,
          30,
          39,
          63,
          32,
          45,
          42,
          65,
          22,
          47,
          42,
          47,
          75,
          22,
          18,
          20,
          35,
          19,
          32,
          19,
          31,
          18,
          17,
          38,
          30,
          32,
          45,
          21,
          29,
          25,
          29,
          26,
          16,
          25,
          73,
          65,
          40,
          18,
          45,
          80,
          40,
          80,
          70,
          30,
          40,
          36,
          21,
          40,
          42,
          17,
          17,
          73,
          46,
          19,
          60,
          37,
          47,
          20,
          69,
          17,
          80,
          23,
          47,
          20,
          18,
          40,
          20,
          45,
          47,
          20,
          52,
          38,
          22,
          35,
          38,
          77,
          18,
          59,
          40,
          60,
          35,
          50,
          45,
          68,
          26,
          18,
          22,
          58,
          24,
          37,
          45,
          80,
          20,
          18,
          29,
          38,
          43,
          66,
          92,
          43,
          37,
          58,
          32,
          28,
          20,
          22,
          35,
          57,
          38,
          28,
          45,
          78,
          44,
          28,
          45,
          74,
          55,
          28,
          30,
          57,
          20,
          29,
          16,
          34,
          66,
          25,
          36,
          48,
          26,
          22,
          35,
          16,
          25,
          51,
          19,
          75,
          73,
          65,
          31,
          20,
          21,
          27,
          24,
          19,
          24,
          36,
          47,
          54,
          18,
          20,
          16,
          31,
          43,
          70,
          30,
          50,
          21,
          20,
          20,
          35,
          27,
          62,
          58,
          20,
          32,
          52,
          35,
          48,
          56,
          66,
          35,
          34,
          25,
          35,
          18,
          16,
          35,
          16,
          76,
          50,
          44,
          45,
          60,
          25,
          19,
          28,
          39,
          18,
          26,
          30,
          60,
          60,
          43,
          82,
          31,
          32,
          16,
          60,
          21,
          62,
          57,
          19,
          18,
          45,
          25,
          31,
          39,
          24,
          36,
          25,
          69,
          26,
          58,
          52,
          50,
          34,
          40,
          46,
          40,
          19,
          65,
          48,
          25,
          70,
          34,
          39,
          55,
          16,
          51,
          33,
          54,
          90,
          32,
          41,
          28,
          19,
          30,
          30,
          35,
          30,
          42,
          26,
          76,
          28,
          64,
          22,
          32,
          35,
          33,
          62,
          30,
          35,
          65,
          58,
          99,
          28,
          29,
          20,
          35,
          21,
          28,
          45,
          46,
          47,
          51,
          19,
          32,
          20,
          75,
          56,
          31,
          22,
          35,
          52,
          27,
          25,
          27,
          27,
          35,
          50,
          55,
          29,
          75,
          50,
          22,
          50,
          48,
          43,
          36,
          20,
          60,
          16,
          52,
          30,
          30,
          43,
          24,
          20,
          80,
          19,
          20,
          19,
          50,
          46,
          35,
          43,
          18,
          72,
          21,
          41,
          27,
          34,
          77,
          34,
          82,
          35,
          37,
          44,
          79,
          30,
          27,
          29,
          21,
          62,
          23,
          60,
          33,
          28,
          64,
          30,
          55,
          26,
          23,
          40,
          22,
          34,
          39,
          60,
          54,
          32,
          40,
          60,
          50,
          28,
          75,
          51,
          57,
          17,
          68,
          42,
          43,
          20,
          17,
          44,
          66,
          68,
          25,
          34,
          65,
          73,
          90,
          30,
          22,
          37,
          30,
          22,
          33,
          65,
          72,
          34,
          17,
          17,
          34,
          20,
          42,
          90,
          17,
          32,
          18,
          30,
          65,
          33,
          44,
          62,
          46,
          21,
          23,
          40,
          25,
          37,
          46,
          36,
          80,
          65,
          44,
          24,
          30,
          30,
          30,
          60,
          44,
          26,
          56,
          23,
          25,
          23,
          69,
          37,
          40,
          20,
          25,
          22,
          75,
          19,
          40,
          63,
          30,
          20,
          24,
          38,
          21,
          20,
          46,
          24,
          33,
          28,
          32,
          17,
          23,
          45,
          55,
          45,
          22,
          40,
          16,
          36,
          22,
          27,
          27,
          55,
          28,
          37,
          42,
          16,
          19,
          23,
          30,
          27,
          25,
          24,
          29,
          32,
          45,
          85,
          25,
          60,
          29,
          47,
          56,
          37,
          42,
          17,
          39,
          35,
          32,
          30,
          43,
          19,
          49,
          21,
          31,
          20,
          40,
          60,
          17,
          46,
          35,
          57,
          35,
          18,
          64,
          35,
          48,
          59,
          24,
          22,
          25,
          83,
          37,
          29,
          41,
          17,
          63,
          17,
          40,
          72,
          18,
          40,
          30,
          32,
          23,
          67,
          28,
          17,
          23,
          30,
          60,
          16,
          32,
          27,
          37,
          16,
          29,
          29,
          38,
          72,
          38,
          45,
          65,
          44,
          38,
          19,
          36,
          76,
          40,
          75,
          62,
          20,
          43,
          33,
          31,
          79,
          75,
          22,
          34,
          26,
          17,
          21,
          20,
          20,
          40,
          56,
          27,
          31,
          63,
          64,
          18,
          47,
          56,
          40,
          30,
          40,
          25,
          38,
          63,
          32,
          24,
          22,
          30,
          23,
          50,
          35,
          25,
          67,
          57,
          28,
          25,
          32,
          90,
          47,
          23,
          40,
          75,
          65,
          45,
          22,
          46,
          31,
          30,
          41,
          36,
          19,
          32,
          28,
          27,
          45,
          28,
          57,
          35,
          67,
          28,
          72,
          65,
          49,
          29,
          80,
          63,
          42,
          19,
          34,
          32,
          30,
          40,
          25,
          74,
          60,
          63,
          23,
          17,
          78,
          21,
          45,
          61,
          23,
          35,
          22,
          87,
          34,
          29,
          27,
          43,
          65,
          48,
          53,
          47,
          43,
          32,
          32,
          30,
          48,
          20,
          24,
          42,
          77,
          38,
          35,
          18,
          31,
          25,
          22,
          20,
          31,
          17,
          23,
          45,
          32,
          30,
          35,
          54,
          53,
          60,
          28,
          33,
          31,
          28,
          36,
          21,
          45,
          19,
          28,
          18,
          50,
          40,
          40,
          30,
          36,
          21,
          31,
          34,
          46,
          53,
          40,
          29,
          42,
          47,
          22,
          35,
          28,
          61,
          19,
          32,
          22,
          48,
          33,
          30,
          32,
          20,
          34,
          58,
          25,
          29,
          50,
          68,
          23,
          58,
          37,
          71,
          21,
          50,
          20,
          75,
          60,
          27,
          40,
          70,
          31,
          68,
          50,
          60,
          59,
          22,
          41,
          48,
          65,
          30,
          27,
          26,
          23,
          22,
          18,
          18,
          51,
          51,
          40,
          56,
          85,
          27,
          100,
          60,
          68,
          30,
          49,
          50,
          27,
          17,
          20,
          35,
          100,
          62,
          41,
          30,
          18,
          70,
          72,
          36,
          65,
          65,
          47,
          31,
          67,
          35,
          57,
          20,
          60,
          30,
          63,
          29,
          29,
          80,
          27,
          38,
          30,
          40,
          23,
          33,
          55,
          17,
          40,
          65,
          27,
          22,
          29,
          26,
          18,
          60,
          65,
          36,
          17,
          82,
          17,
          46,
          27,
          28,
          26,
          28,
          63,
          26,
          20,
          32,
          23,
          23,
          70,
          17,
          39,
          16,
          27,
          38,
          20,
          49,
          22,
          57,
          17,
          37,
          71,
          47,
          32,
          60,
          27,
          35,
          24,
          34,
          25,
          40,
          90,
          21,
          50,
          30,
          36,
          59,
          20,
          20,
          80,
          70,
          47,
          71,
          30,
          48,
          27,
          40,
          32,
          31,
          73,
          40,
          23,
          63,
          46,
          31,
          41,
          40,
          44,
          22,
          55,
          21,
          30,
          25,
          38,
          35,
          27,
          60,
          42,
          27,
          40,
          30,
          40,
          65,
          57,
          39,
          30,
          29,
          31,
          55,
          45,
          18,
          80,
          27,
          25,
          40,
          50,
          28,
          18,
          42,
          27,
          35,
          24,
          23,
          24,
          45,
          25,
          70,
          16,
          51,
          23,
          90,
          22,
          20,
          21,
          69,
          43,
          70,
          56,
          39,
          33,
          53,
          31,
          49,
          20,
          54,
          29,
          20,
          27,
          27,
          30,
          52,
          62,
          24,
          30,
          23,
          51,
          62,
          30,
          35,
          23,
          50,
          45,
          51,
          78,
          20,
          38,
          32,
          30,
          19,
          27,
          58,
          30,
          65,
          19,
          29,
          32,
          66,
          38,
          31,
          43,
          50,
          70,
          24,
          22,
          50,
          25,
          28,
          72,
          34,
          27,
          70,
          63,
          32,
          23,
          68,
          24,
          30,
          23,
          29,
          70,
          75,
          37,
          22,
          21,
          63,
          31,
          17,
          57,
          24,
          58,
          30,
          31,
          49,
          50,
          45,
          22,
          28,
          19,
          29,
          59,
          45,
          22,
          25,
          23,
          56,
          72,
          23,
          16,
          57,
          32,
          68,
          28,
          70,
          38,
          29,
          17,
          31,
          32,
          49,
          35,
          26,
          22,
          65,
          23,
          24,
          36,
          35,
          51,
          38,
          44,
          27,
          58,
          40,
          40,
          19,
          36,
          28,
          45,
          20,
          30,
          18,
          30,
          38,
          54,
          28,
          58,
          61,
          25,
          61,
          34,
          52,
          29,
          81,
          43,
          23,
          22,
          50,
          44,
          19,
          40,
          85,
          32,
          37,
          25,
          20,
          24,
          29,
          59,
          88,
          65,
          64,
          70,
          33,
          22,
          22,
          39,
          51,
          43,
          78,
          41,
          29,
          62,
          25,
          16,
          30,
          48,
          60,
          22,
          34,
          20,
          16,
          40,
          19,
          26,
          20,
          35,
          22,
          60,
          30,
          17,
          70,
          24,
          25,
          18,
          72,
          23,
          26,
          23,
          25,
          52,
          70,
          22,
          32,
          82,
          90,
          51,
          35,
          37,
          32,
          21,
          17,
          77,
          70,
          35,
          54,
          16,
          50,
          27,
          35,
          39,
          31,
          16,
          65,
          33,
          17,
          49,
          50,
          22,
          28,
          28,
          23,
          47,
          50,
          56,
          63,
          76,
          47,
          62,
          27,
          34,
          50,
          25,
          35,
          35,
          30,
          80,
          24,
          25,
          58,
          22,
          17,
          31,
          31,
          36,
          57,
          35,
          28,
          44,
          49,
          19,
          32,
          50,
          29,
          58,
          35,
          50,
          20,
          30,
          16,
          17,
          50,
          81,
          35,
          17,
          22,
          60,
          45,
          55,
          30,
          56,
          65,
          22,
          46,
          18,
          30,
          80,
          16,
          60,
          30,
          28,
          75,
          40,
          36,
          41,
          72,
          19,
          57,
          17,
          59,
          24,
          55,
          32,
          30,
          23,
          30,
          57,
          70,
          16,
          24,
          18,
          18,
          41,
          82,
          50,
          18,
          22,
          24,
          25,
          84,
          16,
          38,
          22,
          26,
          45,
          28,
          66,
          33,
          30,
          24,
          82,
          45,
          60,
          26,
          16,
          52,
          25,
          47,
          40,
          23,
          18,
          42,
          53,
          30,
          24,
          65,
          32,
          40,
          18,
          40,
          72,
          28,
          18,
          23,
          33,
          25,
          35,
          29,
          76,
          63,
          95,
          39,
          45,
          50,
          27,
          65,
          60,
          25,
          60,
          32,
          61,
          80,
          25,
          54,
          22,
          17,
          49,
          38,
          62,
          28,
          60,
          18,
          23,
          52,
          80,
          45,
          61,
          75,
          38,
          40,
          18,
          18,
          18,
          16,
          20,
          20,
          25,
          56,
          35,
          48,
          30,
          20,
          17,
          81,
          30,
          22,
          26,
          76,
          25,
          18,
          75,
          28,
          47,
          20,
          40,
          30,
          46,
          29,
          45,
          21,
          23,
          40,
          22,
          36,
          35,
          70,
          32,
          17,
          29,
          56,
          47,
          73,
          42,
          80,
          47,
          77,
          20,
          68,
          22,
          18,
          38,
          48,
          46,
          23,
          70,
          28,
          97,
          30,
          66,
          31,
          22,
          47,
          25,
          47,
          75,
          25,
          70,
          67,
          35,
          27,
          17,
          16,
          40,
          35,
          17,
          33,
          44,
          28,
          37,
          34,
          73,
          18,
          19,
          18,
          32,
          19,
          40,
          58,
          25,
          75,
          51,
          70,
          65,
          30,
          35,
          53,
          22,
          78,
          25,
          60,
          62,
          23,
          22,
          33,
          35,
          29,
          27,
          41,
          23,
          30,
          19,
          80,
          30,
          45,
          43,
          20,
          31,
          33,
          48,
          29,
          69,
          70,
          60,
          16,
          32,
          28,
          30,
          22,
          68,
          45,
          36,
          27,
          25,
          54,
          79,
          35,
          20,
          32,
          21,
          28,
          35,
          60,
          34,
          16,
          23,
          71,
          26,
          17,
          28,
          25,
          48,
          36,
          22,
          71,
          88,
          62,
          33,
          48,
          59,
          37,
          36,
          69,
          72,
          22,
          32,
          27,
          35,
          17,
          44,
          37,
          20,
          16,
          35,
          19,
          30,
          27,
          24,
          37,
          29,
          45,
          45,
          30,
          44,
          27,
          18,
          41,
          53,
          42,
          37,
          59,
          21,
          24,
          16,
          43,
          29,
          37,
          37,
          34,
          38,
          46,
          65,
          20,
          51,
          35,
          41,
          35,
          23,
          22,
          37,
          44,
          61,
          40,
          66,
          32,
          86,
          30,
          21,
          50,
          42,
          50,
          40,
          28,
          91,
          19,
          42,
          48,
          59,
          45,
          30,
          35,
          35,
          34,
          27,
          40,
          59,
          58,
          45,
          80,
          57,
          17,
          16,
          35,
          30,
          56,
          32,
          65,
          54,
          29,
          34,
          28,
          24,
          44,
          49,
          30,
          16,
          54,
          40,
          20,
          42,
          34,
          53,
          24,
          23,
          18,
          50,
          24,
          39,
          16,
          38,
          31,
          42,
          34,
          45,
          34,
          57,
          22
         ],
         "xaxis": "x",
         "yaxis": "y"
        },
        {
         "alignmentgroup": "True",
         "bingroup": "x",
         "hoverlabel": {
          "namelength": 0
         },
         "hovertemplate": "Gender=Male<br>age=%{x}<br>count=%{y}",
         "legendgroup": "Gender=Male",
         "marker": {
          "color": "#EF553B",
          "opacity": 0.6
         },
         "name": "Gender=Male",
         "nbinsx": 20,
         "offsetgroup": "Gender=Male",
         "orientation": "v",
         "showlegend": true,
         "type": "histogram",
         "x": [
          35,
          28,
          47,
          86,
          18,
          25,
          72,
          27,
          30,
          18,
          48,
          33,
          30,
          48,
          40,
          34,
          79,
          19,
          22,
          57,
          70,
          32,
          26,
          40,
          30,
          82,
          50,
          45,
          34,
          19,
          23,
          47,
          37,
          34,
          34,
          30,
          45,
          27,
          26,
          42,
          18,
          94,
          25,
          35,
          20,
          48,
          72,
          53,
          43,
          43,
          16,
          30,
          21,
          39,
          20,
          26,
          90,
          52,
          50,
          62,
          17,
          22,
          29,
          31,
          87,
          72,
          20,
          19,
          26,
          43,
          47,
          50,
          50,
          16,
          19,
          72,
          16,
          21,
          39,
          32,
          79,
          49,
          40,
          45,
          40,
          47,
          58,
          72,
          77,
          75,
          70,
          49,
          37,
          70,
          35,
          75,
          16,
          33,
          47,
          40,
          70,
          27,
          53,
          30,
          58,
          67,
          35,
          31,
          28,
          29,
          26,
          19,
          50,
          75,
          50,
          70,
          28,
          51,
          48,
          48,
          28,
          21,
          16,
          25,
          25,
          27,
          72,
          44,
          46,
          27,
          40,
          54,
          50,
          78,
          28,
          45,
          76,
          51,
          45,
          50,
          78,
          39,
          43,
          50,
          16,
          40,
          19,
          34,
          37,
          66,
          20,
          35,
          19,
          29,
          36,
          32,
          33,
          30,
          58,
          51,
          50,
          59,
          50,
          40,
          29,
          34,
          32,
          27,
          26,
          21,
          16,
          26,
          52,
          17,
          50,
          45,
          50,
          17,
          36,
          46,
          75,
          63,
          33,
          42,
          17,
          45,
          27,
          16,
          42,
          38,
          57,
          17,
          17,
          28,
          72,
          19,
          27,
          74,
          25,
          16,
          54,
          50,
          17,
          82,
          17,
          23,
          70,
          63,
          26,
          21,
          60,
          17,
          38,
          49,
          30,
          45,
          28,
          28,
          26,
          67,
          52,
          41,
          56,
          18,
          22,
          33,
          16,
          70,
          51,
          19,
          60,
          50,
          58,
          36,
          63,
          29,
          65,
          44,
          55,
          45,
          72,
          45,
          48,
          58,
          17,
          23,
          64,
          21,
          83,
          55,
          25,
          52,
          26,
          39,
          76,
          34,
          16,
          26,
          70,
          48,
          52,
          25,
          26,
          50,
          52,
          19,
          39,
          34,
          19,
          17,
          42,
          35,
          70,
          52,
          39,
          40,
          19,
          53,
          34,
          32,
          70,
          58,
          24,
          68,
          44,
          47,
          49,
          90,
          16,
          31,
          17,
          28,
          55,
          58,
          45,
          18,
          22,
          48,
          25,
          32,
          80,
          50,
          55,
          38,
          50,
          46,
          80,
          25,
          70,
          40,
          31,
          55,
          60,
          21,
          24,
          21,
          17,
          70,
          19,
          52,
          31,
          70,
          45,
          58,
          35,
          25,
          31,
          49,
          26,
          46,
          20,
          39,
          24,
          26,
          22,
          70,
          62,
          59,
          20,
          67,
          24,
          60,
          54,
          17,
          19,
          48,
          50,
          53,
          49,
          60,
          37,
          20,
          47,
          25,
          59,
          33,
          38,
          56,
          22,
          48,
          40,
          20,
          46,
          33,
          35,
          35,
          26,
          20,
          21,
          38,
          63,
          18,
          76,
          53,
          80,
          30,
          29,
          81,
          21,
          76,
          30,
          34,
          75,
          18,
          30,
          100,
          40,
          25,
          74,
          47,
          45,
          62,
          64,
          68,
          63,
          60,
          58,
          48,
          29,
          29,
          65,
          18,
          16,
          34,
          23,
          17,
          30,
          17,
          45,
          45,
          30,
          33,
          16,
          78,
          29,
          33,
          64,
          39,
          22,
          57,
          85,
          25,
          75,
          74,
          53,
          43,
          16,
          45,
          39,
          16,
          35,
          77,
          17,
          23,
          20,
          65,
          43,
          45,
          34,
          33,
          17,
          64,
          17,
          48,
          73,
          17,
          16,
          45,
          44,
          23,
          68,
          51,
          24,
          61,
          42,
          24,
          85,
          30,
          53,
          35,
          63,
          47,
          39,
          32,
          16,
          52,
          19,
          77,
          27,
          68,
          41,
          60,
          18,
          33,
          33,
          37,
          59,
          22,
          38,
          40,
          16,
          38,
          38,
          32,
          49,
          18,
          51,
          63,
          62,
          42,
          28,
          17,
          19,
          49,
          34,
          27,
          79,
          75,
          70,
          34,
          29,
          30,
          18,
          45,
          75,
          78,
          23,
          82,
          25,
          38,
          40,
          74,
          55,
          18,
          77,
          37,
          20,
          21,
          18,
          82,
          30,
          45,
          40,
          40,
          16,
          32,
          88,
          20,
          27,
          51,
          22,
          53,
          47,
          70,
          31,
          58,
          75,
          22,
          22,
          19,
          35,
          45,
          42,
          59,
          100,
          27,
          21,
          52,
          32,
          35,
          31,
          39,
          90,
          36,
          60,
          25,
          30,
          41,
          38,
          50,
          83,
          38,
          40,
          18,
          25,
          27,
          63,
          30,
          86,
          60,
          40,
          49,
          28,
          21,
          60,
          35,
          69,
          16,
          16,
          60,
          42,
          16,
          41,
          49,
          50,
          32,
          42,
          22,
          37,
          31,
          80,
          17,
          22,
          80,
          70,
          75,
          23,
          27,
          20,
          16,
          19,
          45,
          16,
          28,
          79,
          56,
          30,
          47,
          74,
          54,
          48,
          16,
          30,
          53,
          65,
          31,
          19,
          52,
          18,
          20,
          55,
          65,
          22,
          78,
          36,
          45,
          65,
          57,
          25,
          68,
          75,
          72,
          43,
          31,
          55,
          91,
          16,
          33,
          70,
          24,
          27,
          22,
          47,
          98,
          32,
          35,
          78,
          58,
          20,
          73,
          67,
          30,
          35,
          22,
          56,
          60,
          17,
          70,
          24,
          80,
          30,
          52,
          35,
          31,
          21,
          34,
          26,
          68,
          42,
          40,
          78,
          65,
          40,
          72,
          71,
          70,
          42,
          32,
          18,
          67,
          73,
          55,
          22,
          22,
          20,
          33,
          19,
          49,
          25,
          29,
          55,
          39,
          26,
          34,
          56,
          22,
          30,
          60,
          43,
          45,
          42,
          30,
          32,
          43,
          48,
          22,
          40,
          62,
          18,
          24,
          66,
          81,
          60,
          42,
          26,
          56,
          35,
          47,
          25,
          21,
          35,
          67,
          37,
          37,
          27,
          69,
          16,
          38,
          16,
          30,
          77,
          57,
          85,
          60,
          52,
          25,
          82,
          64,
          35,
          70,
          50,
          65,
          19,
          17,
          30,
          22,
          67,
          30,
          36,
          20,
          88,
          70,
          35,
          43,
          40,
          56,
          34,
          54,
          20,
          30,
          61,
          25,
          30,
          75,
          74,
          29,
          58,
          27,
          45,
          57,
          65,
          19,
          26,
          32,
          68,
          32,
          22,
          27,
          32,
          16,
          49,
          17,
          23,
          31,
          25,
          78,
          17,
          67,
          36,
          44,
          80,
          70,
          53,
          38,
          16,
          66,
          64,
          50,
          32,
          82,
          45,
          35,
          62,
          34,
          40,
          52,
          49,
          42,
          68,
          60,
          18,
          53,
          17,
          100,
          69,
          56,
          42,
          60,
          24,
          47,
          70,
          28,
          53,
          45,
          34,
          34,
          47,
          40,
          22,
          70,
          18,
          47,
          59,
          25,
          20,
          30,
          72,
          22,
          59,
          18,
          32,
          49,
          53,
          25,
          65,
          22,
          18,
          62,
          56,
          37,
          75,
          60,
          23,
          45,
          44,
          78,
          28,
          40,
          19,
          70,
          45,
          34,
          32,
          25,
          16,
          80,
          21,
          58,
          79,
          18,
          40,
          61,
          20,
          82,
          45,
          23,
          27,
          36,
          69,
          20,
          39,
          90,
          23,
          24,
          32,
          55,
          19,
          37,
          50,
          48,
          16,
          35,
          21,
          72,
          54,
          45,
          22,
          30,
          75,
          53,
          52,
          31,
          27,
          52,
          32,
          65,
          80,
          18,
          30,
          37,
          46,
          31,
          32,
          55,
          45,
          44,
          34,
          37,
          24,
          21,
          28,
          52,
          75,
          60,
          23,
          52,
          69,
          50,
          18,
          18,
          34,
          16,
          40,
          48,
          53,
          75,
          64,
          43,
          71,
          23,
          76,
          49,
          33,
          65,
          50,
          35,
          27,
          41,
          80,
          36,
          20,
          55,
          17,
          29,
          40,
          17,
          70,
          85,
          72,
          68,
          17,
          17,
          52,
          42,
          50,
          41,
          60,
          32,
          25,
          16,
          40,
          28,
          85,
          40,
          42,
          56,
          87,
          30,
          51,
          35,
          22,
          22,
          40,
          40,
          22,
          55,
          72,
          36,
          18,
          67,
          49,
          32,
          69,
          43,
          69,
          35,
          24,
          76,
          38,
          84,
          22,
          80,
          16,
          22,
          24,
          27,
          65,
          47,
          68,
          70,
          43,
          50,
          35,
          31,
          23,
          30,
          19,
          20,
          16,
          40,
          54,
          22,
          44,
          34,
          30,
          73,
          82,
          25,
          33,
          16,
          19,
          44,
          70,
          45,
          61,
          59,
          26,
          23,
          36,
          47,
          64,
          20,
          21,
          78,
          60,
          32,
          65,
          64,
          55,
          50,
          17,
          33,
          43,
          75,
          28,
          40,
          19,
          42,
          25,
          75,
          30,
          65,
          76,
          16,
          49,
          25,
          52,
          16,
          56,
          38,
          41,
          40,
          45,
          38,
          25,
          59,
          44,
          61,
          62,
          35,
          79,
          80,
          48,
          45,
          40,
          52,
          36,
          65,
          21,
          68,
          49,
          75,
          86,
          63,
          43,
          18,
          20,
          79,
          38,
          40,
          20,
          19,
          60,
          37,
          28,
          50,
          75,
          37,
          28,
          34,
          50,
          50,
          28,
          50,
          29,
          28,
          76,
          29,
          30,
          19,
          57,
          30,
          63,
          63,
          17,
          16,
          49,
          65,
          26,
          36,
          42,
          55,
          22,
          26,
          52,
          89,
          27,
          22,
          30,
          25,
          60,
          95,
          60,
          40,
          39,
          29,
          73,
          30,
          44,
          37,
          38,
          46,
          37,
          37,
          16,
          17,
          18,
          25,
          45,
          18,
          16,
          65,
          78
         ],
         "xaxis": "x",
         "yaxis": "y"
        }
       ],
       "layout": {
        "barmode": "relative",
        "height": 600,
        "legend": {
         "tracegroupgap": 0
        },
        "margin": {
         "t": 60
        },
        "template": {
         "data": {
          "bar": [
           {
            "error_x": {
             "color": "#2a3f5f"
            },
            "error_y": {
             "color": "#2a3f5f"
            },
            "marker": {
             "line": {
              "color": "#E5ECF6",
              "width": 0.5
             }
            },
            "type": "bar"
           }
          ],
          "barpolar": [
           {
            "marker": {
             "line": {
              "color": "#E5ECF6",
              "width": 0.5
             }
            },
            "type": "barpolar"
           }
          ],
          "carpet": [
           {
            "aaxis": {
             "endlinecolor": "#2a3f5f",
             "gridcolor": "white",
             "linecolor": "white",
             "minorgridcolor": "white",
             "startlinecolor": "#2a3f5f"
            },
            "baxis": {
             "endlinecolor": "#2a3f5f",
             "gridcolor": "white",
             "linecolor": "white",
             "minorgridcolor": "white",
             "startlinecolor": "#2a3f5f"
            },
            "type": "carpet"
           }
          ],
          "choropleth": [
           {
            "colorbar": {
             "outlinewidth": 0,
             "ticks": ""
            },
            "type": "choropleth"
           }
          ],
          "contour": [
           {
            "colorbar": {
             "outlinewidth": 0,
             "ticks": ""
            },
            "colorscale": [
             [
              0,
              "#0d0887"
             ],
             [
              0.1111111111111111,
              "#46039f"
             ],
             [
              0.2222222222222222,
              "#7201a8"
             ],
             [
              0.3333333333333333,
              "#9c179e"
             ],
             [
              0.4444444444444444,
              "#bd3786"
             ],
             [
              0.5555555555555556,
              "#d8576b"
             ],
             [
              0.6666666666666666,
              "#ed7953"
             ],
             [
              0.7777777777777778,
              "#fb9f3a"
             ],
             [
              0.8888888888888888,
              "#fdca26"
             ],
             [
              1,
              "#f0f921"
             ]
            ],
            "type": "contour"
           }
          ],
          "contourcarpet": [
           {
            "colorbar": {
             "outlinewidth": 0,
             "ticks": ""
            },
            "type": "contourcarpet"
           }
          ],
          "heatmap": [
           {
            "colorbar": {
             "outlinewidth": 0,
             "ticks": ""
            },
            "colorscale": [
             [
              0,
              "#0d0887"
             ],
             [
              0.1111111111111111,
              "#46039f"
             ],
             [
              0.2222222222222222,
              "#7201a8"
             ],
             [
              0.3333333333333333,
              "#9c179e"
             ],
             [
              0.4444444444444444,
              "#bd3786"
             ],
             [
              0.5555555555555556,
              "#d8576b"
             ],
             [
              0.6666666666666666,
              "#ed7953"
             ],
             [
              0.7777777777777778,
              "#fb9f3a"
             ],
             [
              0.8888888888888888,
              "#fdca26"
             ],
             [
              1,
              "#f0f921"
             ]
            ],
            "type": "heatmap"
           }
          ],
          "heatmapgl": [
           {
            "colorbar": {
             "outlinewidth": 0,
             "ticks": ""
            },
            "colorscale": [
             [
              0,
              "#0d0887"
             ],
             [
              0.1111111111111111,
              "#46039f"
             ],
             [
              0.2222222222222222,
              "#7201a8"
             ],
             [
              0.3333333333333333,
              "#9c179e"
             ],
             [
              0.4444444444444444,
              "#bd3786"
             ],
             [
              0.5555555555555556,
              "#d8576b"
             ],
             [
              0.6666666666666666,
              "#ed7953"
             ],
             [
              0.7777777777777778,
              "#fb9f3a"
             ],
             [
              0.8888888888888888,
              "#fdca26"
             ],
             [
              1,
              "#f0f921"
             ]
            ],
            "type": "heatmapgl"
           }
          ],
          "histogram": [
           {
            "marker": {
             "colorbar": {
              "outlinewidth": 0,
              "ticks": ""
             }
            },
            "type": "histogram"
           }
          ],
          "histogram2d": [
           {
            "colorbar": {
             "outlinewidth": 0,
             "ticks": ""
            },
            "colorscale": [
             [
              0,
              "#0d0887"
             ],
             [
              0.1111111111111111,
              "#46039f"
             ],
             [
              0.2222222222222222,
              "#7201a8"
             ],
             [
              0.3333333333333333,
              "#9c179e"
             ],
             [
              0.4444444444444444,
              "#bd3786"
             ],
             [
              0.5555555555555556,
              "#d8576b"
             ],
             [
              0.6666666666666666,
              "#ed7953"
             ],
             [
              0.7777777777777778,
              "#fb9f3a"
             ],
             [
              0.8888888888888888,
              "#fdca26"
             ],
             [
              1,
              "#f0f921"
             ]
            ],
            "type": "histogram2d"
           }
          ],
          "histogram2dcontour": [
           {
            "colorbar": {
             "outlinewidth": 0,
             "ticks": ""
            },
            "colorscale": [
             [
              0,
              "#0d0887"
             ],
             [
              0.1111111111111111,
              "#46039f"
             ],
             [
              0.2222222222222222,
              "#7201a8"
             ],
             [
              0.3333333333333333,
              "#9c179e"
             ],
             [
              0.4444444444444444,
              "#bd3786"
             ],
             [
              0.5555555555555556,
              "#d8576b"
             ],
             [
              0.6666666666666666,
              "#ed7953"
             ],
             [
              0.7777777777777778,
              "#fb9f3a"
             ],
             [
              0.8888888888888888,
              "#fdca26"
             ],
             [
              1,
              "#f0f921"
             ]
            ],
            "type": "histogram2dcontour"
           }
          ],
          "mesh3d": [
           {
            "colorbar": {
             "outlinewidth": 0,
             "ticks": ""
            },
            "type": "mesh3d"
           }
          ],
          "parcoords": [
           {
            "line": {
             "colorbar": {
              "outlinewidth": 0,
              "ticks": ""
             }
            },
            "type": "parcoords"
           }
          ],
          "pie": [
           {
            "automargin": true,
            "type": "pie"
           }
          ],
          "scatter": [
           {
            "marker": {
             "colorbar": {
              "outlinewidth": 0,
              "ticks": ""
             }
            },
            "type": "scatter"
           }
          ],
          "scatter3d": [
           {
            "line": {
             "colorbar": {
              "outlinewidth": 0,
              "ticks": ""
             }
            },
            "marker": {
             "colorbar": {
              "outlinewidth": 0,
              "ticks": ""
             }
            },
            "type": "scatter3d"
           }
          ],
          "scattercarpet": [
           {
            "marker": {
             "colorbar": {
              "outlinewidth": 0,
              "ticks": ""
             }
            },
            "type": "scattercarpet"
           }
          ],
          "scattergeo": [
           {
            "marker": {
             "colorbar": {
              "outlinewidth": 0,
              "ticks": ""
             }
            },
            "type": "scattergeo"
           }
          ],
          "scattergl": [
           {
            "marker": {
             "colorbar": {
              "outlinewidth": 0,
              "ticks": ""
             }
            },
            "type": "scattergl"
           }
          ],
          "scattermapbox": [
           {
            "marker": {
             "colorbar": {
              "outlinewidth": 0,
              "ticks": ""
             }
            },
            "type": "scattermapbox"
           }
          ],
          "scatterpolar": [
           {
            "marker": {
             "colorbar": {
              "outlinewidth": 0,
              "ticks": ""
             }
            },
            "type": "scatterpolar"
           }
          ],
          "scatterpolargl": [
           {
            "marker": {
             "colorbar": {
              "outlinewidth": 0,
              "ticks": ""
             }
            },
            "type": "scatterpolargl"
           }
          ],
          "scatterternary": [
           {
            "marker": {
             "colorbar": {
              "outlinewidth": 0,
              "ticks": ""
             }
            },
            "type": "scatterternary"
           }
          ],
          "surface": [
           {
            "colorbar": {
             "outlinewidth": 0,
             "ticks": ""
            },
            "colorscale": [
             [
              0,
              "#0d0887"
             ],
             [
              0.1111111111111111,
              "#46039f"
             ],
             [
              0.2222222222222222,
              "#7201a8"
             ],
             [
              0.3333333333333333,
              "#9c179e"
             ],
             [
              0.4444444444444444,
              "#bd3786"
             ],
             [
              0.5555555555555556,
              "#d8576b"
             ],
             [
              0.6666666666666666,
              "#ed7953"
             ],
             [
              0.7777777777777778,
              "#fb9f3a"
             ],
             [
              0.8888888888888888,
              "#fdca26"
             ],
             [
              1,
              "#f0f921"
             ]
            ],
            "type": "surface"
           }
          ],
          "table": [
           {
            "cells": {
             "fill": {
              "color": "#EBF0F8"
             },
             "line": {
              "color": "white"
             }
            },
            "header": {
             "fill": {
              "color": "#C8D4E3"
             },
             "line": {
              "color": "white"
             }
            },
            "type": "table"
           }
          ]
         },
         "layout": {
          "annotationdefaults": {
           "arrowcolor": "#2a3f5f",
           "arrowhead": 0,
           "arrowwidth": 1
          },
          "coloraxis": {
           "colorbar": {
            "outlinewidth": 0,
            "ticks": ""
           }
          },
          "colorscale": {
           "diverging": [
            [
             0,
             "#8e0152"
            ],
            [
             0.1,
             "#c51b7d"
            ],
            [
             0.2,
             "#de77ae"
            ],
            [
             0.3,
             "#f1b6da"
            ],
            [
             0.4,
             "#fde0ef"
            ],
            [
             0.5,
             "#f7f7f7"
            ],
            [
             0.6,
             "#e6f5d0"
            ],
            [
             0.7,
             "#b8e186"
            ],
            [
             0.8,
             "#7fbc41"
            ],
            [
             0.9,
             "#4d9221"
            ],
            [
             1,
             "#276419"
            ]
           ],
           "sequential": [
            [
             0,
             "#0d0887"
            ],
            [
             0.1111111111111111,
             "#46039f"
            ],
            [
             0.2222222222222222,
             "#7201a8"
            ],
            [
             0.3333333333333333,
             "#9c179e"
            ],
            [
             0.4444444444444444,
             "#bd3786"
            ],
            [
             0.5555555555555556,
             "#d8576b"
            ],
            [
             0.6666666666666666,
             "#ed7953"
            ],
            [
             0.7777777777777778,
             "#fb9f3a"
            ],
            [
             0.8888888888888888,
             "#fdca26"
            ],
            [
             1,
             "#f0f921"
            ]
           ],
           "sequentialminus": [
            [
             0,
             "#0d0887"
            ],
            [
             0.1111111111111111,
             "#46039f"
            ],
            [
             0.2222222222222222,
             "#7201a8"
            ],
            [
             0.3333333333333333,
             "#9c179e"
            ],
            [
             0.4444444444444444,
             "#bd3786"
            ],
            [
             0.5555555555555556,
             "#d8576b"
            ],
            [
             0.6666666666666666,
             "#ed7953"
            ],
            [
             0.7777777777777778,
             "#fb9f3a"
            ],
            [
             0.8888888888888888,
             "#fdca26"
            ],
            [
             1,
             "#f0f921"
            ]
           ]
          },
          "colorway": [
           "#636efa",
           "#EF553B",
           "#00cc96",
           "#ab63fa",
           "#FFA15A",
           "#19d3f3",
           "#FF6692",
           "#B6E880",
           "#FF97FF",
           "#FECB52"
          ],
          "font": {
           "color": "#2a3f5f"
          },
          "geo": {
           "bgcolor": "white",
           "lakecolor": "white",
           "landcolor": "#E5ECF6",
           "showlakes": true,
           "showland": true,
           "subunitcolor": "white"
          },
          "hoverlabel": {
           "align": "left"
          },
          "hovermode": "closest",
          "mapbox": {
           "style": "light"
          },
          "paper_bgcolor": "white",
          "plot_bgcolor": "#E5ECF6",
          "polar": {
           "angularaxis": {
            "gridcolor": "white",
            "linecolor": "white",
            "ticks": ""
           },
           "bgcolor": "#E5ECF6",
           "radialaxis": {
            "gridcolor": "white",
            "linecolor": "white",
            "ticks": ""
           }
          },
          "scene": {
           "xaxis": {
            "backgroundcolor": "#E5ECF6",
            "gridcolor": "white",
            "gridwidth": 2,
            "linecolor": "white",
            "showbackground": true,
            "ticks": "",
            "zerolinecolor": "white"
           },
           "yaxis": {
            "backgroundcolor": "#E5ECF6",
            "gridcolor": "white",
            "gridwidth": 2,
            "linecolor": "white",
            "showbackground": true,
            "ticks": "",
            "zerolinecolor": "white"
           },
           "zaxis": {
            "backgroundcolor": "#E5ECF6",
            "gridcolor": "white",
            "gridwidth": 2,
            "linecolor": "white",
            "showbackground": true,
            "ticks": "",
            "zerolinecolor": "white"
           }
          },
          "shapedefaults": {
           "line": {
            "color": "#2a3f5f"
           }
          },
          "ternary": {
           "aaxis": {
            "gridcolor": "white",
            "linecolor": "white",
            "ticks": ""
           },
           "baxis": {
            "gridcolor": "white",
            "linecolor": "white",
            "ticks": ""
           },
           "bgcolor": "#E5ECF6",
           "caxis": {
            "gridcolor": "white",
            "linecolor": "white",
            "ticks": ""
           }
          },
          "title": {
           "x": 0.05
          },
          "xaxis": {
           "automargin": true,
           "gridcolor": "white",
           "linecolor": "white",
           "ticks": "",
           "title": {
            "standoff": 15
           },
           "zerolinecolor": "white",
           "zerolinewidth": 2
          },
          "yaxis": {
           "automargin": true,
           "gridcolor": "white",
           "linecolor": "white",
           "ticks": "",
           "title": {
            "standoff": 15
           },
           "zerolinecolor": "white",
           "zerolinewidth": 2
          }
         }
        },
        "xaxis": {
         "anchor": "y",
         "domain": [
          0,
          1
         ],
         "title": {
          "text": "age"
         }
        },
        "yaxis": {
         "anchor": "x",
         "domain": [
          0,
          1
         ],
         "title": {
          "text": "count"
         }
        }
       }
      },
      "text/html": [
       "<div>\n",
       "        \n",
       "        \n",
       "            <div id=\"b899c91d-73cd-4b75-b7df-29695313c797\" class=\"plotly-graph-div\" style=\"height:600px; width:100%;\"></div>\n",
       "            <script type=\"text/javascript\">\n",
       "                require([\"plotly\"], function(Plotly) {\n",
       "                    window.PLOTLYENV=window.PLOTLYENV || {};\n",
       "                    \n",
       "                if (document.getElementById(\"b899c91d-73cd-4b75-b7df-29695313c797\")) {\n",
       "                    Plotly.newPlot(\n",
       "                        'b899c91d-73cd-4b75-b7df-29695313c797',\n",
       "                        [{\"alignmentgroup\": \"True\", \"bingroup\": \"x\", \"hoverlabel\": {\"namelength\": 0}, \"hovertemplate\": \"Gender=Female<br>age=%{x}<br>count=%{y}\", \"legendgroup\": \"Gender=Female\", \"marker\": {\"color\": \"#636efa\", \"opacity\": 0.6}, \"name\": \"Gender=Female\", \"nbinsx\": 20, \"offsetgroup\": \"Gender=Female\", \"orientation\": \"v\", \"showlegend\": true, \"type\": \"histogram\", \"x\": [98, 56, 17, 53, 76, 31, 17, 30, 29, 31, 21, 39, 54, 46, 31, 38, 35, 23, 27, 33, 29, 21, 29, 58, 53, 52, 60, 48, 30, 17, 30, 74, 42, 25, 21, 32, 27, 71, 41, 30, 28, 40, 16, 44, 23, 47, 30, 30, 45, 21, 64, 25, 50, 45, 38, 25, 36, 70, 78, 59, 64, 16, 41, 30, 50, 22, 42, 80, 50, 23, 16, 35, 27, 26, 65, 31, 38, 22, 55, 18, 42, 43, 49, 18, 45, 17, 42, 42, 36, 61, 35, 85, 30, 20, 25, 20, 80, 85, 77, 34, 62, 25, 72, 18, 71, 18, 25, 24, 24, 22, 33, 35, 23, 45, 62, 40, 32, 26, 27, 38, 16, 26, 70, 20, 42, 34, 65, 42, 50, 21, 60, 70, 65, 41, 40, 27, 16, 68, 25, 30, 22, 39, 70, 35, 48, 48, 70, 18, 18, 35, 33, 60, 17, 23, 40, 60, 61, 34, 44, 21, 30, 19, 55, 82, 29, 81, 50, 45, 51, 46, 45, 29, 19, 31, 43, 32, 49, 47, 60, 30, 28, 17, 30, 70, 32, 35, 40, 29, 42, 32, 62, 41, 22, 16, 17, 65, 27, 38, 47, 70, 19, 36, 42, 58, 79, 43, 25, 21, 29, 43, 45, 36, 33, 39, 38, 37, 19, 26, 16, 24, 50, 16, 27, 55, 42, 65, 70, 27, 26, 42, 20, 23, 30, 21, 65, 26, 40, 23, 47, 31, 34, 40, 42, 30, 22, 50, 82, 62, 60, 23, 39, 38, 69, 35, 26, 27, 24, 17, 82, 19, 26, 28, 16, 17, 39, 38, 16, 17, 41, 29, 26, 40, 32, 30, 85, 22, 40, 24, 35, 27, 59, 80, 36, 17, 75, 31, 35, 49, 70, 53, 65, 34, 24, 60, 41, 22, 38, 20, 20, 41, 32, 28, 36, 18, 68, 40, 54, 24, 23, 57, 70, 46, 36, 63, 39, 27, 61, 80, 81, 64, 16, 75, 58, 35, 68, 30, 58, 70, 30, 40, 50, 40, 58, 22, 22, 34, 17, 65, 70, 23, 35, 44, 26, 26, 40, 19, 20, 18, 37, 41, 22, 96, 30, 20, 25, 32, 27, 59, 55, 40, 26, 36, 20, 22, 26, 70, 29, 41, 32, 40, 31, 34, 20, 25, 16, 34, 45, 23, 53, 29, 49, 33, 50, 19, 76, 28, 46, 68, 45, 64, 20, 21, 32, 30, 17, 65, 22, 27, 75, 61, 24, 50, 59, 88, 30, 19, 56, 24, 71, 65, 40, 45, 32, 31, 42, 45, 70, 26, 56, 22, 34, 42, 43, 71, 60, 31, 19, 30, 16, 16, 30, 38, 29, 28, 50, 33, 62, 38, 37, 36, 36, 35, 50, 70, 48, 44, 28, 32, 35, 70, 22, 42, 59, 34, 35, 30, 39, 63, 32, 45, 42, 65, 22, 47, 42, 47, 75, 22, 18, 20, 35, 19, 32, 19, 31, 18, 17, 38, 30, 32, 45, 21, 29, 25, 29, 26, 16, 25, 73, 65, 40, 18, 45, 80, 40, 80, 70, 30, 40, 36, 21, 40, 42, 17, 17, 73, 46, 19, 60, 37, 47, 20, 69, 17, 80, 23, 47, 20, 18, 40, 20, 45, 47, 20, 52, 38, 22, 35, 38, 77, 18, 59, 40, 60, 35, 50, 45, 68, 26, 18, 22, 58, 24, 37, 45, 80, 20, 18, 29, 38, 43, 66, 92, 43, 37, 58, 32, 28, 20, 22, 35, 57, 38, 28, 45, 78, 44, 28, 45, 74, 55, 28, 30, 57, 20, 29, 16, 34, 66, 25, 36, 48, 26, 22, 35, 16, 25, 51, 19, 75, 73, 65, 31, 20, 21, 27, 24, 19, 24, 36, 47, 54, 18, 20, 16, 31, 43, 70, 30, 50, 21, 20, 20, 35, 27, 62, 58, 20, 32, 52, 35, 48, 56, 66, 35, 34, 25, 35, 18, 16, 35, 16, 76, 50, 44, 45, 60, 25, 19, 28, 39, 18, 26, 30, 60, 60, 43, 82, 31, 32, 16, 60, 21, 62, 57, 19, 18, 45, 25, 31, 39, 24, 36, 25, 69, 26, 58, 52, 50, 34, 40, 46, 40, 19, 65, 48, 25, 70, 34, 39, 55, 16, 51, 33, 54, 90, 32, 41, 28, 19, 30, 30, 35, 30, 42, 26, 76, 28, 64, 22, 32, 35, 33, 62, 30, 35, 65, 58, 99, 28, 29, 20, 35, 21, 28, 45, 46, 47, 51, 19, 32, 20, 75, 56, 31, 22, 35, 52, 27, 25, 27, 27, 35, 50, 55, 29, 75, 50, 22, 50, 48, 43, 36, 20, 60, 16, 52, 30, 30, 43, 24, 20, 80, 19, 20, 19, 50, 46, 35, 43, 18, 72, 21, 41, 27, 34, 77, 34, 82, 35, 37, 44, 79, 30, 27, 29, 21, 62, 23, 60, 33, 28, 64, 30, 55, 26, 23, 40, 22, 34, 39, 60, 54, 32, 40, 60, 50, 28, 75, 51, 57, 17, 68, 42, 43, 20, 17, 44, 66, 68, 25, 34, 65, 73, 90, 30, 22, 37, 30, 22, 33, 65, 72, 34, 17, 17, 34, 20, 42, 90, 17, 32, 18, 30, 65, 33, 44, 62, 46, 21, 23, 40, 25, 37, 46, 36, 80, 65, 44, 24, 30, 30, 30, 60, 44, 26, 56, 23, 25, 23, 69, 37, 40, 20, 25, 22, 75, 19, 40, 63, 30, 20, 24, 38, 21, 20, 46, 24, 33, 28, 32, 17, 23, 45, 55, 45, 22, 40, 16, 36, 22, 27, 27, 55, 28, 37, 42, 16, 19, 23, 30, 27, 25, 24, 29, 32, 45, 85, 25, 60, 29, 47, 56, 37, 42, 17, 39, 35, 32, 30, 43, 19, 49, 21, 31, 20, 40, 60, 17, 46, 35, 57, 35, 18, 64, 35, 48, 59, 24, 22, 25, 83, 37, 29, 41, 17, 63, 17, 40, 72, 18, 40, 30, 32, 23, 67, 28, 17, 23, 30, 60, 16, 32, 27, 37, 16, 29, 29, 38, 72, 38, 45, 65, 44, 38, 19, 36, 76, 40, 75, 62, 20, 43, 33, 31, 79, 75, 22, 34, 26, 17, 21, 20, 20, 40, 56, 27, 31, 63, 64, 18, 47, 56, 40, 30, 40, 25, 38, 63, 32, 24, 22, 30, 23, 50, 35, 25, 67, 57, 28, 25, 32, 90, 47, 23, 40, 75, 65, 45, 22, 46, 31, 30, 41, 36, 19, 32, 28, 27, 45, 28, 57, 35, 67, 28, 72, 65, 49, 29, 80, 63, 42, 19, 34, 32, 30, 40, 25, 74, 60, 63, 23, 17, 78, 21, 45, 61, 23, 35, 22, 87, 34, 29, 27, 43, 65, 48, 53, 47, 43, 32, 32, 30, 48, 20, 24, 42, 77, 38, 35, 18, 31, 25, 22, 20, 31, 17, 23, 45, 32, 30, 35, 54, 53, 60, 28, 33, 31, 28, 36, 21, 45, 19, 28, 18, 50, 40, 40, 30, 36, 21, 31, 34, 46, 53, 40, 29, 42, 47, 22, 35, 28, 61, 19, 32, 22, 48, 33, 30, 32, 20, 34, 58, 25, 29, 50, 68, 23, 58, 37, 71, 21, 50, 20, 75, 60, 27, 40, 70, 31, 68, 50, 60, 59, 22, 41, 48, 65, 30, 27, 26, 23, 22, 18, 18, 51, 51, 40, 56, 85, 27, 100, 60, 68, 30, 49, 50, 27, 17, 20, 35, 100, 62, 41, 30, 18, 70, 72, 36, 65, 65, 47, 31, 67, 35, 57, 20, 60, 30, 63, 29, 29, 80, 27, 38, 30, 40, 23, 33, 55, 17, 40, 65, 27, 22, 29, 26, 18, 60, 65, 36, 17, 82, 17, 46, 27, 28, 26, 28, 63, 26, 20, 32, 23, 23, 70, 17, 39, 16, 27, 38, 20, 49, 22, 57, 17, 37, 71, 47, 32, 60, 27, 35, 24, 34, 25, 40, 90, 21, 50, 30, 36, 59, 20, 20, 80, 70, 47, 71, 30, 48, 27, 40, 32, 31, 73, 40, 23, 63, 46, 31, 41, 40, 44, 22, 55, 21, 30, 25, 38, 35, 27, 60, 42, 27, 40, 30, 40, 65, 57, 39, 30, 29, 31, 55, 45, 18, 80, 27, 25, 40, 50, 28, 18, 42, 27, 35, 24, 23, 24, 45, 25, 70, 16, 51, 23, 90, 22, 20, 21, 69, 43, 70, 56, 39, 33, 53, 31, 49, 20, 54, 29, 20, 27, 27, 30, 52, 62, 24, 30, 23, 51, 62, 30, 35, 23, 50, 45, 51, 78, 20, 38, 32, 30, 19, 27, 58, 30, 65, 19, 29, 32, 66, 38, 31, 43, 50, 70, 24, 22, 50, 25, 28, 72, 34, 27, 70, 63, 32, 23, 68, 24, 30, 23, 29, 70, 75, 37, 22, 21, 63, 31, 17, 57, 24, 58, 30, 31, 49, 50, 45, 22, 28, 19, 29, 59, 45, 22, 25, 23, 56, 72, 23, 16, 57, 32, 68, 28, 70, 38, 29, 17, 31, 32, 49, 35, 26, 22, 65, 23, 24, 36, 35, 51, 38, 44, 27, 58, 40, 40, 19, 36, 28, 45, 20, 30, 18, 30, 38, 54, 28, 58, 61, 25, 61, 34, 52, 29, 81, 43, 23, 22, 50, 44, 19, 40, 85, 32, 37, 25, 20, 24, 29, 59, 88, 65, 64, 70, 33, 22, 22, 39, 51, 43, 78, 41, 29, 62, 25, 16, 30, 48, 60, 22, 34, 20, 16, 40, 19, 26, 20, 35, 22, 60, 30, 17, 70, 24, 25, 18, 72, 23, 26, 23, 25, 52, 70, 22, 32, 82, 90, 51, 35, 37, 32, 21, 17, 77, 70, 35, 54, 16, 50, 27, 35, 39, 31, 16, 65, 33, 17, 49, 50, 22, 28, 28, 23, 47, 50, 56, 63, 76, 47, 62, 27, 34, 50, 25, 35, 35, 30, 80, 24, 25, 58, 22, 17, 31, 31, 36, 57, 35, 28, 44, 49, 19, 32, 50, 29, 58, 35, 50, 20, 30, 16, 17, 50, 81, 35, 17, 22, 60, 45, 55, 30, 56, 65, 22, 46, 18, 30, 80, 16, 60, 30, 28, 75, 40, 36, 41, 72, 19, 57, 17, 59, 24, 55, 32, 30, 23, 30, 57, 70, 16, 24, 18, 18, 41, 82, 50, 18, 22, 24, 25, 84, 16, 38, 22, 26, 45, 28, 66, 33, 30, 24, 82, 45, 60, 26, 16, 52, 25, 47, 40, 23, 18, 42, 53, 30, 24, 65, 32, 40, 18, 40, 72, 28, 18, 23, 33, 25, 35, 29, 76, 63, 95, 39, 45, 50, 27, 65, 60, 25, 60, 32, 61, 80, 25, 54, 22, 17, 49, 38, 62, 28, 60, 18, 23, 52, 80, 45, 61, 75, 38, 40, 18, 18, 18, 16, 20, 20, 25, 56, 35, 48, 30, 20, 17, 81, 30, 22, 26, 76, 25, 18, 75, 28, 47, 20, 40, 30, 46, 29, 45, 21, 23, 40, 22, 36, 35, 70, 32, 17, 29, 56, 47, 73, 42, 80, 47, 77, 20, 68, 22, 18, 38, 48, 46, 23, 70, 28, 97, 30, 66, 31, 22, 47, 25, 47, 75, 25, 70, 67, 35, 27, 17, 16, 40, 35, 17, 33, 44, 28, 37, 34, 73, 18, 19, 18, 32, 19, 40, 58, 25, 75, 51, 70, 65, 30, 35, 53, 22, 78, 25, 60, 62, 23, 22, 33, 35, 29, 27, 41, 23, 30, 19, 80, 30, 45, 43, 20, 31, 33, 48, 29, 69, 70, 60, 16, 32, 28, 30, 22, 68, 45, 36, 27, 25, 54, 79, 35, 20, 32, 21, 28, 35, 60, 34, 16, 23, 71, 26, 17, 28, 25, 48, 36, 22, 71, 88, 62, 33, 48, 59, 37, 36, 69, 72, 22, 32, 27, 35, 17, 44, 37, 20, 16, 35, 19, 30, 27, 24, 37, 29, 45, 45, 30, 44, 27, 18, 41, 53, 42, 37, 59, 21, 24, 16, 43, 29, 37, 37, 34, 38, 46, 65, 20, 51, 35, 41, 35, 23, 22, 37, 44, 61, 40, 66, 32, 86, 30, 21, 50, 42, 50, 40, 28, 91, 19, 42, 48, 59, 45, 30, 35, 35, 34, 27, 40, 59, 58, 45, 80, 57, 17, 16, 35, 30, 56, 32, 65, 54, 29, 34, 28, 24, 44, 49, 30, 16, 54, 40, 20, 42, 34, 53, 24, 23, 18, 50, 24, 39, 16, 38, 31, 42, 34, 45, 34, 57, 22], \"xaxis\": \"x\", \"yaxis\": \"y\"}, {\"alignmentgroup\": \"True\", \"bingroup\": \"x\", \"hoverlabel\": {\"namelength\": 0}, \"hovertemplate\": \"Gender=Male<br>age=%{x}<br>count=%{y}\", \"legendgroup\": \"Gender=Male\", \"marker\": {\"color\": \"#EF553B\", \"opacity\": 0.6}, \"name\": \"Gender=Male\", \"nbinsx\": 20, \"offsetgroup\": \"Gender=Male\", \"orientation\": \"v\", \"showlegend\": true, \"type\": \"histogram\", \"x\": [35, 28, 47, 86, 18, 25, 72, 27, 30, 18, 48, 33, 30, 48, 40, 34, 79, 19, 22, 57, 70, 32, 26, 40, 30, 82, 50, 45, 34, 19, 23, 47, 37, 34, 34, 30, 45, 27, 26, 42, 18, 94, 25, 35, 20, 48, 72, 53, 43, 43, 16, 30, 21, 39, 20, 26, 90, 52, 50, 62, 17, 22, 29, 31, 87, 72, 20, 19, 26, 43, 47, 50, 50, 16, 19, 72, 16, 21, 39, 32, 79, 49, 40, 45, 40, 47, 58, 72, 77, 75, 70, 49, 37, 70, 35, 75, 16, 33, 47, 40, 70, 27, 53, 30, 58, 67, 35, 31, 28, 29, 26, 19, 50, 75, 50, 70, 28, 51, 48, 48, 28, 21, 16, 25, 25, 27, 72, 44, 46, 27, 40, 54, 50, 78, 28, 45, 76, 51, 45, 50, 78, 39, 43, 50, 16, 40, 19, 34, 37, 66, 20, 35, 19, 29, 36, 32, 33, 30, 58, 51, 50, 59, 50, 40, 29, 34, 32, 27, 26, 21, 16, 26, 52, 17, 50, 45, 50, 17, 36, 46, 75, 63, 33, 42, 17, 45, 27, 16, 42, 38, 57, 17, 17, 28, 72, 19, 27, 74, 25, 16, 54, 50, 17, 82, 17, 23, 70, 63, 26, 21, 60, 17, 38, 49, 30, 45, 28, 28, 26, 67, 52, 41, 56, 18, 22, 33, 16, 70, 51, 19, 60, 50, 58, 36, 63, 29, 65, 44, 55, 45, 72, 45, 48, 58, 17, 23, 64, 21, 83, 55, 25, 52, 26, 39, 76, 34, 16, 26, 70, 48, 52, 25, 26, 50, 52, 19, 39, 34, 19, 17, 42, 35, 70, 52, 39, 40, 19, 53, 34, 32, 70, 58, 24, 68, 44, 47, 49, 90, 16, 31, 17, 28, 55, 58, 45, 18, 22, 48, 25, 32, 80, 50, 55, 38, 50, 46, 80, 25, 70, 40, 31, 55, 60, 21, 24, 21, 17, 70, 19, 52, 31, 70, 45, 58, 35, 25, 31, 49, 26, 46, 20, 39, 24, 26, 22, 70, 62, 59, 20, 67, 24, 60, 54, 17, 19, 48, 50, 53, 49, 60, 37, 20, 47, 25, 59, 33, 38, 56, 22, 48, 40, 20, 46, 33, 35, 35, 26, 20, 21, 38, 63, 18, 76, 53, 80, 30, 29, 81, 21, 76, 30, 34, 75, 18, 30, 100, 40, 25, 74, 47, 45, 62, 64, 68, 63, 60, 58, 48, 29, 29, 65, 18, 16, 34, 23, 17, 30, 17, 45, 45, 30, 33, 16, 78, 29, 33, 64, 39, 22, 57, 85, 25, 75, 74, 53, 43, 16, 45, 39, 16, 35, 77, 17, 23, 20, 65, 43, 45, 34, 33, 17, 64, 17, 48, 73, 17, 16, 45, 44, 23, 68, 51, 24, 61, 42, 24, 85, 30, 53, 35, 63, 47, 39, 32, 16, 52, 19, 77, 27, 68, 41, 60, 18, 33, 33, 37, 59, 22, 38, 40, 16, 38, 38, 32, 49, 18, 51, 63, 62, 42, 28, 17, 19, 49, 34, 27, 79, 75, 70, 34, 29, 30, 18, 45, 75, 78, 23, 82, 25, 38, 40, 74, 55, 18, 77, 37, 20, 21, 18, 82, 30, 45, 40, 40, 16, 32, 88, 20, 27, 51, 22, 53, 47, 70, 31, 58, 75, 22, 22, 19, 35, 45, 42, 59, 100, 27, 21, 52, 32, 35, 31, 39, 90, 36, 60, 25, 30, 41, 38, 50, 83, 38, 40, 18, 25, 27, 63, 30, 86, 60, 40, 49, 28, 21, 60, 35, 69, 16, 16, 60, 42, 16, 41, 49, 50, 32, 42, 22, 37, 31, 80, 17, 22, 80, 70, 75, 23, 27, 20, 16, 19, 45, 16, 28, 79, 56, 30, 47, 74, 54, 48, 16, 30, 53, 65, 31, 19, 52, 18, 20, 55, 65, 22, 78, 36, 45, 65, 57, 25, 68, 75, 72, 43, 31, 55, 91, 16, 33, 70, 24, 27, 22, 47, 98, 32, 35, 78, 58, 20, 73, 67, 30, 35, 22, 56, 60, 17, 70, 24, 80, 30, 52, 35, 31, 21, 34, 26, 68, 42, 40, 78, 65, 40, 72, 71, 70, 42, 32, 18, 67, 73, 55, 22, 22, 20, 33, 19, 49, 25, 29, 55, 39, 26, 34, 56, 22, 30, 60, 43, 45, 42, 30, 32, 43, 48, 22, 40, 62, 18, 24, 66, 81, 60, 42, 26, 56, 35, 47, 25, 21, 35, 67, 37, 37, 27, 69, 16, 38, 16, 30, 77, 57, 85, 60, 52, 25, 82, 64, 35, 70, 50, 65, 19, 17, 30, 22, 67, 30, 36, 20, 88, 70, 35, 43, 40, 56, 34, 54, 20, 30, 61, 25, 30, 75, 74, 29, 58, 27, 45, 57, 65, 19, 26, 32, 68, 32, 22, 27, 32, 16, 49, 17, 23, 31, 25, 78, 17, 67, 36, 44, 80, 70, 53, 38, 16, 66, 64, 50, 32, 82, 45, 35, 62, 34, 40, 52, 49, 42, 68, 60, 18, 53, 17, 100, 69, 56, 42, 60, 24, 47, 70, 28, 53, 45, 34, 34, 47, 40, 22, 70, 18, 47, 59, 25, 20, 30, 72, 22, 59, 18, 32, 49, 53, 25, 65, 22, 18, 62, 56, 37, 75, 60, 23, 45, 44, 78, 28, 40, 19, 70, 45, 34, 32, 25, 16, 80, 21, 58, 79, 18, 40, 61, 20, 82, 45, 23, 27, 36, 69, 20, 39, 90, 23, 24, 32, 55, 19, 37, 50, 48, 16, 35, 21, 72, 54, 45, 22, 30, 75, 53, 52, 31, 27, 52, 32, 65, 80, 18, 30, 37, 46, 31, 32, 55, 45, 44, 34, 37, 24, 21, 28, 52, 75, 60, 23, 52, 69, 50, 18, 18, 34, 16, 40, 48, 53, 75, 64, 43, 71, 23, 76, 49, 33, 65, 50, 35, 27, 41, 80, 36, 20, 55, 17, 29, 40, 17, 70, 85, 72, 68, 17, 17, 52, 42, 50, 41, 60, 32, 25, 16, 40, 28, 85, 40, 42, 56, 87, 30, 51, 35, 22, 22, 40, 40, 22, 55, 72, 36, 18, 67, 49, 32, 69, 43, 69, 35, 24, 76, 38, 84, 22, 80, 16, 22, 24, 27, 65, 47, 68, 70, 43, 50, 35, 31, 23, 30, 19, 20, 16, 40, 54, 22, 44, 34, 30, 73, 82, 25, 33, 16, 19, 44, 70, 45, 61, 59, 26, 23, 36, 47, 64, 20, 21, 78, 60, 32, 65, 64, 55, 50, 17, 33, 43, 75, 28, 40, 19, 42, 25, 75, 30, 65, 76, 16, 49, 25, 52, 16, 56, 38, 41, 40, 45, 38, 25, 59, 44, 61, 62, 35, 79, 80, 48, 45, 40, 52, 36, 65, 21, 68, 49, 75, 86, 63, 43, 18, 20, 79, 38, 40, 20, 19, 60, 37, 28, 50, 75, 37, 28, 34, 50, 50, 28, 50, 29, 28, 76, 29, 30, 19, 57, 30, 63, 63, 17, 16, 49, 65, 26, 36, 42, 55, 22, 26, 52, 89, 27, 22, 30, 25, 60, 95, 60, 40, 39, 29, 73, 30, 44, 37, 38, 46, 37, 37, 16, 17, 18, 25, 45, 18, 16, 65, 78], \"xaxis\": \"x\", \"yaxis\": \"y\"}],\n",
       "                        {\"barmode\": \"relative\", \"height\": 600, \"legend\": {\"tracegroupgap\": 0}, \"margin\": {\"t\": 60}, \"template\": {\"data\": {\"bar\": [{\"error_x\": {\"color\": \"#2a3f5f\"}, \"error_y\": {\"color\": \"#2a3f5f\"}, \"marker\": {\"line\": {\"color\": \"#E5ECF6\", \"width\": 0.5}}, \"type\": \"bar\"}], \"barpolar\": [{\"marker\": {\"line\": {\"color\": \"#E5ECF6\", \"width\": 0.5}}, \"type\": \"barpolar\"}], \"carpet\": [{\"aaxis\": {\"endlinecolor\": \"#2a3f5f\", \"gridcolor\": \"white\", \"linecolor\": \"white\", \"minorgridcolor\": \"white\", \"startlinecolor\": \"#2a3f5f\"}, \"baxis\": {\"endlinecolor\": \"#2a3f5f\", \"gridcolor\": \"white\", \"linecolor\": \"white\", \"minorgridcolor\": \"white\", \"startlinecolor\": \"#2a3f5f\"}, \"type\": \"carpet\"}], \"choropleth\": [{\"colorbar\": {\"outlinewidth\": 0, \"ticks\": \"\"}, \"type\": \"choropleth\"}], \"contour\": [{\"colorbar\": {\"outlinewidth\": 0, \"ticks\": \"\"}, \"colorscale\": [[0.0, \"#0d0887\"], [0.1111111111111111, \"#46039f\"], [0.2222222222222222, \"#7201a8\"], [0.3333333333333333, \"#9c179e\"], [0.4444444444444444, \"#bd3786\"], [0.5555555555555556, \"#d8576b\"], [0.6666666666666666, \"#ed7953\"], [0.7777777777777778, \"#fb9f3a\"], [0.8888888888888888, \"#fdca26\"], [1.0, \"#f0f921\"]], \"type\": \"contour\"}], \"contourcarpet\": [{\"colorbar\": {\"outlinewidth\": 0, \"ticks\": \"\"}, \"type\": \"contourcarpet\"}], \"heatmap\": [{\"colorbar\": {\"outlinewidth\": 0, \"ticks\": \"\"}, \"colorscale\": [[0.0, \"#0d0887\"], [0.1111111111111111, \"#46039f\"], [0.2222222222222222, \"#7201a8\"], [0.3333333333333333, \"#9c179e\"], [0.4444444444444444, \"#bd3786\"], [0.5555555555555556, \"#d8576b\"], [0.6666666666666666, \"#ed7953\"], [0.7777777777777778, \"#fb9f3a\"], [0.8888888888888888, \"#fdca26\"], [1.0, \"#f0f921\"]], \"type\": \"heatmap\"}], \"heatmapgl\": [{\"colorbar\": {\"outlinewidth\": 0, \"ticks\": \"\"}, \"colorscale\": [[0.0, \"#0d0887\"], [0.1111111111111111, \"#46039f\"], [0.2222222222222222, \"#7201a8\"], [0.3333333333333333, \"#9c179e\"], [0.4444444444444444, \"#bd3786\"], [0.5555555555555556, \"#d8576b\"], [0.6666666666666666, \"#ed7953\"], [0.7777777777777778, \"#fb9f3a\"], [0.8888888888888888, \"#fdca26\"], [1.0, \"#f0f921\"]], \"type\": \"heatmapgl\"}], \"histogram\": [{\"marker\": {\"colorbar\": {\"outlinewidth\": 0, \"ticks\": \"\"}}, \"type\": \"histogram\"}], \"histogram2d\": [{\"colorbar\": {\"outlinewidth\": 0, \"ticks\": \"\"}, \"colorscale\": [[0.0, \"#0d0887\"], [0.1111111111111111, \"#46039f\"], [0.2222222222222222, \"#7201a8\"], [0.3333333333333333, \"#9c179e\"], [0.4444444444444444, \"#bd3786\"], [0.5555555555555556, \"#d8576b\"], [0.6666666666666666, \"#ed7953\"], [0.7777777777777778, \"#fb9f3a\"], [0.8888888888888888, \"#fdca26\"], [1.0, \"#f0f921\"]], \"type\": \"histogram2d\"}], \"histogram2dcontour\": [{\"colorbar\": {\"outlinewidth\": 0, \"ticks\": \"\"}, \"colorscale\": [[0.0, \"#0d0887\"], [0.1111111111111111, \"#46039f\"], [0.2222222222222222, \"#7201a8\"], [0.3333333333333333, \"#9c179e\"], [0.4444444444444444, \"#bd3786\"], [0.5555555555555556, \"#d8576b\"], [0.6666666666666666, \"#ed7953\"], [0.7777777777777778, \"#fb9f3a\"], [0.8888888888888888, \"#fdca26\"], [1.0, \"#f0f921\"]], \"type\": \"histogram2dcontour\"}], \"mesh3d\": [{\"colorbar\": {\"outlinewidth\": 0, \"ticks\": \"\"}, \"type\": \"mesh3d\"}], \"parcoords\": [{\"line\": {\"colorbar\": {\"outlinewidth\": 0, \"ticks\": \"\"}}, \"type\": \"parcoords\"}], \"pie\": [{\"automargin\": true, \"type\": \"pie\"}], \"scatter\": [{\"marker\": {\"colorbar\": {\"outlinewidth\": 0, \"ticks\": \"\"}}, \"type\": \"scatter\"}], \"scatter3d\": [{\"line\": {\"colorbar\": {\"outlinewidth\": 0, \"ticks\": \"\"}}, \"marker\": {\"colorbar\": {\"outlinewidth\": 0, \"ticks\": \"\"}}, \"type\": \"scatter3d\"}], \"scattercarpet\": [{\"marker\": {\"colorbar\": {\"outlinewidth\": 0, \"ticks\": \"\"}}, \"type\": \"scattercarpet\"}], \"scattergeo\": [{\"marker\": {\"colorbar\": {\"outlinewidth\": 0, \"ticks\": \"\"}}, \"type\": \"scattergeo\"}], \"scattergl\": [{\"marker\": {\"colorbar\": {\"outlinewidth\": 0, \"ticks\": \"\"}}, \"type\": \"scattergl\"}], \"scattermapbox\": [{\"marker\": {\"colorbar\": {\"outlinewidth\": 0, \"ticks\": \"\"}}, \"type\": \"scattermapbox\"}], \"scatterpolar\": [{\"marker\": {\"colorbar\": {\"outlinewidth\": 0, \"ticks\": \"\"}}, \"type\": \"scatterpolar\"}], \"scatterpolargl\": [{\"marker\": {\"colorbar\": {\"outlinewidth\": 0, \"ticks\": \"\"}}, \"type\": \"scatterpolargl\"}], \"scatterternary\": [{\"marker\": {\"colorbar\": {\"outlinewidth\": 0, \"ticks\": \"\"}}, \"type\": \"scatterternary\"}], \"surface\": [{\"colorbar\": {\"outlinewidth\": 0, \"ticks\": \"\"}, \"colorscale\": [[0.0, \"#0d0887\"], [0.1111111111111111, \"#46039f\"], [0.2222222222222222, \"#7201a8\"], [0.3333333333333333, \"#9c179e\"], [0.4444444444444444, \"#bd3786\"], [0.5555555555555556, \"#d8576b\"], [0.6666666666666666, \"#ed7953\"], [0.7777777777777778, \"#fb9f3a\"], [0.8888888888888888, \"#fdca26\"], [1.0, \"#f0f921\"]], \"type\": \"surface\"}], \"table\": [{\"cells\": {\"fill\": {\"color\": \"#EBF0F8\"}, \"line\": {\"color\": \"white\"}}, \"header\": {\"fill\": {\"color\": \"#C8D4E3\"}, \"line\": {\"color\": \"white\"}}, \"type\": \"table\"}]}, \"layout\": {\"annotationdefaults\": {\"arrowcolor\": \"#2a3f5f\", \"arrowhead\": 0, \"arrowwidth\": 1}, \"coloraxis\": {\"colorbar\": {\"outlinewidth\": 0, \"ticks\": \"\"}}, \"colorscale\": {\"diverging\": [[0, \"#8e0152\"], [0.1, \"#c51b7d\"], [0.2, \"#de77ae\"], [0.3, \"#f1b6da\"], [0.4, \"#fde0ef\"], [0.5, \"#f7f7f7\"], [0.6, \"#e6f5d0\"], [0.7, \"#b8e186\"], [0.8, \"#7fbc41\"], [0.9, \"#4d9221\"], [1, \"#276419\"]], \"sequential\": [[0.0, \"#0d0887\"], [0.1111111111111111, \"#46039f\"], [0.2222222222222222, \"#7201a8\"], [0.3333333333333333, \"#9c179e\"], [0.4444444444444444, \"#bd3786\"], [0.5555555555555556, \"#d8576b\"], [0.6666666666666666, \"#ed7953\"], [0.7777777777777778, \"#fb9f3a\"], [0.8888888888888888, \"#fdca26\"], [1.0, \"#f0f921\"]], \"sequentialminus\": [[0.0, \"#0d0887\"], [0.1111111111111111, \"#46039f\"], [0.2222222222222222, \"#7201a8\"], [0.3333333333333333, \"#9c179e\"], [0.4444444444444444, \"#bd3786\"], [0.5555555555555556, \"#d8576b\"], [0.6666666666666666, \"#ed7953\"], [0.7777777777777778, \"#fb9f3a\"], [0.8888888888888888, \"#fdca26\"], [1.0, \"#f0f921\"]]}, \"colorway\": [\"#636efa\", \"#EF553B\", \"#00cc96\", \"#ab63fa\", \"#FFA15A\", \"#19d3f3\", \"#FF6692\", \"#B6E880\", \"#FF97FF\", \"#FECB52\"], \"font\": {\"color\": \"#2a3f5f\"}, \"geo\": {\"bgcolor\": \"white\", \"lakecolor\": \"white\", \"landcolor\": \"#E5ECF6\", \"showlakes\": true, \"showland\": true, \"subunitcolor\": \"white\"}, \"hoverlabel\": {\"align\": \"left\"}, \"hovermode\": \"closest\", \"mapbox\": {\"style\": \"light\"}, \"paper_bgcolor\": \"white\", \"plot_bgcolor\": \"#E5ECF6\", \"polar\": {\"angularaxis\": {\"gridcolor\": \"white\", \"linecolor\": \"white\", \"ticks\": \"\"}, \"bgcolor\": \"#E5ECF6\", \"radialaxis\": {\"gridcolor\": \"white\", \"linecolor\": \"white\", \"ticks\": \"\"}}, \"scene\": {\"xaxis\": {\"backgroundcolor\": \"#E5ECF6\", \"gridcolor\": \"white\", \"gridwidth\": 2, \"linecolor\": \"white\", \"showbackground\": true, \"ticks\": \"\", \"zerolinecolor\": \"white\"}, \"yaxis\": {\"backgroundcolor\": \"#E5ECF6\", \"gridcolor\": \"white\", \"gridwidth\": 2, \"linecolor\": \"white\", \"showbackground\": true, \"ticks\": \"\", \"zerolinecolor\": \"white\"}, \"zaxis\": {\"backgroundcolor\": \"#E5ECF6\", \"gridcolor\": \"white\", \"gridwidth\": 2, \"linecolor\": \"white\", \"showbackground\": true, \"ticks\": \"\", \"zerolinecolor\": \"white\"}}, \"shapedefaults\": {\"line\": {\"color\": \"#2a3f5f\"}}, \"ternary\": {\"aaxis\": {\"gridcolor\": \"white\", \"linecolor\": \"white\", \"ticks\": \"\"}, \"baxis\": {\"gridcolor\": \"white\", \"linecolor\": \"white\", \"ticks\": \"\"}, \"bgcolor\": \"#E5ECF6\", \"caxis\": {\"gridcolor\": \"white\", \"linecolor\": \"white\", \"ticks\": \"\"}}, \"title\": {\"x\": 0.05}, \"xaxis\": {\"automargin\": true, \"gridcolor\": \"white\", \"linecolor\": \"white\", \"ticks\": \"\", \"title\": {\"standoff\": 15}, \"zerolinecolor\": \"white\", \"zerolinewidth\": 2}, \"yaxis\": {\"automargin\": true, \"gridcolor\": \"white\", \"linecolor\": \"white\", \"ticks\": \"\", \"title\": {\"standoff\": 15}, \"zerolinecolor\": \"white\", \"zerolinewidth\": 2}}}, \"xaxis\": {\"anchor\": \"y\", \"domain\": [0.0, 1.0], \"title\": {\"text\": \"age\"}}, \"yaxis\": {\"anchor\": \"x\", \"domain\": [0.0, 1.0], \"title\": {\"text\": \"count\"}}},\n",
       "                        {\"responsive\": true}\n",
       "                    ).then(function(){\n",
       "                            \n",
       "var gd = document.getElementById('b899c91d-73cd-4b75-b7df-29695313c797');\n",
       "var x = new MutationObserver(function (mutations, observer) {{\n",
       "        var display = window.getComputedStyle(gd).display;\n",
       "        if (!display || display === 'none') {{\n",
       "            console.log([gd, 'removed!']);\n",
       "            Plotly.purge(gd);\n",
       "            observer.disconnect();\n",
       "        }}\n",
       "}});\n",
       "\n",
       "// Listen for the removal of the full notebook cells\n",
       "var notebookContainer = gd.closest('#notebook-container');\n",
       "if (notebookContainer) {{\n",
       "    x.observe(notebookContainer, {childList: true});\n",
       "}}\n",
       "\n",
       "// Listen for the clearing of the current output cell\n",
       "var outputEl = gd.closest('.output');\n",
       "if (outputEl) {{\n",
       "    x.observe(outputEl, {childList: true});\n",
       "}}\n",
       "\n",
       "                        })\n",
       "                };\n",
       "                });\n",
       "            </script>\n",
       "        </div>"
      ]
     },
     "metadata": {},
     "output_type": "display_data"
    }
   ],
   "source": [
    "age_dist = data[data[\"mobile_money\"] == 0]\n",
    "\n",
    "fig = px.histogram(age_dist, age_dist.age, color=\"Gender\",nbins=20, opacity=0.60)\n",
    "fig.show()"
   ]
  },
  {
   "cell_type": "markdown",
   "metadata": {},
   "source": [
    "\n",
    "### &emsp;&emsp;&emsp;&emsp;&emsp;&emsp;&emsp;&emsp;&emsp;&emsp;&emsp;&emsp;&emsp;&emsp;&emsp;&emsp;&emsp;&emsp;Total Gender Split of the Dataset"
   ]
  },
  {
   "cell_type": "code",
   "execution_count": 10,
   "metadata": {
    "hideCode": true
   },
   "outputs": [
    {
     "data": {
      "application/vnd.plotly.v1+json": {
       "config": {
        "linkText": "Export to plot.ly",
        "plotlyServerURL": "https://plot.ly",
        "showLink": true
       },
       "data": [
        {
         "marker": {
          "color": "rgba(255, 153, 51, 0.6)",
          "line": {
           "color": "rgba(255, 153, 51, 1.0)",
           "width": 1
          }
         },
         "name": "Gender",
         "orientation": "v",
         "text": "",
         "type": "bar",
         "x": [
          "Female",
          "Male"
         ],
         "y": [
          3972,
          3122
         ]
        }
       ],
       "layout": {
        "legend": {
         "bgcolor": "#F5F6F9",
         "font": {
          "color": "#4D5663"
         }
        },
        "paper_bgcolor": "#F5F6F9",
        "plot_bgcolor": "#F5F6F9",
        "template": {
         "data": {
          "bar": [
           {
            "error_x": {
             "color": "#2a3f5f"
            },
            "error_y": {
             "color": "#2a3f5f"
            },
            "marker": {
             "line": {
              "color": "#E5ECF6",
              "width": 0.5
             }
            },
            "type": "bar"
           }
          ],
          "barpolar": [
           {
            "marker": {
             "line": {
              "color": "#E5ECF6",
              "width": 0.5
             }
            },
            "type": "barpolar"
           }
          ],
          "carpet": [
           {
            "aaxis": {
             "endlinecolor": "#2a3f5f",
             "gridcolor": "white",
             "linecolor": "white",
             "minorgridcolor": "white",
             "startlinecolor": "#2a3f5f"
            },
            "baxis": {
             "endlinecolor": "#2a3f5f",
             "gridcolor": "white",
             "linecolor": "white",
             "minorgridcolor": "white",
             "startlinecolor": "#2a3f5f"
            },
            "type": "carpet"
           }
          ],
          "choropleth": [
           {
            "colorbar": {
             "outlinewidth": 0,
             "ticks": ""
            },
            "type": "choropleth"
           }
          ],
          "contour": [
           {
            "colorbar": {
             "outlinewidth": 0,
             "ticks": ""
            },
            "colorscale": [
             [
              0,
              "#0d0887"
             ],
             [
              0.1111111111111111,
              "#46039f"
             ],
             [
              0.2222222222222222,
              "#7201a8"
             ],
             [
              0.3333333333333333,
              "#9c179e"
             ],
             [
              0.4444444444444444,
              "#bd3786"
             ],
             [
              0.5555555555555556,
              "#d8576b"
             ],
             [
              0.6666666666666666,
              "#ed7953"
             ],
             [
              0.7777777777777778,
              "#fb9f3a"
             ],
             [
              0.8888888888888888,
              "#fdca26"
             ],
             [
              1,
              "#f0f921"
             ]
            ],
            "type": "contour"
           }
          ],
          "contourcarpet": [
           {
            "colorbar": {
             "outlinewidth": 0,
             "ticks": ""
            },
            "type": "contourcarpet"
           }
          ],
          "heatmap": [
           {
            "colorbar": {
             "outlinewidth": 0,
             "ticks": ""
            },
            "colorscale": [
             [
              0,
              "#0d0887"
             ],
             [
              0.1111111111111111,
              "#46039f"
             ],
             [
              0.2222222222222222,
              "#7201a8"
             ],
             [
              0.3333333333333333,
              "#9c179e"
             ],
             [
              0.4444444444444444,
              "#bd3786"
             ],
             [
              0.5555555555555556,
              "#d8576b"
             ],
             [
              0.6666666666666666,
              "#ed7953"
             ],
             [
              0.7777777777777778,
              "#fb9f3a"
             ],
             [
              0.8888888888888888,
              "#fdca26"
             ],
             [
              1,
              "#f0f921"
             ]
            ],
            "type": "heatmap"
           }
          ],
          "heatmapgl": [
           {
            "colorbar": {
             "outlinewidth": 0,
             "ticks": ""
            },
            "colorscale": [
             [
              0,
              "#0d0887"
             ],
             [
              0.1111111111111111,
              "#46039f"
             ],
             [
              0.2222222222222222,
              "#7201a8"
             ],
             [
              0.3333333333333333,
              "#9c179e"
             ],
             [
              0.4444444444444444,
              "#bd3786"
             ],
             [
              0.5555555555555556,
              "#d8576b"
             ],
             [
              0.6666666666666666,
              "#ed7953"
             ],
             [
              0.7777777777777778,
              "#fb9f3a"
             ],
             [
              0.8888888888888888,
              "#fdca26"
             ],
             [
              1,
              "#f0f921"
             ]
            ],
            "type": "heatmapgl"
           }
          ],
          "histogram": [
           {
            "marker": {
             "colorbar": {
              "outlinewidth": 0,
              "ticks": ""
             }
            },
            "type": "histogram"
           }
          ],
          "histogram2d": [
           {
            "colorbar": {
             "outlinewidth": 0,
             "ticks": ""
            },
            "colorscale": [
             [
              0,
              "#0d0887"
             ],
             [
              0.1111111111111111,
              "#46039f"
             ],
             [
              0.2222222222222222,
              "#7201a8"
             ],
             [
              0.3333333333333333,
              "#9c179e"
             ],
             [
              0.4444444444444444,
              "#bd3786"
             ],
             [
              0.5555555555555556,
              "#d8576b"
             ],
             [
              0.6666666666666666,
              "#ed7953"
             ],
             [
              0.7777777777777778,
              "#fb9f3a"
             ],
             [
              0.8888888888888888,
              "#fdca26"
             ],
             [
              1,
              "#f0f921"
             ]
            ],
            "type": "histogram2d"
           }
          ],
          "histogram2dcontour": [
           {
            "colorbar": {
             "outlinewidth": 0,
             "ticks": ""
            },
            "colorscale": [
             [
              0,
              "#0d0887"
             ],
             [
              0.1111111111111111,
              "#46039f"
             ],
             [
              0.2222222222222222,
              "#7201a8"
             ],
             [
              0.3333333333333333,
              "#9c179e"
             ],
             [
              0.4444444444444444,
              "#bd3786"
             ],
             [
              0.5555555555555556,
              "#d8576b"
             ],
             [
              0.6666666666666666,
              "#ed7953"
             ],
             [
              0.7777777777777778,
              "#fb9f3a"
             ],
             [
              0.8888888888888888,
              "#fdca26"
             ],
             [
              1,
              "#f0f921"
             ]
            ],
            "type": "histogram2dcontour"
           }
          ],
          "mesh3d": [
           {
            "colorbar": {
             "outlinewidth": 0,
             "ticks": ""
            },
            "type": "mesh3d"
           }
          ],
          "parcoords": [
           {
            "line": {
             "colorbar": {
              "outlinewidth": 0,
              "ticks": ""
             }
            },
            "type": "parcoords"
           }
          ],
          "pie": [
           {
            "automargin": true,
            "type": "pie"
           }
          ],
          "scatter": [
           {
            "marker": {
             "colorbar": {
              "outlinewidth": 0,
              "ticks": ""
             }
            },
            "type": "scatter"
           }
          ],
          "scatter3d": [
           {
            "line": {
             "colorbar": {
              "outlinewidth": 0,
              "ticks": ""
             }
            },
            "marker": {
             "colorbar": {
              "outlinewidth": 0,
              "ticks": ""
             }
            },
            "type": "scatter3d"
           }
          ],
          "scattercarpet": [
           {
            "marker": {
             "colorbar": {
              "outlinewidth": 0,
              "ticks": ""
             }
            },
            "type": "scattercarpet"
           }
          ],
          "scattergeo": [
           {
            "marker": {
             "colorbar": {
              "outlinewidth": 0,
              "ticks": ""
             }
            },
            "type": "scattergeo"
           }
          ],
          "scattergl": [
           {
            "marker": {
             "colorbar": {
              "outlinewidth": 0,
              "ticks": ""
             }
            },
            "type": "scattergl"
           }
          ],
          "scattermapbox": [
           {
            "marker": {
             "colorbar": {
              "outlinewidth": 0,
              "ticks": ""
             }
            },
            "type": "scattermapbox"
           }
          ],
          "scatterpolar": [
           {
            "marker": {
             "colorbar": {
              "outlinewidth": 0,
              "ticks": ""
             }
            },
            "type": "scatterpolar"
           }
          ],
          "scatterpolargl": [
           {
            "marker": {
             "colorbar": {
              "outlinewidth": 0,
              "ticks": ""
             }
            },
            "type": "scatterpolargl"
           }
          ],
          "scatterternary": [
           {
            "marker": {
             "colorbar": {
              "outlinewidth": 0,
              "ticks": ""
             }
            },
            "type": "scatterternary"
           }
          ],
          "surface": [
           {
            "colorbar": {
             "outlinewidth": 0,
             "ticks": ""
            },
            "colorscale": [
             [
              0,
              "#0d0887"
             ],
             [
              0.1111111111111111,
              "#46039f"
             ],
             [
              0.2222222222222222,
              "#7201a8"
             ],
             [
              0.3333333333333333,
              "#9c179e"
             ],
             [
              0.4444444444444444,
              "#bd3786"
             ],
             [
              0.5555555555555556,
              "#d8576b"
             ],
             [
              0.6666666666666666,
              "#ed7953"
             ],
             [
              0.7777777777777778,
              "#fb9f3a"
             ],
             [
              0.8888888888888888,
              "#fdca26"
             ],
             [
              1,
              "#f0f921"
             ]
            ],
            "type": "surface"
           }
          ],
          "table": [
           {
            "cells": {
             "fill": {
              "color": "#EBF0F8"
             },
             "line": {
              "color": "white"
             }
            },
            "header": {
             "fill": {
              "color": "#C8D4E3"
             },
             "line": {
              "color": "white"
             }
            },
            "type": "table"
           }
          ]
         },
         "layout": {
          "annotationdefaults": {
           "arrowcolor": "#2a3f5f",
           "arrowhead": 0,
           "arrowwidth": 1
          },
          "coloraxis": {
           "colorbar": {
            "outlinewidth": 0,
            "ticks": ""
           }
          },
          "colorscale": {
           "diverging": [
            [
             0,
             "#8e0152"
            ],
            [
             0.1,
             "#c51b7d"
            ],
            [
             0.2,
             "#de77ae"
            ],
            [
             0.3,
             "#f1b6da"
            ],
            [
             0.4,
             "#fde0ef"
            ],
            [
             0.5,
             "#f7f7f7"
            ],
            [
             0.6,
             "#e6f5d0"
            ],
            [
             0.7,
             "#b8e186"
            ],
            [
             0.8,
             "#7fbc41"
            ],
            [
             0.9,
             "#4d9221"
            ],
            [
             1,
             "#276419"
            ]
           ],
           "sequential": [
            [
             0,
             "#0d0887"
            ],
            [
             0.1111111111111111,
             "#46039f"
            ],
            [
             0.2222222222222222,
             "#7201a8"
            ],
            [
             0.3333333333333333,
             "#9c179e"
            ],
            [
             0.4444444444444444,
             "#bd3786"
            ],
            [
             0.5555555555555556,
             "#d8576b"
            ],
            [
             0.6666666666666666,
             "#ed7953"
            ],
            [
             0.7777777777777778,
             "#fb9f3a"
            ],
            [
             0.8888888888888888,
             "#fdca26"
            ],
            [
             1,
             "#f0f921"
            ]
           ],
           "sequentialminus": [
            [
             0,
             "#0d0887"
            ],
            [
             0.1111111111111111,
             "#46039f"
            ],
            [
             0.2222222222222222,
             "#7201a8"
            ],
            [
             0.3333333333333333,
             "#9c179e"
            ],
            [
             0.4444444444444444,
             "#bd3786"
            ],
            [
             0.5555555555555556,
             "#d8576b"
            ],
            [
             0.6666666666666666,
             "#ed7953"
            ],
            [
             0.7777777777777778,
             "#fb9f3a"
            ],
            [
             0.8888888888888888,
             "#fdca26"
            ],
            [
             1,
             "#f0f921"
            ]
           ]
          },
          "colorway": [
           "#636efa",
           "#EF553B",
           "#00cc96",
           "#ab63fa",
           "#FFA15A",
           "#19d3f3",
           "#FF6692",
           "#B6E880",
           "#FF97FF",
           "#FECB52"
          ],
          "font": {
           "color": "#2a3f5f"
          },
          "geo": {
           "bgcolor": "white",
           "lakecolor": "white",
           "landcolor": "#E5ECF6",
           "showlakes": true,
           "showland": true,
           "subunitcolor": "white"
          },
          "hoverlabel": {
           "align": "left"
          },
          "hovermode": "closest",
          "mapbox": {
           "style": "light"
          },
          "paper_bgcolor": "white",
          "plot_bgcolor": "#E5ECF6",
          "polar": {
           "angularaxis": {
            "gridcolor": "white",
            "linecolor": "white",
            "ticks": ""
           },
           "bgcolor": "#E5ECF6",
           "radialaxis": {
            "gridcolor": "white",
            "linecolor": "white",
            "ticks": ""
           }
          },
          "scene": {
           "xaxis": {
            "backgroundcolor": "#E5ECF6",
            "gridcolor": "white",
            "gridwidth": 2,
            "linecolor": "white",
            "showbackground": true,
            "ticks": "",
            "zerolinecolor": "white"
           },
           "yaxis": {
            "backgroundcolor": "#E5ECF6",
            "gridcolor": "white",
            "gridwidth": 2,
            "linecolor": "white",
            "showbackground": true,
            "ticks": "",
            "zerolinecolor": "white"
           },
           "zaxis": {
            "backgroundcolor": "#E5ECF6",
            "gridcolor": "white",
            "gridwidth": 2,
            "linecolor": "white",
            "showbackground": true,
            "ticks": "",
            "zerolinecolor": "white"
           }
          },
          "shapedefaults": {
           "line": {
            "color": "#2a3f5f"
           }
          },
          "ternary": {
           "aaxis": {
            "gridcolor": "white",
            "linecolor": "white",
            "ticks": ""
           },
           "baxis": {
            "gridcolor": "white",
            "linecolor": "white",
            "ticks": ""
           },
           "bgcolor": "#E5ECF6",
           "caxis": {
            "gridcolor": "white",
            "linecolor": "white",
            "ticks": ""
           }
          },
          "title": {
           "x": 0.05
          },
          "xaxis": {
           "automargin": true,
           "gridcolor": "white",
           "linecolor": "white",
           "ticks": "",
           "title": {
            "standoff": 15
           },
           "zerolinecolor": "white",
           "zerolinewidth": 2
          },
          "yaxis": {
           "automargin": true,
           "gridcolor": "white",
           "linecolor": "white",
           "ticks": "",
           "title": {
            "standoff": 15
           },
           "zerolinecolor": "white",
           "zerolinewidth": 2
          }
         }
        },
        "title": {
         "font": {
          "color": "#4D5663"
         },
         "text": "Totol Gender Split"
        },
        "xaxis": {
         "gridcolor": "#E1E5ED",
         "showgrid": true,
         "tickfont": {
          "color": "#4D5663"
         },
         "title": {
          "font": {
           "color": "#4D5663"
          },
          "text": ""
         },
         "zerolinecolor": "#E1E5ED"
        },
        "yaxis": {
         "gridcolor": "#E1E5ED",
         "showgrid": true,
         "tickfont": {
          "color": "#4D5663"
         },
         "title": {
          "font": {
           "color": "#4D5663"
          },
          "text": ""
         },
         "zerolinecolor": "#E1E5ED"
        }
       }
      },
      "text/html": [
       "<div>\n",
       "        \n",
       "        \n",
       "            <div id=\"31551d14-f3f3-45a4-a66c-f9de5acc6ad9\" class=\"plotly-graph-div\" style=\"height:525px; width:100%;\"></div>\n",
       "            <script type=\"text/javascript\">\n",
       "                require([\"plotly\"], function(Plotly) {\n",
       "                    window.PLOTLYENV=window.PLOTLYENV || {};\n",
       "                    window.PLOTLYENV.BASE_URL='https://plot.ly';\n",
       "                    \n",
       "                if (document.getElementById(\"31551d14-f3f3-45a4-a66c-f9de5acc6ad9\")) {\n",
       "                    Plotly.newPlot(\n",
       "                        '31551d14-f3f3-45a4-a66c-f9de5acc6ad9',\n",
       "                        [{\"marker\": {\"color\": \"rgba(255, 153, 51, 0.6)\", \"line\": {\"color\": \"rgba(255, 153, 51, 1.0)\", \"width\": 1}}, \"name\": \"Gender\", \"orientation\": \"v\", \"text\": \"\", \"type\": \"bar\", \"x\": [\"Female\", \"Male\"], \"y\": [3972, 3122]}],\n",
       "                        {\"legend\": {\"bgcolor\": \"#F5F6F9\", \"font\": {\"color\": \"#4D5663\"}}, \"paper_bgcolor\": \"#F5F6F9\", \"plot_bgcolor\": \"#F5F6F9\", \"template\": {\"data\": {\"bar\": [{\"error_x\": {\"color\": \"#2a3f5f\"}, \"error_y\": {\"color\": \"#2a3f5f\"}, \"marker\": {\"line\": {\"color\": \"#E5ECF6\", \"width\": 0.5}}, \"type\": \"bar\"}], \"barpolar\": [{\"marker\": {\"line\": {\"color\": \"#E5ECF6\", \"width\": 0.5}}, \"type\": \"barpolar\"}], \"carpet\": [{\"aaxis\": {\"endlinecolor\": \"#2a3f5f\", \"gridcolor\": \"white\", \"linecolor\": \"white\", \"minorgridcolor\": \"white\", \"startlinecolor\": \"#2a3f5f\"}, \"baxis\": {\"endlinecolor\": \"#2a3f5f\", \"gridcolor\": \"white\", \"linecolor\": \"white\", \"minorgridcolor\": \"white\", \"startlinecolor\": \"#2a3f5f\"}, \"type\": \"carpet\"}], \"choropleth\": [{\"colorbar\": {\"outlinewidth\": 0, \"ticks\": \"\"}, \"type\": \"choropleth\"}], \"contour\": [{\"colorbar\": {\"outlinewidth\": 0, \"ticks\": \"\"}, \"colorscale\": [[0.0, \"#0d0887\"], [0.1111111111111111, \"#46039f\"], [0.2222222222222222, \"#7201a8\"], [0.3333333333333333, \"#9c179e\"], [0.4444444444444444, \"#bd3786\"], [0.5555555555555556, \"#d8576b\"], [0.6666666666666666, \"#ed7953\"], [0.7777777777777778, \"#fb9f3a\"], [0.8888888888888888, \"#fdca26\"], [1.0, \"#f0f921\"]], \"type\": \"contour\"}], \"contourcarpet\": [{\"colorbar\": {\"outlinewidth\": 0, \"ticks\": \"\"}, \"type\": \"contourcarpet\"}], \"heatmap\": [{\"colorbar\": {\"outlinewidth\": 0, \"ticks\": \"\"}, \"colorscale\": [[0.0, \"#0d0887\"], [0.1111111111111111, \"#46039f\"], [0.2222222222222222, \"#7201a8\"], [0.3333333333333333, \"#9c179e\"], [0.4444444444444444, \"#bd3786\"], [0.5555555555555556, \"#d8576b\"], [0.6666666666666666, \"#ed7953\"], [0.7777777777777778, \"#fb9f3a\"], [0.8888888888888888, \"#fdca26\"], [1.0, \"#f0f921\"]], \"type\": \"heatmap\"}], \"heatmapgl\": [{\"colorbar\": {\"outlinewidth\": 0, \"ticks\": \"\"}, \"colorscale\": [[0.0, \"#0d0887\"], [0.1111111111111111, \"#46039f\"], [0.2222222222222222, \"#7201a8\"], [0.3333333333333333, \"#9c179e\"], [0.4444444444444444, \"#bd3786\"], [0.5555555555555556, \"#d8576b\"], [0.6666666666666666, \"#ed7953\"], [0.7777777777777778, \"#fb9f3a\"], [0.8888888888888888, \"#fdca26\"], [1.0, \"#f0f921\"]], \"type\": \"heatmapgl\"}], \"histogram\": [{\"marker\": {\"colorbar\": {\"outlinewidth\": 0, \"ticks\": \"\"}}, \"type\": \"histogram\"}], \"histogram2d\": [{\"colorbar\": {\"outlinewidth\": 0, \"ticks\": \"\"}, \"colorscale\": [[0.0, \"#0d0887\"], [0.1111111111111111, \"#46039f\"], [0.2222222222222222, \"#7201a8\"], [0.3333333333333333, \"#9c179e\"], [0.4444444444444444, \"#bd3786\"], [0.5555555555555556, \"#d8576b\"], [0.6666666666666666, \"#ed7953\"], [0.7777777777777778, \"#fb9f3a\"], [0.8888888888888888, \"#fdca26\"], [1.0, \"#f0f921\"]], \"type\": \"histogram2d\"}], \"histogram2dcontour\": [{\"colorbar\": {\"outlinewidth\": 0, \"ticks\": \"\"}, \"colorscale\": [[0.0, \"#0d0887\"], [0.1111111111111111, \"#46039f\"], [0.2222222222222222, \"#7201a8\"], [0.3333333333333333, \"#9c179e\"], [0.4444444444444444, \"#bd3786\"], [0.5555555555555556, \"#d8576b\"], [0.6666666666666666, \"#ed7953\"], [0.7777777777777778, \"#fb9f3a\"], [0.8888888888888888, \"#fdca26\"], [1.0, \"#f0f921\"]], \"type\": \"histogram2dcontour\"}], \"mesh3d\": [{\"colorbar\": {\"outlinewidth\": 0, \"ticks\": \"\"}, \"type\": \"mesh3d\"}], \"parcoords\": [{\"line\": {\"colorbar\": {\"outlinewidth\": 0, \"ticks\": \"\"}}, \"type\": \"parcoords\"}], \"pie\": [{\"automargin\": true, \"type\": \"pie\"}], \"scatter\": [{\"marker\": {\"colorbar\": {\"outlinewidth\": 0, \"ticks\": \"\"}}, \"type\": \"scatter\"}], \"scatter3d\": [{\"line\": {\"colorbar\": {\"outlinewidth\": 0, \"ticks\": \"\"}}, \"marker\": {\"colorbar\": {\"outlinewidth\": 0, \"ticks\": \"\"}}, \"type\": \"scatter3d\"}], \"scattercarpet\": [{\"marker\": {\"colorbar\": {\"outlinewidth\": 0, \"ticks\": \"\"}}, \"type\": \"scattercarpet\"}], \"scattergeo\": [{\"marker\": {\"colorbar\": {\"outlinewidth\": 0, \"ticks\": \"\"}}, \"type\": \"scattergeo\"}], \"scattergl\": [{\"marker\": {\"colorbar\": {\"outlinewidth\": 0, \"ticks\": \"\"}}, \"type\": \"scattergl\"}], \"scattermapbox\": [{\"marker\": {\"colorbar\": {\"outlinewidth\": 0, \"ticks\": \"\"}}, \"type\": \"scattermapbox\"}], \"scatterpolar\": [{\"marker\": {\"colorbar\": {\"outlinewidth\": 0, \"ticks\": \"\"}}, \"type\": \"scatterpolar\"}], \"scatterpolargl\": [{\"marker\": {\"colorbar\": {\"outlinewidth\": 0, \"ticks\": \"\"}}, \"type\": \"scatterpolargl\"}], \"scatterternary\": [{\"marker\": {\"colorbar\": {\"outlinewidth\": 0, \"ticks\": \"\"}}, \"type\": \"scatterternary\"}], \"surface\": [{\"colorbar\": {\"outlinewidth\": 0, \"ticks\": \"\"}, \"colorscale\": [[0.0, \"#0d0887\"], [0.1111111111111111, \"#46039f\"], [0.2222222222222222, \"#7201a8\"], [0.3333333333333333, \"#9c179e\"], [0.4444444444444444, \"#bd3786\"], [0.5555555555555556, \"#d8576b\"], [0.6666666666666666, \"#ed7953\"], [0.7777777777777778, \"#fb9f3a\"], [0.8888888888888888, \"#fdca26\"], [1.0, \"#f0f921\"]], \"type\": \"surface\"}], \"table\": [{\"cells\": {\"fill\": {\"color\": \"#EBF0F8\"}, \"line\": {\"color\": \"white\"}}, \"header\": {\"fill\": {\"color\": \"#C8D4E3\"}, \"line\": {\"color\": \"white\"}}, \"type\": \"table\"}]}, \"layout\": {\"annotationdefaults\": {\"arrowcolor\": \"#2a3f5f\", \"arrowhead\": 0, \"arrowwidth\": 1}, \"coloraxis\": {\"colorbar\": {\"outlinewidth\": 0, \"ticks\": \"\"}}, \"colorscale\": {\"diverging\": [[0, \"#8e0152\"], [0.1, \"#c51b7d\"], [0.2, \"#de77ae\"], [0.3, \"#f1b6da\"], [0.4, \"#fde0ef\"], [0.5, \"#f7f7f7\"], [0.6, \"#e6f5d0\"], [0.7, \"#b8e186\"], [0.8, \"#7fbc41\"], [0.9, \"#4d9221\"], [1, \"#276419\"]], \"sequential\": [[0.0, \"#0d0887\"], [0.1111111111111111, \"#46039f\"], [0.2222222222222222, \"#7201a8\"], [0.3333333333333333, \"#9c179e\"], [0.4444444444444444, \"#bd3786\"], [0.5555555555555556, \"#d8576b\"], [0.6666666666666666, \"#ed7953\"], [0.7777777777777778, \"#fb9f3a\"], [0.8888888888888888, \"#fdca26\"], [1.0, \"#f0f921\"]], \"sequentialminus\": [[0.0, \"#0d0887\"], [0.1111111111111111, \"#46039f\"], [0.2222222222222222, \"#7201a8\"], [0.3333333333333333, \"#9c179e\"], [0.4444444444444444, \"#bd3786\"], [0.5555555555555556, \"#d8576b\"], [0.6666666666666666, \"#ed7953\"], [0.7777777777777778, \"#fb9f3a\"], [0.8888888888888888, \"#fdca26\"], [1.0, \"#f0f921\"]]}, \"colorway\": [\"#636efa\", \"#EF553B\", \"#00cc96\", \"#ab63fa\", \"#FFA15A\", \"#19d3f3\", \"#FF6692\", \"#B6E880\", \"#FF97FF\", \"#FECB52\"], \"font\": {\"color\": \"#2a3f5f\"}, \"geo\": {\"bgcolor\": \"white\", \"lakecolor\": \"white\", \"landcolor\": \"#E5ECF6\", \"showlakes\": true, \"showland\": true, \"subunitcolor\": \"white\"}, \"hoverlabel\": {\"align\": \"left\"}, \"hovermode\": \"closest\", \"mapbox\": {\"style\": \"light\"}, \"paper_bgcolor\": \"white\", \"plot_bgcolor\": \"#E5ECF6\", \"polar\": {\"angularaxis\": {\"gridcolor\": \"white\", \"linecolor\": \"white\", \"ticks\": \"\"}, \"bgcolor\": \"#E5ECF6\", \"radialaxis\": {\"gridcolor\": \"white\", \"linecolor\": \"white\", \"ticks\": \"\"}}, \"scene\": {\"xaxis\": {\"backgroundcolor\": \"#E5ECF6\", \"gridcolor\": \"white\", \"gridwidth\": 2, \"linecolor\": \"white\", \"showbackground\": true, \"ticks\": \"\", \"zerolinecolor\": \"white\"}, \"yaxis\": {\"backgroundcolor\": \"#E5ECF6\", \"gridcolor\": \"white\", \"gridwidth\": 2, \"linecolor\": \"white\", \"showbackground\": true, \"ticks\": \"\", \"zerolinecolor\": \"white\"}, \"zaxis\": {\"backgroundcolor\": \"#E5ECF6\", \"gridcolor\": \"white\", \"gridwidth\": 2, \"linecolor\": \"white\", \"showbackground\": true, \"ticks\": \"\", \"zerolinecolor\": \"white\"}}, \"shapedefaults\": {\"line\": {\"color\": \"#2a3f5f\"}}, \"ternary\": {\"aaxis\": {\"gridcolor\": \"white\", \"linecolor\": \"white\", \"ticks\": \"\"}, \"baxis\": {\"gridcolor\": \"white\", \"linecolor\": \"white\", \"ticks\": \"\"}, \"bgcolor\": \"#E5ECF6\", \"caxis\": {\"gridcolor\": \"white\", \"linecolor\": \"white\", \"ticks\": \"\"}}, \"title\": {\"x\": 0.05}, \"xaxis\": {\"automargin\": true, \"gridcolor\": \"white\", \"linecolor\": \"white\", \"ticks\": \"\", \"title\": {\"standoff\": 15}, \"zerolinecolor\": \"white\", \"zerolinewidth\": 2}, \"yaxis\": {\"automargin\": true, \"gridcolor\": \"white\", \"linecolor\": \"white\", \"ticks\": \"\", \"title\": {\"standoff\": 15}, \"zerolinecolor\": \"white\", \"zerolinewidth\": 2}}}, \"title\": {\"font\": {\"color\": \"#4D5663\"}, \"text\": \"Totol Gender Split\"}, \"xaxis\": {\"gridcolor\": \"#E1E5ED\", \"showgrid\": true, \"tickfont\": {\"color\": \"#4D5663\"}, \"title\": {\"font\": {\"color\": \"#4D5663\"}, \"text\": \"\"}, \"zerolinecolor\": \"#E1E5ED\"}, \"yaxis\": {\"gridcolor\": \"#E1E5ED\", \"showgrid\": true, \"tickfont\": {\"color\": \"#4D5663\"}, \"title\": {\"font\": {\"color\": \"#4D5663\"}, \"text\": \"\"}, \"zerolinecolor\": \"#E1E5ED\"}},\n",
       "                        {\"showLink\": true, \"linkText\": \"Export to plot.ly\", \"plotlyServerURL\": \"https://plot.ly\", \"responsive\": true}\n",
       "                    ).then(function(){\n",
       "                            \n",
       "var gd = document.getElementById('31551d14-f3f3-45a4-a66c-f9de5acc6ad9');\n",
       "var x = new MutationObserver(function (mutations, observer) {{\n",
       "        var display = window.getComputedStyle(gd).display;\n",
       "        if (!display || display === 'none') {{\n",
       "            console.log([gd, 'removed!']);\n",
       "            Plotly.purge(gd);\n",
       "            observer.disconnect();\n",
       "        }}\n",
       "}});\n",
       "\n",
       "// Listen for the removal of the full notebook cells\n",
       "var notebookContainer = gd.closest('#notebook-container');\n",
       "if (notebookContainer) {{\n",
       "    x.observe(notebookContainer, {childList: true});\n",
       "}}\n",
       "\n",
       "// Listen for the clearing of the current output cell\n",
       "var outputEl = gd.closest('.output');\n",
       "if (outputEl) {{\n",
       "    x.observe(outputEl, {childList: true});\n",
       "}}\n",
       "\n",
       "                        })\n",
       "                };\n",
       "                });\n",
       "            </script>\n",
       "        </div>"
      ]
     },
     "metadata": {},
     "output_type": "display_data"
    }
   ],
   "source": [
    "(pd.DataFrame(data.Gender.value_counts()).reset_index()).iplot(kind=\"bar\", x=\"index\", y=\"Gender\", title=\"Totol Gender Split\")"
   ]
  },
  {
   "cell_type": "code",
   "execution_count": 11,
   "metadata": {
    "hideCode": true
   },
   "outputs": [
    {
     "data": {
      "application/vnd.plotly.v1+json": {
       "config": {
        "linkText": "Export to plot.ly",
        "plotlyServerURL": "https://plot.ly",
        "showLink": true
       },
       "data": [
        {
         "marker": {
          "color": "rgba(255, 153, 51, 0.6)",
          "line": {
           "color": "rgba(255, 153, 51, 1.0)",
           "width": 1
          }
         },
         "name": "Gender",
         "orientation": "v",
         "text": "",
         "type": "bar",
         "x": [
          "Female",
          "Male"
         ],
         "y": [
          1971,
          1959
         ]
        }
       ],
       "layout": {
        "legend": {
         "bgcolor": "#F5F6F9",
         "font": {
          "color": "#4D5663"
         }
        },
        "paper_bgcolor": "#F5F6F9",
        "plot_bgcolor": "#F5F6F9",
        "template": {
         "data": {
          "bar": [
           {
            "error_x": {
             "color": "#2a3f5f"
            },
            "error_y": {
             "color": "#2a3f5f"
            },
            "marker": {
             "line": {
              "color": "#E5ECF6",
              "width": 0.5
             }
            },
            "type": "bar"
           }
          ],
          "barpolar": [
           {
            "marker": {
             "line": {
              "color": "#E5ECF6",
              "width": 0.5
             }
            },
            "type": "barpolar"
           }
          ],
          "carpet": [
           {
            "aaxis": {
             "endlinecolor": "#2a3f5f",
             "gridcolor": "white",
             "linecolor": "white",
             "minorgridcolor": "white",
             "startlinecolor": "#2a3f5f"
            },
            "baxis": {
             "endlinecolor": "#2a3f5f",
             "gridcolor": "white",
             "linecolor": "white",
             "minorgridcolor": "white",
             "startlinecolor": "#2a3f5f"
            },
            "type": "carpet"
           }
          ],
          "choropleth": [
           {
            "colorbar": {
             "outlinewidth": 0,
             "ticks": ""
            },
            "type": "choropleth"
           }
          ],
          "contour": [
           {
            "colorbar": {
             "outlinewidth": 0,
             "ticks": ""
            },
            "colorscale": [
             [
              0,
              "#0d0887"
             ],
             [
              0.1111111111111111,
              "#46039f"
             ],
             [
              0.2222222222222222,
              "#7201a8"
             ],
             [
              0.3333333333333333,
              "#9c179e"
             ],
             [
              0.4444444444444444,
              "#bd3786"
             ],
             [
              0.5555555555555556,
              "#d8576b"
             ],
             [
              0.6666666666666666,
              "#ed7953"
             ],
             [
              0.7777777777777778,
              "#fb9f3a"
             ],
             [
              0.8888888888888888,
              "#fdca26"
             ],
             [
              1,
              "#f0f921"
             ]
            ],
            "type": "contour"
           }
          ],
          "contourcarpet": [
           {
            "colorbar": {
             "outlinewidth": 0,
             "ticks": ""
            },
            "type": "contourcarpet"
           }
          ],
          "heatmap": [
           {
            "colorbar": {
             "outlinewidth": 0,
             "ticks": ""
            },
            "colorscale": [
             [
              0,
              "#0d0887"
             ],
             [
              0.1111111111111111,
              "#46039f"
             ],
             [
              0.2222222222222222,
              "#7201a8"
             ],
             [
              0.3333333333333333,
              "#9c179e"
             ],
             [
              0.4444444444444444,
              "#bd3786"
             ],
             [
              0.5555555555555556,
              "#d8576b"
             ],
             [
              0.6666666666666666,
              "#ed7953"
             ],
             [
              0.7777777777777778,
              "#fb9f3a"
             ],
             [
              0.8888888888888888,
              "#fdca26"
             ],
             [
              1,
              "#f0f921"
             ]
            ],
            "type": "heatmap"
           }
          ],
          "heatmapgl": [
           {
            "colorbar": {
             "outlinewidth": 0,
             "ticks": ""
            },
            "colorscale": [
             [
              0,
              "#0d0887"
             ],
             [
              0.1111111111111111,
              "#46039f"
             ],
             [
              0.2222222222222222,
              "#7201a8"
             ],
             [
              0.3333333333333333,
              "#9c179e"
             ],
             [
              0.4444444444444444,
              "#bd3786"
             ],
             [
              0.5555555555555556,
              "#d8576b"
             ],
             [
              0.6666666666666666,
              "#ed7953"
             ],
             [
              0.7777777777777778,
              "#fb9f3a"
             ],
             [
              0.8888888888888888,
              "#fdca26"
             ],
             [
              1,
              "#f0f921"
             ]
            ],
            "type": "heatmapgl"
           }
          ],
          "histogram": [
           {
            "marker": {
             "colorbar": {
              "outlinewidth": 0,
              "ticks": ""
             }
            },
            "type": "histogram"
           }
          ],
          "histogram2d": [
           {
            "colorbar": {
             "outlinewidth": 0,
             "ticks": ""
            },
            "colorscale": [
             [
              0,
              "#0d0887"
             ],
             [
              0.1111111111111111,
              "#46039f"
             ],
             [
              0.2222222222222222,
              "#7201a8"
             ],
             [
              0.3333333333333333,
              "#9c179e"
             ],
             [
              0.4444444444444444,
              "#bd3786"
             ],
             [
              0.5555555555555556,
              "#d8576b"
             ],
             [
              0.6666666666666666,
              "#ed7953"
             ],
             [
              0.7777777777777778,
              "#fb9f3a"
             ],
             [
              0.8888888888888888,
              "#fdca26"
             ],
             [
              1,
              "#f0f921"
             ]
            ],
            "type": "histogram2d"
           }
          ],
          "histogram2dcontour": [
           {
            "colorbar": {
             "outlinewidth": 0,
             "ticks": ""
            },
            "colorscale": [
             [
              0,
              "#0d0887"
             ],
             [
              0.1111111111111111,
              "#46039f"
             ],
             [
              0.2222222222222222,
              "#7201a8"
             ],
             [
              0.3333333333333333,
              "#9c179e"
             ],
             [
              0.4444444444444444,
              "#bd3786"
             ],
             [
              0.5555555555555556,
              "#d8576b"
             ],
             [
              0.6666666666666666,
              "#ed7953"
             ],
             [
              0.7777777777777778,
              "#fb9f3a"
             ],
             [
              0.8888888888888888,
              "#fdca26"
             ],
             [
              1,
              "#f0f921"
             ]
            ],
            "type": "histogram2dcontour"
           }
          ],
          "mesh3d": [
           {
            "colorbar": {
             "outlinewidth": 0,
             "ticks": ""
            },
            "type": "mesh3d"
           }
          ],
          "parcoords": [
           {
            "line": {
             "colorbar": {
              "outlinewidth": 0,
              "ticks": ""
             }
            },
            "type": "parcoords"
           }
          ],
          "pie": [
           {
            "automargin": true,
            "type": "pie"
           }
          ],
          "scatter": [
           {
            "marker": {
             "colorbar": {
              "outlinewidth": 0,
              "ticks": ""
             }
            },
            "type": "scatter"
           }
          ],
          "scatter3d": [
           {
            "line": {
             "colorbar": {
              "outlinewidth": 0,
              "ticks": ""
             }
            },
            "marker": {
             "colorbar": {
              "outlinewidth": 0,
              "ticks": ""
             }
            },
            "type": "scatter3d"
           }
          ],
          "scattercarpet": [
           {
            "marker": {
             "colorbar": {
              "outlinewidth": 0,
              "ticks": ""
             }
            },
            "type": "scattercarpet"
           }
          ],
          "scattergeo": [
           {
            "marker": {
             "colorbar": {
              "outlinewidth": 0,
              "ticks": ""
             }
            },
            "type": "scattergeo"
           }
          ],
          "scattergl": [
           {
            "marker": {
             "colorbar": {
              "outlinewidth": 0,
              "ticks": ""
             }
            },
            "type": "scattergl"
           }
          ],
          "scattermapbox": [
           {
            "marker": {
             "colorbar": {
              "outlinewidth": 0,
              "ticks": ""
             }
            },
            "type": "scattermapbox"
           }
          ],
          "scatterpolar": [
           {
            "marker": {
             "colorbar": {
              "outlinewidth": 0,
              "ticks": ""
             }
            },
            "type": "scatterpolar"
           }
          ],
          "scatterpolargl": [
           {
            "marker": {
             "colorbar": {
              "outlinewidth": 0,
              "ticks": ""
             }
            },
            "type": "scatterpolargl"
           }
          ],
          "scatterternary": [
           {
            "marker": {
             "colorbar": {
              "outlinewidth": 0,
              "ticks": ""
             }
            },
            "type": "scatterternary"
           }
          ],
          "surface": [
           {
            "colorbar": {
             "outlinewidth": 0,
             "ticks": ""
            },
            "colorscale": [
             [
              0,
              "#0d0887"
             ],
             [
              0.1111111111111111,
              "#46039f"
             ],
             [
              0.2222222222222222,
              "#7201a8"
             ],
             [
              0.3333333333333333,
              "#9c179e"
             ],
             [
              0.4444444444444444,
              "#bd3786"
             ],
             [
              0.5555555555555556,
              "#d8576b"
             ],
             [
              0.6666666666666666,
              "#ed7953"
             ],
             [
              0.7777777777777778,
              "#fb9f3a"
             ],
             [
              0.8888888888888888,
              "#fdca26"
             ],
             [
              1,
              "#f0f921"
             ]
            ],
            "type": "surface"
           }
          ],
          "table": [
           {
            "cells": {
             "fill": {
              "color": "#EBF0F8"
             },
             "line": {
              "color": "white"
             }
            },
            "header": {
             "fill": {
              "color": "#C8D4E3"
             },
             "line": {
              "color": "white"
             }
            },
            "type": "table"
           }
          ]
         },
         "layout": {
          "annotationdefaults": {
           "arrowcolor": "#2a3f5f",
           "arrowhead": 0,
           "arrowwidth": 1
          },
          "coloraxis": {
           "colorbar": {
            "outlinewidth": 0,
            "ticks": ""
           }
          },
          "colorscale": {
           "diverging": [
            [
             0,
             "#8e0152"
            ],
            [
             0.1,
             "#c51b7d"
            ],
            [
             0.2,
             "#de77ae"
            ],
            [
             0.3,
             "#f1b6da"
            ],
            [
             0.4,
             "#fde0ef"
            ],
            [
             0.5,
             "#f7f7f7"
            ],
            [
             0.6,
             "#e6f5d0"
            ],
            [
             0.7,
             "#b8e186"
            ],
            [
             0.8,
             "#7fbc41"
            ],
            [
             0.9,
             "#4d9221"
            ],
            [
             1,
             "#276419"
            ]
           ],
           "sequential": [
            [
             0,
             "#0d0887"
            ],
            [
             0.1111111111111111,
             "#46039f"
            ],
            [
             0.2222222222222222,
             "#7201a8"
            ],
            [
             0.3333333333333333,
             "#9c179e"
            ],
            [
             0.4444444444444444,
             "#bd3786"
            ],
            [
             0.5555555555555556,
             "#d8576b"
            ],
            [
             0.6666666666666666,
             "#ed7953"
            ],
            [
             0.7777777777777778,
             "#fb9f3a"
            ],
            [
             0.8888888888888888,
             "#fdca26"
            ],
            [
             1,
             "#f0f921"
            ]
           ],
           "sequentialminus": [
            [
             0,
             "#0d0887"
            ],
            [
             0.1111111111111111,
             "#46039f"
            ],
            [
             0.2222222222222222,
             "#7201a8"
            ],
            [
             0.3333333333333333,
             "#9c179e"
            ],
            [
             0.4444444444444444,
             "#bd3786"
            ],
            [
             0.5555555555555556,
             "#d8576b"
            ],
            [
             0.6666666666666666,
             "#ed7953"
            ],
            [
             0.7777777777777778,
             "#fb9f3a"
            ],
            [
             0.8888888888888888,
             "#fdca26"
            ],
            [
             1,
             "#f0f921"
            ]
           ]
          },
          "colorway": [
           "#636efa",
           "#EF553B",
           "#00cc96",
           "#ab63fa",
           "#FFA15A",
           "#19d3f3",
           "#FF6692",
           "#B6E880",
           "#FF97FF",
           "#FECB52"
          ],
          "font": {
           "color": "#2a3f5f"
          },
          "geo": {
           "bgcolor": "white",
           "lakecolor": "white",
           "landcolor": "#E5ECF6",
           "showlakes": true,
           "showland": true,
           "subunitcolor": "white"
          },
          "hoverlabel": {
           "align": "left"
          },
          "hovermode": "closest",
          "mapbox": {
           "style": "light"
          },
          "paper_bgcolor": "white",
          "plot_bgcolor": "#E5ECF6",
          "polar": {
           "angularaxis": {
            "gridcolor": "white",
            "linecolor": "white",
            "ticks": ""
           },
           "bgcolor": "#E5ECF6",
           "radialaxis": {
            "gridcolor": "white",
            "linecolor": "white",
            "ticks": ""
           }
          },
          "scene": {
           "xaxis": {
            "backgroundcolor": "#E5ECF6",
            "gridcolor": "white",
            "gridwidth": 2,
            "linecolor": "white",
            "showbackground": true,
            "ticks": "",
            "zerolinecolor": "white"
           },
           "yaxis": {
            "backgroundcolor": "#E5ECF6",
            "gridcolor": "white",
            "gridwidth": 2,
            "linecolor": "white",
            "showbackground": true,
            "ticks": "",
            "zerolinecolor": "white"
           },
           "zaxis": {
            "backgroundcolor": "#E5ECF6",
            "gridcolor": "white",
            "gridwidth": 2,
            "linecolor": "white",
            "showbackground": true,
            "ticks": "",
            "zerolinecolor": "white"
           }
          },
          "shapedefaults": {
           "line": {
            "color": "#2a3f5f"
           }
          },
          "ternary": {
           "aaxis": {
            "gridcolor": "white",
            "linecolor": "white",
            "ticks": ""
           },
           "baxis": {
            "gridcolor": "white",
            "linecolor": "white",
            "ticks": ""
           },
           "bgcolor": "#E5ECF6",
           "caxis": {
            "gridcolor": "white",
            "linecolor": "white",
            "ticks": ""
           }
          },
          "title": {
           "x": 0.05
          },
          "xaxis": {
           "automargin": true,
           "gridcolor": "white",
           "linecolor": "white",
           "ticks": "",
           "title": {
            "standoff": 15
           },
           "zerolinecolor": "white",
           "zerolinewidth": 2
          },
          "yaxis": {
           "automargin": true,
           "gridcolor": "white",
           "linecolor": "white",
           "ticks": "",
           "title": {
            "standoff": 15
           },
           "zerolinecolor": "white",
           "zerolinewidth": 2
          }
         }
        },
        "title": {
         "font": {
          "color": "#4D5663"
         },
         "text": "Gender Split of Mobile Money Users"
        },
        "xaxis": {
         "gridcolor": "#E1E5ED",
         "showgrid": true,
         "tickfont": {
          "color": "#4D5663"
         },
         "title": {
          "font": {
           "color": "#4D5663"
          },
          "text": ""
         },
         "zerolinecolor": "#E1E5ED"
        },
        "yaxis": {
         "gridcolor": "#E1E5ED",
         "showgrid": true,
         "tickfont": {
          "color": "#4D5663"
         },
         "title": {
          "font": {
           "color": "#4D5663"
          },
          "text": ""
         },
         "zerolinecolor": "#E1E5ED"
        }
       }
      },
      "text/html": [
       "<div>\n",
       "        \n",
       "        \n",
       "            <div id=\"cb184fb1-779e-4ca4-9af2-f9cba67ece88\" class=\"plotly-graph-div\" style=\"height:525px; width:100%;\"></div>\n",
       "            <script type=\"text/javascript\">\n",
       "                require([\"plotly\"], function(Plotly) {\n",
       "                    window.PLOTLYENV=window.PLOTLYENV || {};\n",
       "                    window.PLOTLYENV.BASE_URL='https://plot.ly';\n",
       "                    \n",
       "                if (document.getElementById(\"cb184fb1-779e-4ca4-9af2-f9cba67ece88\")) {\n",
       "                    Plotly.newPlot(\n",
       "                        'cb184fb1-779e-4ca4-9af2-f9cba67ece88',\n",
       "                        [{\"marker\": {\"color\": \"rgba(255, 153, 51, 0.6)\", \"line\": {\"color\": \"rgba(255, 153, 51, 1.0)\", \"width\": 1}}, \"name\": \"Gender\", \"orientation\": \"v\", \"text\": \"\", \"type\": \"bar\", \"x\": [\"Female\", \"Male\"], \"y\": [1971, 1959]}],\n",
       "                        {\"legend\": {\"bgcolor\": \"#F5F6F9\", \"font\": {\"color\": \"#4D5663\"}}, \"paper_bgcolor\": \"#F5F6F9\", \"plot_bgcolor\": \"#F5F6F9\", \"template\": {\"data\": {\"bar\": [{\"error_x\": {\"color\": \"#2a3f5f\"}, \"error_y\": {\"color\": \"#2a3f5f\"}, \"marker\": {\"line\": {\"color\": \"#E5ECF6\", \"width\": 0.5}}, \"type\": \"bar\"}], \"barpolar\": [{\"marker\": {\"line\": {\"color\": \"#E5ECF6\", \"width\": 0.5}}, \"type\": \"barpolar\"}], \"carpet\": [{\"aaxis\": {\"endlinecolor\": \"#2a3f5f\", \"gridcolor\": \"white\", \"linecolor\": \"white\", \"minorgridcolor\": \"white\", \"startlinecolor\": \"#2a3f5f\"}, \"baxis\": {\"endlinecolor\": \"#2a3f5f\", \"gridcolor\": \"white\", \"linecolor\": \"white\", \"minorgridcolor\": \"white\", \"startlinecolor\": \"#2a3f5f\"}, \"type\": \"carpet\"}], \"choropleth\": [{\"colorbar\": {\"outlinewidth\": 0, \"ticks\": \"\"}, \"type\": \"choropleth\"}], \"contour\": [{\"colorbar\": {\"outlinewidth\": 0, \"ticks\": \"\"}, \"colorscale\": [[0.0, \"#0d0887\"], [0.1111111111111111, \"#46039f\"], [0.2222222222222222, \"#7201a8\"], [0.3333333333333333, \"#9c179e\"], [0.4444444444444444, \"#bd3786\"], [0.5555555555555556, \"#d8576b\"], [0.6666666666666666, \"#ed7953\"], [0.7777777777777778, \"#fb9f3a\"], [0.8888888888888888, \"#fdca26\"], [1.0, \"#f0f921\"]], \"type\": \"contour\"}], \"contourcarpet\": [{\"colorbar\": {\"outlinewidth\": 0, \"ticks\": \"\"}, \"type\": \"contourcarpet\"}], \"heatmap\": [{\"colorbar\": {\"outlinewidth\": 0, \"ticks\": \"\"}, \"colorscale\": [[0.0, \"#0d0887\"], [0.1111111111111111, \"#46039f\"], [0.2222222222222222, \"#7201a8\"], [0.3333333333333333, \"#9c179e\"], [0.4444444444444444, \"#bd3786\"], [0.5555555555555556, \"#d8576b\"], [0.6666666666666666, \"#ed7953\"], [0.7777777777777778, \"#fb9f3a\"], [0.8888888888888888, \"#fdca26\"], [1.0, \"#f0f921\"]], \"type\": \"heatmap\"}], \"heatmapgl\": [{\"colorbar\": {\"outlinewidth\": 0, \"ticks\": \"\"}, \"colorscale\": [[0.0, \"#0d0887\"], [0.1111111111111111, \"#46039f\"], [0.2222222222222222, \"#7201a8\"], [0.3333333333333333, \"#9c179e\"], [0.4444444444444444, \"#bd3786\"], [0.5555555555555556, \"#d8576b\"], [0.6666666666666666, \"#ed7953\"], [0.7777777777777778, \"#fb9f3a\"], [0.8888888888888888, \"#fdca26\"], [1.0, \"#f0f921\"]], \"type\": \"heatmapgl\"}], \"histogram\": [{\"marker\": {\"colorbar\": {\"outlinewidth\": 0, \"ticks\": \"\"}}, \"type\": \"histogram\"}], \"histogram2d\": [{\"colorbar\": {\"outlinewidth\": 0, \"ticks\": \"\"}, \"colorscale\": [[0.0, \"#0d0887\"], [0.1111111111111111, \"#46039f\"], [0.2222222222222222, \"#7201a8\"], [0.3333333333333333, \"#9c179e\"], [0.4444444444444444, \"#bd3786\"], [0.5555555555555556, \"#d8576b\"], [0.6666666666666666, \"#ed7953\"], [0.7777777777777778, \"#fb9f3a\"], [0.8888888888888888, \"#fdca26\"], [1.0, \"#f0f921\"]], \"type\": \"histogram2d\"}], \"histogram2dcontour\": [{\"colorbar\": {\"outlinewidth\": 0, \"ticks\": \"\"}, \"colorscale\": [[0.0, \"#0d0887\"], [0.1111111111111111, \"#46039f\"], [0.2222222222222222, \"#7201a8\"], [0.3333333333333333, \"#9c179e\"], [0.4444444444444444, \"#bd3786\"], [0.5555555555555556, \"#d8576b\"], [0.6666666666666666, \"#ed7953\"], [0.7777777777777778, \"#fb9f3a\"], [0.8888888888888888, \"#fdca26\"], [1.0, \"#f0f921\"]], \"type\": \"histogram2dcontour\"}], \"mesh3d\": [{\"colorbar\": {\"outlinewidth\": 0, \"ticks\": \"\"}, \"type\": \"mesh3d\"}], \"parcoords\": [{\"line\": {\"colorbar\": {\"outlinewidth\": 0, \"ticks\": \"\"}}, \"type\": \"parcoords\"}], \"pie\": [{\"automargin\": true, \"type\": \"pie\"}], \"scatter\": [{\"marker\": {\"colorbar\": {\"outlinewidth\": 0, \"ticks\": \"\"}}, \"type\": \"scatter\"}], \"scatter3d\": [{\"line\": {\"colorbar\": {\"outlinewidth\": 0, \"ticks\": \"\"}}, \"marker\": {\"colorbar\": {\"outlinewidth\": 0, \"ticks\": \"\"}}, \"type\": \"scatter3d\"}], \"scattercarpet\": [{\"marker\": {\"colorbar\": {\"outlinewidth\": 0, \"ticks\": \"\"}}, \"type\": \"scattercarpet\"}], \"scattergeo\": [{\"marker\": {\"colorbar\": {\"outlinewidth\": 0, \"ticks\": \"\"}}, \"type\": \"scattergeo\"}], \"scattergl\": [{\"marker\": {\"colorbar\": {\"outlinewidth\": 0, \"ticks\": \"\"}}, \"type\": \"scattergl\"}], \"scattermapbox\": [{\"marker\": {\"colorbar\": {\"outlinewidth\": 0, \"ticks\": \"\"}}, \"type\": \"scattermapbox\"}], \"scatterpolar\": [{\"marker\": {\"colorbar\": {\"outlinewidth\": 0, \"ticks\": \"\"}}, \"type\": \"scatterpolar\"}], \"scatterpolargl\": [{\"marker\": {\"colorbar\": {\"outlinewidth\": 0, \"ticks\": \"\"}}, \"type\": \"scatterpolargl\"}], \"scatterternary\": [{\"marker\": {\"colorbar\": {\"outlinewidth\": 0, \"ticks\": \"\"}}, \"type\": \"scatterternary\"}], \"surface\": [{\"colorbar\": {\"outlinewidth\": 0, \"ticks\": \"\"}, \"colorscale\": [[0.0, \"#0d0887\"], [0.1111111111111111, \"#46039f\"], [0.2222222222222222, \"#7201a8\"], [0.3333333333333333, \"#9c179e\"], [0.4444444444444444, \"#bd3786\"], [0.5555555555555556, \"#d8576b\"], [0.6666666666666666, \"#ed7953\"], [0.7777777777777778, \"#fb9f3a\"], [0.8888888888888888, \"#fdca26\"], [1.0, \"#f0f921\"]], \"type\": \"surface\"}], \"table\": [{\"cells\": {\"fill\": {\"color\": \"#EBF0F8\"}, \"line\": {\"color\": \"white\"}}, \"header\": {\"fill\": {\"color\": \"#C8D4E3\"}, \"line\": {\"color\": \"white\"}}, \"type\": \"table\"}]}, \"layout\": {\"annotationdefaults\": {\"arrowcolor\": \"#2a3f5f\", \"arrowhead\": 0, \"arrowwidth\": 1}, \"coloraxis\": {\"colorbar\": {\"outlinewidth\": 0, \"ticks\": \"\"}}, \"colorscale\": {\"diverging\": [[0, \"#8e0152\"], [0.1, \"#c51b7d\"], [0.2, \"#de77ae\"], [0.3, \"#f1b6da\"], [0.4, \"#fde0ef\"], [0.5, \"#f7f7f7\"], [0.6, \"#e6f5d0\"], [0.7, \"#b8e186\"], [0.8, \"#7fbc41\"], [0.9, \"#4d9221\"], [1, \"#276419\"]], \"sequential\": [[0.0, \"#0d0887\"], [0.1111111111111111, \"#46039f\"], [0.2222222222222222, \"#7201a8\"], [0.3333333333333333, \"#9c179e\"], [0.4444444444444444, \"#bd3786\"], [0.5555555555555556, \"#d8576b\"], [0.6666666666666666, \"#ed7953\"], [0.7777777777777778, \"#fb9f3a\"], [0.8888888888888888, \"#fdca26\"], [1.0, \"#f0f921\"]], \"sequentialminus\": [[0.0, \"#0d0887\"], [0.1111111111111111, \"#46039f\"], [0.2222222222222222, \"#7201a8\"], [0.3333333333333333, \"#9c179e\"], [0.4444444444444444, \"#bd3786\"], [0.5555555555555556, \"#d8576b\"], [0.6666666666666666, \"#ed7953\"], [0.7777777777777778, \"#fb9f3a\"], [0.8888888888888888, \"#fdca26\"], [1.0, \"#f0f921\"]]}, \"colorway\": [\"#636efa\", \"#EF553B\", \"#00cc96\", \"#ab63fa\", \"#FFA15A\", \"#19d3f3\", \"#FF6692\", \"#B6E880\", \"#FF97FF\", \"#FECB52\"], \"font\": {\"color\": \"#2a3f5f\"}, \"geo\": {\"bgcolor\": \"white\", \"lakecolor\": \"white\", \"landcolor\": \"#E5ECF6\", \"showlakes\": true, \"showland\": true, \"subunitcolor\": \"white\"}, \"hoverlabel\": {\"align\": \"left\"}, \"hovermode\": \"closest\", \"mapbox\": {\"style\": \"light\"}, \"paper_bgcolor\": \"white\", \"plot_bgcolor\": \"#E5ECF6\", \"polar\": {\"angularaxis\": {\"gridcolor\": \"white\", \"linecolor\": \"white\", \"ticks\": \"\"}, \"bgcolor\": \"#E5ECF6\", \"radialaxis\": {\"gridcolor\": \"white\", \"linecolor\": \"white\", \"ticks\": \"\"}}, \"scene\": {\"xaxis\": {\"backgroundcolor\": \"#E5ECF6\", \"gridcolor\": \"white\", \"gridwidth\": 2, \"linecolor\": \"white\", \"showbackground\": true, \"ticks\": \"\", \"zerolinecolor\": \"white\"}, \"yaxis\": {\"backgroundcolor\": \"#E5ECF6\", \"gridcolor\": \"white\", \"gridwidth\": 2, \"linecolor\": \"white\", \"showbackground\": true, \"ticks\": \"\", \"zerolinecolor\": \"white\"}, \"zaxis\": {\"backgroundcolor\": \"#E5ECF6\", \"gridcolor\": \"white\", \"gridwidth\": 2, \"linecolor\": \"white\", \"showbackground\": true, \"ticks\": \"\", \"zerolinecolor\": \"white\"}}, \"shapedefaults\": {\"line\": {\"color\": \"#2a3f5f\"}}, \"ternary\": {\"aaxis\": {\"gridcolor\": \"white\", \"linecolor\": \"white\", \"ticks\": \"\"}, \"baxis\": {\"gridcolor\": \"white\", \"linecolor\": \"white\", \"ticks\": \"\"}, \"bgcolor\": \"#E5ECF6\", \"caxis\": {\"gridcolor\": \"white\", \"linecolor\": \"white\", \"ticks\": \"\"}}, \"title\": {\"x\": 0.05}, \"xaxis\": {\"automargin\": true, \"gridcolor\": \"white\", \"linecolor\": \"white\", \"ticks\": \"\", \"title\": {\"standoff\": 15}, \"zerolinecolor\": \"white\", \"zerolinewidth\": 2}, \"yaxis\": {\"automargin\": true, \"gridcolor\": \"white\", \"linecolor\": \"white\", \"ticks\": \"\", \"title\": {\"standoff\": 15}, \"zerolinecolor\": \"white\", \"zerolinewidth\": 2}}}, \"title\": {\"font\": {\"color\": \"#4D5663\"}, \"text\": \"Gender Split of Mobile Money Users\"}, \"xaxis\": {\"gridcolor\": \"#E1E5ED\", \"showgrid\": true, \"tickfont\": {\"color\": \"#4D5663\"}, \"title\": {\"font\": {\"color\": \"#4D5663\"}, \"text\": \"\"}, \"zerolinecolor\": \"#E1E5ED\"}, \"yaxis\": {\"gridcolor\": \"#E1E5ED\", \"showgrid\": true, \"tickfont\": {\"color\": \"#4D5663\"}, \"title\": {\"font\": {\"color\": \"#4D5663\"}, \"text\": \"\"}, \"zerolinecolor\": \"#E1E5ED\"}},\n",
       "                        {\"showLink\": true, \"linkText\": \"Export to plot.ly\", \"plotlyServerURL\": \"https://plot.ly\", \"responsive\": true}\n",
       "                    ).then(function(){\n",
       "                            \n",
       "var gd = document.getElementById('cb184fb1-779e-4ca4-9af2-f9cba67ece88');\n",
       "var x = new MutationObserver(function (mutations, observer) {{\n",
       "        var display = window.getComputedStyle(gd).display;\n",
       "        if (!display || display === 'none') {{\n",
       "            console.log([gd, 'removed!']);\n",
       "            Plotly.purge(gd);\n",
       "            observer.disconnect();\n",
       "        }}\n",
       "}});\n",
       "\n",
       "// Listen for the removal of the full notebook cells\n",
       "var notebookContainer = gd.closest('#notebook-container');\n",
       "if (notebookContainer) {{\n",
       "    x.observe(notebookContainer, {childList: true});\n",
       "}}\n",
       "\n",
       "// Listen for the clearing of the current output cell\n",
       "var outputEl = gd.closest('.output');\n",
       "if (outputEl) {{\n",
       "    x.observe(outputEl, {childList: true});\n",
       "}}\n",
       "\n",
       "                        })\n",
       "                };\n",
       "                });\n",
       "            </script>\n",
       "        </div>"
      ]
     },
     "metadata": {},
     "output_type": "display_data"
    }
   ],
   "source": [
    "mm_gender = data[data[\"mobile_money\"] == 1]\n",
    "\n",
    "(pd.DataFrame(mm_gender.Gender.value_counts()).reset_index()).iplot(kind=\"bar\", x=\"index\", y=\"Gender\", title=\"Gender Split of Mobile Money Users\")"
   ]
  },
  {
   "cell_type": "code",
   "execution_count": 12,
   "metadata": {
    "hideCode": true
   },
   "outputs": [
    {
     "data": {
      "application/vnd.plotly.v1+json": {
       "config": {
        "linkText": "Export to plot.ly",
        "plotlyServerURL": "https://plot.ly",
        "showLink": true
       },
       "data": [
        {
         "marker": {
          "color": "rgba(255, 153, 51, 0.6)",
          "line": {
           "color": "rgba(255, 153, 51, 1.0)",
           "width": 1
          }
         },
         "name": "Gender",
         "orientation": "v",
         "text": "",
         "type": "bar",
         "x": [
          "Female",
          "Male"
         ],
         "y": [
          2001,
          1163
         ]
        }
       ],
       "layout": {
        "legend": {
         "bgcolor": "#F5F6F9",
         "font": {
          "color": "#4D5663"
         }
        },
        "paper_bgcolor": "#F5F6F9",
        "plot_bgcolor": "#F5F6F9",
        "template": {
         "data": {
          "bar": [
           {
            "error_x": {
             "color": "#2a3f5f"
            },
            "error_y": {
             "color": "#2a3f5f"
            },
            "marker": {
             "line": {
              "color": "#E5ECF6",
              "width": 0.5
             }
            },
            "type": "bar"
           }
          ],
          "barpolar": [
           {
            "marker": {
             "line": {
              "color": "#E5ECF6",
              "width": 0.5
             }
            },
            "type": "barpolar"
           }
          ],
          "carpet": [
           {
            "aaxis": {
             "endlinecolor": "#2a3f5f",
             "gridcolor": "white",
             "linecolor": "white",
             "minorgridcolor": "white",
             "startlinecolor": "#2a3f5f"
            },
            "baxis": {
             "endlinecolor": "#2a3f5f",
             "gridcolor": "white",
             "linecolor": "white",
             "minorgridcolor": "white",
             "startlinecolor": "#2a3f5f"
            },
            "type": "carpet"
           }
          ],
          "choropleth": [
           {
            "colorbar": {
             "outlinewidth": 0,
             "ticks": ""
            },
            "type": "choropleth"
           }
          ],
          "contour": [
           {
            "colorbar": {
             "outlinewidth": 0,
             "ticks": ""
            },
            "colorscale": [
             [
              0,
              "#0d0887"
             ],
             [
              0.1111111111111111,
              "#46039f"
             ],
             [
              0.2222222222222222,
              "#7201a8"
             ],
             [
              0.3333333333333333,
              "#9c179e"
             ],
             [
              0.4444444444444444,
              "#bd3786"
             ],
             [
              0.5555555555555556,
              "#d8576b"
             ],
             [
              0.6666666666666666,
              "#ed7953"
             ],
             [
              0.7777777777777778,
              "#fb9f3a"
             ],
             [
              0.8888888888888888,
              "#fdca26"
             ],
             [
              1,
              "#f0f921"
             ]
            ],
            "type": "contour"
           }
          ],
          "contourcarpet": [
           {
            "colorbar": {
             "outlinewidth": 0,
             "ticks": ""
            },
            "type": "contourcarpet"
           }
          ],
          "heatmap": [
           {
            "colorbar": {
             "outlinewidth": 0,
             "ticks": ""
            },
            "colorscale": [
             [
              0,
              "#0d0887"
             ],
             [
              0.1111111111111111,
              "#46039f"
             ],
             [
              0.2222222222222222,
              "#7201a8"
             ],
             [
              0.3333333333333333,
              "#9c179e"
             ],
             [
              0.4444444444444444,
              "#bd3786"
             ],
             [
              0.5555555555555556,
              "#d8576b"
             ],
             [
              0.6666666666666666,
              "#ed7953"
             ],
             [
              0.7777777777777778,
              "#fb9f3a"
             ],
             [
              0.8888888888888888,
              "#fdca26"
             ],
             [
              1,
              "#f0f921"
             ]
            ],
            "type": "heatmap"
           }
          ],
          "heatmapgl": [
           {
            "colorbar": {
             "outlinewidth": 0,
             "ticks": ""
            },
            "colorscale": [
             [
              0,
              "#0d0887"
             ],
             [
              0.1111111111111111,
              "#46039f"
             ],
             [
              0.2222222222222222,
              "#7201a8"
             ],
             [
              0.3333333333333333,
              "#9c179e"
             ],
             [
              0.4444444444444444,
              "#bd3786"
             ],
             [
              0.5555555555555556,
              "#d8576b"
             ],
             [
              0.6666666666666666,
              "#ed7953"
             ],
             [
              0.7777777777777778,
              "#fb9f3a"
             ],
             [
              0.8888888888888888,
              "#fdca26"
             ],
             [
              1,
              "#f0f921"
             ]
            ],
            "type": "heatmapgl"
           }
          ],
          "histogram": [
           {
            "marker": {
             "colorbar": {
              "outlinewidth": 0,
              "ticks": ""
             }
            },
            "type": "histogram"
           }
          ],
          "histogram2d": [
           {
            "colorbar": {
             "outlinewidth": 0,
             "ticks": ""
            },
            "colorscale": [
             [
              0,
              "#0d0887"
             ],
             [
              0.1111111111111111,
              "#46039f"
             ],
             [
              0.2222222222222222,
              "#7201a8"
             ],
             [
              0.3333333333333333,
              "#9c179e"
             ],
             [
              0.4444444444444444,
              "#bd3786"
             ],
             [
              0.5555555555555556,
              "#d8576b"
             ],
             [
              0.6666666666666666,
              "#ed7953"
             ],
             [
              0.7777777777777778,
              "#fb9f3a"
             ],
             [
              0.8888888888888888,
              "#fdca26"
             ],
             [
              1,
              "#f0f921"
             ]
            ],
            "type": "histogram2d"
           }
          ],
          "histogram2dcontour": [
           {
            "colorbar": {
             "outlinewidth": 0,
             "ticks": ""
            },
            "colorscale": [
             [
              0,
              "#0d0887"
             ],
             [
              0.1111111111111111,
              "#46039f"
             ],
             [
              0.2222222222222222,
              "#7201a8"
             ],
             [
              0.3333333333333333,
              "#9c179e"
             ],
             [
              0.4444444444444444,
              "#bd3786"
             ],
             [
              0.5555555555555556,
              "#d8576b"
             ],
             [
              0.6666666666666666,
              "#ed7953"
             ],
             [
              0.7777777777777778,
              "#fb9f3a"
             ],
             [
              0.8888888888888888,
              "#fdca26"
             ],
             [
              1,
              "#f0f921"
             ]
            ],
            "type": "histogram2dcontour"
           }
          ],
          "mesh3d": [
           {
            "colorbar": {
             "outlinewidth": 0,
             "ticks": ""
            },
            "type": "mesh3d"
           }
          ],
          "parcoords": [
           {
            "line": {
             "colorbar": {
              "outlinewidth": 0,
              "ticks": ""
             }
            },
            "type": "parcoords"
           }
          ],
          "pie": [
           {
            "automargin": true,
            "type": "pie"
           }
          ],
          "scatter": [
           {
            "marker": {
             "colorbar": {
              "outlinewidth": 0,
              "ticks": ""
             }
            },
            "type": "scatter"
           }
          ],
          "scatter3d": [
           {
            "line": {
             "colorbar": {
              "outlinewidth": 0,
              "ticks": ""
             }
            },
            "marker": {
             "colorbar": {
              "outlinewidth": 0,
              "ticks": ""
             }
            },
            "type": "scatter3d"
           }
          ],
          "scattercarpet": [
           {
            "marker": {
             "colorbar": {
              "outlinewidth": 0,
              "ticks": ""
             }
            },
            "type": "scattercarpet"
           }
          ],
          "scattergeo": [
           {
            "marker": {
             "colorbar": {
              "outlinewidth": 0,
              "ticks": ""
             }
            },
            "type": "scattergeo"
           }
          ],
          "scattergl": [
           {
            "marker": {
             "colorbar": {
              "outlinewidth": 0,
              "ticks": ""
             }
            },
            "type": "scattergl"
           }
          ],
          "scattermapbox": [
           {
            "marker": {
             "colorbar": {
              "outlinewidth": 0,
              "ticks": ""
             }
            },
            "type": "scattermapbox"
           }
          ],
          "scatterpolar": [
           {
            "marker": {
             "colorbar": {
              "outlinewidth": 0,
              "ticks": ""
             }
            },
            "type": "scatterpolar"
           }
          ],
          "scatterpolargl": [
           {
            "marker": {
             "colorbar": {
              "outlinewidth": 0,
              "ticks": ""
             }
            },
            "type": "scatterpolargl"
           }
          ],
          "scatterternary": [
           {
            "marker": {
             "colorbar": {
              "outlinewidth": 0,
              "ticks": ""
             }
            },
            "type": "scatterternary"
           }
          ],
          "surface": [
           {
            "colorbar": {
             "outlinewidth": 0,
             "ticks": ""
            },
            "colorscale": [
             [
              0,
              "#0d0887"
             ],
             [
              0.1111111111111111,
              "#46039f"
             ],
             [
              0.2222222222222222,
              "#7201a8"
             ],
             [
              0.3333333333333333,
              "#9c179e"
             ],
             [
              0.4444444444444444,
              "#bd3786"
             ],
             [
              0.5555555555555556,
              "#d8576b"
             ],
             [
              0.6666666666666666,
              "#ed7953"
             ],
             [
              0.7777777777777778,
              "#fb9f3a"
             ],
             [
              0.8888888888888888,
              "#fdca26"
             ],
             [
              1,
              "#f0f921"
             ]
            ],
            "type": "surface"
           }
          ],
          "table": [
           {
            "cells": {
             "fill": {
              "color": "#EBF0F8"
             },
             "line": {
              "color": "white"
             }
            },
            "header": {
             "fill": {
              "color": "#C8D4E3"
             },
             "line": {
              "color": "white"
             }
            },
            "type": "table"
           }
          ]
         },
         "layout": {
          "annotationdefaults": {
           "arrowcolor": "#2a3f5f",
           "arrowhead": 0,
           "arrowwidth": 1
          },
          "coloraxis": {
           "colorbar": {
            "outlinewidth": 0,
            "ticks": ""
           }
          },
          "colorscale": {
           "diverging": [
            [
             0,
             "#8e0152"
            ],
            [
             0.1,
             "#c51b7d"
            ],
            [
             0.2,
             "#de77ae"
            ],
            [
             0.3,
             "#f1b6da"
            ],
            [
             0.4,
             "#fde0ef"
            ],
            [
             0.5,
             "#f7f7f7"
            ],
            [
             0.6,
             "#e6f5d0"
            ],
            [
             0.7,
             "#b8e186"
            ],
            [
             0.8,
             "#7fbc41"
            ],
            [
             0.9,
             "#4d9221"
            ],
            [
             1,
             "#276419"
            ]
           ],
           "sequential": [
            [
             0,
             "#0d0887"
            ],
            [
             0.1111111111111111,
             "#46039f"
            ],
            [
             0.2222222222222222,
             "#7201a8"
            ],
            [
             0.3333333333333333,
             "#9c179e"
            ],
            [
             0.4444444444444444,
             "#bd3786"
            ],
            [
             0.5555555555555556,
             "#d8576b"
            ],
            [
             0.6666666666666666,
             "#ed7953"
            ],
            [
             0.7777777777777778,
             "#fb9f3a"
            ],
            [
             0.8888888888888888,
             "#fdca26"
            ],
            [
             1,
             "#f0f921"
            ]
           ],
           "sequentialminus": [
            [
             0,
             "#0d0887"
            ],
            [
             0.1111111111111111,
             "#46039f"
            ],
            [
             0.2222222222222222,
             "#7201a8"
            ],
            [
             0.3333333333333333,
             "#9c179e"
            ],
            [
             0.4444444444444444,
             "#bd3786"
            ],
            [
             0.5555555555555556,
             "#d8576b"
            ],
            [
             0.6666666666666666,
             "#ed7953"
            ],
            [
             0.7777777777777778,
             "#fb9f3a"
            ],
            [
             0.8888888888888888,
             "#fdca26"
            ],
            [
             1,
             "#f0f921"
            ]
           ]
          },
          "colorway": [
           "#636efa",
           "#EF553B",
           "#00cc96",
           "#ab63fa",
           "#FFA15A",
           "#19d3f3",
           "#FF6692",
           "#B6E880",
           "#FF97FF",
           "#FECB52"
          ],
          "font": {
           "color": "#2a3f5f"
          },
          "geo": {
           "bgcolor": "white",
           "lakecolor": "white",
           "landcolor": "#E5ECF6",
           "showlakes": true,
           "showland": true,
           "subunitcolor": "white"
          },
          "hoverlabel": {
           "align": "left"
          },
          "hovermode": "closest",
          "mapbox": {
           "style": "light"
          },
          "paper_bgcolor": "white",
          "plot_bgcolor": "#E5ECF6",
          "polar": {
           "angularaxis": {
            "gridcolor": "white",
            "linecolor": "white",
            "ticks": ""
           },
           "bgcolor": "#E5ECF6",
           "radialaxis": {
            "gridcolor": "white",
            "linecolor": "white",
            "ticks": ""
           }
          },
          "scene": {
           "xaxis": {
            "backgroundcolor": "#E5ECF6",
            "gridcolor": "white",
            "gridwidth": 2,
            "linecolor": "white",
            "showbackground": true,
            "ticks": "",
            "zerolinecolor": "white"
           },
           "yaxis": {
            "backgroundcolor": "#E5ECF6",
            "gridcolor": "white",
            "gridwidth": 2,
            "linecolor": "white",
            "showbackground": true,
            "ticks": "",
            "zerolinecolor": "white"
           },
           "zaxis": {
            "backgroundcolor": "#E5ECF6",
            "gridcolor": "white",
            "gridwidth": 2,
            "linecolor": "white",
            "showbackground": true,
            "ticks": "",
            "zerolinecolor": "white"
           }
          },
          "shapedefaults": {
           "line": {
            "color": "#2a3f5f"
           }
          },
          "ternary": {
           "aaxis": {
            "gridcolor": "white",
            "linecolor": "white",
            "ticks": ""
           },
           "baxis": {
            "gridcolor": "white",
            "linecolor": "white",
            "ticks": ""
           },
           "bgcolor": "#E5ECF6",
           "caxis": {
            "gridcolor": "white",
            "linecolor": "white",
            "ticks": ""
           }
          },
          "title": {
           "x": 0.05
          },
          "xaxis": {
           "automargin": true,
           "gridcolor": "white",
           "linecolor": "white",
           "ticks": "",
           "title": {
            "standoff": 15
           },
           "zerolinecolor": "white",
           "zerolinewidth": 2
          },
          "yaxis": {
           "automargin": true,
           "gridcolor": "white",
           "linecolor": "white",
           "ticks": "",
           "title": {
            "standoff": 15
           },
           "zerolinecolor": "white",
           "zerolinewidth": 2
          }
         }
        },
        "title": {
         "font": {
          "color": "#4D5663"
         },
         "text": "Gender Split of Non-Mobile Mobile Users"
        },
        "xaxis": {
         "gridcolor": "#E1E5ED",
         "showgrid": true,
         "tickfont": {
          "color": "#4D5663"
         },
         "title": {
          "font": {
           "color": "#4D5663"
          },
          "text": ""
         },
         "zerolinecolor": "#E1E5ED"
        },
        "yaxis": {
         "gridcolor": "#E1E5ED",
         "showgrid": true,
         "tickfont": {
          "color": "#4D5663"
         },
         "title": {
          "font": {
           "color": "#4D5663"
          },
          "text": ""
         },
         "zerolinecolor": "#E1E5ED"
        }
       }
      },
      "text/html": [
       "<div>\n",
       "        \n",
       "        \n",
       "            <div id=\"9f08e171-9ae6-4fb2-a88b-deb4a23a72e5\" class=\"plotly-graph-div\" style=\"height:525px; width:100%;\"></div>\n",
       "            <script type=\"text/javascript\">\n",
       "                require([\"plotly\"], function(Plotly) {\n",
       "                    window.PLOTLYENV=window.PLOTLYENV || {};\n",
       "                    window.PLOTLYENV.BASE_URL='https://plot.ly';\n",
       "                    \n",
       "                if (document.getElementById(\"9f08e171-9ae6-4fb2-a88b-deb4a23a72e5\")) {\n",
       "                    Plotly.newPlot(\n",
       "                        '9f08e171-9ae6-4fb2-a88b-deb4a23a72e5',\n",
       "                        [{\"marker\": {\"color\": \"rgba(255, 153, 51, 0.6)\", \"line\": {\"color\": \"rgba(255, 153, 51, 1.0)\", \"width\": 1}}, \"name\": \"Gender\", \"orientation\": \"v\", \"text\": \"\", \"type\": \"bar\", \"x\": [\"Female\", \"Male\"], \"y\": [2001, 1163]}],\n",
       "                        {\"legend\": {\"bgcolor\": \"#F5F6F9\", \"font\": {\"color\": \"#4D5663\"}}, \"paper_bgcolor\": \"#F5F6F9\", \"plot_bgcolor\": \"#F5F6F9\", \"template\": {\"data\": {\"bar\": [{\"error_x\": {\"color\": \"#2a3f5f\"}, \"error_y\": {\"color\": \"#2a3f5f\"}, \"marker\": {\"line\": {\"color\": \"#E5ECF6\", \"width\": 0.5}}, \"type\": \"bar\"}], \"barpolar\": [{\"marker\": {\"line\": {\"color\": \"#E5ECF6\", \"width\": 0.5}}, \"type\": \"barpolar\"}], \"carpet\": [{\"aaxis\": {\"endlinecolor\": \"#2a3f5f\", \"gridcolor\": \"white\", \"linecolor\": \"white\", \"minorgridcolor\": \"white\", \"startlinecolor\": \"#2a3f5f\"}, \"baxis\": {\"endlinecolor\": \"#2a3f5f\", \"gridcolor\": \"white\", \"linecolor\": \"white\", \"minorgridcolor\": \"white\", \"startlinecolor\": \"#2a3f5f\"}, \"type\": \"carpet\"}], \"choropleth\": [{\"colorbar\": {\"outlinewidth\": 0, \"ticks\": \"\"}, \"type\": \"choropleth\"}], \"contour\": [{\"colorbar\": {\"outlinewidth\": 0, \"ticks\": \"\"}, \"colorscale\": [[0.0, \"#0d0887\"], [0.1111111111111111, \"#46039f\"], [0.2222222222222222, \"#7201a8\"], [0.3333333333333333, \"#9c179e\"], [0.4444444444444444, \"#bd3786\"], [0.5555555555555556, \"#d8576b\"], [0.6666666666666666, \"#ed7953\"], [0.7777777777777778, \"#fb9f3a\"], [0.8888888888888888, \"#fdca26\"], [1.0, \"#f0f921\"]], \"type\": \"contour\"}], \"contourcarpet\": [{\"colorbar\": {\"outlinewidth\": 0, \"ticks\": \"\"}, \"type\": \"contourcarpet\"}], \"heatmap\": [{\"colorbar\": {\"outlinewidth\": 0, \"ticks\": \"\"}, \"colorscale\": [[0.0, \"#0d0887\"], [0.1111111111111111, \"#46039f\"], [0.2222222222222222, \"#7201a8\"], [0.3333333333333333, \"#9c179e\"], [0.4444444444444444, \"#bd3786\"], [0.5555555555555556, \"#d8576b\"], [0.6666666666666666, \"#ed7953\"], [0.7777777777777778, \"#fb9f3a\"], [0.8888888888888888, \"#fdca26\"], [1.0, \"#f0f921\"]], \"type\": \"heatmap\"}], \"heatmapgl\": [{\"colorbar\": {\"outlinewidth\": 0, \"ticks\": \"\"}, \"colorscale\": [[0.0, \"#0d0887\"], [0.1111111111111111, \"#46039f\"], [0.2222222222222222, \"#7201a8\"], [0.3333333333333333, \"#9c179e\"], [0.4444444444444444, \"#bd3786\"], [0.5555555555555556, \"#d8576b\"], [0.6666666666666666, \"#ed7953\"], [0.7777777777777778, \"#fb9f3a\"], [0.8888888888888888, \"#fdca26\"], [1.0, \"#f0f921\"]], \"type\": \"heatmapgl\"}], \"histogram\": [{\"marker\": {\"colorbar\": {\"outlinewidth\": 0, \"ticks\": \"\"}}, \"type\": \"histogram\"}], \"histogram2d\": [{\"colorbar\": {\"outlinewidth\": 0, \"ticks\": \"\"}, \"colorscale\": [[0.0, \"#0d0887\"], [0.1111111111111111, \"#46039f\"], [0.2222222222222222, \"#7201a8\"], [0.3333333333333333, \"#9c179e\"], [0.4444444444444444, \"#bd3786\"], [0.5555555555555556, \"#d8576b\"], [0.6666666666666666, \"#ed7953\"], [0.7777777777777778, \"#fb9f3a\"], [0.8888888888888888, \"#fdca26\"], [1.0, \"#f0f921\"]], \"type\": \"histogram2d\"}], \"histogram2dcontour\": [{\"colorbar\": {\"outlinewidth\": 0, \"ticks\": \"\"}, \"colorscale\": [[0.0, \"#0d0887\"], [0.1111111111111111, \"#46039f\"], [0.2222222222222222, \"#7201a8\"], [0.3333333333333333, \"#9c179e\"], [0.4444444444444444, \"#bd3786\"], [0.5555555555555556, \"#d8576b\"], [0.6666666666666666, \"#ed7953\"], [0.7777777777777778, \"#fb9f3a\"], [0.8888888888888888, \"#fdca26\"], [1.0, \"#f0f921\"]], \"type\": \"histogram2dcontour\"}], \"mesh3d\": [{\"colorbar\": {\"outlinewidth\": 0, \"ticks\": \"\"}, \"type\": \"mesh3d\"}], \"parcoords\": [{\"line\": {\"colorbar\": {\"outlinewidth\": 0, \"ticks\": \"\"}}, \"type\": \"parcoords\"}], \"pie\": [{\"automargin\": true, \"type\": \"pie\"}], \"scatter\": [{\"marker\": {\"colorbar\": {\"outlinewidth\": 0, \"ticks\": \"\"}}, \"type\": \"scatter\"}], \"scatter3d\": [{\"line\": {\"colorbar\": {\"outlinewidth\": 0, \"ticks\": \"\"}}, \"marker\": {\"colorbar\": {\"outlinewidth\": 0, \"ticks\": \"\"}}, \"type\": \"scatter3d\"}], \"scattercarpet\": [{\"marker\": {\"colorbar\": {\"outlinewidth\": 0, \"ticks\": \"\"}}, \"type\": \"scattercarpet\"}], \"scattergeo\": [{\"marker\": {\"colorbar\": {\"outlinewidth\": 0, \"ticks\": \"\"}}, \"type\": \"scattergeo\"}], \"scattergl\": [{\"marker\": {\"colorbar\": {\"outlinewidth\": 0, \"ticks\": \"\"}}, \"type\": \"scattergl\"}], \"scattermapbox\": [{\"marker\": {\"colorbar\": {\"outlinewidth\": 0, \"ticks\": \"\"}}, \"type\": \"scattermapbox\"}], \"scatterpolar\": [{\"marker\": {\"colorbar\": {\"outlinewidth\": 0, \"ticks\": \"\"}}, \"type\": \"scatterpolar\"}], \"scatterpolargl\": [{\"marker\": {\"colorbar\": {\"outlinewidth\": 0, \"ticks\": \"\"}}, \"type\": \"scatterpolargl\"}], \"scatterternary\": [{\"marker\": {\"colorbar\": {\"outlinewidth\": 0, \"ticks\": \"\"}}, \"type\": \"scatterternary\"}], \"surface\": [{\"colorbar\": {\"outlinewidth\": 0, \"ticks\": \"\"}, \"colorscale\": [[0.0, \"#0d0887\"], [0.1111111111111111, \"#46039f\"], [0.2222222222222222, \"#7201a8\"], [0.3333333333333333, \"#9c179e\"], [0.4444444444444444, \"#bd3786\"], [0.5555555555555556, \"#d8576b\"], [0.6666666666666666, \"#ed7953\"], [0.7777777777777778, \"#fb9f3a\"], [0.8888888888888888, \"#fdca26\"], [1.0, \"#f0f921\"]], \"type\": \"surface\"}], \"table\": [{\"cells\": {\"fill\": {\"color\": \"#EBF0F8\"}, \"line\": {\"color\": \"white\"}}, \"header\": {\"fill\": {\"color\": \"#C8D4E3\"}, \"line\": {\"color\": \"white\"}}, \"type\": \"table\"}]}, \"layout\": {\"annotationdefaults\": {\"arrowcolor\": \"#2a3f5f\", \"arrowhead\": 0, \"arrowwidth\": 1}, \"coloraxis\": {\"colorbar\": {\"outlinewidth\": 0, \"ticks\": \"\"}}, \"colorscale\": {\"diverging\": [[0, \"#8e0152\"], [0.1, \"#c51b7d\"], [0.2, \"#de77ae\"], [0.3, \"#f1b6da\"], [0.4, \"#fde0ef\"], [0.5, \"#f7f7f7\"], [0.6, \"#e6f5d0\"], [0.7, \"#b8e186\"], [0.8, \"#7fbc41\"], [0.9, \"#4d9221\"], [1, \"#276419\"]], \"sequential\": [[0.0, \"#0d0887\"], [0.1111111111111111, \"#46039f\"], [0.2222222222222222, \"#7201a8\"], [0.3333333333333333, \"#9c179e\"], [0.4444444444444444, \"#bd3786\"], [0.5555555555555556, \"#d8576b\"], [0.6666666666666666, \"#ed7953\"], [0.7777777777777778, \"#fb9f3a\"], [0.8888888888888888, \"#fdca26\"], [1.0, \"#f0f921\"]], \"sequentialminus\": [[0.0, \"#0d0887\"], [0.1111111111111111, \"#46039f\"], [0.2222222222222222, \"#7201a8\"], [0.3333333333333333, \"#9c179e\"], [0.4444444444444444, \"#bd3786\"], [0.5555555555555556, \"#d8576b\"], [0.6666666666666666, \"#ed7953\"], [0.7777777777777778, \"#fb9f3a\"], [0.8888888888888888, \"#fdca26\"], [1.0, \"#f0f921\"]]}, \"colorway\": [\"#636efa\", \"#EF553B\", \"#00cc96\", \"#ab63fa\", \"#FFA15A\", \"#19d3f3\", \"#FF6692\", \"#B6E880\", \"#FF97FF\", \"#FECB52\"], \"font\": {\"color\": \"#2a3f5f\"}, \"geo\": {\"bgcolor\": \"white\", \"lakecolor\": \"white\", \"landcolor\": \"#E5ECF6\", \"showlakes\": true, \"showland\": true, \"subunitcolor\": \"white\"}, \"hoverlabel\": {\"align\": \"left\"}, \"hovermode\": \"closest\", \"mapbox\": {\"style\": \"light\"}, \"paper_bgcolor\": \"white\", \"plot_bgcolor\": \"#E5ECF6\", \"polar\": {\"angularaxis\": {\"gridcolor\": \"white\", \"linecolor\": \"white\", \"ticks\": \"\"}, \"bgcolor\": \"#E5ECF6\", \"radialaxis\": {\"gridcolor\": \"white\", \"linecolor\": \"white\", \"ticks\": \"\"}}, \"scene\": {\"xaxis\": {\"backgroundcolor\": \"#E5ECF6\", \"gridcolor\": \"white\", \"gridwidth\": 2, \"linecolor\": \"white\", \"showbackground\": true, \"ticks\": \"\", \"zerolinecolor\": \"white\"}, \"yaxis\": {\"backgroundcolor\": \"#E5ECF6\", \"gridcolor\": \"white\", \"gridwidth\": 2, \"linecolor\": \"white\", \"showbackground\": true, \"ticks\": \"\", \"zerolinecolor\": \"white\"}, \"zaxis\": {\"backgroundcolor\": \"#E5ECF6\", \"gridcolor\": \"white\", \"gridwidth\": 2, \"linecolor\": \"white\", \"showbackground\": true, \"ticks\": \"\", \"zerolinecolor\": \"white\"}}, \"shapedefaults\": {\"line\": {\"color\": \"#2a3f5f\"}}, \"ternary\": {\"aaxis\": {\"gridcolor\": \"white\", \"linecolor\": \"white\", \"ticks\": \"\"}, \"baxis\": {\"gridcolor\": \"white\", \"linecolor\": \"white\", \"ticks\": \"\"}, \"bgcolor\": \"#E5ECF6\", \"caxis\": {\"gridcolor\": \"white\", \"linecolor\": \"white\", \"ticks\": \"\"}}, \"title\": {\"x\": 0.05}, \"xaxis\": {\"automargin\": true, \"gridcolor\": \"white\", \"linecolor\": \"white\", \"ticks\": \"\", \"title\": {\"standoff\": 15}, \"zerolinecolor\": \"white\", \"zerolinewidth\": 2}, \"yaxis\": {\"automargin\": true, \"gridcolor\": \"white\", \"linecolor\": \"white\", \"ticks\": \"\", \"title\": {\"standoff\": 15}, \"zerolinecolor\": \"white\", \"zerolinewidth\": 2}}}, \"title\": {\"font\": {\"color\": \"#4D5663\"}, \"text\": \"Gender Split of Non-Mobile Mobile Users\"}, \"xaxis\": {\"gridcolor\": \"#E1E5ED\", \"showgrid\": true, \"tickfont\": {\"color\": \"#4D5663\"}, \"title\": {\"font\": {\"color\": \"#4D5663\"}, \"text\": \"\"}, \"zerolinecolor\": \"#E1E5ED\"}, \"yaxis\": {\"gridcolor\": \"#E1E5ED\", \"showgrid\": true, \"tickfont\": {\"color\": \"#4D5663\"}, \"title\": {\"font\": {\"color\": \"#4D5663\"}, \"text\": \"\"}, \"zerolinecolor\": \"#E1E5ED\"}},\n",
       "                        {\"showLink\": true, \"linkText\": \"Export to plot.ly\", \"plotlyServerURL\": \"https://plot.ly\", \"responsive\": true}\n",
       "                    ).then(function(){\n",
       "                            \n",
       "var gd = document.getElementById('9f08e171-9ae6-4fb2-a88b-deb4a23a72e5');\n",
       "var x = new MutationObserver(function (mutations, observer) {{\n",
       "        var display = window.getComputedStyle(gd).display;\n",
       "        if (!display || display === 'none') {{\n",
       "            console.log([gd, 'removed!']);\n",
       "            Plotly.purge(gd);\n",
       "            observer.disconnect();\n",
       "        }}\n",
       "}});\n",
       "\n",
       "// Listen for the removal of the full notebook cells\n",
       "var notebookContainer = gd.closest('#notebook-container');\n",
       "if (notebookContainer) {{\n",
       "    x.observe(notebookContainer, {childList: true});\n",
       "}}\n",
       "\n",
       "// Listen for the clearing of the current output cell\n",
       "var outputEl = gd.closest('.output');\n",
       "if (outputEl) {{\n",
       "    x.observe(outputEl, {childList: true});\n",
       "}}\n",
       "\n",
       "                        })\n",
       "                };\n",
       "                });\n",
       "            </script>\n",
       "        </div>"
      ]
     },
     "metadata": {},
     "output_type": "display_data"
    }
   ],
   "source": [
    "mm_gender = data[data[\"mobile_money\"] == 0]\n",
    "\n",
    "(pd.DataFrame(mm_gender.Gender.value_counts()).reset_index()).iplot(kind=\"bar\", x=\"index\", y=\"Gender\", title=\"Gender Split of Non-Mobile Mobile Users\")"
   ]
  },
  {
   "cell_type": "markdown",
   "metadata": {},
   "source": [
    "#### &emsp;&emsp;&emsp;&emsp;&emsp;&emsp;&emsp;&emsp;&emsp;&emsp;&emsp;&emsp;&emsp;&emsp;&emsp;&emsp;&emsp;&emsp;&emsp;&emsp;&emsp;&emsp;&emsp;&emsp;&emsp;&emsp;&emsp;&emsp;Total Marital Status"
   ]
  },
  {
   "cell_type": "code",
   "execution_count": 13,
   "metadata": {
    "hideCode": true
   },
   "outputs": [
    {
     "data": {
      "application/vnd.plotly.v1+json": {
       "config": {
        "linkText": "Export to plot.ly",
        "plotlyServerURL": "https://plot.ly",
        "showLink": true
       },
       "data": [
        {
         "marker": {
          "color": "rgba(255, 153, 51, 0.6)",
          "line": {
           "color": "rgba(255, 153, 51, 1.0)",
           "width": 1
          }
         },
         "name": "Marital Status",
         "orientation": "v",
         "text": "",
         "type": "bar",
         "x": [
          "Married",
          "Single/Never Married",
          "Divorced",
          "Widowed"
         ],
         "y": [
          4548,
          1181,
          687,
          678
         ]
        }
       ],
       "layout": {
        "legend": {
         "bgcolor": "#F5F6F9",
         "font": {
          "color": "#4D5663"
         }
        },
        "paper_bgcolor": "#F5F6F9",
        "plot_bgcolor": "#F5F6F9",
        "template": {
         "data": {
          "bar": [
           {
            "error_x": {
             "color": "#2a3f5f"
            },
            "error_y": {
             "color": "#2a3f5f"
            },
            "marker": {
             "line": {
              "color": "#E5ECF6",
              "width": 0.5
             }
            },
            "type": "bar"
           }
          ],
          "barpolar": [
           {
            "marker": {
             "line": {
              "color": "#E5ECF6",
              "width": 0.5
             }
            },
            "type": "barpolar"
           }
          ],
          "carpet": [
           {
            "aaxis": {
             "endlinecolor": "#2a3f5f",
             "gridcolor": "white",
             "linecolor": "white",
             "minorgridcolor": "white",
             "startlinecolor": "#2a3f5f"
            },
            "baxis": {
             "endlinecolor": "#2a3f5f",
             "gridcolor": "white",
             "linecolor": "white",
             "minorgridcolor": "white",
             "startlinecolor": "#2a3f5f"
            },
            "type": "carpet"
           }
          ],
          "choropleth": [
           {
            "colorbar": {
             "outlinewidth": 0,
             "ticks": ""
            },
            "type": "choropleth"
           }
          ],
          "contour": [
           {
            "colorbar": {
             "outlinewidth": 0,
             "ticks": ""
            },
            "colorscale": [
             [
              0,
              "#0d0887"
             ],
             [
              0.1111111111111111,
              "#46039f"
             ],
             [
              0.2222222222222222,
              "#7201a8"
             ],
             [
              0.3333333333333333,
              "#9c179e"
             ],
             [
              0.4444444444444444,
              "#bd3786"
             ],
             [
              0.5555555555555556,
              "#d8576b"
             ],
             [
              0.6666666666666666,
              "#ed7953"
             ],
             [
              0.7777777777777778,
              "#fb9f3a"
             ],
             [
              0.8888888888888888,
              "#fdca26"
             ],
             [
              1,
              "#f0f921"
             ]
            ],
            "type": "contour"
           }
          ],
          "contourcarpet": [
           {
            "colorbar": {
             "outlinewidth": 0,
             "ticks": ""
            },
            "type": "contourcarpet"
           }
          ],
          "heatmap": [
           {
            "colorbar": {
             "outlinewidth": 0,
             "ticks": ""
            },
            "colorscale": [
             [
              0,
              "#0d0887"
             ],
             [
              0.1111111111111111,
              "#46039f"
             ],
             [
              0.2222222222222222,
              "#7201a8"
             ],
             [
              0.3333333333333333,
              "#9c179e"
             ],
             [
              0.4444444444444444,
              "#bd3786"
             ],
             [
              0.5555555555555556,
              "#d8576b"
             ],
             [
              0.6666666666666666,
              "#ed7953"
             ],
             [
              0.7777777777777778,
              "#fb9f3a"
             ],
             [
              0.8888888888888888,
              "#fdca26"
             ],
             [
              1,
              "#f0f921"
             ]
            ],
            "type": "heatmap"
           }
          ],
          "heatmapgl": [
           {
            "colorbar": {
             "outlinewidth": 0,
             "ticks": ""
            },
            "colorscale": [
             [
              0,
              "#0d0887"
             ],
             [
              0.1111111111111111,
              "#46039f"
             ],
             [
              0.2222222222222222,
              "#7201a8"
             ],
             [
              0.3333333333333333,
              "#9c179e"
             ],
             [
              0.4444444444444444,
              "#bd3786"
             ],
             [
              0.5555555555555556,
              "#d8576b"
             ],
             [
              0.6666666666666666,
              "#ed7953"
             ],
             [
              0.7777777777777778,
              "#fb9f3a"
             ],
             [
              0.8888888888888888,
              "#fdca26"
             ],
             [
              1,
              "#f0f921"
             ]
            ],
            "type": "heatmapgl"
           }
          ],
          "histogram": [
           {
            "marker": {
             "colorbar": {
              "outlinewidth": 0,
              "ticks": ""
             }
            },
            "type": "histogram"
           }
          ],
          "histogram2d": [
           {
            "colorbar": {
             "outlinewidth": 0,
             "ticks": ""
            },
            "colorscale": [
             [
              0,
              "#0d0887"
             ],
             [
              0.1111111111111111,
              "#46039f"
             ],
             [
              0.2222222222222222,
              "#7201a8"
             ],
             [
              0.3333333333333333,
              "#9c179e"
             ],
             [
              0.4444444444444444,
              "#bd3786"
             ],
             [
              0.5555555555555556,
              "#d8576b"
             ],
             [
              0.6666666666666666,
              "#ed7953"
             ],
             [
              0.7777777777777778,
              "#fb9f3a"
             ],
             [
              0.8888888888888888,
              "#fdca26"
             ],
             [
              1,
              "#f0f921"
             ]
            ],
            "type": "histogram2d"
           }
          ],
          "histogram2dcontour": [
           {
            "colorbar": {
             "outlinewidth": 0,
             "ticks": ""
            },
            "colorscale": [
             [
              0,
              "#0d0887"
             ],
             [
              0.1111111111111111,
              "#46039f"
             ],
             [
              0.2222222222222222,
              "#7201a8"
             ],
             [
              0.3333333333333333,
              "#9c179e"
             ],
             [
              0.4444444444444444,
              "#bd3786"
             ],
             [
              0.5555555555555556,
              "#d8576b"
             ],
             [
              0.6666666666666666,
              "#ed7953"
             ],
             [
              0.7777777777777778,
              "#fb9f3a"
             ],
             [
              0.8888888888888888,
              "#fdca26"
             ],
             [
              1,
              "#f0f921"
             ]
            ],
            "type": "histogram2dcontour"
           }
          ],
          "mesh3d": [
           {
            "colorbar": {
             "outlinewidth": 0,
             "ticks": ""
            },
            "type": "mesh3d"
           }
          ],
          "parcoords": [
           {
            "line": {
             "colorbar": {
              "outlinewidth": 0,
              "ticks": ""
             }
            },
            "type": "parcoords"
           }
          ],
          "pie": [
           {
            "automargin": true,
            "type": "pie"
           }
          ],
          "scatter": [
           {
            "marker": {
             "colorbar": {
              "outlinewidth": 0,
              "ticks": ""
             }
            },
            "type": "scatter"
           }
          ],
          "scatter3d": [
           {
            "line": {
             "colorbar": {
              "outlinewidth": 0,
              "ticks": ""
             }
            },
            "marker": {
             "colorbar": {
              "outlinewidth": 0,
              "ticks": ""
             }
            },
            "type": "scatter3d"
           }
          ],
          "scattercarpet": [
           {
            "marker": {
             "colorbar": {
              "outlinewidth": 0,
              "ticks": ""
             }
            },
            "type": "scattercarpet"
           }
          ],
          "scattergeo": [
           {
            "marker": {
             "colorbar": {
              "outlinewidth": 0,
              "ticks": ""
             }
            },
            "type": "scattergeo"
           }
          ],
          "scattergl": [
           {
            "marker": {
             "colorbar": {
              "outlinewidth": 0,
              "ticks": ""
             }
            },
            "type": "scattergl"
           }
          ],
          "scattermapbox": [
           {
            "marker": {
             "colorbar": {
              "outlinewidth": 0,
              "ticks": ""
             }
            },
            "type": "scattermapbox"
           }
          ],
          "scatterpolar": [
           {
            "marker": {
             "colorbar": {
              "outlinewidth": 0,
              "ticks": ""
             }
            },
            "type": "scatterpolar"
           }
          ],
          "scatterpolargl": [
           {
            "marker": {
             "colorbar": {
              "outlinewidth": 0,
              "ticks": ""
             }
            },
            "type": "scatterpolargl"
           }
          ],
          "scatterternary": [
           {
            "marker": {
             "colorbar": {
              "outlinewidth": 0,
              "ticks": ""
             }
            },
            "type": "scatterternary"
           }
          ],
          "surface": [
           {
            "colorbar": {
             "outlinewidth": 0,
             "ticks": ""
            },
            "colorscale": [
             [
              0,
              "#0d0887"
             ],
             [
              0.1111111111111111,
              "#46039f"
             ],
             [
              0.2222222222222222,
              "#7201a8"
             ],
             [
              0.3333333333333333,
              "#9c179e"
             ],
             [
              0.4444444444444444,
              "#bd3786"
             ],
             [
              0.5555555555555556,
              "#d8576b"
             ],
             [
              0.6666666666666666,
              "#ed7953"
             ],
             [
              0.7777777777777778,
              "#fb9f3a"
             ],
             [
              0.8888888888888888,
              "#fdca26"
             ],
             [
              1,
              "#f0f921"
             ]
            ],
            "type": "surface"
           }
          ],
          "table": [
           {
            "cells": {
             "fill": {
              "color": "#EBF0F8"
             },
             "line": {
              "color": "white"
             }
            },
            "header": {
             "fill": {
              "color": "#C8D4E3"
             },
             "line": {
              "color": "white"
             }
            },
            "type": "table"
           }
          ]
         },
         "layout": {
          "annotationdefaults": {
           "arrowcolor": "#2a3f5f",
           "arrowhead": 0,
           "arrowwidth": 1
          },
          "coloraxis": {
           "colorbar": {
            "outlinewidth": 0,
            "ticks": ""
           }
          },
          "colorscale": {
           "diverging": [
            [
             0,
             "#8e0152"
            ],
            [
             0.1,
             "#c51b7d"
            ],
            [
             0.2,
             "#de77ae"
            ],
            [
             0.3,
             "#f1b6da"
            ],
            [
             0.4,
             "#fde0ef"
            ],
            [
             0.5,
             "#f7f7f7"
            ],
            [
             0.6,
             "#e6f5d0"
            ],
            [
             0.7,
             "#b8e186"
            ],
            [
             0.8,
             "#7fbc41"
            ],
            [
             0.9,
             "#4d9221"
            ],
            [
             1,
             "#276419"
            ]
           ],
           "sequential": [
            [
             0,
             "#0d0887"
            ],
            [
             0.1111111111111111,
             "#46039f"
            ],
            [
             0.2222222222222222,
             "#7201a8"
            ],
            [
             0.3333333333333333,
             "#9c179e"
            ],
            [
             0.4444444444444444,
             "#bd3786"
            ],
            [
             0.5555555555555556,
             "#d8576b"
            ],
            [
             0.6666666666666666,
             "#ed7953"
            ],
            [
             0.7777777777777778,
             "#fb9f3a"
            ],
            [
             0.8888888888888888,
             "#fdca26"
            ],
            [
             1,
             "#f0f921"
            ]
           ],
           "sequentialminus": [
            [
             0,
             "#0d0887"
            ],
            [
             0.1111111111111111,
             "#46039f"
            ],
            [
             0.2222222222222222,
             "#7201a8"
            ],
            [
             0.3333333333333333,
             "#9c179e"
            ],
            [
             0.4444444444444444,
             "#bd3786"
            ],
            [
             0.5555555555555556,
             "#d8576b"
            ],
            [
             0.6666666666666666,
             "#ed7953"
            ],
            [
             0.7777777777777778,
             "#fb9f3a"
            ],
            [
             0.8888888888888888,
             "#fdca26"
            ],
            [
             1,
             "#f0f921"
            ]
           ]
          },
          "colorway": [
           "#636efa",
           "#EF553B",
           "#00cc96",
           "#ab63fa",
           "#FFA15A",
           "#19d3f3",
           "#FF6692",
           "#B6E880",
           "#FF97FF",
           "#FECB52"
          ],
          "font": {
           "color": "#2a3f5f"
          },
          "geo": {
           "bgcolor": "white",
           "lakecolor": "white",
           "landcolor": "#E5ECF6",
           "showlakes": true,
           "showland": true,
           "subunitcolor": "white"
          },
          "hoverlabel": {
           "align": "left"
          },
          "hovermode": "closest",
          "mapbox": {
           "style": "light"
          },
          "paper_bgcolor": "white",
          "plot_bgcolor": "#E5ECF6",
          "polar": {
           "angularaxis": {
            "gridcolor": "white",
            "linecolor": "white",
            "ticks": ""
           },
           "bgcolor": "#E5ECF6",
           "radialaxis": {
            "gridcolor": "white",
            "linecolor": "white",
            "ticks": ""
           }
          },
          "scene": {
           "xaxis": {
            "backgroundcolor": "#E5ECF6",
            "gridcolor": "white",
            "gridwidth": 2,
            "linecolor": "white",
            "showbackground": true,
            "ticks": "",
            "zerolinecolor": "white"
           },
           "yaxis": {
            "backgroundcolor": "#E5ECF6",
            "gridcolor": "white",
            "gridwidth": 2,
            "linecolor": "white",
            "showbackground": true,
            "ticks": "",
            "zerolinecolor": "white"
           },
           "zaxis": {
            "backgroundcolor": "#E5ECF6",
            "gridcolor": "white",
            "gridwidth": 2,
            "linecolor": "white",
            "showbackground": true,
            "ticks": "",
            "zerolinecolor": "white"
           }
          },
          "shapedefaults": {
           "line": {
            "color": "#2a3f5f"
           }
          },
          "ternary": {
           "aaxis": {
            "gridcolor": "white",
            "linecolor": "white",
            "ticks": ""
           },
           "baxis": {
            "gridcolor": "white",
            "linecolor": "white",
            "ticks": ""
           },
           "bgcolor": "#E5ECF6",
           "caxis": {
            "gridcolor": "white",
            "linecolor": "white",
            "ticks": ""
           }
          },
          "title": {
           "x": 0.05
          },
          "xaxis": {
           "automargin": true,
           "gridcolor": "white",
           "linecolor": "white",
           "ticks": "",
           "title": {
            "standoff": 15
           },
           "zerolinecolor": "white",
           "zerolinewidth": 2
          },
          "yaxis": {
           "automargin": true,
           "gridcolor": "white",
           "linecolor": "white",
           "ticks": "",
           "title": {
            "standoff": 15
           },
           "zerolinecolor": "white",
           "zerolinewidth": 2
          }
         }
        },
        "title": {
         "font": {
          "color": "#4D5663"
         },
         "text": "Total Marital Status"
        },
        "xaxis": {
         "gridcolor": "#E1E5ED",
         "showgrid": true,
         "tickfont": {
          "color": "#4D5663"
         },
         "title": {
          "font": {
           "color": "#4D5663"
          },
          "text": ""
         },
         "zerolinecolor": "#E1E5ED"
        },
        "yaxis": {
         "gridcolor": "#E1E5ED",
         "showgrid": true,
         "tickfont": {
          "color": "#4D5663"
         },
         "title": {
          "font": {
           "color": "#4D5663"
          },
          "text": ""
         },
         "zerolinecolor": "#E1E5ED"
        }
       }
      },
      "text/html": [
       "<div>\n",
       "        \n",
       "        \n",
       "            <div id=\"7fb08a0b-fd09-4933-8929-ead9e5c3a6ed\" class=\"plotly-graph-div\" style=\"height:525px; width:100%;\"></div>\n",
       "            <script type=\"text/javascript\">\n",
       "                require([\"plotly\"], function(Plotly) {\n",
       "                    window.PLOTLYENV=window.PLOTLYENV || {};\n",
       "                    window.PLOTLYENV.BASE_URL='https://plot.ly';\n",
       "                    \n",
       "                if (document.getElementById(\"7fb08a0b-fd09-4933-8929-ead9e5c3a6ed\")) {\n",
       "                    Plotly.newPlot(\n",
       "                        '7fb08a0b-fd09-4933-8929-ead9e5c3a6ed',\n",
       "                        [{\"marker\": {\"color\": \"rgba(255, 153, 51, 0.6)\", \"line\": {\"color\": \"rgba(255, 153, 51, 1.0)\", \"width\": 1}}, \"name\": \"Marital Status\", \"orientation\": \"v\", \"text\": \"\", \"type\": \"bar\", \"x\": [\"Married\", \"Single/Never Married\", \"Divorced\", \"Widowed\"], \"y\": [4548, 1181, 687, 678]}],\n",
       "                        {\"legend\": {\"bgcolor\": \"#F5F6F9\", \"font\": {\"color\": \"#4D5663\"}}, \"paper_bgcolor\": \"#F5F6F9\", \"plot_bgcolor\": \"#F5F6F9\", \"template\": {\"data\": {\"bar\": [{\"error_x\": {\"color\": \"#2a3f5f\"}, \"error_y\": {\"color\": \"#2a3f5f\"}, \"marker\": {\"line\": {\"color\": \"#E5ECF6\", \"width\": 0.5}}, \"type\": \"bar\"}], \"barpolar\": [{\"marker\": {\"line\": {\"color\": \"#E5ECF6\", \"width\": 0.5}}, \"type\": \"barpolar\"}], \"carpet\": [{\"aaxis\": {\"endlinecolor\": \"#2a3f5f\", \"gridcolor\": \"white\", \"linecolor\": \"white\", \"minorgridcolor\": \"white\", \"startlinecolor\": \"#2a3f5f\"}, \"baxis\": {\"endlinecolor\": \"#2a3f5f\", \"gridcolor\": \"white\", \"linecolor\": \"white\", \"minorgridcolor\": \"white\", \"startlinecolor\": \"#2a3f5f\"}, \"type\": \"carpet\"}], \"choropleth\": [{\"colorbar\": {\"outlinewidth\": 0, \"ticks\": \"\"}, \"type\": \"choropleth\"}], \"contour\": [{\"colorbar\": {\"outlinewidth\": 0, \"ticks\": \"\"}, \"colorscale\": [[0.0, \"#0d0887\"], [0.1111111111111111, \"#46039f\"], [0.2222222222222222, \"#7201a8\"], [0.3333333333333333, \"#9c179e\"], [0.4444444444444444, \"#bd3786\"], [0.5555555555555556, \"#d8576b\"], [0.6666666666666666, \"#ed7953\"], [0.7777777777777778, \"#fb9f3a\"], [0.8888888888888888, \"#fdca26\"], [1.0, \"#f0f921\"]], \"type\": \"contour\"}], \"contourcarpet\": [{\"colorbar\": {\"outlinewidth\": 0, \"ticks\": \"\"}, \"type\": \"contourcarpet\"}], \"heatmap\": [{\"colorbar\": {\"outlinewidth\": 0, \"ticks\": \"\"}, \"colorscale\": [[0.0, \"#0d0887\"], [0.1111111111111111, \"#46039f\"], [0.2222222222222222, \"#7201a8\"], [0.3333333333333333, \"#9c179e\"], [0.4444444444444444, \"#bd3786\"], [0.5555555555555556, \"#d8576b\"], [0.6666666666666666, \"#ed7953\"], [0.7777777777777778, \"#fb9f3a\"], [0.8888888888888888, \"#fdca26\"], [1.0, \"#f0f921\"]], \"type\": \"heatmap\"}], \"heatmapgl\": [{\"colorbar\": {\"outlinewidth\": 0, \"ticks\": \"\"}, \"colorscale\": [[0.0, \"#0d0887\"], [0.1111111111111111, \"#46039f\"], [0.2222222222222222, \"#7201a8\"], [0.3333333333333333, \"#9c179e\"], [0.4444444444444444, \"#bd3786\"], [0.5555555555555556, \"#d8576b\"], [0.6666666666666666, \"#ed7953\"], [0.7777777777777778, \"#fb9f3a\"], [0.8888888888888888, \"#fdca26\"], [1.0, \"#f0f921\"]], \"type\": \"heatmapgl\"}], \"histogram\": [{\"marker\": {\"colorbar\": {\"outlinewidth\": 0, \"ticks\": \"\"}}, \"type\": \"histogram\"}], \"histogram2d\": [{\"colorbar\": {\"outlinewidth\": 0, \"ticks\": \"\"}, \"colorscale\": [[0.0, \"#0d0887\"], [0.1111111111111111, \"#46039f\"], [0.2222222222222222, \"#7201a8\"], [0.3333333333333333, \"#9c179e\"], [0.4444444444444444, \"#bd3786\"], [0.5555555555555556, \"#d8576b\"], [0.6666666666666666, \"#ed7953\"], [0.7777777777777778, \"#fb9f3a\"], [0.8888888888888888, \"#fdca26\"], [1.0, \"#f0f921\"]], \"type\": \"histogram2d\"}], \"histogram2dcontour\": [{\"colorbar\": {\"outlinewidth\": 0, \"ticks\": \"\"}, \"colorscale\": [[0.0, \"#0d0887\"], [0.1111111111111111, \"#46039f\"], [0.2222222222222222, \"#7201a8\"], [0.3333333333333333, \"#9c179e\"], [0.4444444444444444, \"#bd3786\"], [0.5555555555555556, \"#d8576b\"], [0.6666666666666666, \"#ed7953\"], [0.7777777777777778, \"#fb9f3a\"], [0.8888888888888888, \"#fdca26\"], [1.0, \"#f0f921\"]], \"type\": \"histogram2dcontour\"}], \"mesh3d\": [{\"colorbar\": {\"outlinewidth\": 0, \"ticks\": \"\"}, \"type\": \"mesh3d\"}], \"parcoords\": [{\"line\": {\"colorbar\": {\"outlinewidth\": 0, \"ticks\": \"\"}}, \"type\": \"parcoords\"}], \"pie\": [{\"automargin\": true, \"type\": \"pie\"}], \"scatter\": [{\"marker\": {\"colorbar\": {\"outlinewidth\": 0, \"ticks\": \"\"}}, \"type\": \"scatter\"}], \"scatter3d\": [{\"line\": {\"colorbar\": {\"outlinewidth\": 0, \"ticks\": \"\"}}, \"marker\": {\"colorbar\": {\"outlinewidth\": 0, \"ticks\": \"\"}}, \"type\": \"scatter3d\"}], \"scattercarpet\": [{\"marker\": {\"colorbar\": {\"outlinewidth\": 0, \"ticks\": \"\"}}, \"type\": \"scattercarpet\"}], \"scattergeo\": [{\"marker\": {\"colorbar\": {\"outlinewidth\": 0, \"ticks\": \"\"}}, \"type\": \"scattergeo\"}], \"scattergl\": [{\"marker\": {\"colorbar\": {\"outlinewidth\": 0, \"ticks\": \"\"}}, \"type\": \"scattergl\"}], \"scattermapbox\": [{\"marker\": {\"colorbar\": {\"outlinewidth\": 0, \"ticks\": \"\"}}, \"type\": \"scattermapbox\"}], \"scatterpolar\": [{\"marker\": {\"colorbar\": {\"outlinewidth\": 0, \"ticks\": \"\"}}, \"type\": \"scatterpolar\"}], \"scatterpolargl\": [{\"marker\": {\"colorbar\": {\"outlinewidth\": 0, \"ticks\": \"\"}}, \"type\": \"scatterpolargl\"}], \"scatterternary\": [{\"marker\": {\"colorbar\": {\"outlinewidth\": 0, \"ticks\": \"\"}}, \"type\": \"scatterternary\"}], \"surface\": [{\"colorbar\": {\"outlinewidth\": 0, \"ticks\": \"\"}, \"colorscale\": [[0.0, \"#0d0887\"], [0.1111111111111111, \"#46039f\"], [0.2222222222222222, \"#7201a8\"], [0.3333333333333333, \"#9c179e\"], [0.4444444444444444, \"#bd3786\"], [0.5555555555555556, \"#d8576b\"], [0.6666666666666666, \"#ed7953\"], [0.7777777777777778, \"#fb9f3a\"], [0.8888888888888888, \"#fdca26\"], [1.0, \"#f0f921\"]], \"type\": \"surface\"}], \"table\": [{\"cells\": {\"fill\": {\"color\": \"#EBF0F8\"}, \"line\": {\"color\": \"white\"}}, \"header\": {\"fill\": {\"color\": \"#C8D4E3\"}, \"line\": {\"color\": \"white\"}}, \"type\": \"table\"}]}, \"layout\": {\"annotationdefaults\": {\"arrowcolor\": \"#2a3f5f\", \"arrowhead\": 0, \"arrowwidth\": 1}, \"coloraxis\": {\"colorbar\": {\"outlinewidth\": 0, \"ticks\": \"\"}}, \"colorscale\": {\"diverging\": [[0, \"#8e0152\"], [0.1, \"#c51b7d\"], [0.2, \"#de77ae\"], [0.3, \"#f1b6da\"], [0.4, \"#fde0ef\"], [0.5, \"#f7f7f7\"], [0.6, \"#e6f5d0\"], [0.7, \"#b8e186\"], [0.8, \"#7fbc41\"], [0.9, \"#4d9221\"], [1, \"#276419\"]], \"sequential\": [[0.0, \"#0d0887\"], [0.1111111111111111, \"#46039f\"], [0.2222222222222222, \"#7201a8\"], [0.3333333333333333, \"#9c179e\"], [0.4444444444444444, \"#bd3786\"], [0.5555555555555556, \"#d8576b\"], [0.6666666666666666, \"#ed7953\"], [0.7777777777777778, \"#fb9f3a\"], [0.8888888888888888, \"#fdca26\"], [1.0, \"#f0f921\"]], \"sequentialminus\": [[0.0, \"#0d0887\"], [0.1111111111111111, \"#46039f\"], [0.2222222222222222, \"#7201a8\"], [0.3333333333333333, \"#9c179e\"], [0.4444444444444444, \"#bd3786\"], [0.5555555555555556, \"#d8576b\"], [0.6666666666666666, \"#ed7953\"], [0.7777777777777778, \"#fb9f3a\"], [0.8888888888888888, \"#fdca26\"], [1.0, \"#f0f921\"]]}, \"colorway\": [\"#636efa\", \"#EF553B\", \"#00cc96\", \"#ab63fa\", \"#FFA15A\", \"#19d3f3\", \"#FF6692\", \"#B6E880\", \"#FF97FF\", \"#FECB52\"], \"font\": {\"color\": \"#2a3f5f\"}, \"geo\": {\"bgcolor\": \"white\", \"lakecolor\": \"white\", \"landcolor\": \"#E5ECF6\", \"showlakes\": true, \"showland\": true, \"subunitcolor\": \"white\"}, \"hoverlabel\": {\"align\": \"left\"}, \"hovermode\": \"closest\", \"mapbox\": {\"style\": \"light\"}, \"paper_bgcolor\": \"white\", \"plot_bgcolor\": \"#E5ECF6\", \"polar\": {\"angularaxis\": {\"gridcolor\": \"white\", \"linecolor\": \"white\", \"ticks\": \"\"}, \"bgcolor\": \"#E5ECF6\", \"radialaxis\": {\"gridcolor\": \"white\", \"linecolor\": \"white\", \"ticks\": \"\"}}, \"scene\": {\"xaxis\": {\"backgroundcolor\": \"#E5ECF6\", \"gridcolor\": \"white\", \"gridwidth\": 2, \"linecolor\": \"white\", \"showbackground\": true, \"ticks\": \"\", \"zerolinecolor\": \"white\"}, \"yaxis\": {\"backgroundcolor\": \"#E5ECF6\", \"gridcolor\": \"white\", \"gridwidth\": 2, \"linecolor\": \"white\", \"showbackground\": true, \"ticks\": \"\", \"zerolinecolor\": \"white\"}, \"zaxis\": {\"backgroundcolor\": \"#E5ECF6\", \"gridcolor\": \"white\", \"gridwidth\": 2, \"linecolor\": \"white\", \"showbackground\": true, \"ticks\": \"\", \"zerolinecolor\": \"white\"}}, \"shapedefaults\": {\"line\": {\"color\": \"#2a3f5f\"}}, \"ternary\": {\"aaxis\": {\"gridcolor\": \"white\", \"linecolor\": \"white\", \"ticks\": \"\"}, \"baxis\": {\"gridcolor\": \"white\", \"linecolor\": \"white\", \"ticks\": \"\"}, \"bgcolor\": \"#E5ECF6\", \"caxis\": {\"gridcolor\": \"white\", \"linecolor\": \"white\", \"ticks\": \"\"}}, \"title\": {\"x\": 0.05}, \"xaxis\": {\"automargin\": true, \"gridcolor\": \"white\", \"linecolor\": \"white\", \"ticks\": \"\", \"title\": {\"standoff\": 15}, \"zerolinecolor\": \"white\", \"zerolinewidth\": 2}, \"yaxis\": {\"automargin\": true, \"gridcolor\": \"white\", \"linecolor\": \"white\", \"ticks\": \"\", \"title\": {\"standoff\": 15}, \"zerolinecolor\": \"white\", \"zerolinewidth\": 2}}}, \"title\": {\"font\": {\"color\": \"#4D5663\"}, \"text\": \"Total Marital Status\"}, \"xaxis\": {\"gridcolor\": \"#E1E5ED\", \"showgrid\": true, \"tickfont\": {\"color\": \"#4D5663\"}, \"title\": {\"font\": {\"color\": \"#4D5663\"}, \"text\": \"\"}, \"zerolinecolor\": \"#E1E5ED\"}, \"yaxis\": {\"gridcolor\": \"#E1E5ED\", \"showgrid\": true, \"tickfont\": {\"color\": \"#4D5663\"}, \"title\": {\"font\": {\"color\": \"#4D5663\"}, \"text\": \"\"}, \"zerolinecolor\": \"#E1E5ED\"}},\n",
       "                        {\"showLink\": true, \"linkText\": \"Export to plot.ly\", \"plotlyServerURL\": \"https://plot.ly\", \"responsive\": true}\n",
       "                    ).then(function(){\n",
       "                            \n",
       "var gd = document.getElementById('7fb08a0b-fd09-4933-8929-ead9e5c3a6ed');\n",
       "var x = new MutationObserver(function (mutations, observer) {{\n",
       "        var display = window.getComputedStyle(gd).display;\n",
       "        if (!display || display === 'none') {{\n",
       "            console.log([gd, 'removed!']);\n",
       "            Plotly.purge(gd);\n",
       "            observer.disconnect();\n",
       "        }}\n",
       "}});\n",
       "\n",
       "// Listen for the removal of the full notebook cells\n",
       "var notebookContainer = gd.closest('#notebook-container');\n",
       "if (notebookContainer) {{\n",
       "    x.observe(notebookContainer, {childList: true});\n",
       "}}\n",
       "\n",
       "// Listen for the clearing of the current output cell\n",
       "var outputEl = gd.closest('.output');\n",
       "if (outputEl) {{\n",
       "    x.observe(outputEl, {childList: true});\n",
       "}}\n",
       "\n",
       "                        })\n",
       "                };\n",
       "                });\n",
       "            </script>\n",
       "        </div>"
      ]
     },
     "metadata": {},
     "output_type": "display_data"
    }
   ],
   "source": [
    "data[\"Marital Status\"].value_counts().iplot(kind='bar', title=\"Total Marital Status\")"
   ]
  },
  {
   "cell_type": "code",
   "execution_count": 14,
   "metadata": {
    "hideCode": true
   },
   "outputs": [
    {
     "data": {
      "application/vnd.plotly.v1+json": {
       "config": {
        "linkText": "Export to plot.ly",
        "plotlyServerURL": "https://plot.ly",
        "showLink": true
       },
       "data": [
        {
         "marker": {
          "color": "rgba(255, 153, 51, 0.6)",
          "line": {
           "color": "rgba(255, 153, 51, 1.0)",
           "width": 1
          }
         },
         "name": "Marital Status",
         "orientation": "v",
         "text": "",
         "type": "bar",
         "x": [
          "Married",
          "Single/Never Married",
          "Divorced",
          "Widowed"
         ],
         "y": [
          2550,
          739,
          383,
          258
         ]
        }
       ],
       "layout": {
        "legend": {
         "bgcolor": "#F5F6F9",
         "font": {
          "color": "#4D5663"
         }
        },
        "paper_bgcolor": "#F5F6F9",
        "plot_bgcolor": "#F5F6F9",
        "template": {
         "data": {
          "bar": [
           {
            "error_x": {
             "color": "#2a3f5f"
            },
            "error_y": {
             "color": "#2a3f5f"
            },
            "marker": {
             "line": {
              "color": "#E5ECF6",
              "width": 0.5
             }
            },
            "type": "bar"
           }
          ],
          "barpolar": [
           {
            "marker": {
             "line": {
              "color": "#E5ECF6",
              "width": 0.5
             }
            },
            "type": "barpolar"
           }
          ],
          "carpet": [
           {
            "aaxis": {
             "endlinecolor": "#2a3f5f",
             "gridcolor": "white",
             "linecolor": "white",
             "minorgridcolor": "white",
             "startlinecolor": "#2a3f5f"
            },
            "baxis": {
             "endlinecolor": "#2a3f5f",
             "gridcolor": "white",
             "linecolor": "white",
             "minorgridcolor": "white",
             "startlinecolor": "#2a3f5f"
            },
            "type": "carpet"
           }
          ],
          "choropleth": [
           {
            "colorbar": {
             "outlinewidth": 0,
             "ticks": ""
            },
            "type": "choropleth"
           }
          ],
          "contour": [
           {
            "colorbar": {
             "outlinewidth": 0,
             "ticks": ""
            },
            "colorscale": [
             [
              0,
              "#0d0887"
             ],
             [
              0.1111111111111111,
              "#46039f"
             ],
             [
              0.2222222222222222,
              "#7201a8"
             ],
             [
              0.3333333333333333,
              "#9c179e"
             ],
             [
              0.4444444444444444,
              "#bd3786"
             ],
             [
              0.5555555555555556,
              "#d8576b"
             ],
             [
              0.6666666666666666,
              "#ed7953"
             ],
             [
              0.7777777777777778,
              "#fb9f3a"
             ],
             [
              0.8888888888888888,
              "#fdca26"
             ],
             [
              1,
              "#f0f921"
             ]
            ],
            "type": "contour"
           }
          ],
          "contourcarpet": [
           {
            "colorbar": {
             "outlinewidth": 0,
             "ticks": ""
            },
            "type": "contourcarpet"
           }
          ],
          "heatmap": [
           {
            "colorbar": {
             "outlinewidth": 0,
             "ticks": ""
            },
            "colorscale": [
             [
              0,
              "#0d0887"
             ],
             [
              0.1111111111111111,
              "#46039f"
             ],
             [
              0.2222222222222222,
              "#7201a8"
             ],
             [
              0.3333333333333333,
              "#9c179e"
             ],
             [
              0.4444444444444444,
              "#bd3786"
             ],
             [
              0.5555555555555556,
              "#d8576b"
             ],
             [
              0.6666666666666666,
              "#ed7953"
             ],
             [
              0.7777777777777778,
              "#fb9f3a"
             ],
             [
              0.8888888888888888,
              "#fdca26"
             ],
             [
              1,
              "#f0f921"
             ]
            ],
            "type": "heatmap"
           }
          ],
          "heatmapgl": [
           {
            "colorbar": {
             "outlinewidth": 0,
             "ticks": ""
            },
            "colorscale": [
             [
              0,
              "#0d0887"
             ],
             [
              0.1111111111111111,
              "#46039f"
             ],
             [
              0.2222222222222222,
              "#7201a8"
             ],
             [
              0.3333333333333333,
              "#9c179e"
             ],
             [
              0.4444444444444444,
              "#bd3786"
             ],
             [
              0.5555555555555556,
              "#d8576b"
             ],
             [
              0.6666666666666666,
              "#ed7953"
             ],
             [
              0.7777777777777778,
              "#fb9f3a"
             ],
             [
              0.8888888888888888,
              "#fdca26"
             ],
             [
              1,
              "#f0f921"
             ]
            ],
            "type": "heatmapgl"
           }
          ],
          "histogram": [
           {
            "marker": {
             "colorbar": {
              "outlinewidth": 0,
              "ticks": ""
             }
            },
            "type": "histogram"
           }
          ],
          "histogram2d": [
           {
            "colorbar": {
             "outlinewidth": 0,
             "ticks": ""
            },
            "colorscale": [
             [
              0,
              "#0d0887"
             ],
             [
              0.1111111111111111,
              "#46039f"
             ],
             [
              0.2222222222222222,
              "#7201a8"
             ],
             [
              0.3333333333333333,
              "#9c179e"
             ],
             [
              0.4444444444444444,
              "#bd3786"
             ],
             [
              0.5555555555555556,
              "#d8576b"
             ],
             [
              0.6666666666666666,
              "#ed7953"
             ],
             [
              0.7777777777777778,
              "#fb9f3a"
             ],
             [
              0.8888888888888888,
              "#fdca26"
             ],
             [
              1,
              "#f0f921"
             ]
            ],
            "type": "histogram2d"
           }
          ],
          "histogram2dcontour": [
           {
            "colorbar": {
             "outlinewidth": 0,
             "ticks": ""
            },
            "colorscale": [
             [
              0,
              "#0d0887"
             ],
             [
              0.1111111111111111,
              "#46039f"
             ],
             [
              0.2222222222222222,
              "#7201a8"
             ],
             [
              0.3333333333333333,
              "#9c179e"
             ],
             [
              0.4444444444444444,
              "#bd3786"
             ],
             [
              0.5555555555555556,
              "#d8576b"
             ],
             [
              0.6666666666666666,
              "#ed7953"
             ],
             [
              0.7777777777777778,
              "#fb9f3a"
             ],
             [
              0.8888888888888888,
              "#fdca26"
             ],
             [
              1,
              "#f0f921"
             ]
            ],
            "type": "histogram2dcontour"
           }
          ],
          "mesh3d": [
           {
            "colorbar": {
             "outlinewidth": 0,
             "ticks": ""
            },
            "type": "mesh3d"
           }
          ],
          "parcoords": [
           {
            "line": {
             "colorbar": {
              "outlinewidth": 0,
              "ticks": ""
             }
            },
            "type": "parcoords"
           }
          ],
          "pie": [
           {
            "automargin": true,
            "type": "pie"
           }
          ],
          "scatter": [
           {
            "marker": {
             "colorbar": {
              "outlinewidth": 0,
              "ticks": ""
             }
            },
            "type": "scatter"
           }
          ],
          "scatter3d": [
           {
            "line": {
             "colorbar": {
              "outlinewidth": 0,
              "ticks": ""
             }
            },
            "marker": {
             "colorbar": {
              "outlinewidth": 0,
              "ticks": ""
             }
            },
            "type": "scatter3d"
           }
          ],
          "scattercarpet": [
           {
            "marker": {
             "colorbar": {
              "outlinewidth": 0,
              "ticks": ""
             }
            },
            "type": "scattercarpet"
           }
          ],
          "scattergeo": [
           {
            "marker": {
             "colorbar": {
              "outlinewidth": 0,
              "ticks": ""
             }
            },
            "type": "scattergeo"
           }
          ],
          "scattergl": [
           {
            "marker": {
             "colorbar": {
              "outlinewidth": 0,
              "ticks": ""
             }
            },
            "type": "scattergl"
           }
          ],
          "scattermapbox": [
           {
            "marker": {
             "colorbar": {
              "outlinewidth": 0,
              "ticks": ""
             }
            },
            "type": "scattermapbox"
           }
          ],
          "scatterpolar": [
           {
            "marker": {
             "colorbar": {
              "outlinewidth": 0,
              "ticks": ""
             }
            },
            "type": "scatterpolar"
           }
          ],
          "scatterpolargl": [
           {
            "marker": {
             "colorbar": {
              "outlinewidth": 0,
              "ticks": ""
             }
            },
            "type": "scatterpolargl"
           }
          ],
          "scatterternary": [
           {
            "marker": {
             "colorbar": {
              "outlinewidth": 0,
              "ticks": ""
             }
            },
            "type": "scatterternary"
           }
          ],
          "surface": [
           {
            "colorbar": {
             "outlinewidth": 0,
             "ticks": ""
            },
            "colorscale": [
             [
              0,
              "#0d0887"
             ],
             [
              0.1111111111111111,
              "#46039f"
             ],
             [
              0.2222222222222222,
              "#7201a8"
             ],
             [
              0.3333333333333333,
              "#9c179e"
             ],
             [
              0.4444444444444444,
              "#bd3786"
             ],
             [
              0.5555555555555556,
              "#d8576b"
             ],
             [
              0.6666666666666666,
              "#ed7953"
             ],
             [
              0.7777777777777778,
              "#fb9f3a"
             ],
             [
              0.8888888888888888,
              "#fdca26"
             ],
             [
              1,
              "#f0f921"
             ]
            ],
            "type": "surface"
           }
          ],
          "table": [
           {
            "cells": {
             "fill": {
              "color": "#EBF0F8"
             },
             "line": {
              "color": "white"
             }
            },
            "header": {
             "fill": {
              "color": "#C8D4E3"
             },
             "line": {
              "color": "white"
             }
            },
            "type": "table"
           }
          ]
         },
         "layout": {
          "annotationdefaults": {
           "arrowcolor": "#2a3f5f",
           "arrowhead": 0,
           "arrowwidth": 1
          },
          "coloraxis": {
           "colorbar": {
            "outlinewidth": 0,
            "ticks": ""
           }
          },
          "colorscale": {
           "diverging": [
            [
             0,
             "#8e0152"
            ],
            [
             0.1,
             "#c51b7d"
            ],
            [
             0.2,
             "#de77ae"
            ],
            [
             0.3,
             "#f1b6da"
            ],
            [
             0.4,
             "#fde0ef"
            ],
            [
             0.5,
             "#f7f7f7"
            ],
            [
             0.6,
             "#e6f5d0"
            ],
            [
             0.7,
             "#b8e186"
            ],
            [
             0.8,
             "#7fbc41"
            ],
            [
             0.9,
             "#4d9221"
            ],
            [
             1,
             "#276419"
            ]
           ],
           "sequential": [
            [
             0,
             "#0d0887"
            ],
            [
             0.1111111111111111,
             "#46039f"
            ],
            [
             0.2222222222222222,
             "#7201a8"
            ],
            [
             0.3333333333333333,
             "#9c179e"
            ],
            [
             0.4444444444444444,
             "#bd3786"
            ],
            [
             0.5555555555555556,
             "#d8576b"
            ],
            [
             0.6666666666666666,
             "#ed7953"
            ],
            [
             0.7777777777777778,
             "#fb9f3a"
            ],
            [
             0.8888888888888888,
             "#fdca26"
            ],
            [
             1,
             "#f0f921"
            ]
           ],
           "sequentialminus": [
            [
             0,
             "#0d0887"
            ],
            [
             0.1111111111111111,
             "#46039f"
            ],
            [
             0.2222222222222222,
             "#7201a8"
            ],
            [
             0.3333333333333333,
             "#9c179e"
            ],
            [
             0.4444444444444444,
             "#bd3786"
            ],
            [
             0.5555555555555556,
             "#d8576b"
            ],
            [
             0.6666666666666666,
             "#ed7953"
            ],
            [
             0.7777777777777778,
             "#fb9f3a"
            ],
            [
             0.8888888888888888,
             "#fdca26"
            ],
            [
             1,
             "#f0f921"
            ]
           ]
          },
          "colorway": [
           "#636efa",
           "#EF553B",
           "#00cc96",
           "#ab63fa",
           "#FFA15A",
           "#19d3f3",
           "#FF6692",
           "#B6E880",
           "#FF97FF",
           "#FECB52"
          ],
          "font": {
           "color": "#2a3f5f"
          },
          "geo": {
           "bgcolor": "white",
           "lakecolor": "white",
           "landcolor": "#E5ECF6",
           "showlakes": true,
           "showland": true,
           "subunitcolor": "white"
          },
          "hoverlabel": {
           "align": "left"
          },
          "hovermode": "closest",
          "mapbox": {
           "style": "light"
          },
          "paper_bgcolor": "white",
          "plot_bgcolor": "#E5ECF6",
          "polar": {
           "angularaxis": {
            "gridcolor": "white",
            "linecolor": "white",
            "ticks": ""
           },
           "bgcolor": "#E5ECF6",
           "radialaxis": {
            "gridcolor": "white",
            "linecolor": "white",
            "ticks": ""
           }
          },
          "scene": {
           "xaxis": {
            "backgroundcolor": "#E5ECF6",
            "gridcolor": "white",
            "gridwidth": 2,
            "linecolor": "white",
            "showbackground": true,
            "ticks": "",
            "zerolinecolor": "white"
           },
           "yaxis": {
            "backgroundcolor": "#E5ECF6",
            "gridcolor": "white",
            "gridwidth": 2,
            "linecolor": "white",
            "showbackground": true,
            "ticks": "",
            "zerolinecolor": "white"
           },
           "zaxis": {
            "backgroundcolor": "#E5ECF6",
            "gridcolor": "white",
            "gridwidth": 2,
            "linecolor": "white",
            "showbackground": true,
            "ticks": "",
            "zerolinecolor": "white"
           }
          },
          "shapedefaults": {
           "line": {
            "color": "#2a3f5f"
           }
          },
          "ternary": {
           "aaxis": {
            "gridcolor": "white",
            "linecolor": "white",
            "ticks": ""
           },
           "baxis": {
            "gridcolor": "white",
            "linecolor": "white",
            "ticks": ""
           },
           "bgcolor": "#E5ECF6",
           "caxis": {
            "gridcolor": "white",
            "linecolor": "white",
            "ticks": ""
           }
          },
          "title": {
           "x": 0.05
          },
          "xaxis": {
           "automargin": true,
           "gridcolor": "white",
           "linecolor": "white",
           "ticks": "",
           "title": {
            "standoff": 15
           },
           "zerolinecolor": "white",
           "zerolinewidth": 2
          },
          "yaxis": {
           "automargin": true,
           "gridcolor": "white",
           "linecolor": "white",
           "ticks": "",
           "title": {
            "standoff": 15
           },
           "zerolinecolor": "white",
           "zerolinewidth": 2
          }
         }
        },
        "title": {
         "font": {
          "color": "#4D5663"
         },
         "text": "Marital Status of Mobile Money Users"
        },
        "xaxis": {
         "gridcolor": "#E1E5ED",
         "showgrid": true,
         "tickfont": {
          "color": "#4D5663"
         },
         "title": {
          "font": {
           "color": "#4D5663"
          },
          "text": ""
         },
         "zerolinecolor": "#E1E5ED"
        },
        "yaxis": {
         "gridcolor": "#E1E5ED",
         "showgrid": true,
         "tickfont": {
          "color": "#4D5663"
         },
         "title": {
          "font": {
           "color": "#4D5663"
          },
          "text": ""
         },
         "zerolinecolor": "#E1E5ED"
        }
       }
      },
      "text/html": [
       "<div>\n",
       "        \n",
       "        \n",
       "            <div id=\"0cbc0c95-b1ca-44d7-9abc-c46dec36f91a\" class=\"plotly-graph-div\" style=\"height:525px; width:100%;\"></div>\n",
       "            <script type=\"text/javascript\">\n",
       "                require([\"plotly\"], function(Plotly) {\n",
       "                    window.PLOTLYENV=window.PLOTLYENV || {};\n",
       "                    window.PLOTLYENV.BASE_URL='https://plot.ly';\n",
       "                    \n",
       "                if (document.getElementById(\"0cbc0c95-b1ca-44d7-9abc-c46dec36f91a\")) {\n",
       "                    Plotly.newPlot(\n",
       "                        '0cbc0c95-b1ca-44d7-9abc-c46dec36f91a',\n",
       "                        [{\"marker\": {\"color\": \"rgba(255, 153, 51, 0.6)\", \"line\": {\"color\": \"rgba(255, 153, 51, 1.0)\", \"width\": 1}}, \"name\": \"Marital Status\", \"orientation\": \"v\", \"text\": \"\", \"type\": \"bar\", \"x\": [\"Married\", \"Single/Never Married\", \"Divorced\", \"Widowed\"], \"y\": [2550, 739, 383, 258]}],\n",
       "                        {\"legend\": {\"bgcolor\": \"#F5F6F9\", \"font\": {\"color\": \"#4D5663\"}}, \"paper_bgcolor\": \"#F5F6F9\", \"plot_bgcolor\": \"#F5F6F9\", \"template\": {\"data\": {\"bar\": [{\"error_x\": {\"color\": \"#2a3f5f\"}, \"error_y\": {\"color\": \"#2a3f5f\"}, \"marker\": {\"line\": {\"color\": \"#E5ECF6\", \"width\": 0.5}}, \"type\": \"bar\"}], \"barpolar\": [{\"marker\": {\"line\": {\"color\": \"#E5ECF6\", \"width\": 0.5}}, \"type\": \"barpolar\"}], \"carpet\": [{\"aaxis\": {\"endlinecolor\": \"#2a3f5f\", \"gridcolor\": \"white\", \"linecolor\": \"white\", \"minorgridcolor\": \"white\", \"startlinecolor\": \"#2a3f5f\"}, \"baxis\": {\"endlinecolor\": \"#2a3f5f\", \"gridcolor\": \"white\", \"linecolor\": \"white\", \"minorgridcolor\": \"white\", \"startlinecolor\": \"#2a3f5f\"}, \"type\": \"carpet\"}], \"choropleth\": [{\"colorbar\": {\"outlinewidth\": 0, \"ticks\": \"\"}, \"type\": \"choropleth\"}], \"contour\": [{\"colorbar\": {\"outlinewidth\": 0, \"ticks\": \"\"}, \"colorscale\": [[0.0, \"#0d0887\"], [0.1111111111111111, \"#46039f\"], [0.2222222222222222, \"#7201a8\"], [0.3333333333333333, \"#9c179e\"], [0.4444444444444444, \"#bd3786\"], [0.5555555555555556, \"#d8576b\"], [0.6666666666666666, \"#ed7953\"], [0.7777777777777778, \"#fb9f3a\"], [0.8888888888888888, \"#fdca26\"], [1.0, \"#f0f921\"]], \"type\": \"contour\"}], \"contourcarpet\": [{\"colorbar\": {\"outlinewidth\": 0, \"ticks\": \"\"}, \"type\": \"contourcarpet\"}], \"heatmap\": [{\"colorbar\": {\"outlinewidth\": 0, \"ticks\": \"\"}, \"colorscale\": [[0.0, \"#0d0887\"], [0.1111111111111111, \"#46039f\"], [0.2222222222222222, \"#7201a8\"], [0.3333333333333333, \"#9c179e\"], [0.4444444444444444, \"#bd3786\"], [0.5555555555555556, \"#d8576b\"], [0.6666666666666666, \"#ed7953\"], [0.7777777777777778, \"#fb9f3a\"], [0.8888888888888888, \"#fdca26\"], [1.0, \"#f0f921\"]], \"type\": \"heatmap\"}], \"heatmapgl\": [{\"colorbar\": {\"outlinewidth\": 0, \"ticks\": \"\"}, \"colorscale\": [[0.0, \"#0d0887\"], [0.1111111111111111, \"#46039f\"], [0.2222222222222222, \"#7201a8\"], [0.3333333333333333, \"#9c179e\"], [0.4444444444444444, \"#bd3786\"], [0.5555555555555556, \"#d8576b\"], [0.6666666666666666, \"#ed7953\"], [0.7777777777777778, \"#fb9f3a\"], [0.8888888888888888, \"#fdca26\"], [1.0, \"#f0f921\"]], \"type\": \"heatmapgl\"}], \"histogram\": [{\"marker\": {\"colorbar\": {\"outlinewidth\": 0, \"ticks\": \"\"}}, \"type\": \"histogram\"}], \"histogram2d\": [{\"colorbar\": {\"outlinewidth\": 0, \"ticks\": \"\"}, \"colorscale\": [[0.0, \"#0d0887\"], [0.1111111111111111, \"#46039f\"], [0.2222222222222222, \"#7201a8\"], [0.3333333333333333, \"#9c179e\"], [0.4444444444444444, \"#bd3786\"], [0.5555555555555556, \"#d8576b\"], [0.6666666666666666, \"#ed7953\"], [0.7777777777777778, \"#fb9f3a\"], [0.8888888888888888, \"#fdca26\"], [1.0, \"#f0f921\"]], \"type\": \"histogram2d\"}], \"histogram2dcontour\": [{\"colorbar\": {\"outlinewidth\": 0, \"ticks\": \"\"}, \"colorscale\": [[0.0, \"#0d0887\"], [0.1111111111111111, \"#46039f\"], [0.2222222222222222, \"#7201a8\"], [0.3333333333333333, \"#9c179e\"], [0.4444444444444444, \"#bd3786\"], [0.5555555555555556, \"#d8576b\"], [0.6666666666666666, \"#ed7953\"], [0.7777777777777778, \"#fb9f3a\"], [0.8888888888888888, \"#fdca26\"], [1.0, \"#f0f921\"]], \"type\": \"histogram2dcontour\"}], \"mesh3d\": [{\"colorbar\": {\"outlinewidth\": 0, \"ticks\": \"\"}, \"type\": \"mesh3d\"}], \"parcoords\": [{\"line\": {\"colorbar\": {\"outlinewidth\": 0, \"ticks\": \"\"}}, \"type\": \"parcoords\"}], \"pie\": [{\"automargin\": true, \"type\": \"pie\"}], \"scatter\": [{\"marker\": {\"colorbar\": {\"outlinewidth\": 0, \"ticks\": \"\"}}, \"type\": \"scatter\"}], \"scatter3d\": [{\"line\": {\"colorbar\": {\"outlinewidth\": 0, \"ticks\": \"\"}}, \"marker\": {\"colorbar\": {\"outlinewidth\": 0, \"ticks\": \"\"}}, \"type\": \"scatter3d\"}], \"scattercarpet\": [{\"marker\": {\"colorbar\": {\"outlinewidth\": 0, \"ticks\": \"\"}}, \"type\": \"scattercarpet\"}], \"scattergeo\": [{\"marker\": {\"colorbar\": {\"outlinewidth\": 0, \"ticks\": \"\"}}, \"type\": \"scattergeo\"}], \"scattergl\": [{\"marker\": {\"colorbar\": {\"outlinewidth\": 0, \"ticks\": \"\"}}, \"type\": \"scattergl\"}], \"scattermapbox\": [{\"marker\": {\"colorbar\": {\"outlinewidth\": 0, \"ticks\": \"\"}}, \"type\": \"scattermapbox\"}], \"scatterpolar\": [{\"marker\": {\"colorbar\": {\"outlinewidth\": 0, \"ticks\": \"\"}}, \"type\": \"scatterpolar\"}], \"scatterpolargl\": [{\"marker\": {\"colorbar\": {\"outlinewidth\": 0, \"ticks\": \"\"}}, \"type\": \"scatterpolargl\"}], \"scatterternary\": [{\"marker\": {\"colorbar\": {\"outlinewidth\": 0, \"ticks\": \"\"}}, \"type\": \"scatterternary\"}], \"surface\": [{\"colorbar\": {\"outlinewidth\": 0, \"ticks\": \"\"}, \"colorscale\": [[0.0, \"#0d0887\"], [0.1111111111111111, \"#46039f\"], [0.2222222222222222, \"#7201a8\"], [0.3333333333333333, \"#9c179e\"], [0.4444444444444444, \"#bd3786\"], [0.5555555555555556, \"#d8576b\"], [0.6666666666666666, \"#ed7953\"], [0.7777777777777778, \"#fb9f3a\"], [0.8888888888888888, \"#fdca26\"], [1.0, \"#f0f921\"]], \"type\": \"surface\"}], \"table\": [{\"cells\": {\"fill\": {\"color\": \"#EBF0F8\"}, \"line\": {\"color\": \"white\"}}, \"header\": {\"fill\": {\"color\": \"#C8D4E3\"}, \"line\": {\"color\": \"white\"}}, \"type\": \"table\"}]}, \"layout\": {\"annotationdefaults\": {\"arrowcolor\": \"#2a3f5f\", \"arrowhead\": 0, \"arrowwidth\": 1}, \"coloraxis\": {\"colorbar\": {\"outlinewidth\": 0, \"ticks\": \"\"}}, \"colorscale\": {\"diverging\": [[0, \"#8e0152\"], [0.1, \"#c51b7d\"], [0.2, \"#de77ae\"], [0.3, \"#f1b6da\"], [0.4, \"#fde0ef\"], [0.5, \"#f7f7f7\"], [0.6, \"#e6f5d0\"], [0.7, \"#b8e186\"], [0.8, \"#7fbc41\"], [0.9, \"#4d9221\"], [1, \"#276419\"]], \"sequential\": [[0.0, \"#0d0887\"], [0.1111111111111111, \"#46039f\"], [0.2222222222222222, \"#7201a8\"], [0.3333333333333333, \"#9c179e\"], [0.4444444444444444, \"#bd3786\"], [0.5555555555555556, \"#d8576b\"], [0.6666666666666666, \"#ed7953\"], [0.7777777777777778, \"#fb9f3a\"], [0.8888888888888888, \"#fdca26\"], [1.0, \"#f0f921\"]], \"sequentialminus\": [[0.0, \"#0d0887\"], [0.1111111111111111, \"#46039f\"], [0.2222222222222222, \"#7201a8\"], [0.3333333333333333, \"#9c179e\"], [0.4444444444444444, \"#bd3786\"], [0.5555555555555556, \"#d8576b\"], [0.6666666666666666, \"#ed7953\"], [0.7777777777777778, \"#fb9f3a\"], [0.8888888888888888, \"#fdca26\"], [1.0, \"#f0f921\"]]}, \"colorway\": [\"#636efa\", \"#EF553B\", \"#00cc96\", \"#ab63fa\", \"#FFA15A\", \"#19d3f3\", \"#FF6692\", \"#B6E880\", \"#FF97FF\", \"#FECB52\"], \"font\": {\"color\": \"#2a3f5f\"}, \"geo\": {\"bgcolor\": \"white\", \"lakecolor\": \"white\", \"landcolor\": \"#E5ECF6\", \"showlakes\": true, \"showland\": true, \"subunitcolor\": \"white\"}, \"hoverlabel\": {\"align\": \"left\"}, \"hovermode\": \"closest\", \"mapbox\": {\"style\": \"light\"}, \"paper_bgcolor\": \"white\", \"plot_bgcolor\": \"#E5ECF6\", \"polar\": {\"angularaxis\": {\"gridcolor\": \"white\", \"linecolor\": \"white\", \"ticks\": \"\"}, \"bgcolor\": \"#E5ECF6\", \"radialaxis\": {\"gridcolor\": \"white\", \"linecolor\": \"white\", \"ticks\": \"\"}}, \"scene\": {\"xaxis\": {\"backgroundcolor\": \"#E5ECF6\", \"gridcolor\": \"white\", \"gridwidth\": 2, \"linecolor\": \"white\", \"showbackground\": true, \"ticks\": \"\", \"zerolinecolor\": \"white\"}, \"yaxis\": {\"backgroundcolor\": \"#E5ECF6\", \"gridcolor\": \"white\", \"gridwidth\": 2, \"linecolor\": \"white\", \"showbackground\": true, \"ticks\": \"\", \"zerolinecolor\": \"white\"}, \"zaxis\": {\"backgroundcolor\": \"#E5ECF6\", \"gridcolor\": \"white\", \"gridwidth\": 2, \"linecolor\": \"white\", \"showbackground\": true, \"ticks\": \"\", \"zerolinecolor\": \"white\"}}, \"shapedefaults\": {\"line\": {\"color\": \"#2a3f5f\"}}, \"ternary\": {\"aaxis\": {\"gridcolor\": \"white\", \"linecolor\": \"white\", \"ticks\": \"\"}, \"baxis\": {\"gridcolor\": \"white\", \"linecolor\": \"white\", \"ticks\": \"\"}, \"bgcolor\": \"#E5ECF6\", \"caxis\": {\"gridcolor\": \"white\", \"linecolor\": \"white\", \"ticks\": \"\"}}, \"title\": {\"x\": 0.05}, \"xaxis\": {\"automargin\": true, \"gridcolor\": \"white\", \"linecolor\": \"white\", \"ticks\": \"\", \"title\": {\"standoff\": 15}, \"zerolinecolor\": \"white\", \"zerolinewidth\": 2}, \"yaxis\": {\"automargin\": true, \"gridcolor\": \"white\", \"linecolor\": \"white\", \"ticks\": \"\", \"title\": {\"standoff\": 15}, \"zerolinecolor\": \"white\", \"zerolinewidth\": 2}}}, \"title\": {\"font\": {\"color\": \"#4D5663\"}, \"text\": \"Marital Status of Mobile Money Users\"}, \"xaxis\": {\"gridcolor\": \"#E1E5ED\", \"showgrid\": true, \"tickfont\": {\"color\": \"#4D5663\"}, \"title\": {\"font\": {\"color\": \"#4D5663\"}, \"text\": \"\"}, \"zerolinecolor\": \"#E1E5ED\"}, \"yaxis\": {\"gridcolor\": \"#E1E5ED\", \"showgrid\": true, \"tickfont\": {\"color\": \"#4D5663\"}, \"title\": {\"font\": {\"color\": \"#4D5663\"}, \"text\": \"\"}, \"zerolinecolor\": \"#E1E5ED\"}},\n",
       "                        {\"showLink\": true, \"linkText\": \"Export to plot.ly\", \"plotlyServerURL\": \"https://plot.ly\", \"responsive\": true}\n",
       "                    ).then(function(){\n",
       "                            \n",
       "var gd = document.getElementById('0cbc0c95-b1ca-44d7-9abc-c46dec36f91a');\n",
       "var x = new MutationObserver(function (mutations, observer) {{\n",
       "        var display = window.getComputedStyle(gd).display;\n",
       "        if (!display || display === 'none') {{\n",
       "            console.log([gd, 'removed!']);\n",
       "            Plotly.purge(gd);\n",
       "            observer.disconnect();\n",
       "        }}\n",
       "}});\n",
       "\n",
       "// Listen for the removal of the full notebook cells\n",
       "var notebookContainer = gd.closest('#notebook-container');\n",
       "if (notebookContainer) {{\n",
       "    x.observe(notebookContainer, {childList: true});\n",
       "}}\n",
       "\n",
       "// Listen for the clearing of the current output cell\n",
       "var outputEl = gd.closest('.output');\n",
       "if (outputEl) {{\n",
       "    x.observe(outputEl, {childList: true});\n",
       "}}\n",
       "\n",
       "                        })\n",
       "                };\n",
       "                });\n",
       "            </script>\n",
       "        </div>"
      ]
     },
     "metadata": {},
     "output_type": "display_data"
    }
   ],
   "source": [
    "mm_data = data[data[\"mobile_money\"] == 1]\n",
    "\n",
    "mm_data[\"Marital Status\"].value_counts().iplot(kind='bar', title=\"Marital Status of Mobile Money Users\")"
   ]
  },
  {
   "cell_type": "code",
   "execution_count": 15,
   "metadata": {
    "hideCode": true
   },
   "outputs": [
    {
     "data": {
      "application/vnd.plotly.v1+json": {
       "config": {
        "linkText": "Export to plot.ly",
        "plotlyServerURL": "https://plot.ly",
        "showLink": true
       },
       "data": [
        {
         "marker": {
          "color": "rgba(255, 153, 51, 0.6)",
          "line": {
           "color": "rgba(255, 153, 51, 1.0)",
           "width": 1
          }
         },
         "name": "Marital Status",
         "orientation": "v",
         "text": "",
         "type": "bar",
         "x": [
          "Married",
          "Single/Never Married",
          "Widowed",
          "Divorced"
         ],
         "y": [
          1998,
          442,
          420,
          304
         ]
        }
       ],
       "layout": {
        "legend": {
         "bgcolor": "#F5F6F9",
         "font": {
          "color": "#4D5663"
         }
        },
        "paper_bgcolor": "#F5F6F9",
        "plot_bgcolor": "#F5F6F9",
        "template": {
         "data": {
          "bar": [
           {
            "error_x": {
             "color": "#2a3f5f"
            },
            "error_y": {
             "color": "#2a3f5f"
            },
            "marker": {
             "line": {
              "color": "#E5ECF6",
              "width": 0.5
             }
            },
            "type": "bar"
           }
          ],
          "barpolar": [
           {
            "marker": {
             "line": {
              "color": "#E5ECF6",
              "width": 0.5
             }
            },
            "type": "barpolar"
           }
          ],
          "carpet": [
           {
            "aaxis": {
             "endlinecolor": "#2a3f5f",
             "gridcolor": "white",
             "linecolor": "white",
             "minorgridcolor": "white",
             "startlinecolor": "#2a3f5f"
            },
            "baxis": {
             "endlinecolor": "#2a3f5f",
             "gridcolor": "white",
             "linecolor": "white",
             "minorgridcolor": "white",
             "startlinecolor": "#2a3f5f"
            },
            "type": "carpet"
           }
          ],
          "choropleth": [
           {
            "colorbar": {
             "outlinewidth": 0,
             "ticks": ""
            },
            "type": "choropleth"
           }
          ],
          "contour": [
           {
            "colorbar": {
             "outlinewidth": 0,
             "ticks": ""
            },
            "colorscale": [
             [
              0,
              "#0d0887"
             ],
             [
              0.1111111111111111,
              "#46039f"
             ],
             [
              0.2222222222222222,
              "#7201a8"
             ],
             [
              0.3333333333333333,
              "#9c179e"
             ],
             [
              0.4444444444444444,
              "#bd3786"
             ],
             [
              0.5555555555555556,
              "#d8576b"
             ],
             [
              0.6666666666666666,
              "#ed7953"
             ],
             [
              0.7777777777777778,
              "#fb9f3a"
             ],
             [
              0.8888888888888888,
              "#fdca26"
             ],
             [
              1,
              "#f0f921"
             ]
            ],
            "type": "contour"
           }
          ],
          "contourcarpet": [
           {
            "colorbar": {
             "outlinewidth": 0,
             "ticks": ""
            },
            "type": "contourcarpet"
           }
          ],
          "heatmap": [
           {
            "colorbar": {
             "outlinewidth": 0,
             "ticks": ""
            },
            "colorscale": [
             [
              0,
              "#0d0887"
             ],
             [
              0.1111111111111111,
              "#46039f"
             ],
             [
              0.2222222222222222,
              "#7201a8"
             ],
             [
              0.3333333333333333,
              "#9c179e"
             ],
             [
              0.4444444444444444,
              "#bd3786"
             ],
             [
              0.5555555555555556,
              "#d8576b"
             ],
             [
              0.6666666666666666,
              "#ed7953"
             ],
             [
              0.7777777777777778,
              "#fb9f3a"
             ],
             [
              0.8888888888888888,
              "#fdca26"
             ],
             [
              1,
              "#f0f921"
             ]
            ],
            "type": "heatmap"
           }
          ],
          "heatmapgl": [
           {
            "colorbar": {
             "outlinewidth": 0,
             "ticks": ""
            },
            "colorscale": [
             [
              0,
              "#0d0887"
             ],
             [
              0.1111111111111111,
              "#46039f"
             ],
             [
              0.2222222222222222,
              "#7201a8"
             ],
             [
              0.3333333333333333,
              "#9c179e"
             ],
             [
              0.4444444444444444,
              "#bd3786"
             ],
             [
              0.5555555555555556,
              "#d8576b"
             ],
             [
              0.6666666666666666,
              "#ed7953"
             ],
             [
              0.7777777777777778,
              "#fb9f3a"
             ],
             [
              0.8888888888888888,
              "#fdca26"
             ],
             [
              1,
              "#f0f921"
             ]
            ],
            "type": "heatmapgl"
           }
          ],
          "histogram": [
           {
            "marker": {
             "colorbar": {
              "outlinewidth": 0,
              "ticks": ""
             }
            },
            "type": "histogram"
           }
          ],
          "histogram2d": [
           {
            "colorbar": {
             "outlinewidth": 0,
             "ticks": ""
            },
            "colorscale": [
             [
              0,
              "#0d0887"
             ],
             [
              0.1111111111111111,
              "#46039f"
             ],
             [
              0.2222222222222222,
              "#7201a8"
             ],
             [
              0.3333333333333333,
              "#9c179e"
             ],
             [
              0.4444444444444444,
              "#bd3786"
             ],
             [
              0.5555555555555556,
              "#d8576b"
             ],
             [
              0.6666666666666666,
              "#ed7953"
             ],
             [
              0.7777777777777778,
              "#fb9f3a"
             ],
             [
              0.8888888888888888,
              "#fdca26"
             ],
             [
              1,
              "#f0f921"
             ]
            ],
            "type": "histogram2d"
           }
          ],
          "histogram2dcontour": [
           {
            "colorbar": {
             "outlinewidth": 0,
             "ticks": ""
            },
            "colorscale": [
             [
              0,
              "#0d0887"
             ],
             [
              0.1111111111111111,
              "#46039f"
             ],
             [
              0.2222222222222222,
              "#7201a8"
             ],
             [
              0.3333333333333333,
              "#9c179e"
             ],
             [
              0.4444444444444444,
              "#bd3786"
             ],
             [
              0.5555555555555556,
              "#d8576b"
             ],
             [
              0.6666666666666666,
              "#ed7953"
             ],
             [
              0.7777777777777778,
              "#fb9f3a"
             ],
             [
              0.8888888888888888,
              "#fdca26"
             ],
             [
              1,
              "#f0f921"
             ]
            ],
            "type": "histogram2dcontour"
           }
          ],
          "mesh3d": [
           {
            "colorbar": {
             "outlinewidth": 0,
             "ticks": ""
            },
            "type": "mesh3d"
           }
          ],
          "parcoords": [
           {
            "line": {
             "colorbar": {
              "outlinewidth": 0,
              "ticks": ""
             }
            },
            "type": "parcoords"
           }
          ],
          "pie": [
           {
            "automargin": true,
            "type": "pie"
           }
          ],
          "scatter": [
           {
            "marker": {
             "colorbar": {
              "outlinewidth": 0,
              "ticks": ""
             }
            },
            "type": "scatter"
           }
          ],
          "scatter3d": [
           {
            "line": {
             "colorbar": {
              "outlinewidth": 0,
              "ticks": ""
             }
            },
            "marker": {
             "colorbar": {
              "outlinewidth": 0,
              "ticks": ""
             }
            },
            "type": "scatter3d"
           }
          ],
          "scattercarpet": [
           {
            "marker": {
             "colorbar": {
              "outlinewidth": 0,
              "ticks": ""
             }
            },
            "type": "scattercarpet"
           }
          ],
          "scattergeo": [
           {
            "marker": {
             "colorbar": {
              "outlinewidth": 0,
              "ticks": ""
             }
            },
            "type": "scattergeo"
           }
          ],
          "scattergl": [
           {
            "marker": {
             "colorbar": {
              "outlinewidth": 0,
              "ticks": ""
             }
            },
            "type": "scattergl"
           }
          ],
          "scattermapbox": [
           {
            "marker": {
             "colorbar": {
              "outlinewidth": 0,
              "ticks": ""
             }
            },
            "type": "scattermapbox"
           }
          ],
          "scatterpolar": [
           {
            "marker": {
             "colorbar": {
              "outlinewidth": 0,
              "ticks": ""
             }
            },
            "type": "scatterpolar"
           }
          ],
          "scatterpolargl": [
           {
            "marker": {
             "colorbar": {
              "outlinewidth": 0,
              "ticks": ""
             }
            },
            "type": "scatterpolargl"
           }
          ],
          "scatterternary": [
           {
            "marker": {
             "colorbar": {
              "outlinewidth": 0,
              "ticks": ""
             }
            },
            "type": "scatterternary"
           }
          ],
          "surface": [
           {
            "colorbar": {
             "outlinewidth": 0,
             "ticks": ""
            },
            "colorscale": [
             [
              0,
              "#0d0887"
             ],
             [
              0.1111111111111111,
              "#46039f"
             ],
             [
              0.2222222222222222,
              "#7201a8"
             ],
             [
              0.3333333333333333,
              "#9c179e"
             ],
             [
              0.4444444444444444,
              "#bd3786"
             ],
             [
              0.5555555555555556,
              "#d8576b"
             ],
             [
              0.6666666666666666,
              "#ed7953"
             ],
             [
              0.7777777777777778,
              "#fb9f3a"
             ],
             [
              0.8888888888888888,
              "#fdca26"
             ],
             [
              1,
              "#f0f921"
             ]
            ],
            "type": "surface"
           }
          ],
          "table": [
           {
            "cells": {
             "fill": {
              "color": "#EBF0F8"
             },
             "line": {
              "color": "white"
             }
            },
            "header": {
             "fill": {
              "color": "#C8D4E3"
             },
             "line": {
              "color": "white"
             }
            },
            "type": "table"
           }
          ]
         },
         "layout": {
          "annotationdefaults": {
           "arrowcolor": "#2a3f5f",
           "arrowhead": 0,
           "arrowwidth": 1
          },
          "coloraxis": {
           "colorbar": {
            "outlinewidth": 0,
            "ticks": ""
           }
          },
          "colorscale": {
           "diverging": [
            [
             0,
             "#8e0152"
            ],
            [
             0.1,
             "#c51b7d"
            ],
            [
             0.2,
             "#de77ae"
            ],
            [
             0.3,
             "#f1b6da"
            ],
            [
             0.4,
             "#fde0ef"
            ],
            [
             0.5,
             "#f7f7f7"
            ],
            [
             0.6,
             "#e6f5d0"
            ],
            [
             0.7,
             "#b8e186"
            ],
            [
             0.8,
             "#7fbc41"
            ],
            [
             0.9,
             "#4d9221"
            ],
            [
             1,
             "#276419"
            ]
           ],
           "sequential": [
            [
             0,
             "#0d0887"
            ],
            [
             0.1111111111111111,
             "#46039f"
            ],
            [
             0.2222222222222222,
             "#7201a8"
            ],
            [
             0.3333333333333333,
             "#9c179e"
            ],
            [
             0.4444444444444444,
             "#bd3786"
            ],
            [
             0.5555555555555556,
             "#d8576b"
            ],
            [
             0.6666666666666666,
             "#ed7953"
            ],
            [
             0.7777777777777778,
             "#fb9f3a"
            ],
            [
             0.8888888888888888,
             "#fdca26"
            ],
            [
             1,
             "#f0f921"
            ]
           ],
           "sequentialminus": [
            [
             0,
             "#0d0887"
            ],
            [
             0.1111111111111111,
             "#46039f"
            ],
            [
             0.2222222222222222,
             "#7201a8"
            ],
            [
             0.3333333333333333,
             "#9c179e"
            ],
            [
             0.4444444444444444,
             "#bd3786"
            ],
            [
             0.5555555555555556,
             "#d8576b"
            ],
            [
             0.6666666666666666,
             "#ed7953"
            ],
            [
             0.7777777777777778,
             "#fb9f3a"
            ],
            [
             0.8888888888888888,
             "#fdca26"
            ],
            [
             1,
             "#f0f921"
            ]
           ]
          },
          "colorway": [
           "#636efa",
           "#EF553B",
           "#00cc96",
           "#ab63fa",
           "#FFA15A",
           "#19d3f3",
           "#FF6692",
           "#B6E880",
           "#FF97FF",
           "#FECB52"
          ],
          "font": {
           "color": "#2a3f5f"
          },
          "geo": {
           "bgcolor": "white",
           "lakecolor": "white",
           "landcolor": "#E5ECF6",
           "showlakes": true,
           "showland": true,
           "subunitcolor": "white"
          },
          "hoverlabel": {
           "align": "left"
          },
          "hovermode": "closest",
          "mapbox": {
           "style": "light"
          },
          "paper_bgcolor": "white",
          "plot_bgcolor": "#E5ECF6",
          "polar": {
           "angularaxis": {
            "gridcolor": "white",
            "linecolor": "white",
            "ticks": ""
           },
           "bgcolor": "#E5ECF6",
           "radialaxis": {
            "gridcolor": "white",
            "linecolor": "white",
            "ticks": ""
           }
          },
          "scene": {
           "xaxis": {
            "backgroundcolor": "#E5ECF6",
            "gridcolor": "white",
            "gridwidth": 2,
            "linecolor": "white",
            "showbackground": true,
            "ticks": "",
            "zerolinecolor": "white"
           },
           "yaxis": {
            "backgroundcolor": "#E5ECF6",
            "gridcolor": "white",
            "gridwidth": 2,
            "linecolor": "white",
            "showbackground": true,
            "ticks": "",
            "zerolinecolor": "white"
           },
           "zaxis": {
            "backgroundcolor": "#E5ECF6",
            "gridcolor": "white",
            "gridwidth": 2,
            "linecolor": "white",
            "showbackground": true,
            "ticks": "",
            "zerolinecolor": "white"
           }
          },
          "shapedefaults": {
           "line": {
            "color": "#2a3f5f"
           }
          },
          "ternary": {
           "aaxis": {
            "gridcolor": "white",
            "linecolor": "white",
            "ticks": ""
           },
           "baxis": {
            "gridcolor": "white",
            "linecolor": "white",
            "ticks": ""
           },
           "bgcolor": "#E5ECF6",
           "caxis": {
            "gridcolor": "white",
            "linecolor": "white",
            "ticks": ""
           }
          },
          "title": {
           "x": 0.05
          },
          "xaxis": {
           "automargin": true,
           "gridcolor": "white",
           "linecolor": "white",
           "ticks": "",
           "title": {
            "standoff": 15
           },
           "zerolinecolor": "white",
           "zerolinewidth": 2
          },
          "yaxis": {
           "automargin": true,
           "gridcolor": "white",
           "linecolor": "white",
           "ticks": "",
           "title": {
            "standoff": 15
           },
           "zerolinecolor": "white",
           "zerolinewidth": 2
          }
         }
        },
        "title": {
         "font": {
          "color": "#4D5663"
         },
         "text": "Marital Status of Non-Mobile Money Users"
        },
        "xaxis": {
         "gridcolor": "#E1E5ED",
         "showgrid": true,
         "tickfont": {
          "color": "#4D5663"
         },
         "title": {
          "font": {
           "color": "#4D5663"
          },
          "text": ""
         },
         "zerolinecolor": "#E1E5ED"
        },
        "yaxis": {
         "gridcolor": "#E1E5ED",
         "showgrid": true,
         "tickfont": {
          "color": "#4D5663"
         },
         "title": {
          "font": {
           "color": "#4D5663"
          },
          "text": ""
         },
         "zerolinecolor": "#E1E5ED"
        }
       }
      },
      "text/html": [
       "<div>\n",
       "        \n",
       "        \n",
       "            <div id=\"cdfa3d9d-495e-449c-9c1b-b9cd5aacbd86\" class=\"plotly-graph-div\" style=\"height:525px; width:100%;\"></div>\n",
       "            <script type=\"text/javascript\">\n",
       "                require([\"plotly\"], function(Plotly) {\n",
       "                    window.PLOTLYENV=window.PLOTLYENV || {};\n",
       "                    window.PLOTLYENV.BASE_URL='https://plot.ly';\n",
       "                    \n",
       "                if (document.getElementById(\"cdfa3d9d-495e-449c-9c1b-b9cd5aacbd86\")) {\n",
       "                    Plotly.newPlot(\n",
       "                        'cdfa3d9d-495e-449c-9c1b-b9cd5aacbd86',\n",
       "                        [{\"marker\": {\"color\": \"rgba(255, 153, 51, 0.6)\", \"line\": {\"color\": \"rgba(255, 153, 51, 1.0)\", \"width\": 1}}, \"name\": \"Marital Status\", \"orientation\": \"v\", \"text\": \"\", \"type\": \"bar\", \"x\": [\"Married\", \"Single/Never Married\", \"Widowed\", \"Divorced\"], \"y\": [1998, 442, 420, 304]}],\n",
       "                        {\"legend\": {\"bgcolor\": \"#F5F6F9\", \"font\": {\"color\": \"#4D5663\"}}, \"paper_bgcolor\": \"#F5F6F9\", \"plot_bgcolor\": \"#F5F6F9\", \"template\": {\"data\": {\"bar\": [{\"error_x\": {\"color\": \"#2a3f5f\"}, \"error_y\": {\"color\": \"#2a3f5f\"}, \"marker\": {\"line\": {\"color\": \"#E5ECF6\", \"width\": 0.5}}, \"type\": \"bar\"}], \"barpolar\": [{\"marker\": {\"line\": {\"color\": \"#E5ECF6\", \"width\": 0.5}}, \"type\": \"barpolar\"}], \"carpet\": [{\"aaxis\": {\"endlinecolor\": \"#2a3f5f\", \"gridcolor\": \"white\", \"linecolor\": \"white\", \"minorgridcolor\": \"white\", \"startlinecolor\": \"#2a3f5f\"}, \"baxis\": {\"endlinecolor\": \"#2a3f5f\", \"gridcolor\": \"white\", \"linecolor\": \"white\", \"minorgridcolor\": \"white\", \"startlinecolor\": \"#2a3f5f\"}, \"type\": \"carpet\"}], \"choropleth\": [{\"colorbar\": {\"outlinewidth\": 0, \"ticks\": \"\"}, \"type\": \"choropleth\"}], \"contour\": [{\"colorbar\": {\"outlinewidth\": 0, \"ticks\": \"\"}, \"colorscale\": [[0.0, \"#0d0887\"], [0.1111111111111111, \"#46039f\"], [0.2222222222222222, \"#7201a8\"], [0.3333333333333333, \"#9c179e\"], [0.4444444444444444, \"#bd3786\"], [0.5555555555555556, \"#d8576b\"], [0.6666666666666666, \"#ed7953\"], [0.7777777777777778, \"#fb9f3a\"], [0.8888888888888888, \"#fdca26\"], [1.0, \"#f0f921\"]], \"type\": \"contour\"}], \"contourcarpet\": [{\"colorbar\": {\"outlinewidth\": 0, \"ticks\": \"\"}, \"type\": \"contourcarpet\"}], \"heatmap\": [{\"colorbar\": {\"outlinewidth\": 0, \"ticks\": \"\"}, \"colorscale\": [[0.0, \"#0d0887\"], [0.1111111111111111, \"#46039f\"], [0.2222222222222222, \"#7201a8\"], [0.3333333333333333, \"#9c179e\"], [0.4444444444444444, \"#bd3786\"], [0.5555555555555556, \"#d8576b\"], [0.6666666666666666, \"#ed7953\"], [0.7777777777777778, \"#fb9f3a\"], [0.8888888888888888, \"#fdca26\"], [1.0, \"#f0f921\"]], \"type\": \"heatmap\"}], \"heatmapgl\": [{\"colorbar\": {\"outlinewidth\": 0, \"ticks\": \"\"}, \"colorscale\": [[0.0, \"#0d0887\"], [0.1111111111111111, \"#46039f\"], [0.2222222222222222, \"#7201a8\"], [0.3333333333333333, \"#9c179e\"], [0.4444444444444444, \"#bd3786\"], [0.5555555555555556, \"#d8576b\"], [0.6666666666666666, \"#ed7953\"], [0.7777777777777778, \"#fb9f3a\"], [0.8888888888888888, \"#fdca26\"], [1.0, \"#f0f921\"]], \"type\": \"heatmapgl\"}], \"histogram\": [{\"marker\": {\"colorbar\": {\"outlinewidth\": 0, \"ticks\": \"\"}}, \"type\": \"histogram\"}], \"histogram2d\": [{\"colorbar\": {\"outlinewidth\": 0, \"ticks\": \"\"}, \"colorscale\": [[0.0, \"#0d0887\"], [0.1111111111111111, \"#46039f\"], [0.2222222222222222, \"#7201a8\"], [0.3333333333333333, \"#9c179e\"], [0.4444444444444444, \"#bd3786\"], [0.5555555555555556, \"#d8576b\"], [0.6666666666666666, \"#ed7953\"], [0.7777777777777778, \"#fb9f3a\"], [0.8888888888888888, \"#fdca26\"], [1.0, \"#f0f921\"]], \"type\": \"histogram2d\"}], \"histogram2dcontour\": [{\"colorbar\": {\"outlinewidth\": 0, \"ticks\": \"\"}, \"colorscale\": [[0.0, \"#0d0887\"], [0.1111111111111111, \"#46039f\"], [0.2222222222222222, \"#7201a8\"], [0.3333333333333333, \"#9c179e\"], [0.4444444444444444, \"#bd3786\"], [0.5555555555555556, \"#d8576b\"], [0.6666666666666666, \"#ed7953\"], [0.7777777777777778, \"#fb9f3a\"], [0.8888888888888888, \"#fdca26\"], [1.0, \"#f0f921\"]], \"type\": \"histogram2dcontour\"}], \"mesh3d\": [{\"colorbar\": {\"outlinewidth\": 0, \"ticks\": \"\"}, \"type\": \"mesh3d\"}], \"parcoords\": [{\"line\": {\"colorbar\": {\"outlinewidth\": 0, \"ticks\": \"\"}}, \"type\": \"parcoords\"}], \"pie\": [{\"automargin\": true, \"type\": \"pie\"}], \"scatter\": [{\"marker\": {\"colorbar\": {\"outlinewidth\": 0, \"ticks\": \"\"}}, \"type\": \"scatter\"}], \"scatter3d\": [{\"line\": {\"colorbar\": {\"outlinewidth\": 0, \"ticks\": \"\"}}, \"marker\": {\"colorbar\": {\"outlinewidth\": 0, \"ticks\": \"\"}}, \"type\": \"scatter3d\"}], \"scattercarpet\": [{\"marker\": {\"colorbar\": {\"outlinewidth\": 0, \"ticks\": \"\"}}, \"type\": \"scattercarpet\"}], \"scattergeo\": [{\"marker\": {\"colorbar\": {\"outlinewidth\": 0, \"ticks\": \"\"}}, \"type\": \"scattergeo\"}], \"scattergl\": [{\"marker\": {\"colorbar\": {\"outlinewidth\": 0, \"ticks\": \"\"}}, \"type\": \"scattergl\"}], \"scattermapbox\": [{\"marker\": {\"colorbar\": {\"outlinewidth\": 0, \"ticks\": \"\"}}, \"type\": \"scattermapbox\"}], \"scatterpolar\": [{\"marker\": {\"colorbar\": {\"outlinewidth\": 0, \"ticks\": \"\"}}, \"type\": \"scatterpolar\"}], \"scatterpolargl\": [{\"marker\": {\"colorbar\": {\"outlinewidth\": 0, \"ticks\": \"\"}}, \"type\": \"scatterpolargl\"}], \"scatterternary\": [{\"marker\": {\"colorbar\": {\"outlinewidth\": 0, \"ticks\": \"\"}}, \"type\": \"scatterternary\"}], \"surface\": [{\"colorbar\": {\"outlinewidth\": 0, \"ticks\": \"\"}, \"colorscale\": [[0.0, \"#0d0887\"], [0.1111111111111111, \"#46039f\"], [0.2222222222222222, \"#7201a8\"], [0.3333333333333333, \"#9c179e\"], [0.4444444444444444, \"#bd3786\"], [0.5555555555555556, \"#d8576b\"], [0.6666666666666666, \"#ed7953\"], [0.7777777777777778, \"#fb9f3a\"], [0.8888888888888888, \"#fdca26\"], [1.0, \"#f0f921\"]], \"type\": \"surface\"}], \"table\": [{\"cells\": {\"fill\": {\"color\": \"#EBF0F8\"}, \"line\": {\"color\": \"white\"}}, \"header\": {\"fill\": {\"color\": \"#C8D4E3\"}, \"line\": {\"color\": \"white\"}}, \"type\": \"table\"}]}, \"layout\": {\"annotationdefaults\": {\"arrowcolor\": \"#2a3f5f\", \"arrowhead\": 0, \"arrowwidth\": 1}, \"coloraxis\": {\"colorbar\": {\"outlinewidth\": 0, \"ticks\": \"\"}}, \"colorscale\": {\"diverging\": [[0, \"#8e0152\"], [0.1, \"#c51b7d\"], [0.2, \"#de77ae\"], [0.3, \"#f1b6da\"], [0.4, \"#fde0ef\"], [0.5, \"#f7f7f7\"], [0.6, \"#e6f5d0\"], [0.7, \"#b8e186\"], [0.8, \"#7fbc41\"], [0.9, \"#4d9221\"], [1, \"#276419\"]], \"sequential\": [[0.0, \"#0d0887\"], [0.1111111111111111, \"#46039f\"], [0.2222222222222222, \"#7201a8\"], [0.3333333333333333, \"#9c179e\"], [0.4444444444444444, \"#bd3786\"], [0.5555555555555556, \"#d8576b\"], [0.6666666666666666, \"#ed7953\"], [0.7777777777777778, \"#fb9f3a\"], [0.8888888888888888, \"#fdca26\"], [1.0, \"#f0f921\"]], \"sequentialminus\": [[0.0, \"#0d0887\"], [0.1111111111111111, \"#46039f\"], [0.2222222222222222, \"#7201a8\"], [0.3333333333333333, \"#9c179e\"], [0.4444444444444444, \"#bd3786\"], [0.5555555555555556, \"#d8576b\"], [0.6666666666666666, \"#ed7953\"], [0.7777777777777778, \"#fb9f3a\"], [0.8888888888888888, \"#fdca26\"], [1.0, \"#f0f921\"]]}, \"colorway\": [\"#636efa\", \"#EF553B\", \"#00cc96\", \"#ab63fa\", \"#FFA15A\", \"#19d3f3\", \"#FF6692\", \"#B6E880\", \"#FF97FF\", \"#FECB52\"], \"font\": {\"color\": \"#2a3f5f\"}, \"geo\": {\"bgcolor\": \"white\", \"lakecolor\": \"white\", \"landcolor\": \"#E5ECF6\", \"showlakes\": true, \"showland\": true, \"subunitcolor\": \"white\"}, \"hoverlabel\": {\"align\": \"left\"}, \"hovermode\": \"closest\", \"mapbox\": {\"style\": \"light\"}, \"paper_bgcolor\": \"white\", \"plot_bgcolor\": \"#E5ECF6\", \"polar\": {\"angularaxis\": {\"gridcolor\": \"white\", \"linecolor\": \"white\", \"ticks\": \"\"}, \"bgcolor\": \"#E5ECF6\", \"radialaxis\": {\"gridcolor\": \"white\", \"linecolor\": \"white\", \"ticks\": \"\"}}, \"scene\": {\"xaxis\": {\"backgroundcolor\": \"#E5ECF6\", \"gridcolor\": \"white\", \"gridwidth\": 2, \"linecolor\": \"white\", \"showbackground\": true, \"ticks\": \"\", \"zerolinecolor\": \"white\"}, \"yaxis\": {\"backgroundcolor\": \"#E5ECF6\", \"gridcolor\": \"white\", \"gridwidth\": 2, \"linecolor\": \"white\", \"showbackground\": true, \"ticks\": \"\", \"zerolinecolor\": \"white\"}, \"zaxis\": {\"backgroundcolor\": \"#E5ECF6\", \"gridcolor\": \"white\", \"gridwidth\": 2, \"linecolor\": \"white\", \"showbackground\": true, \"ticks\": \"\", \"zerolinecolor\": \"white\"}}, \"shapedefaults\": {\"line\": {\"color\": \"#2a3f5f\"}}, \"ternary\": {\"aaxis\": {\"gridcolor\": \"white\", \"linecolor\": \"white\", \"ticks\": \"\"}, \"baxis\": {\"gridcolor\": \"white\", \"linecolor\": \"white\", \"ticks\": \"\"}, \"bgcolor\": \"#E5ECF6\", \"caxis\": {\"gridcolor\": \"white\", \"linecolor\": \"white\", \"ticks\": \"\"}}, \"title\": {\"x\": 0.05}, \"xaxis\": {\"automargin\": true, \"gridcolor\": \"white\", \"linecolor\": \"white\", \"ticks\": \"\", \"title\": {\"standoff\": 15}, \"zerolinecolor\": \"white\", \"zerolinewidth\": 2}, \"yaxis\": {\"automargin\": true, \"gridcolor\": \"white\", \"linecolor\": \"white\", \"ticks\": \"\", \"title\": {\"standoff\": 15}, \"zerolinecolor\": \"white\", \"zerolinewidth\": 2}}}, \"title\": {\"font\": {\"color\": \"#4D5663\"}, \"text\": \"Marital Status of Non-Mobile Money Users\"}, \"xaxis\": {\"gridcolor\": \"#E1E5ED\", \"showgrid\": true, \"tickfont\": {\"color\": \"#4D5663\"}, \"title\": {\"font\": {\"color\": \"#4D5663\"}, \"text\": \"\"}, \"zerolinecolor\": \"#E1E5ED\"}, \"yaxis\": {\"gridcolor\": \"#E1E5ED\", \"showgrid\": true, \"tickfont\": {\"color\": \"#4D5663\"}, \"title\": {\"font\": {\"color\": \"#4D5663\"}, \"text\": \"\"}, \"zerolinecolor\": \"#E1E5ED\"}},\n",
       "                        {\"showLink\": true, \"linkText\": \"Export to plot.ly\", \"plotlyServerURL\": \"https://plot.ly\", \"responsive\": true}\n",
       "                    ).then(function(){\n",
       "                            \n",
       "var gd = document.getElementById('cdfa3d9d-495e-449c-9c1b-b9cd5aacbd86');\n",
       "var x = new MutationObserver(function (mutations, observer) {{\n",
       "        var display = window.getComputedStyle(gd).display;\n",
       "        if (!display || display === 'none') {{\n",
       "            console.log([gd, 'removed!']);\n",
       "            Plotly.purge(gd);\n",
       "            observer.disconnect();\n",
       "        }}\n",
       "}});\n",
       "\n",
       "// Listen for the removal of the full notebook cells\n",
       "var notebookContainer = gd.closest('#notebook-container');\n",
       "if (notebookContainer) {{\n",
       "    x.observe(notebookContainer, {childList: true});\n",
       "}}\n",
       "\n",
       "// Listen for the clearing of the current output cell\n",
       "var outputEl = gd.closest('.output');\n",
       "if (outputEl) {{\n",
       "    x.observe(outputEl, {childList: true});\n",
       "}}\n",
       "\n",
       "                        })\n",
       "                };\n",
       "                });\n",
       "            </script>\n",
       "        </div>"
      ]
     },
     "metadata": {},
     "output_type": "display_data"
    }
   ],
   "source": [
    "no_data = data[data[\"mobile_money\"] == 0]\n",
    "\n",
    "no_data[\"Marital Status\"].value_counts().iplot(kind='bar', title=\"Marital Status of Non-Mobile Money Users\")"
   ]
  },
  {
   "cell_type": "code",
   "execution_count": null,
   "metadata": {},
   "outputs": [],
   "source": []
  }
 ],
 "metadata": {
  "celltoolbar": "Hide code",
  "kernelspec": {
   "display_name": "Python 3",
   "language": "python",
   "name": "python3"
  },
  "language_info": {
   "codemirror_mode": {
    "name": "ipython",
    "version": 3
   },
   "file_extension": ".py",
   "mimetype": "text/x-python",
   "name": "python",
   "nbconvert_exporter": "python",
   "pygments_lexer": "ipython3",
   "version": "3.7.3"
  }
 },
 "nbformat": 4,
 "nbformat_minor": 2
}
